{
 "cells": [
  {
   "cell_type": "markdown",
   "id": "3707ca59",
   "metadata": {},
   "source": [
    "# Get Started"
   ]
  },
  {
   "cell_type": "code",
   "execution_count": 2,
   "id": "44ce34bc",
   "metadata": {},
   "outputs": [
    {
     "name": "stdout",
     "output_type": "stream",
     "text": [
      "Collecting seaborn\n",
      "  Downloading https://files.pythonhosted.org/packages/8f/2e/17bbb83fbf102687bb2aa3d808add39da820a7698159302a1a69bb82e01c/seaborn-0.12.2-py3-none-any.whl (293kB)\n",
      "Requirement already satisfied: numpy!=1.24.0,>=1.17 in c:\\users\\hp\\appdata\\local\\programs\\python\\python38\\lib\\site-packages (from seaborn) (1.21.3)\n",
      "Requirement already satisfied: pandas>=0.25 in c:\\users\\hp\\appdata\\local\\programs\\python\\python38\\lib\\site-packages (from seaborn) (1.3.4)\n",
      "Collecting matplotlib!=3.6.1,>=3.1 (from seaborn)\n",
      "  Downloading https://files.pythonhosted.org/packages/13/e5/e6b46331abdf395dc653432df13979e44c7d88d5135d93b051093b402408/matplotlib-3.6.2-cp38-cp38-win_amd64.whl (7.2MB)\n",
      "Requirement already satisfied: pytz>=2017.3 in c:\\users\\hp\\appdata\\local\\programs\\python\\python38\\lib\\site-packages (from pandas>=0.25->seaborn) (2021.3)\n",
      "Requirement already satisfied: python-dateutil>=2.7.3 in c:\\users\\hp\\appdata\\local\\programs\\python\\python38\\lib\\site-packages (from pandas>=0.25->seaborn) (2.8.2)\n",
      "Requirement already satisfied: packaging>=20.0 in c:\\users\\hp\\appdata\\local\\programs\\python\\python38\\lib\\site-packages (from matplotlib!=3.6.1,>=3.1->seaborn) (21.3)\n",
      "Collecting contourpy>=1.0.1 (from matplotlib!=3.6.1,>=3.1->seaborn)\n",
      "  Downloading https://files.pythonhosted.org/packages/26/4d/c96bf0e00cc63c7131df227705c716516ab57e9852c6415b4c3322cc9fa7/contourpy-1.0.6-cp38-cp38-win_amd64.whl (163kB)\n",
      "Collecting kiwisolver>=1.0.1 (from matplotlib!=3.6.1,>=3.1->seaborn)\n",
      "  Downloading https://files.pythonhosted.org/packages/4f/05/59b34e788bf2b45c7157c3d898d567d28bc42986c1b6772fb1af329eea0d/kiwisolver-1.4.4-cp38-cp38-win_amd64.whl (55kB)\n",
      "Collecting fonttools>=4.22.0 (from matplotlib!=3.6.1,>=3.1->seaborn)\n",
      "  Downloading https://files.pythonhosted.org/packages/e3/d9/e9bae85e84737e76ebbcbea13607236da0c0699baed0ae4f1151b728a608/fonttools-4.38.0-py3-none-any.whl (965kB)\n",
      "Collecting cycler>=0.10 (from matplotlib!=3.6.1,>=3.1->seaborn)\n",
      "  Downloading https://files.pythonhosted.org/packages/5c/f9/695d6bedebd747e5eb0fe8fad57b72fdf25411273a39791cde838d5a8f51/cycler-0.11.0-py3-none-any.whl\n",
      "Requirement already satisfied: pillow>=6.2.0 in c:\\users\\hp\\appdata\\local\\programs\\python\\python38\\lib\\site-packages (from matplotlib!=3.6.1,>=3.1->seaborn) (9.2.0)\n",
      "Requirement already satisfied: pyparsing>=2.2.1 in c:\\users\\hp\\appdata\\local\\programs\\python\\python38\\lib\\site-packages (from matplotlib!=3.6.1,>=3.1->seaborn) (3.0.9)\n",
      "Requirement already satisfied: six>=1.5 in c:\\users\\hp\\appdata\\local\\programs\\python\\python38\\lib\\site-packages (from python-dateutil>=2.7.3->pandas>=0.25->seaborn) (1.16.0)\n",
      "Installing collected packages: contourpy, kiwisolver, fonttools, cycler, matplotlib, seaborn\n",
      "Successfully installed contourpy-1.0.6 cycler-0.11.0 fonttools-4.38.0 kiwisolver-1.4.4 matplotlib-3.6.2 seaborn-0.12.2\n"
     ]
    },
    {
     "name": "stderr",
     "output_type": "stream",
     "text": [
      "WARNING: You are using pip version 19.2.3, however version 22.3.1 is available.\n",
      "You should consider upgrading via the 'python -m pip install --upgrade pip' command.\n"
     ]
    }
   ],
   "source": [
    "import pandas as pd # data frames, make easy access and analyze data. We will use this to hold  and manipulate our data \n",
    "import os\n",
    "import statistics\n",
    "import numpy as np # support scientific computing through dimentional arrays, algebra and numeric capabilities  \n",
    "!pip install seaborn\n",
    "import seaborn as sns\n",
    "import matplotlib.pyplot as plt # to plot data. 2D plot library for publicatio quality grsphics on our data\n",
    "import sys\n",
    "# !conda install --yes --prefix {sys.prefix} plotly\n",
    "from scipy import stats\n",
    "from scipy.stats import poisson\n",
    "%matplotlib inline\n",
    "import scipy \n",
    "sns.set_theme (style='darkgrid')\n",
    "from scipy.stats import kurtosis\n",
    "import plotly.graph_objects as go\n",
    "import plotly.express as px\n",
    "import plotly.figure_factory as ff"
   ]
  },
  {
   "cell_type": "markdown",
   "id": "a14618d3",
   "metadata": {},
   "source": [
    "# Loading the data"
   ]
  },
  {
   "cell_type": "code",
   "execution_count": 5,
   "id": "d017bf06",
   "metadata": {},
   "outputs": [
    {
     "data": {
      "text/plain": [
       "(4456, 14)"
      ]
     },
     "execution_count": 5,
     "metadata": {},
     "output_type": "execute_result"
    }
   ],
   "source": [
    "#uploading dataset \n",
    "df = pd.read_csv(\"live animal stock.csv\")\n",
    "df.shape"
   ]
  },
  {
   "cell_type": "markdown",
   "id": "147f8a74",
   "metadata": {},
   "source": [
    "# Undestanding the data"
   ]
  },
  {
   "cell_type": "code",
   "execution_count": 6,
   "id": "89cbcd0f",
   "metadata": {},
   "outputs": [
    {
     "data": {
      "text/html": [
       "<div>\n",
       "<style scoped>\n",
       "    .dataframe tbody tr th:only-of-type {\n",
       "        vertical-align: middle;\n",
       "    }\n",
       "\n",
       "    .dataframe tbody tr th {\n",
       "        vertical-align: top;\n",
       "    }\n",
       "\n",
       "    .dataframe thead th {\n",
       "        text-align: right;\n",
       "    }\n",
       "</style>\n",
       "<table border=\"1\" class=\"dataframe\">\n",
       "  <thead>\n",
       "    <tr style=\"text-align: right;\">\n",
       "      <th></th>\n",
       "      <th>Domain Code</th>\n",
       "      <th>Domain</th>\n",
       "      <th>Area Code (M49)</th>\n",
       "      <th>Area</th>\n",
       "      <th>Element Code</th>\n",
       "      <th>Element</th>\n",
       "      <th>Item Code (CPC)</th>\n",
       "      <th>Item</th>\n",
       "      <th>Year Code</th>\n",
       "      <th>Year</th>\n",
       "      <th>Unit</th>\n",
       "      <th>Value</th>\n",
       "      <th>Flag</th>\n",
       "      <th>Flag Description</th>\n",
       "    </tr>\n",
       "  </thead>\n",
       "  <tbody>\n",
       "    <tr>\n",
       "      <th>0</th>\n",
       "      <td>TCL</td>\n",
       "      <td>Crops and livestock products</td>\n",
       "      <td>250</td>\n",
       "      <td>France</td>\n",
       "      <td>5608</td>\n",
       "      <td>Import Quantity</td>\n",
       "      <td>2132.0</td>\n",
       "      <td>Asses</td>\n",
       "      <td>2010</td>\n",
       "      <td>2010</td>\n",
       "      <td>Head</td>\n",
       "      <td>41</td>\n",
       "      <td>A</td>\n",
       "      <td>Official figure</td>\n",
       "    </tr>\n",
       "    <tr>\n",
       "      <th>1</th>\n",
       "      <td>TCL</td>\n",
       "      <td>Crops and livestock products</td>\n",
       "      <td>250</td>\n",
       "      <td>France</td>\n",
       "      <td>5608</td>\n",
       "      <td>Import Quantity</td>\n",
       "      <td>2132.0</td>\n",
       "      <td>Asses</td>\n",
       "      <td>2011</td>\n",
       "      <td>2011</td>\n",
       "      <td>Head</td>\n",
       "      <td>55</td>\n",
       "      <td>A</td>\n",
       "      <td>Official figure</td>\n",
       "    </tr>\n",
       "    <tr>\n",
       "      <th>2</th>\n",
       "      <td>TCL</td>\n",
       "      <td>Crops and livestock products</td>\n",
       "      <td>250</td>\n",
       "      <td>France</td>\n",
       "      <td>5608</td>\n",
       "      <td>Import Quantity</td>\n",
       "      <td>2132.0</td>\n",
       "      <td>Asses</td>\n",
       "      <td>2012</td>\n",
       "      <td>2012</td>\n",
       "      <td>Head</td>\n",
       "      <td>34</td>\n",
       "      <td>A</td>\n",
       "      <td>Official figure</td>\n",
       "    </tr>\n",
       "    <tr>\n",
       "      <th>3</th>\n",
       "      <td>TCL</td>\n",
       "      <td>Crops and livestock products</td>\n",
       "      <td>250</td>\n",
       "      <td>France</td>\n",
       "      <td>5608</td>\n",
       "      <td>Import Quantity</td>\n",
       "      <td>2132.0</td>\n",
       "      <td>Asses</td>\n",
       "      <td>2013</td>\n",
       "      <td>2013</td>\n",
       "      <td>Head</td>\n",
       "      <td>56</td>\n",
       "      <td>A</td>\n",
       "      <td>Official figure</td>\n",
       "    </tr>\n",
       "    <tr>\n",
       "      <th>4</th>\n",
       "      <td>TCL</td>\n",
       "      <td>Crops and livestock products</td>\n",
       "      <td>250</td>\n",
       "      <td>France</td>\n",
       "      <td>5608</td>\n",
       "      <td>Import Quantity</td>\n",
       "      <td>2132.0</td>\n",
       "      <td>Asses</td>\n",
       "      <td>2014</td>\n",
       "      <td>2014</td>\n",
       "      <td>Head</td>\n",
       "      <td>27</td>\n",
       "      <td>A</td>\n",
       "      <td>Official figure</td>\n",
       "    </tr>\n",
       "    <tr>\n",
       "      <th>5</th>\n",
       "      <td>TCL</td>\n",
       "      <td>Crops and livestock products</td>\n",
       "      <td>250</td>\n",
       "      <td>France</td>\n",
       "      <td>5608</td>\n",
       "      <td>Import Quantity</td>\n",
       "      <td>2132.0</td>\n",
       "      <td>Asses</td>\n",
       "      <td>2015</td>\n",
       "      <td>2015</td>\n",
       "      <td>Head</td>\n",
       "      <td>30</td>\n",
       "      <td>A</td>\n",
       "      <td>Official figure</td>\n",
       "    </tr>\n",
       "    <tr>\n",
       "      <th>6</th>\n",
       "      <td>TCL</td>\n",
       "      <td>Crops and livestock products</td>\n",
       "      <td>250</td>\n",
       "      <td>France</td>\n",
       "      <td>5608</td>\n",
       "      <td>Import Quantity</td>\n",
       "      <td>2132.0</td>\n",
       "      <td>Asses</td>\n",
       "      <td>2016</td>\n",
       "      <td>2016</td>\n",
       "      <td>Head</td>\n",
       "      <td>16</td>\n",
       "      <td>A</td>\n",
       "      <td>Official figure</td>\n",
       "    </tr>\n",
       "    <tr>\n",
       "      <th>7</th>\n",
       "      <td>TCL</td>\n",
       "      <td>Crops and livestock products</td>\n",
       "      <td>250</td>\n",
       "      <td>France</td>\n",
       "      <td>5608</td>\n",
       "      <td>Import Quantity</td>\n",
       "      <td>2132.0</td>\n",
       "      <td>Asses</td>\n",
       "      <td>2017</td>\n",
       "      <td>2017</td>\n",
       "      <td>Head</td>\n",
       "      <td>24</td>\n",
       "      <td>A</td>\n",
       "      <td>Official figure</td>\n",
       "    </tr>\n",
       "    <tr>\n",
       "      <th>8</th>\n",
       "      <td>TCL</td>\n",
       "      <td>Crops and livestock products</td>\n",
       "      <td>250</td>\n",
       "      <td>France</td>\n",
       "      <td>5608</td>\n",
       "      <td>Import Quantity</td>\n",
       "      <td>2132.0</td>\n",
       "      <td>Asses</td>\n",
       "      <td>2018</td>\n",
       "      <td>2018</td>\n",
       "      <td>Head</td>\n",
       "      <td>19</td>\n",
       "      <td>A</td>\n",
       "      <td>Official figure</td>\n",
       "    </tr>\n",
       "    <tr>\n",
       "      <th>9</th>\n",
       "      <td>TCL</td>\n",
       "      <td>Crops and livestock products</td>\n",
       "      <td>250</td>\n",
       "      <td>France</td>\n",
       "      <td>5608</td>\n",
       "      <td>Import Quantity</td>\n",
       "      <td>2132.0</td>\n",
       "      <td>Asses</td>\n",
       "      <td>2019</td>\n",
       "      <td>2019</td>\n",
       "      <td>Head</td>\n",
       "      <td>26</td>\n",
       "      <td>I</td>\n",
       "      <td>Imputed value</td>\n",
       "    </tr>\n",
       "  </tbody>\n",
       "</table>\n",
       "</div>"
      ],
      "text/plain": [
       "  Domain Code                        Domain  Area Code (M49)    Area  \\\n",
       "0         TCL  Crops and livestock products              250  France   \n",
       "1         TCL  Crops and livestock products              250  France   \n",
       "2         TCL  Crops and livestock products              250  France   \n",
       "3         TCL  Crops and livestock products              250  France   \n",
       "4         TCL  Crops and livestock products              250  France   \n",
       "5         TCL  Crops and livestock products              250  France   \n",
       "6         TCL  Crops and livestock products              250  France   \n",
       "7         TCL  Crops and livestock products              250  France   \n",
       "8         TCL  Crops and livestock products              250  France   \n",
       "9         TCL  Crops and livestock products              250  France   \n",
       "\n",
       "   Element Code          Element  Item Code (CPC)   Item  Year Code  Year  \\\n",
       "0          5608  Import Quantity           2132.0  Asses       2010  2010   \n",
       "1          5608  Import Quantity           2132.0  Asses       2011  2011   \n",
       "2          5608  Import Quantity           2132.0  Asses       2012  2012   \n",
       "3          5608  Import Quantity           2132.0  Asses       2013  2013   \n",
       "4          5608  Import Quantity           2132.0  Asses       2014  2014   \n",
       "5          5608  Import Quantity           2132.0  Asses       2015  2015   \n",
       "6          5608  Import Quantity           2132.0  Asses       2016  2016   \n",
       "7          5608  Import Quantity           2132.0  Asses       2017  2017   \n",
       "8          5608  Import Quantity           2132.0  Asses       2018  2018   \n",
       "9          5608  Import Quantity           2132.0  Asses       2019  2019   \n",
       "\n",
       "   Unit  Value Flag Flag Description  \n",
       "0  Head     41    A  Official figure  \n",
       "1  Head     55    A  Official figure  \n",
       "2  Head     34    A  Official figure  \n",
       "3  Head     56    A  Official figure  \n",
       "4  Head     27    A  Official figure  \n",
       "5  Head     30    A  Official figure  \n",
       "6  Head     16    A  Official figure  \n",
       "7  Head     24    A  Official figure  \n",
       "8  Head     19    A  Official figure  \n",
       "9  Head     26    I    Imputed value  "
      ]
     },
     "execution_count": 6,
     "metadata": {},
     "output_type": "execute_result"
    }
   ],
   "source": [
    "df.head(10)"
   ]
  },
  {
   "cell_type": "code",
   "execution_count": 7,
   "id": "be6b03ad",
   "metadata": {},
   "outputs": [
    {
     "data": {
      "text/html": [
       "<div>\n",
       "<style scoped>\n",
       "    .dataframe tbody tr th:only-of-type {\n",
       "        vertical-align: middle;\n",
       "    }\n",
       "\n",
       "    .dataframe tbody tr th {\n",
       "        vertical-align: top;\n",
       "    }\n",
       "\n",
       "    .dataframe thead th {\n",
       "        text-align: right;\n",
       "    }\n",
       "</style>\n",
       "<table border=\"1\" class=\"dataframe\">\n",
       "  <thead>\n",
       "    <tr style=\"text-align: right;\">\n",
       "      <th></th>\n",
       "      <th>Domain Code</th>\n",
       "      <th>Domain</th>\n",
       "      <th>Area Code (M49)</th>\n",
       "      <th>Area</th>\n",
       "      <th>Element Code</th>\n",
       "      <th>Element</th>\n",
       "      <th>Item Code (CPC)</th>\n",
       "      <th>Item</th>\n",
       "      <th>Year Code</th>\n",
       "      <th>Year</th>\n",
       "      <th>Unit</th>\n",
       "      <th>Value</th>\n",
       "      <th>Flag</th>\n",
       "      <th>Flag Description</th>\n",
       "    </tr>\n",
       "  </thead>\n",
       "  <tbody>\n",
       "    <tr>\n",
       "      <th>4451</th>\n",
       "      <td>TCL</td>\n",
       "      <td>Crops and livestock products</td>\n",
       "      <td>840</td>\n",
       "      <td>United States of America</td>\n",
       "      <td>5922</td>\n",
       "      <td>Export Value</td>\n",
       "      <td>2152.0</td>\n",
       "      <td>Turkeys</td>\n",
       "      <td>2017</td>\n",
       "      <td>2017</td>\n",
       "      <td>1000 US$</td>\n",
       "      <td>13025</td>\n",
       "      <td>A</td>\n",
       "      <td>Official figure</td>\n",
       "    </tr>\n",
       "    <tr>\n",
       "      <th>4452</th>\n",
       "      <td>TCL</td>\n",
       "      <td>Crops and livestock products</td>\n",
       "      <td>840</td>\n",
       "      <td>United States of America</td>\n",
       "      <td>5922</td>\n",
       "      <td>Export Value</td>\n",
       "      <td>2152.0</td>\n",
       "      <td>Turkeys</td>\n",
       "      <td>2018</td>\n",
       "      <td>2018</td>\n",
       "      <td>1000 US$</td>\n",
       "      <td>13318</td>\n",
       "      <td>A</td>\n",
       "      <td>Official figure</td>\n",
       "    </tr>\n",
       "    <tr>\n",
       "      <th>4453</th>\n",
       "      <td>TCL</td>\n",
       "      <td>Crops and livestock products</td>\n",
       "      <td>840</td>\n",
       "      <td>United States of America</td>\n",
       "      <td>5922</td>\n",
       "      <td>Export Value</td>\n",
       "      <td>2152.0</td>\n",
       "      <td>Turkeys</td>\n",
       "      <td>2019</td>\n",
       "      <td>2019</td>\n",
       "      <td>1000 US$</td>\n",
       "      <td>12868</td>\n",
       "      <td>A</td>\n",
       "      <td>Official figure</td>\n",
       "    </tr>\n",
       "    <tr>\n",
       "      <th>4454</th>\n",
       "      <td>TCL</td>\n",
       "      <td>Crops and livestock products</td>\n",
       "      <td>840</td>\n",
       "      <td>United States of America</td>\n",
       "      <td>5922</td>\n",
       "      <td>Export Value</td>\n",
       "      <td>2152.0</td>\n",
       "      <td>Turkeys</td>\n",
       "      <td>2020</td>\n",
       "      <td>2020</td>\n",
       "      <td>1000 US$</td>\n",
       "      <td>9888</td>\n",
       "      <td>A</td>\n",
       "      <td>Official figure</td>\n",
       "    </tr>\n",
       "    <tr>\n",
       "      <th>4455</th>\n",
       "      <td>TCL</td>\n",
       "      <td>Crops and livestock products</td>\n",
       "      <td>840</td>\n",
       "      <td>United States of America</td>\n",
       "      <td>5922</td>\n",
       "      <td>Export Value</td>\n",
       "      <td>2152.0</td>\n",
       "      <td>Turkeys</td>\n",
       "      <td>2021</td>\n",
       "      <td>2021</td>\n",
       "      <td>1000 US$</td>\n",
       "      <td>13024</td>\n",
       "      <td>A</td>\n",
       "      <td>Official figure</td>\n",
       "    </tr>\n",
       "  </tbody>\n",
       "</table>\n",
       "</div>"
      ],
      "text/plain": [
       "     Domain Code                        Domain  Area Code (M49)  \\\n",
       "4451         TCL  Crops and livestock products              840   \n",
       "4452         TCL  Crops and livestock products              840   \n",
       "4453         TCL  Crops and livestock products              840   \n",
       "4454         TCL  Crops and livestock products              840   \n",
       "4455         TCL  Crops and livestock products              840   \n",
       "\n",
       "                          Area  Element Code       Element  Item Code (CPC)  \\\n",
       "4451  United States of America          5922  Export Value           2152.0   \n",
       "4452  United States of America          5922  Export Value           2152.0   \n",
       "4453  United States of America          5922  Export Value           2152.0   \n",
       "4454  United States of America          5922  Export Value           2152.0   \n",
       "4455  United States of America          5922  Export Value           2152.0   \n",
       "\n",
       "         Item  Year Code  Year      Unit  Value Flag Flag Description  \n",
       "4451  Turkeys       2017  2017  1000 US$  13025    A  Official figure  \n",
       "4452  Turkeys       2018  2018  1000 US$  13318    A  Official figure  \n",
       "4453  Turkeys       2019  2019  1000 US$  12868    A  Official figure  \n",
       "4454  Turkeys       2020  2020  1000 US$   9888    A  Official figure  \n",
       "4455  Turkeys       2021  2021  1000 US$  13024    A  Official figure  "
      ]
     },
     "execution_count": 7,
     "metadata": {},
     "output_type": "execute_result"
    }
   ],
   "source": [
    "df.tail()"
   ]
  },
  {
   "cell_type": "code",
   "execution_count": 8,
   "id": "b70a108c",
   "metadata": {},
   "outputs": [
    {
     "name": "stdout",
     "output_type": "stream",
     "text": [
      "<class 'pandas.core.frame.DataFrame'>\n",
      "RangeIndex: 4456 entries, 0 to 4455\n",
      "Data columns (total 14 columns):\n",
      " #   Column            Non-Null Count  Dtype  \n",
      "---  ------            --------------  -----  \n",
      " 0   Domain Code       4456 non-null   object \n",
      " 1   Domain            4456 non-null   object \n",
      " 2   Area Code (M49)   4456 non-null   int64  \n",
      " 3   Area              4456 non-null   object \n",
      " 4   Element Code      4456 non-null   int64  \n",
      " 5   Element           4456 non-null   object \n",
      " 6   Item Code (CPC)   4456 non-null   float64\n",
      " 7   Item              4456 non-null   object \n",
      " 8   Year Code         4456 non-null   int64  \n",
      " 9   Year              4456 non-null   int64  \n",
      " 10  Unit              4456 non-null   object \n",
      " 11  Value             4456 non-null   int64  \n",
      " 12  Flag              4456 non-null   object \n",
      " 13  Flag Description  4456 non-null   object \n",
      "dtypes: float64(1), int64(5), object(8)\n",
      "memory usage: 487.5+ KB\n"
     ]
    }
   ],
   "source": [
    "df.info()"
   ]
  },
  {
   "cell_type": "code",
   "execution_count": 9,
   "id": "b60755ed",
   "metadata": {},
   "outputs": [
    {
     "data": {
      "text/plain": [
       "Domain Code            1\n",
       "Domain                 1\n",
       "Area Code (M49)        8\n",
       "Area                   8\n",
       "Element Code           6\n",
       "Element                4\n",
       "Item Code (CPC)       17\n",
       "Item                  17\n",
       "Year Code             12\n",
       "Year                  12\n",
       "Unit                   3\n",
       "Value               2679\n",
       "Flag                   4\n",
       "Flag Description       4\n",
       "dtype: int64"
      ]
     },
     "execution_count": 9,
     "metadata": {},
     "output_type": "execute_result"
    }
   ],
   "source": [
    "df.nunique() "
   ]
  },
  {
   "cell_type": "markdown",
   "id": "b4c60bb7",
   "metadata": {},
   "source": [
    "# Preprocessing the Dataset"
   ]
  },
  {
   "cell_type": "markdown",
   "id": "1e256ec1",
   "metadata": {},
   "source": [
    "## Step 1 - Seperating the Element(Import Value)"
   ]
  },
  {
   "cell_type": "code",
   "execution_count": 10,
   "id": "887e60de",
   "metadata": {},
   "outputs": [
    {
     "name": "stdout",
     "output_type": "stream",
     "text": [
      "1253\n"
     ]
    },
    {
     "data": {
      "text/html": [
       "<div>\n",
       "<style scoped>\n",
       "    .dataframe tbody tr th:only-of-type {\n",
       "        vertical-align: middle;\n",
       "    }\n",
       "\n",
       "    .dataframe tbody tr th {\n",
       "        vertical-align: top;\n",
       "    }\n",
       "\n",
       "    .dataframe thead th {\n",
       "        text-align: right;\n",
       "    }\n",
       "</style>\n",
       "<table border=\"1\" class=\"dataframe\">\n",
       "  <thead>\n",
       "    <tr style=\"text-align: right;\">\n",
       "      <th></th>\n",
       "      <th>Item</th>\n",
       "      <th>Year</th>\n",
       "      <th>Unit</th>\n",
       "      <th>Import Value</th>\n",
       "      <th>id</th>\n",
       "    </tr>\n",
       "  </thead>\n",
       "  <tbody>\n",
       "    <tr>\n",
       "      <th>12</th>\n",
       "      <td>Asses</td>\n",
       "      <td>2010</td>\n",
       "      <td>1000 US$</td>\n",
       "      <td>38</td>\n",
       "      <td>ID_1</td>\n",
       "    </tr>\n",
       "    <tr>\n",
       "      <th>13</th>\n",
       "      <td>Asses</td>\n",
       "      <td>2011</td>\n",
       "      <td>1000 US$</td>\n",
       "      <td>79</td>\n",
       "      <td>ID_2</td>\n",
       "    </tr>\n",
       "    <tr>\n",
       "      <th>14</th>\n",
       "      <td>Asses</td>\n",
       "      <td>2012</td>\n",
       "      <td>1000 US$</td>\n",
       "      <td>47</td>\n",
       "      <td>ID_3</td>\n",
       "    </tr>\n",
       "    <tr>\n",
       "      <th>15</th>\n",
       "      <td>Asses</td>\n",
       "      <td>2013</td>\n",
       "      <td>1000 US$</td>\n",
       "      <td>69</td>\n",
       "      <td>ID_4</td>\n",
       "    </tr>\n",
       "    <tr>\n",
       "      <th>16</th>\n",
       "      <td>Asses</td>\n",
       "      <td>2014</td>\n",
       "      <td>1000 US$</td>\n",
       "      <td>40</td>\n",
       "      <td>ID_5</td>\n",
       "    </tr>\n",
       "    <tr>\n",
       "      <th>...</th>\n",
       "      <td>...</td>\n",
       "      <td>...</td>\n",
       "      <td>...</td>\n",
       "      <td>...</td>\n",
       "      <td>...</td>\n",
       "    </tr>\n",
       "    <tr>\n",
       "      <th>4427</th>\n",
       "      <td>Turkeys</td>\n",
       "      <td>2017</td>\n",
       "      <td>1000 US$</td>\n",
       "      <td>32128</td>\n",
       "      <td>ID_1249</td>\n",
       "    </tr>\n",
       "    <tr>\n",
       "      <th>4428</th>\n",
       "      <td>Turkeys</td>\n",
       "      <td>2018</td>\n",
       "      <td>1000 US$</td>\n",
       "      <td>32602</td>\n",
       "      <td>ID_1250</td>\n",
       "    </tr>\n",
       "    <tr>\n",
       "      <th>4429</th>\n",
       "      <td>Turkeys</td>\n",
       "      <td>2019</td>\n",
       "      <td>1000 US$</td>\n",
       "      <td>27920</td>\n",
       "      <td>ID_1251</td>\n",
       "    </tr>\n",
       "    <tr>\n",
       "      <th>4430</th>\n",
       "      <td>Turkeys</td>\n",
       "      <td>2020</td>\n",
       "      <td>1000 US$</td>\n",
       "      <td>27132</td>\n",
       "      <td>ID_1252</td>\n",
       "    </tr>\n",
       "    <tr>\n",
       "      <th>4431</th>\n",
       "      <td>Turkeys</td>\n",
       "      <td>2021</td>\n",
       "      <td>1000 US$</td>\n",
       "      <td>29935</td>\n",
       "      <td>ID_1253</td>\n",
       "    </tr>\n",
       "  </tbody>\n",
       "</table>\n",
       "<p>1253 rows × 5 columns</p>\n",
       "</div>"
      ],
      "text/plain": [
       "         Item  Year      Unit  Import Value       id\n",
       "12      Asses  2010  1000 US$            38     ID_1\n",
       "13      Asses  2011  1000 US$            79     ID_2\n",
       "14      Asses  2012  1000 US$            47     ID_3\n",
       "15      Asses  2013  1000 US$            69     ID_4\n",
       "16      Asses  2014  1000 US$            40     ID_5\n",
       "...       ...   ...       ...           ...      ...\n",
       "4427  Turkeys  2017  1000 US$         32128  ID_1249\n",
       "4428  Turkeys  2018  1000 US$         32602  ID_1250\n",
       "4429  Turkeys  2019  1000 US$         27920  ID_1251\n",
       "4430  Turkeys  2020  1000 US$         27132  ID_1252\n",
       "4431  Turkeys  2021  1000 US$         29935  ID_1253\n",
       "\n",
       "[1253 rows x 5 columns]"
      ]
     },
     "execution_count": 10,
     "metadata": {},
     "output_type": "execute_result"
    }
   ],
   "source": [
    "imp = df[df['Element'].str.count('Import Value') == 1]\n",
    "print(len(imp['Value']))\n",
    "imp['id'] = [f'ID_{i+1}' for i in range(len(imp))]\n",
    "imp.columns = ['Domain Code', 'Domain', 'Area Code (M49)', 'Area', 'Element Code',\n",
    "       'Element', 'Item Code (CPC)', 'Item', 'Year Code', 'Year', 'Unit',\n",
    "       'Import Value', 'Flag', 'Flag Description','id']\n",
    "imp = imp.drop(['Domain Code', 'Domain', 'Item Code (CPC)','Area Code (M49)','Area','Element Code', 'Element','Year Code',  'Flag', 'Flag Description'],axis=1)\n",
    "imp"
   ]
  },
  {
   "cell_type": "markdown",
   "id": "2e27e5db",
   "metadata": {},
   "source": [
    "# Step 2 - Seperating the Element(Export Value)"
   ]
  },
  {
   "cell_type": "code",
   "execution_count": 11,
   "id": "ba1f3c33",
   "metadata": {},
   "outputs": [
    {
     "data": {
      "text/html": [
       "<div>\n",
       "<style scoped>\n",
       "    .dataframe tbody tr th:only-of-type {\n",
       "        vertical-align: middle;\n",
       "    }\n",
       "\n",
       "    .dataframe tbody tr th {\n",
       "        vertical-align: top;\n",
       "    }\n",
       "\n",
       "    .dataframe thead th {\n",
       "        text-align: right;\n",
       "    }\n",
       "</style>\n",
       "<table border=\"1\" class=\"dataframe\">\n",
       "  <thead>\n",
       "    <tr style=\"text-align: right;\">\n",
       "      <th></th>\n",
       "      <th>Export Value</th>\n",
       "      <th>id</th>\n",
       "    </tr>\n",
       "  </thead>\n",
       "  <tbody>\n",
       "    <tr>\n",
       "      <th>36</th>\n",
       "      <td>12</td>\n",
       "      <td>ID_1</td>\n",
       "    </tr>\n",
       "    <tr>\n",
       "      <th>37</th>\n",
       "      <td>18</td>\n",
       "      <td>ID_2</td>\n",
       "    </tr>\n",
       "    <tr>\n",
       "      <th>38</th>\n",
       "      <td>5</td>\n",
       "      <td>ID_3</td>\n",
       "    </tr>\n",
       "    <tr>\n",
       "      <th>39</th>\n",
       "      <td>4</td>\n",
       "      <td>ID_4</td>\n",
       "    </tr>\n",
       "    <tr>\n",
       "      <th>40</th>\n",
       "      <td>11</td>\n",
       "      <td>ID_5</td>\n",
       "    </tr>\n",
       "    <tr>\n",
       "      <th>...</th>\n",
       "      <td>...</td>\n",
       "      <td>...</td>\n",
       "    </tr>\n",
       "    <tr>\n",
       "      <th>4451</th>\n",
       "      <td>13025</td>\n",
       "      <td>ID_1124</td>\n",
       "    </tr>\n",
       "    <tr>\n",
       "      <th>4452</th>\n",
       "      <td>13318</td>\n",
       "      <td>ID_1125</td>\n",
       "    </tr>\n",
       "    <tr>\n",
       "      <th>4453</th>\n",
       "      <td>12868</td>\n",
       "      <td>ID_1126</td>\n",
       "    </tr>\n",
       "    <tr>\n",
       "      <th>4454</th>\n",
       "      <td>9888</td>\n",
       "      <td>ID_1127</td>\n",
       "    </tr>\n",
       "    <tr>\n",
       "      <th>4455</th>\n",
       "      <td>13024</td>\n",
       "      <td>ID_1128</td>\n",
       "    </tr>\n",
       "  </tbody>\n",
       "</table>\n",
       "<p>1128 rows × 2 columns</p>\n",
       "</div>"
      ],
      "text/plain": [
       "      Export Value       id\n",
       "36              12     ID_1\n",
       "37              18     ID_2\n",
       "38               5     ID_3\n",
       "39               4     ID_4\n",
       "40              11     ID_5\n",
       "...            ...      ...\n",
       "4451         13025  ID_1124\n",
       "4452         13318  ID_1125\n",
       "4453         12868  ID_1126\n",
       "4454          9888  ID_1127\n",
       "4455         13024  ID_1128\n",
       "\n",
       "[1128 rows x 2 columns]"
      ]
     },
     "execution_count": 11,
     "metadata": {},
     "output_type": "execute_result"
    }
   ],
   "source": [
    "exp = df[df['Element'].str.count('Export Value') == 1]\n",
    "exp['id'] = [f'ID_{i+1}' for i in range(len(exp))]\n",
    "exp.columns = ['Domain Code', 'Domain', 'Area Code (M49)', 'Area', 'Element Code',\n",
    "       'Element', 'Item Code (CPC)', 'Item', 'Year Code', 'Year', 'Unit',\n",
    "       'Export Value', 'Flag', 'Flag Description','id']\n",
    "exp = exp.drop(['Domain Code', 'Domain', 'Area Code (M49)', 'Area', 'Element Code',\n",
    "       'Element', 'Item Code (CPC)', 'Item', 'Year Code', 'Year', 'Unit','Flag', 'Flag Description'],axis=1)\n",
    "exp"
   ]
  },
  {
   "cell_type": "markdown",
   "id": "7a367590",
   "metadata": {},
   "source": [
    "# Step 3 - Seperating the Element(Export Value)"
   ]
  },
  {
   "cell_type": "code",
   "execution_count": 12,
   "id": "54769f95",
   "metadata": {},
   "outputs": [
    {
     "data": {
      "text/html": [
       "<div>\n",
       "<style scoped>\n",
       "    .dataframe tbody tr th:only-of-type {\n",
       "        vertical-align: middle;\n",
       "    }\n",
       "\n",
       "    .dataframe tbody tr th {\n",
       "        vertical-align: top;\n",
       "    }\n",
       "\n",
       "    .dataframe thead th {\n",
       "        text-align: right;\n",
       "    }\n",
       "</style>\n",
       "<table border=\"1\" class=\"dataframe\">\n",
       "  <thead>\n",
       "    <tr style=\"text-align: right;\">\n",
       "      <th></th>\n",
       "      <th>Export Quantity</th>\n",
       "      <th>id</th>\n",
       "    </tr>\n",
       "  </thead>\n",
       "  <tbody>\n",
       "    <tr>\n",
       "      <th>24</th>\n",
       "      <td>5</td>\n",
       "      <td>ID_1</td>\n",
       "    </tr>\n",
       "    <tr>\n",
       "      <th>25</th>\n",
       "      <td>16</td>\n",
       "      <td>ID_2</td>\n",
       "    </tr>\n",
       "    <tr>\n",
       "      <th>26</th>\n",
       "      <td>4</td>\n",
       "      <td>ID_3</td>\n",
       "    </tr>\n",
       "    <tr>\n",
       "      <th>27</th>\n",
       "      <td>8</td>\n",
       "      <td>ID_4</td>\n",
       "    </tr>\n",
       "    <tr>\n",
       "      <th>28</th>\n",
       "      <td>36</td>\n",
       "      <td>ID_5</td>\n",
       "    </tr>\n",
       "    <tr>\n",
       "      <th>...</th>\n",
       "      <td>...</td>\n",
       "      <td>...</td>\n",
       "    </tr>\n",
       "    <tr>\n",
       "      <th>4439</th>\n",
       "      <td>10458</td>\n",
       "      <td>ID_975</td>\n",
       "    </tr>\n",
       "    <tr>\n",
       "      <th>4440</th>\n",
       "      <td>9756</td>\n",
       "      <td>ID_976</td>\n",
       "    </tr>\n",
       "    <tr>\n",
       "      <th>4441</th>\n",
       "      <td>6043</td>\n",
       "      <td>ID_977</td>\n",
       "    </tr>\n",
       "    <tr>\n",
       "      <th>4442</th>\n",
       "      <td>4857</td>\n",
       "      <td>ID_978</td>\n",
       "    </tr>\n",
       "    <tr>\n",
       "      <th>4443</th>\n",
       "      <td>5914</td>\n",
       "      <td>ID_979</td>\n",
       "    </tr>\n",
       "  </tbody>\n",
       "</table>\n",
       "<p>979 rows × 2 columns</p>\n",
       "</div>"
      ],
      "text/plain": [
       "      Export Quantity      id\n",
       "24                  5    ID_1\n",
       "25                 16    ID_2\n",
       "26                  4    ID_3\n",
       "27                  8    ID_4\n",
       "28                 36    ID_5\n",
       "...               ...     ...\n",
       "4439            10458  ID_975\n",
       "4440             9756  ID_976\n",
       "4441             6043  ID_977\n",
       "4442             4857  ID_978\n",
       "4443             5914  ID_979\n",
       "\n",
       "[979 rows x 2 columns]"
      ]
     },
     "execution_count": 12,
     "metadata": {},
     "output_type": "execute_result"
    }
   ],
   "source": [
    "exp_q = df[df['Element'].str.count('Export Quantity') == 1]\n",
    "exp_q['id'] = [f'ID_{i+1}' for i in range(len(exp_q))]\n",
    "exp_q.columns = ['Domain Code', 'Domain', 'Area Code (M49)', 'Area', 'Element Code',\n",
    "       'Element', 'Item Code (CPC)', 'Item', 'Year Code', 'Year', 'Unit',\n",
    "       'Export Quantity', 'Flag', 'Flag Description','id']\n",
    "exp_q = exp_q.drop(['Domain Code', 'Domain', 'Area Code (M49)', 'Area', 'Element Code',\n",
    "       'Element', 'Item Code (CPC)', 'Item', 'Year Code', 'Year', 'Unit','Flag', 'Flag Description'],axis=1)\n",
    "exp_q"
   ]
  },
  {
   "cell_type": "markdown",
   "id": "91bf6922",
   "metadata": {},
   "source": [
    "# Step 4 - Seperating the Element(Export Value)"
   ]
  },
  {
   "cell_type": "code",
   "execution_count": 13,
   "id": "aa26ff51",
   "metadata": {},
   "outputs": [
    {
     "data": {
      "text/html": [
       "<div>\n",
       "<style scoped>\n",
       "    .dataframe tbody tr th:only-of-type {\n",
       "        vertical-align: middle;\n",
       "    }\n",
       "\n",
       "    .dataframe tbody tr th {\n",
       "        vertical-align: top;\n",
       "    }\n",
       "\n",
       "    .dataframe thead th {\n",
       "        text-align: right;\n",
       "    }\n",
       "</style>\n",
       "<table border=\"1\" class=\"dataframe\">\n",
       "  <thead>\n",
       "    <tr style=\"text-align: right;\">\n",
       "      <th></th>\n",
       "      <th>Area</th>\n",
       "      <th>Import Quantity</th>\n",
       "      <th>id</th>\n",
       "    </tr>\n",
       "  </thead>\n",
       "  <tbody>\n",
       "    <tr>\n",
       "      <th>0</th>\n",
       "      <td>France</td>\n",
       "      <td>41</td>\n",
       "      <td>ID_1</td>\n",
       "    </tr>\n",
       "    <tr>\n",
       "      <th>1</th>\n",
       "      <td>France</td>\n",
       "      <td>55</td>\n",
       "      <td>ID_2</td>\n",
       "    </tr>\n",
       "    <tr>\n",
       "      <th>2</th>\n",
       "      <td>France</td>\n",
       "      <td>34</td>\n",
       "      <td>ID_3</td>\n",
       "    </tr>\n",
       "    <tr>\n",
       "      <th>3</th>\n",
       "      <td>France</td>\n",
       "      <td>56</td>\n",
       "      <td>ID_4</td>\n",
       "    </tr>\n",
       "    <tr>\n",
       "      <th>4</th>\n",
       "      <td>France</td>\n",
       "      <td>27</td>\n",
       "      <td>ID_5</td>\n",
       "    </tr>\n",
       "    <tr>\n",
       "      <th>...</th>\n",
       "      <td>...</td>\n",
       "      <td>...</td>\n",
       "      <td>...</td>\n",
       "    </tr>\n",
       "    <tr>\n",
       "      <th>4415</th>\n",
       "      <td>United States of America</td>\n",
       "      <td>7574</td>\n",
       "      <td>ID_1092</td>\n",
       "    </tr>\n",
       "    <tr>\n",
       "      <th>4416</th>\n",
       "      <td>United States of America</td>\n",
       "      <td>17397</td>\n",
       "      <td>ID_1093</td>\n",
       "    </tr>\n",
       "    <tr>\n",
       "      <th>4417</th>\n",
       "      <td>United States of America</td>\n",
       "      <td>9735</td>\n",
       "      <td>ID_1094</td>\n",
       "    </tr>\n",
       "    <tr>\n",
       "      <th>4418</th>\n",
       "      <td>United States of America</td>\n",
       "      <td>17096</td>\n",
       "      <td>ID_1095</td>\n",
       "    </tr>\n",
       "    <tr>\n",
       "      <th>4419</th>\n",
       "      <td>United States of America</td>\n",
       "      <td>17506</td>\n",
       "      <td>ID_1096</td>\n",
       "    </tr>\n",
       "  </tbody>\n",
       "</table>\n",
       "<p>1096 rows × 3 columns</p>\n",
       "</div>"
      ],
      "text/plain": [
       "                          Area  Import Quantity       id\n",
       "0                       France               41     ID_1\n",
       "1                       France               55     ID_2\n",
       "2                       France               34     ID_3\n",
       "3                       France               56     ID_4\n",
       "4                       France               27     ID_5\n",
       "...                        ...              ...      ...\n",
       "4415  United States of America             7574  ID_1092\n",
       "4416  United States of America            17397  ID_1093\n",
       "4417  United States of America             9735  ID_1094\n",
       "4418  United States of America            17096  ID_1095\n",
       "4419  United States of America            17506  ID_1096\n",
       "\n",
       "[1096 rows x 3 columns]"
      ]
     },
     "execution_count": 13,
     "metadata": {},
     "output_type": "execute_result"
    }
   ],
   "source": [
    "imp_q = df[df['Element'].str.count('Import Quantity') == 1]\n",
    "imp_q['id'] = [f'ID_{i+1}' for i in range(len(imp_q))]\n",
    "imp_q.columns = ['Domain Code', 'Domain', 'Area Code (M49)', 'Area', 'Element Code',\n",
    "       'Element', 'Item Code (CPC)', 'Item', 'Year Code', 'Year', 'Unit',\n",
    "       'Import Quantity', 'Flag', 'Flag Description','id']\n",
    "imp_q = imp_q.drop(['Domain Code', 'Domain', 'Area Code (M49)', 'Element Code',\n",
    "       'Element', 'Item Code (CPC)', 'Item', 'Year Code', 'Year', 'Unit','Flag', 'Flag Description'],axis=1)\n",
    "imp_q"
   ]
  },
  {
   "cell_type": "markdown",
   "id": "54235a21",
   "metadata": {},
   "source": [
    "# Step 5 - Seperating the Element(Export Value)"
   ]
  },
  {
   "cell_type": "code",
   "execution_count": 14,
   "id": "6b53cf6e",
   "metadata": {},
   "outputs": [
    {
     "data": {
      "text/plain": [
       "(979, 9)"
      ]
     },
     "execution_count": 14,
     "metadata": {},
     "output_type": "execute_result"
    }
   ],
   "source": [
    "#merging data on unique id using inner join\n",
    "data = pd.merge(imp,exp,on='id',how='inner')\n",
    "data = pd.merge(data,imp_q,on='id',how='inner')\n",
    "data = pd.merge(data,exp_q,on='id',how='inner')\n",
    "data.shape"
   ]
  },
  {
   "cell_type": "code",
   "execution_count": 15,
   "id": "3fb96dd2",
   "metadata": {},
   "outputs": [
    {
     "data": {
      "text/html": [
       "<div>\n",
       "<style scoped>\n",
       "    .dataframe tbody tr th:only-of-type {\n",
       "        vertical-align: middle;\n",
       "    }\n",
       "\n",
       "    .dataframe tbody tr th {\n",
       "        vertical-align: top;\n",
       "    }\n",
       "\n",
       "    .dataframe thead th {\n",
       "        text-align: right;\n",
       "    }\n",
       "</style>\n",
       "<table border=\"1\" class=\"dataframe\">\n",
       "  <thead>\n",
       "    <tr style=\"text-align: right;\">\n",
       "      <th></th>\n",
       "      <th>Item</th>\n",
       "      <th>Year</th>\n",
       "      <th>Unit</th>\n",
       "      <th>Import Value</th>\n",
       "      <th>id</th>\n",
       "      <th>Export Value</th>\n",
       "      <th>Area</th>\n",
       "      <th>Import Quantity</th>\n",
       "      <th>Export Quantity</th>\n",
       "    </tr>\n",
       "  </thead>\n",
       "  <tbody>\n",
       "    <tr>\n",
       "      <th>0</th>\n",
       "      <td>Asses</td>\n",
       "      <td>2010</td>\n",
       "      <td>1000 US$</td>\n",
       "      <td>38</td>\n",
       "      <td>ID_1</td>\n",
       "      <td>12</td>\n",
       "      <td>France</td>\n",
       "      <td>41</td>\n",
       "      <td>5</td>\n",
       "    </tr>\n",
       "    <tr>\n",
       "      <th>1</th>\n",
       "      <td>Asses</td>\n",
       "      <td>2011</td>\n",
       "      <td>1000 US$</td>\n",
       "      <td>79</td>\n",
       "      <td>ID_2</td>\n",
       "      <td>18</td>\n",
       "      <td>France</td>\n",
       "      <td>55</td>\n",
       "      <td>16</td>\n",
       "    </tr>\n",
       "    <tr>\n",
       "      <th>2</th>\n",
       "      <td>Asses</td>\n",
       "      <td>2012</td>\n",
       "      <td>1000 US$</td>\n",
       "      <td>47</td>\n",
       "      <td>ID_3</td>\n",
       "      <td>5</td>\n",
       "      <td>France</td>\n",
       "      <td>34</td>\n",
       "      <td>4</td>\n",
       "    </tr>\n",
       "    <tr>\n",
       "      <th>3</th>\n",
       "      <td>Asses</td>\n",
       "      <td>2013</td>\n",
       "      <td>1000 US$</td>\n",
       "      <td>69</td>\n",
       "      <td>ID_4</td>\n",
       "      <td>4</td>\n",
       "      <td>France</td>\n",
       "      <td>56</td>\n",
       "      <td>8</td>\n",
       "    </tr>\n",
       "    <tr>\n",
       "      <th>4</th>\n",
       "      <td>Asses</td>\n",
       "      <td>2014</td>\n",
       "      <td>1000 US$</td>\n",
       "      <td>40</td>\n",
       "      <td>ID_5</td>\n",
       "      <td>11</td>\n",
       "      <td>France</td>\n",
       "      <td>27</td>\n",
       "      <td>36</td>\n",
       "    </tr>\n",
       "  </tbody>\n",
       "</table>\n",
       "</div>"
      ],
      "text/plain": [
       "    Item  Year      Unit  Import Value    id  Export Value    Area  \\\n",
       "0  Asses  2010  1000 US$            38  ID_1            12  France   \n",
       "1  Asses  2011  1000 US$            79  ID_2            18  France   \n",
       "2  Asses  2012  1000 US$            47  ID_3             5  France   \n",
       "3  Asses  2013  1000 US$            69  ID_4             4  France   \n",
       "4  Asses  2014  1000 US$            40  ID_5            11  France   \n",
       "\n",
       "   Import Quantity  Export Quantity  \n",
       "0               41                5  \n",
       "1               55               16  \n",
       "2               34                4  \n",
       "3               56                8  \n",
       "4               27               36  "
      ]
     },
     "execution_count": 15,
     "metadata": {},
     "output_type": "execute_result"
    }
   ],
   "source": [
    "data.head()"
   ]
  },
  {
   "cell_type": "markdown",
   "id": "335322f8",
   "metadata": {},
   "source": [
    "# Step 6 - Seperating the Element(Export Value)"
   ]
  },
  {
   "cell_type": "code",
   "execution_count": 16,
   "id": "46774049",
   "metadata": {},
   "outputs": [
    {
     "data": {
      "text/html": [
       "<div>\n",
       "<style scoped>\n",
       "    .dataframe tbody tr th:only-of-type {\n",
       "        vertical-align: middle;\n",
       "    }\n",
       "\n",
       "    .dataframe tbody tr th {\n",
       "        vertical-align: top;\n",
       "    }\n",
       "\n",
       "    .dataframe thead th {\n",
       "        text-align: right;\n",
       "    }\n",
       "</style>\n",
       "<table border=\"1\" class=\"dataframe\">\n",
       "  <thead>\n",
       "    <tr style=\"text-align: right;\">\n",
       "      <th></th>\n",
       "      <th>Item</th>\n",
       "      <th>Year</th>\n",
       "      <th>Unit</th>\n",
       "      <th>Import Value</th>\n",
       "      <th>id</th>\n",
       "      <th>Export Value</th>\n",
       "      <th>Area</th>\n",
       "      <th>Import Quantity</th>\n",
       "      <th>Export Quantity</th>\n",
       "      <th>Net Export Value</th>\n",
       "    </tr>\n",
       "  </thead>\n",
       "  <tbody>\n",
       "    <tr>\n",
       "      <th>0</th>\n",
       "      <td>Asses</td>\n",
       "      <td>2010</td>\n",
       "      <td>1000 US$</td>\n",
       "      <td>38</td>\n",
       "      <td>ID_1</td>\n",
       "      <td>12</td>\n",
       "      <td>France</td>\n",
       "      <td>41</td>\n",
       "      <td>5</td>\n",
       "      <td>-26</td>\n",
       "    </tr>\n",
       "    <tr>\n",
       "      <th>1</th>\n",
       "      <td>Asses</td>\n",
       "      <td>2011</td>\n",
       "      <td>1000 US$</td>\n",
       "      <td>79</td>\n",
       "      <td>ID_2</td>\n",
       "      <td>18</td>\n",
       "      <td>France</td>\n",
       "      <td>55</td>\n",
       "      <td>16</td>\n",
       "      <td>-61</td>\n",
       "    </tr>\n",
       "    <tr>\n",
       "      <th>2</th>\n",
       "      <td>Asses</td>\n",
       "      <td>2012</td>\n",
       "      <td>1000 US$</td>\n",
       "      <td>47</td>\n",
       "      <td>ID_3</td>\n",
       "      <td>5</td>\n",
       "      <td>France</td>\n",
       "      <td>34</td>\n",
       "      <td>4</td>\n",
       "      <td>-42</td>\n",
       "    </tr>\n",
       "    <tr>\n",
       "      <th>3</th>\n",
       "      <td>Asses</td>\n",
       "      <td>2013</td>\n",
       "      <td>1000 US$</td>\n",
       "      <td>69</td>\n",
       "      <td>ID_4</td>\n",
       "      <td>4</td>\n",
       "      <td>France</td>\n",
       "      <td>56</td>\n",
       "      <td>8</td>\n",
       "      <td>-65</td>\n",
       "    </tr>\n",
       "    <tr>\n",
       "      <th>4</th>\n",
       "      <td>Asses</td>\n",
       "      <td>2014</td>\n",
       "      <td>1000 US$</td>\n",
       "      <td>40</td>\n",
       "      <td>ID_5</td>\n",
       "      <td>11</td>\n",
       "      <td>France</td>\n",
       "      <td>27</td>\n",
       "      <td>36</td>\n",
       "      <td>-29</td>\n",
       "    </tr>\n",
       "    <tr>\n",
       "      <th>5</th>\n",
       "      <td>Asses</td>\n",
       "      <td>2015</td>\n",
       "      <td>1000 US$</td>\n",
       "      <td>290</td>\n",
       "      <td>ID_6</td>\n",
       "      <td>18</td>\n",
       "      <td>France</td>\n",
       "      <td>30</td>\n",
       "      <td>49</td>\n",
       "      <td>-272</td>\n",
       "    </tr>\n",
       "    <tr>\n",
       "      <th>6</th>\n",
       "      <td>Asses</td>\n",
       "      <td>2016</td>\n",
       "      <td>1000 US$</td>\n",
       "      <td>14</td>\n",
       "      <td>ID_7</td>\n",
       "      <td>7</td>\n",
       "      <td>France</td>\n",
       "      <td>16</td>\n",
       "      <td>16</td>\n",
       "      <td>-7</td>\n",
       "    </tr>\n",
       "    <tr>\n",
       "      <th>7</th>\n",
       "      <td>Asses</td>\n",
       "      <td>2017</td>\n",
       "      <td>1000 US$</td>\n",
       "      <td>38</td>\n",
       "      <td>ID_8</td>\n",
       "      <td>17</td>\n",
       "      <td>France</td>\n",
       "      <td>24</td>\n",
       "      <td>28</td>\n",
       "      <td>-21</td>\n",
       "    </tr>\n",
       "    <tr>\n",
       "      <th>8</th>\n",
       "      <td>Asses</td>\n",
       "      <td>2018</td>\n",
       "      <td>1000 US$</td>\n",
       "      <td>16</td>\n",
       "      <td>ID_9</td>\n",
       "      <td>7</td>\n",
       "      <td>France</td>\n",
       "      <td>19</td>\n",
       "      <td>9</td>\n",
       "      <td>-9</td>\n",
       "    </tr>\n",
       "    <tr>\n",
       "      <th>9</th>\n",
       "      <td>Asses</td>\n",
       "      <td>2019</td>\n",
       "      <td>1000 US$</td>\n",
       "      <td>20</td>\n",
       "      <td>ID_10</td>\n",
       "      <td>50</td>\n",
       "      <td>France</td>\n",
       "      <td>26</td>\n",
       "      <td>25</td>\n",
       "      <td>30</td>\n",
       "    </tr>\n",
       "  </tbody>\n",
       "</table>\n",
       "</div>"
      ],
      "text/plain": [
       "    Item  Year      Unit  Import Value     id  Export Value    Area  \\\n",
       "0  Asses  2010  1000 US$            38   ID_1            12  France   \n",
       "1  Asses  2011  1000 US$            79   ID_2            18  France   \n",
       "2  Asses  2012  1000 US$            47   ID_3             5  France   \n",
       "3  Asses  2013  1000 US$            69   ID_4             4  France   \n",
       "4  Asses  2014  1000 US$            40   ID_5            11  France   \n",
       "5  Asses  2015  1000 US$           290   ID_6            18  France   \n",
       "6  Asses  2016  1000 US$            14   ID_7             7  France   \n",
       "7  Asses  2017  1000 US$            38   ID_8            17  France   \n",
       "8  Asses  2018  1000 US$            16   ID_9             7  France   \n",
       "9  Asses  2019  1000 US$            20  ID_10            50  France   \n",
       "\n",
       "   Import Quantity  Export Quantity  Net Export Value  \n",
       "0               41                5               -26  \n",
       "1               55               16               -61  \n",
       "2               34                4               -42  \n",
       "3               56                8               -65  \n",
       "4               27               36               -29  \n",
       "5               30               49              -272  \n",
       "6               16               16                -7  \n",
       "7               24               28               -21  \n",
       "8               19                9                -9  \n",
       "9               26               25                30  "
      ]
     },
     "execution_count": 16,
     "metadata": {},
     "output_type": "execute_result"
    }
   ],
   "source": [
    "#adding new column of net export to the data\n",
    "data['Net Export Value'] = data['Export Value'] - data['Import Value']\n",
    "data.head(10)"
   ]
  },
  {
   "cell_type": "code",
   "execution_count": 17,
   "id": "9a108fd0",
   "metadata": {},
   "outputs": [
    {
     "data": {
      "text/plain": [
       "(979, 10)"
      ]
     },
     "execution_count": 17,
     "metadata": {},
     "output_type": "execute_result"
    }
   ],
   "source": [
    "data.shape"
   ]
  },
  {
   "cell_type": "markdown",
   "id": "89fe224b",
   "metadata": {},
   "source": [
    "## Dashboard Section"
   ]
  },
  {
   "cell_type": "code",
   "execution_count": 18,
   "metadata": {},
   "outputs": [
    {
     "data": {
      "application/vnd.plotly.v1+json": {
       "config": {
        "plotlyServerURL": "https://plot.ly"
       },
       "data": [
        {
         "alignmentgroup": "True",
         "hovertemplate": "x=%{x}<br>y=%{y}<extra></extra>",
         "legendgroup": "",
         "marker": {
          "color": "#636efa",
          "pattern": {
           "shape": ""
          }
         },
         "name": "",
         "offsetgroup": "",
         "orientation": "v",
         "showlegend": false,
         "textposition": "auto",
         "type": "bar",
         "x": [
          "France",
          "France",
          "France",
          "France",
          "France",
          "France",
          "France",
          "France",
          "France",
          "France",
          "France",
          "France",
          "France",
          "France",
          "France",
          "France",
          "France",
          "France",
          "France",
          "France",
          "France",
          "France",
          "France",
          "France",
          "France",
          "France",
          "France",
          "France",
          "France",
          "France",
          "France",
          "France",
          "France",
          "France",
          "France",
          "France",
          "France",
          "France",
          "France",
          "France",
          "France",
          "France",
          "France",
          "France",
          "France",
          "France",
          "France",
          "France",
          "France",
          "France",
          "France",
          "France",
          "France",
          "France",
          "France",
          "France",
          "France",
          "France",
          "France",
          "France",
          "France",
          "France",
          "France",
          "France",
          "France",
          "France",
          "France",
          "France",
          "France",
          "France",
          "France",
          "France",
          "France",
          "France",
          "France",
          "France",
          "France",
          "France",
          "France",
          "France",
          "France",
          "France",
          "France",
          "France",
          "France",
          "France",
          "France",
          "France",
          "France",
          "France",
          "France",
          "France",
          "France",
          "France",
          "France",
          "France",
          "France",
          "France",
          "France",
          "France",
          "France",
          "France",
          "France",
          "France",
          "France",
          "France",
          "France",
          "France",
          "France",
          "France",
          "France",
          "France",
          "France",
          "France",
          "France",
          "France",
          "France",
          "France",
          "France",
          "France",
          "France",
          "France",
          "France",
          "France",
          "France",
          "France",
          "France",
          "France",
          "France",
          "France",
          "France",
          "France",
          "France",
          "France",
          "France",
          "France",
          "France",
          "France",
          "France",
          "France",
          "France",
          "France",
          "France",
          "France",
          "France",
          "France",
          "France",
          "France",
          "France",
          "France",
          "France",
          "France",
          "Germany",
          "Germany",
          "Germany",
          "Germany",
          "Germany",
          "Germany",
          "Germany",
          "Germany",
          "Germany",
          "Germany",
          "Germany",
          "Germany",
          "Germany",
          "Germany",
          "Germany",
          "Germany",
          "Germany",
          "Germany",
          "Germany",
          "Germany",
          "Germany",
          "Germany",
          "Germany",
          "Germany",
          "Germany",
          "Germany",
          "Germany",
          "Germany",
          "Germany",
          "Germany",
          "Germany",
          "Germany",
          "Germany",
          "Germany",
          "Germany",
          "Germany",
          "Germany",
          "Germany",
          "Germany",
          "Germany",
          "Germany",
          "Germany",
          "Germany",
          "Germany",
          "Germany",
          "Germany",
          "Germany",
          "Germany",
          "Germany",
          "Germany",
          "Germany",
          "Germany",
          "Germany",
          "Germany",
          "Germany",
          "Germany",
          "Germany",
          "Germany",
          "Germany",
          "Germany",
          "Germany",
          "Germany",
          "Germany",
          "Germany",
          "Germany",
          "Germany",
          "Germany",
          "Germany",
          "Germany",
          "Germany",
          "Germany",
          "Germany",
          "Germany",
          "Germany",
          "Germany",
          "Germany",
          "Germany",
          "Germany",
          "Germany",
          "Germany",
          "Germany",
          "Germany",
          "Germany",
          "Germany",
          "Germany",
          "Germany",
          "Germany",
          "Germany",
          "Germany",
          "Germany",
          "Germany",
          "Germany",
          "Germany",
          "Germany",
          "Germany",
          "Germany",
          "Germany",
          "Germany",
          "Germany",
          "Germany",
          "Germany",
          "Germany",
          "Germany",
          "Germany",
          "Germany",
          "Germany",
          "Germany",
          "Germany",
          "Germany",
          "Germany",
          "Germany",
          "Germany",
          "Germany",
          "Germany",
          "Germany",
          "Germany",
          "Germany",
          "Germany",
          "Germany",
          "Germany",
          "Germany",
          "Germany",
          "Germany",
          "Germany",
          "Germany",
          "Germany",
          "Germany",
          "Germany",
          "Germany",
          "Germany",
          "Germany",
          "Germany",
          "Germany",
          "Germany",
          "Germany",
          "Germany",
          "Germany",
          "Germany",
          "Germany",
          "Germany",
          "Germany",
          "Germany",
          "Germany",
          "Germany",
          "Germany",
          "Germany",
          "Germany",
          "Germany",
          "Germany",
          "Germany",
          "Ghana",
          "Ghana",
          "Ghana",
          "Ghana",
          "Ghana",
          "Ghana",
          "Ghana",
          "Ghana",
          "Ghana",
          "Ghana",
          "Ghana",
          "Ghana",
          "Ghana",
          "Ghana",
          "Ghana",
          "Ghana",
          "Ghana",
          "Ghana",
          "Ghana",
          "Ghana",
          "Ghana",
          "Ghana",
          "Ghana",
          "Ghana",
          "Ghana",
          "Ghana",
          "Ghana",
          "Ghana",
          "Ghana",
          "Ghana",
          "Ghana",
          "Ghana",
          "Ghana",
          "Ghana",
          "Ghana",
          "Ghana",
          "Ghana",
          "Ghana",
          "Ghana",
          "Ghana",
          "Ghana",
          "Ghana",
          "Ghana",
          "Ghana",
          "Ghana",
          "Ghana",
          "Ghana",
          "Ghana",
          "Ghana",
          "Ghana",
          "Ghana",
          "Ghana",
          "Ghana",
          "Ghana",
          "Ghana",
          "Ghana",
          "Ghana",
          "Ghana",
          "Ghana",
          "Ghana",
          "Ghana",
          "Ghana",
          "Ghana",
          "Ghana",
          "Ghana",
          "Ghana",
          "Ghana",
          "Ghana",
          "Ghana",
          "Ghana",
          "Ghana",
          "Ghana",
          "Ghana",
          "Ghana",
          "Ghana",
          "Ghana",
          "Ghana",
          "Ghana",
          "Ghana",
          "Ghana",
          "Ghana",
          "Ghana",
          "Ghana",
          "Ghana",
          "Ghana",
          "Ghana",
          "Ghana",
          "Ghana",
          "Ghana",
          "Ghana",
          "Ghana",
          "Ghana",
          "Ghana",
          "Ghana",
          "Ghana",
          "Ghana",
          "Ghana",
          "Ghana",
          "Ghana",
          "Ghana",
          "Ghana",
          "Ghana",
          "Ghana",
          "Ghana",
          "Ghana",
          "Ghana",
          "Ghana",
          "Ghana",
          "Ghana",
          "Ghana",
          "Ghana",
          "Ghana",
          "Ghana",
          "Ghana",
          "Ghana",
          "Ghana",
          "Ireland",
          "Ireland",
          "Ireland",
          "Ireland",
          "Ireland",
          "Ireland",
          "Ireland",
          "Ireland",
          "Ireland",
          "Ireland",
          "Ireland",
          "Ireland",
          "Ireland",
          "Ireland",
          "Ireland",
          "Ireland",
          "Ireland",
          "Ireland",
          "Ireland",
          "Ireland",
          "Ireland",
          "Ireland",
          "Ireland",
          "Ireland",
          "Ireland",
          "Ireland",
          "Ireland",
          "Ireland",
          "Ireland",
          "Ireland",
          "Ireland",
          "Ireland",
          "Ireland",
          "Ireland",
          "Ireland",
          "Ireland",
          "Ireland",
          "Ireland",
          "Ireland",
          "Ireland",
          "Ireland",
          "Ireland",
          "Ireland",
          "Ireland",
          "Ireland",
          "Ireland",
          "Ireland",
          "Ireland",
          "Ireland",
          "Ireland",
          "Ireland",
          "Ireland",
          "Ireland",
          "Ireland",
          "Ireland",
          "Ireland",
          "Ireland",
          "Ireland",
          "Ireland",
          "Ireland",
          "Ireland",
          "Ireland",
          "Ireland",
          "Ireland",
          "Ireland",
          "Ireland",
          "Ireland",
          "Ireland",
          "Ireland",
          "Ireland",
          "Ireland",
          "Ireland",
          "Ireland",
          "Ireland",
          "Ireland",
          "Ireland",
          "Ireland",
          "Ireland",
          "Ireland",
          "Ireland",
          "Ireland",
          "Ireland",
          "Ireland",
          "Ireland",
          "Ireland",
          "Ireland",
          "Ireland",
          "Ireland",
          "Ireland",
          "Ireland",
          "Ireland",
          "Ireland",
          "Ireland",
          "Ireland",
          "Ireland",
          "Ireland",
          "Ireland",
          "Ireland",
          "Ireland",
          "Ireland",
          "Ireland",
          "Ireland",
          "Ireland",
          "Ireland",
          "Ireland",
          "Ireland",
          "Ireland",
          "Ireland",
          "Ireland",
          "Ireland",
          "Ireland",
          "Ireland",
          "Ireland",
          "Ireland",
          "Ireland",
          "Ireland",
          "Ireland",
          "Ireland",
          "Ireland",
          "Ireland",
          "Ireland",
          "Ireland",
          "Ireland",
          "Ireland",
          "Ireland",
          "Ireland",
          "Ireland",
          "Ireland",
          "Ireland",
          "Italy",
          "Italy",
          "Italy",
          "Italy",
          "Italy",
          "Italy",
          "Italy",
          "Italy",
          "Italy",
          "Italy",
          "Italy",
          "Italy",
          "Italy",
          "Italy",
          "Italy",
          "Italy",
          "Italy",
          "Italy",
          "Italy",
          "Italy",
          "Italy",
          "Italy",
          "Italy",
          "Italy",
          "Italy",
          "Italy",
          "Italy",
          "Italy",
          "Italy",
          "Italy",
          "Italy",
          "Italy",
          "Italy",
          "Italy",
          "Italy",
          "Italy",
          "Italy",
          "Italy",
          "Italy",
          "Italy",
          "Italy",
          "Italy",
          "Italy",
          "Italy",
          "Italy",
          "Italy",
          "Italy",
          "Italy",
          "Italy",
          "Italy",
          "Italy",
          "Italy",
          "Italy",
          "Italy",
          "Italy",
          "Italy",
          "Italy",
          "Italy",
          "Italy",
          "Italy",
          "Italy",
          "Italy",
          "Italy",
          "Italy",
          "Italy",
          "Italy",
          "Italy",
          "Italy",
          "Italy",
          "Italy",
          "Italy",
          "Italy",
          "Italy",
          "Italy",
          "Italy",
          "Italy",
          "Italy",
          "Italy",
          "Italy",
          "Italy",
          "Italy",
          "Italy",
          "Italy",
          "Italy",
          "Italy",
          "Italy",
          "Italy",
          "Italy",
          "Italy",
          "Italy",
          "Italy",
          "Italy",
          "Italy",
          "Italy",
          "Italy",
          "Italy",
          "Italy",
          "Italy",
          "Italy",
          "Italy",
          "Italy",
          "Italy",
          "Italy",
          "Italy",
          "Italy",
          "Italy",
          "Italy",
          "Italy",
          "Italy",
          "Italy",
          "Italy",
          "Italy",
          "Italy",
          "Italy",
          "Italy",
          "Italy",
          "Italy",
          "Italy",
          "Italy",
          "Italy",
          "Italy",
          "Italy",
          "Italy",
          "Italy",
          "Italy",
          "Italy",
          "Italy",
          "Italy",
          "Italy",
          "Italy",
          "Italy",
          "Italy",
          "Italy",
          "Italy",
          "Italy",
          "Italy",
          "Italy",
          "Italy",
          "Italy",
          "Italy",
          "Italy",
          "Italy",
          "Italy",
          "Italy",
          "Italy",
          "Italy",
          "Italy",
          "Italy",
          "Italy",
          "Italy",
          "Italy",
          "Italy",
          "Italy",
          "Italy",
          "Italy",
          "Italy",
          "Italy",
          "Nigeria",
          "Nigeria",
          "Nigeria",
          "Nigeria",
          "Nigeria",
          "Nigeria",
          "Nigeria",
          "Nigeria",
          "Nigeria",
          "Nigeria",
          "Nigeria",
          "Nigeria",
          "Nigeria",
          "Nigeria",
          "Nigeria",
          "Nigeria",
          "Nigeria",
          "Nigeria",
          "Nigeria",
          "Nigeria",
          "Nigeria",
          "Nigeria",
          "Nigeria",
          "Nigeria",
          "Nigeria",
          "Nigeria",
          "Nigeria",
          "Nigeria",
          "Nigeria",
          "Nigeria",
          "Nigeria",
          "Nigeria",
          "Nigeria",
          "Nigeria",
          "Nigeria",
          "Nigeria",
          "Nigeria",
          "Nigeria",
          "Nigeria",
          "Nigeria",
          "Nigeria",
          "Nigeria",
          "Nigeria",
          "Nigeria",
          "Nigeria",
          "Nigeria",
          "Nigeria",
          "Nigeria",
          "Nigeria",
          "Nigeria",
          "Nigeria",
          "Nigeria",
          "Nigeria",
          "Nigeria",
          "Nigeria",
          "Nigeria",
          "Nigeria",
          "Nigeria",
          "Nigeria",
          "Nigeria",
          "Nigeria",
          "Nigeria",
          "Nigeria",
          "Nigeria",
          "Nigeria",
          "Nigeria",
          "Nigeria",
          "Nigeria",
          "Nigeria",
          "Nigeria",
          "Nigeria",
          "Nigeria",
          "Nigeria",
          "Nigeria",
          "Nigeria",
          "Nigeria",
          "Nigeria",
          "Nigeria",
          "Nigeria",
          "Nigeria",
          "Nigeria",
          "Nigeria",
          "Nigeria",
          "Nigeria",
          "Nigeria",
          "Nigeria",
          "Nigeria",
          "Nigeria",
          "Nigeria",
          "Nigeria",
          "Nigeria",
          "Nigeria",
          "Nigeria",
          "Nigeria",
          "Nigeria",
          "Nigeria",
          "Nigeria",
          "Nigeria",
          "Nigeria",
          "Nigeria",
          "Nigeria",
          "Nigeria",
          "Nigeria",
          "Spain",
          "Spain",
          "Spain",
          "Spain",
          "Spain",
          "Spain",
          "Spain",
          "Spain",
          "Spain",
          "Spain",
          "Spain",
          "Spain",
          "Spain",
          "Spain",
          "Spain",
          "Spain",
          "Spain",
          "Spain",
          "Spain",
          "Spain",
          "Spain",
          "Spain",
          "Spain",
          "Spain",
          "Spain",
          "Spain",
          "Spain",
          "Spain",
          "Spain",
          "Spain",
          "Spain",
          "Spain",
          "Spain",
          "Spain",
          "Spain",
          "Spain",
          "Spain",
          "Spain",
          "Spain",
          "Spain",
          "Spain",
          "Spain",
          "Spain",
          "Spain",
          "Spain",
          "Spain",
          "Spain",
          "Spain",
          "Spain",
          "Spain",
          "Spain",
          "Spain",
          "Spain",
          "Spain",
          "Spain",
          "Spain",
          "Spain",
          "Spain",
          "Spain",
          "Spain",
          "Spain",
          "Spain",
          "Spain",
          "Spain",
          "Spain",
          "Spain",
          "Spain",
          "Spain",
          "Spain",
          "Spain",
          "Spain",
          "Spain",
          "Spain",
          "Spain",
          "Spain",
          "Spain",
          "Spain",
          "Spain",
          "Spain",
          "Spain",
          "Spain",
          "Spain",
          "Spain",
          "Spain",
          "Spain",
          "Spain",
          "Spain",
          "Spain",
          "Spain",
          "Spain",
          "Spain",
          "Spain",
          "Spain",
          "Spain",
          "Spain",
          "Spain",
          "Spain",
          "Spain",
          "Spain",
          "Spain",
          "Spain",
          "Spain",
          "Spain",
          "Spain",
          "Spain",
          "Spain",
          "Spain",
          "Spain",
          "Spain",
          "Spain",
          "Spain",
          "Spain",
          "Spain",
          "Spain",
          "Spain",
          "Spain",
          "Spain",
          "Spain",
          "Spain",
          "Spain",
          "Spain",
          "Spain",
          "Spain",
          "Spain",
          "Spain",
          "Spain",
          "Spain",
          "Spain",
          "Spain",
          "Spain",
          "Spain",
          "Spain",
          "Spain",
          "Spain",
          "Spain",
          "Spain",
          "Spain",
          "Spain",
          "Spain",
          "Spain",
          "Spain",
          "United States of America",
          "United States of America",
          "United States of America",
          "United States of America",
          "United States of America",
          "United States of America",
          "United States of America",
          "United States of America",
          "United States of America",
          "United States of America",
          "United States of America",
          "United States of America",
          "United States of America",
          "United States of America",
          "United States of America",
          "United States of America",
          "United States of America",
          "United States of America",
          "United States of America",
          "United States of America",
          "United States of America",
          "United States of America",
          "United States of America",
          "United States of America",
          "United States of America",
          "United States of America",
          "United States of America",
          "United States of America",
          "United States of America",
          "United States of America",
          "United States of America"
         ],
         "xaxis": "x",
         "y": [
          12,
          18,
          5,
          4,
          11,
          18,
          7,
          17,
          7,
          50,
          192,
          21,
          10,
          1,
          7,
          2,
          2,
          1671763,
          1983630,
          1833627,
          1683171,
          1637506,
          1497037,
          1525393,
          1644076,
          1743739,
          1660457,
          1633164,
          1655117,
          148407,
          177714,
          184810,
          208181,
          206717,
          215347,
          157581,
          169977,
          220354,
          193195,
          186102,
          200372,
          4765,
          4760,
          25970,
          28220,
          34252,
          25073,
          15127,
          19844,
          21070,
          19295,
          13813,
          16267,
          1021,
          506,
          502,
          626,
          462,
          390,
          302,
          540,
          326,
          469,
          1475,
          2052,
          1942,
          2451,
          3048,
          3769,
          1283,
          1438,
          2021,
          1117,
          136937,
          124176,
          102828,
          159421,
          204231,
          186092,
          188590,
          200009,
          215539,
          209536,
          218671,
          204322,
          3660,
          721,
          3777,
          3661,
          4984,
          4056,
          186,
          286,
          126,
          156,
          115,
          14,
          61731,
          61419,
          57614,
          66907,
          70419,
          64370,
          66371,
          68882,
          71445,
          74195,
          75858,
          91697,
          0,
          0,
          24,
          17,
          51,
          43,
          5,
          0,
          11,
          3,
          0,
          5771,
          7264,
          4892,
          6293,
          5539,
          3892,
          3665,
          3313,
          2330,
          2056,
          4092,
          6949,
          53685,
          71766,
          47789,
          45955,
          45891,
          39082,
          35190,
          36896,
          31028,
          34220,
          40344,
          45494,
          157034,
          142263,
          159811,
          157672,
          139326,
          102048,
          94882,
          111176,
          111269,
          126408,
          170638,
          111557,
          44067,
          47675,
          54661,
          53032,
          53004,
          50350,
          50790,
          51380,
          48402,
          48042,
          47578,
          58143,
          0,
          0,
          5,
          0,
          10,
          6,
          7,
          13,
          14,
          0,
          5,
          41,
          1,
          0,
          0,
          16,
          2,
          101,
          40,
          20,
          14,
          2,
          123,
          305,
          332000,
          414555,
          314412,
          288566,
          363097,
          363127,
          348303,
          430613,
          404480,
          335349,
          285957,
          275073,
          467332,
          653473,
          699378,
          698650,
          652803,
          586792,
          609869,
          654322,
          680352,
          588261,
          504633,
          516765,
          2400,
          2155,
          4848,
          5010,
          7564,
          7204,
          8199,
          4315,
          5649,
          4476,
          4006,
          4692,
          596,
          240,
          821,
          78,
          42,
          107,
          99,
          586,
          20,
          288,
          106,
          324,
          20,
          192,
          241,
          94,
          28,
          22,
          5,
          0,
          138966,
          207905,
          164876,
          203444,
          172842,
          153143,
          132193,
          196697,
          205683,
          224024,
          191466,
          244057,
          0,
          0,
          0,
          0,
          11,
          6,
          9,
          4,
          3,
          6,
          25476,
          33271,
          31972,
          31568,
          32557,
          32548,
          36835,
          35954,
          39059,
          38165,
          45551,
          55926,
          0,
          0,
          0,
          0,
          1148,
          1117,
          466,
          29,
          11,
          10,
          5,
          47,
          8,
          13,
          481,
          4935,
          5005,
          6980,
          2676,
          2788,
          1506,
          1246,
          1579,
          958,
          1762,
          2153,
          2882,
          265024,
          315241,
          486099,
          459629,
          460370,
          262583,
          195691,
          228237,
          195695,
          197491,
          207627,
          165735,
          33421,
          39107,
          33806,
          39967,
          47561,
          40987,
          48910,
          49455,
          58061,
          51657,
          49978,
          39759,
          2,
          21,
          13,
          13,
          21,
          26,
          31,
          9,
          3,
          0,
          0,
          2,
          0,
          6,
          6,
          2,
          5,
          2,
          1,
          0,
          0,
          0,
          0,
          1,
          0,
          0,
          0,
          0,
          13,
          23,
          23,
          13,
          5,
          2086,
          4,
          0,
          0,
          0,
          0,
          86,
          313,
          430,
          363,
          13,
          33,
          45,
          23,
          579,
          832,
          0,
          0,
          0,
          0,
          59,
          140,
          80,
          146,
          0,
          0,
          0,
          0,
          1,
          0,
          14,
          36,
          0,
          0,
          1,
          3,
          5,
          7,
          7,
          0,
          2,
          0,
          4,
          2,
          0,
          0,
          0,
          0,
          4760,
          4,
          7,
          816,
          252,
          31,
          59,
          0,
          3,
          434,
          1,
          192881,
          180423,
          161982,
          156314,
          167563,
          99553,
          75105,
          96265,
          114435,
          124506,
          124611,
          141461,
          17622,
          22397,
          15206,
          10814,
          12465,
          12180,
          11759,
          12208,
          14478,
          7908,
          3828,
          4517,
          0,
          0,
          0,
          0,
          14,
          0,
          0,
          0,
          20,
          18,
          13,
          33,
          22,
          12,
          11,
          16,
          208893,
          270007,
          232773,
          331483,
          244046,
          286063,
          221978,
          315639,
          313235,
          295085,
          246957,
          370031,
          0,
          0,
          336,
          22,
          2742,
          874,
          1847,
          3640,
          248,
          112,
          237,
          18668,
          4169,
          120,
          103,
          151,
          4533,
          149,
          289,
          617,
          730,
          411,
          386,
          1245,
          0,
          0,
          11,
          22,
          38,
          47,
          43,
          414,
          858,
          1126,
          296,
          2564,
          0,
          0,
          0,
          0,
          0,
          1,
          5192,
          3153,
          4951,
          9871,
          5955,
          2087,
          2222,
          3042,
          2213,
          1295,
          3091,
          1822,
          17536,
          17405,
          7878,
          70747,
          93928,
          74750,
          61740,
          73802,
          72321,
          72237,
          19378,
          83827,
          2523,
          2504,
          178,
          20,
          133,
          1191,
          318,
          136,
          147,
          179,
          5,
          8,
          12,
          2,
          9,
          26,
          2,
          14,
          6,
          110,
          5,
          51,
          5,
          0,
          0,
          0,
          3325,
          4377,
          772,
          132,
          37,
          216,
          668,
          2,
          16,
          2,
          6,
          44,
          15833,
          15683,
          19313,
          20062,
          19053,
          22523,
          15415,
          12377,
          7630,
          7906,
          6893,
          9622,
          11443,
          10826,
          12295,
          11480,
          13350,
          10633,
          11148,
          8492,
          8597,
          7272,
          8380,
          6209,
          20,
          0,
          25,
          14,
          10,
          10,
          36,
          17,
          62,
          58,
          13,
          11,
          7,
          28,
          34,
          0,
          107,
          33,
          59,
          24,
          2,
          26,
          6,
          69,
          9,
          107,
          125,
          112,
          16,
          48,
          8452,
          6430,
          6404,
          8635,
          12684,
          8878,
          5876,
          11553,
          18287,
          4421,
          5315,
          7294,
          0,
          0,
          329,
          22,
          408,
          72,
          55,
          153,
          19,
          183,
          29,
          92,
          15161,
          16898,
          16646,
          17423,
          18186,
          16609,
          17537,
          15438,
          17309,
          15718,
          14402,
          14955,
          0,
          0,
          0,
          0,
          4,
          323,
          23,
          124,
          165,
          141,
          80,
          15,
          57,
          14,
          30,
          246,
          166,
          187,
          219,
          149,
          186,
          137,
          259,
          1,
          3682,
          2194,
          2591,
          2868,
          617,
          915,
          415,
          276,
          192,
          164,
          229,
          365,
          3958,
          5562,
          4445,
          2774,
          1764,
          1258,
          1555,
          1155,
          1187,
          1995,
          1637,
          645,
          0,
          0,
          0,
          1,
          0,
          3,
          0,
          0,
          0,
          0,
          0,
          42,
          1,
          7,
          2,
          0,
          13,
          18,
          0,
          0,
          0,
          0,
          1,
          0,
          0,
          19,
          4,
          0,
          0,
          0,
          1,
          0,
          2,
          6,
          15,
          8,
          8,
          0,
          1,
          0,
          0,
          1,
          28,
          24,
          31,
          33,
          58,
          47,
          34,
          67,
          0,
          0,
          0,
          1,
          0,
          0,
          0,
          0,
          1,
          2,
          2,
          2,
          0,
          0,
          0,
          0,
          3,
          1,
          0,
          0,
          0,
          2,
          0,
          0,
          0,
          5,
          3,
          0,
          0,
          0,
          0,
          0,
          0,
          3,
          0,
          2,
          3,
          0,
          82,
          77,
          24,
          11,
          34,
          81,
          18,
          25,
          25,
          115746,
          126875,
          223514,
          187363,
          170446,
          227922,
          238619,
          301044,
          398979,
          325218,
          346927,
          313909,
          26111,
          29517,
          31071,
          34608,
          38896,
          45845,
          66186,
          62709,
          61953,
          67828,
          77853,
          91663,
          0,
          8,
          0,
          1,
          0,
          0,
          5,
          0,
          231,
          438,
          648,
          454,
          672,
          103,
          287,
          761,
          834,
          876,
          1121,
          971,
          730,
          6697,
          9053,
          8501,
          10569,
          13360,
          9310,
          7559,
          7353,
          14368,
          12444,
          19283,
          23805,
          10,
          0,
          114,
          21,
          275,
          22,
          1,
          684,
          1305,
          372,
          444,
          16938,
          20167,
          18981,
          23071,
          25112,
          26479,
          27779,
          37566,
          42016,
          39677,
          48346,
          60938,
          0,
          0,
          0,
          0,
          2578,
          1780,
          3745,
          3931,
          2938,
          1854,
          1362,
          977,
          450,
          510,
          733,
          1510,
          33209,
          39393,
          64359,
          102387,
          117657,
          139789,
          170415,
          169206,
          154148,
          165925,
          197156,
          149813,
          254029,
          298262,
          248097,
          275163,
          280496,
          197730,
          186725,
          212551,
          176794,
          182335,
          157637,
          143184,
          380,
          53,
          524,
          288,
          227,
          167,
          143,
          172,
          118,
          129,
          99,
          90,
          145,
          203,
          48,
          453,
          728,
          1250,
          2840,
          3274,
          1546,
          545,
          868,
          750,
          536,
          255,
          17,
          42,
          318,
          942,
          517,
          538,
          1222,
          1533,
          326,
          414,
          175,
          256,
          18,
          165,
          235,
          206,
          139
         ],
         "yaxis": "y"
        }
       ],
       "layout": {
        "barmode": "relative",
        "legend": {
         "tracegroupgap": 0
        },
        "template": {
         "data": {
          "bar": [
           {
            "error_x": {
             "color": "#2a3f5f"
            },
            "error_y": {
             "color": "#2a3f5f"
            },
            "marker": {
             "line": {
              "color": "#E5ECF6",
              "width": 0.5
             },
             "pattern": {
              "fillmode": "overlay",
              "size": 10,
              "solidity": 0.2
             }
            },
            "type": "bar"
           }
          ],
          "barpolar": [
           {
            "marker": {
             "line": {
              "color": "#E5ECF6",
              "width": 0.5
             },
             "pattern": {
              "fillmode": "overlay",
              "size": 10,
              "solidity": 0.2
             }
            },
            "type": "barpolar"
           }
          ],
          "carpet": [
           {
            "aaxis": {
             "endlinecolor": "#2a3f5f",
             "gridcolor": "white",
             "linecolor": "white",
             "minorgridcolor": "white",
             "startlinecolor": "#2a3f5f"
            },
            "baxis": {
             "endlinecolor": "#2a3f5f",
             "gridcolor": "white",
             "linecolor": "white",
             "minorgridcolor": "white",
             "startlinecolor": "#2a3f5f"
            },
            "type": "carpet"
           }
          ],
          "choropleth": [
           {
            "colorbar": {
             "outlinewidth": 0,
             "ticks": ""
            },
            "type": "choropleth"
           }
          ],
          "contour": [
           {
            "colorbar": {
             "outlinewidth": 0,
             "ticks": ""
            },
            "colorscale": [
             [
              0,
              "#0d0887"
             ],
             [
              0.1111111111111111,
              "#46039f"
             ],
             [
              0.2222222222222222,
              "#7201a8"
             ],
             [
              0.3333333333333333,
              "#9c179e"
             ],
             [
              0.4444444444444444,
              "#bd3786"
             ],
             [
              0.5555555555555556,
              "#d8576b"
             ],
             [
              0.6666666666666666,
              "#ed7953"
             ],
             [
              0.7777777777777778,
              "#fb9f3a"
             ],
             [
              0.8888888888888888,
              "#fdca26"
             ],
             [
              1,
              "#f0f921"
             ]
            ],
            "type": "contour"
           }
          ],
          "contourcarpet": [
           {
            "colorbar": {
             "outlinewidth": 0,
             "ticks": ""
            },
            "type": "contourcarpet"
           }
          ],
          "heatmap": [
           {
            "colorbar": {
             "outlinewidth": 0,
             "ticks": ""
            },
            "colorscale": [
             [
              0,
              "#0d0887"
             ],
             [
              0.1111111111111111,
              "#46039f"
             ],
             [
              0.2222222222222222,
              "#7201a8"
             ],
             [
              0.3333333333333333,
              "#9c179e"
             ],
             [
              0.4444444444444444,
              "#bd3786"
             ],
             [
              0.5555555555555556,
              "#d8576b"
             ],
             [
              0.6666666666666666,
              "#ed7953"
             ],
             [
              0.7777777777777778,
              "#fb9f3a"
             ],
             [
              0.8888888888888888,
              "#fdca26"
             ],
             [
              1,
              "#f0f921"
             ]
            ],
            "type": "heatmap"
           }
          ],
          "heatmapgl": [
           {
            "colorbar": {
             "outlinewidth": 0,
             "ticks": ""
            },
            "colorscale": [
             [
              0,
              "#0d0887"
             ],
             [
              0.1111111111111111,
              "#46039f"
             ],
             [
              0.2222222222222222,
              "#7201a8"
             ],
             [
              0.3333333333333333,
              "#9c179e"
             ],
             [
              0.4444444444444444,
              "#bd3786"
             ],
             [
              0.5555555555555556,
              "#d8576b"
             ],
             [
              0.6666666666666666,
              "#ed7953"
             ],
             [
              0.7777777777777778,
              "#fb9f3a"
             ],
             [
              0.8888888888888888,
              "#fdca26"
             ],
             [
              1,
              "#f0f921"
             ]
            ],
            "type": "heatmapgl"
           }
          ],
          "histogram": [
           {
            "marker": {
             "pattern": {
              "fillmode": "overlay",
              "size": 10,
              "solidity": 0.2
             }
            },
            "type": "histogram"
           }
          ],
          "histogram2d": [
           {
            "colorbar": {
             "outlinewidth": 0,
             "ticks": ""
            },
            "colorscale": [
             [
              0,
              "#0d0887"
             ],
             [
              0.1111111111111111,
              "#46039f"
             ],
             [
              0.2222222222222222,
              "#7201a8"
             ],
             [
              0.3333333333333333,
              "#9c179e"
             ],
             [
              0.4444444444444444,
              "#bd3786"
             ],
             [
              0.5555555555555556,
              "#d8576b"
             ],
             [
              0.6666666666666666,
              "#ed7953"
             ],
             [
              0.7777777777777778,
              "#fb9f3a"
             ],
             [
              0.8888888888888888,
              "#fdca26"
             ],
             [
              1,
              "#f0f921"
             ]
            ],
            "type": "histogram2d"
           }
          ],
          "histogram2dcontour": [
           {
            "colorbar": {
             "outlinewidth": 0,
             "ticks": ""
            },
            "colorscale": [
             [
              0,
              "#0d0887"
             ],
             [
              0.1111111111111111,
              "#46039f"
             ],
             [
              0.2222222222222222,
              "#7201a8"
             ],
             [
              0.3333333333333333,
              "#9c179e"
             ],
             [
              0.4444444444444444,
              "#bd3786"
             ],
             [
              0.5555555555555556,
              "#d8576b"
             ],
             [
              0.6666666666666666,
              "#ed7953"
             ],
             [
              0.7777777777777778,
              "#fb9f3a"
             ],
             [
              0.8888888888888888,
              "#fdca26"
             ],
             [
              1,
              "#f0f921"
             ]
            ],
            "type": "histogram2dcontour"
           }
          ],
          "mesh3d": [
           {
            "colorbar": {
             "outlinewidth": 0,
             "ticks": ""
            },
            "type": "mesh3d"
           }
          ],
          "parcoords": [
           {
            "line": {
             "colorbar": {
              "outlinewidth": 0,
              "ticks": ""
             }
            },
            "type": "parcoords"
           }
          ],
          "pie": [
           {
            "automargin": true,
            "type": "pie"
           }
          ],
          "scatter": [
           {
            "fillpattern": {
             "fillmode": "overlay",
             "size": 10,
             "solidity": 0.2
            },
            "type": "scatter"
           }
          ],
          "scatter3d": [
           {
            "line": {
             "colorbar": {
              "outlinewidth": 0,
              "ticks": ""
             }
            },
            "marker": {
             "colorbar": {
              "outlinewidth": 0,
              "ticks": ""
             }
            },
            "type": "scatter3d"
           }
          ],
          "scattercarpet": [
           {
            "marker": {
             "colorbar": {
              "outlinewidth": 0,
              "ticks": ""
             }
            },
            "type": "scattercarpet"
           }
          ],
          "scattergeo": [
           {
            "marker": {
             "colorbar": {
              "outlinewidth": 0,
              "ticks": ""
             }
            },
            "type": "scattergeo"
           }
          ],
          "scattergl": [
           {
            "marker": {
             "colorbar": {
              "outlinewidth": 0,
              "ticks": ""
             }
            },
            "type": "scattergl"
           }
          ],
          "scattermapbox": [
           {
            "marker": {
             "colorbar": {
              "outlinewidth": 0,
              "ticks": ""
             }
            },
            "type": "scattermapbox"
           }
          ],
          "scatterpolar": [
           {
            "marker": {
             "colorbar": {
              "outlinewidth": 0,
              "ticks": ""
             }
            },
            "type": "scatterpolar"
           }
          ],
          "scatterpolargl": [
           {
            "marker": {
             "colorbar": {
              "outlinewidth": 0,
              "ticks": ""
             }
            },
            "type": "scatterpolargl"
           }
          ],
          "scatterternary": [
           {
            "marker": {
             "colorbar": {
              "outlinewidth": 0,
              "ticks": ""
             }
            },
            "type": "scatterternary"
           }
          ],
          "surface": [
           {
            "colorbar": {
             "outlinewidth": 0,
             "ticks": ""
            },
            "colorscale": [
             [
              0,
              "#0d0887"
             ],
             [
              0.1111111111111111,
              "#46039f"
             ],
             [
              0.2222222222222222,
              "#7201a8"
             ],
             [
              0.3333333333333333,
              "#9c179e"
             ],
             [
              0.4444444444444444,
              "#bd3786"
             ],
             [
              0.5555555555555556,
              "#d8576b"
             ],
             [
              0.6666666666666666,
              "#ed7953"
             ],
             [
              0.7777777777777778,
              "#fb9f3a"
             ],
             [
              0.8888888888888888,
              "#fdca26"
             ],
             [
              1,
              "#f0f921"
             ]
            ],
            "type": "surface"
           }
          ],
          "table": [
           {
            "cells": {
             "fill": {
              "color": "#EBF0F8"
             },
             "line": {
              "color": "white"
             }
            },
            "header": {
             "fill": {
              "color": "#C8D4E3"
             },
             "line": {
              "color": "white"
             }
            },
            "type": "table"
           }
          ]
         },
         "layout": {
          "annotationdefaults": {
           "arrowcolor": "#2a3f5f",
           "arrowhead": 0,
           "arrowwidth": 1
          },
          "autotypenumbers": "strict",
          "coloraxis": {
           "colorbar": {
            "outlinewidth": 0,
            "ticks": ""
           }
          },
          "colorscale": {
           "diverging": [
            [
             0,
             "#8e0152"
            ],
            [
             0.1,
             "#c51b7d"
            ],
            [
             0.2,
             "#de77ae"
            ],
            [
             0.3,
             "#f1b6da"
            ],
            [
             0.4,
             "#fde0ef"
            ],
            [
             0.5,
             "#f7f7f7"
            ],
            [
             0.6,
             "#e6f5d0"
            ],
            [
             0.7,
             "#b8e186"
            ],
            [
             0.8,
             "#7fbc41"
            ],
            [
             0.9,
             "#4d9221"
            ],
            [
             1,
             "#276419"
            ]
           ],
           "sequential": [
            [
             0,
             "#0d0887"
            ],
            [
             0.1111111111111111,
             "#46039f"
            ],
            [
             0.2222222222222222,
             "#7201a8"
            ],
            [
             0.3333333333333333,
             "#9c179e"
            ],
            [
             0.4444444444444444,
             "#bd3786"
            ],
            [
             0.5555555555555556,
             "#d8576b"
            ],
            [
             0.6666666666666666,
             "#ed7953"
            ],
            [
             0.7777777777777778,
             "#fb9f3a"
            ],
            [
             0.8888888888888888,
             "#fdca26"
            ],
            [
             1,
             "#f0f921"
            ]
           ],
           "sequentialminus": [
            [
             0,
             "#0d0887"
            ],
            [
             0.1111111111111111,
             "#46039f"
            ],
            [
             0.2222222222222222,
             "#7201a8"
            ],
            [
             0.3333333333333333,
             "#9c179e"
            ],
            [
             0.4444444444444444,
             "#bd3786"
            ],
            [
             0.5555555555555556,
             "#d8576b"
            ],
            [
             0.6666666666666666,
             "#ed7953"
            ],
            [
             0.7777777777777778,
             "#fb9f3a"
            ],
            [
             0.8888888888888888,
             "#fdca26"
            ],
            [
             1,
             "#f0f921"
            ]
           ]
          },
          "colorway": [
           "#636efa",
           "#EF553B",
           "#00cc96",
           "#ab63fa",
           "#FFA15A",
           "#19d3f3",
           "#FF6692",
           "#B6E880",
           "#FF97FF",
           "#FECB52"
          ],
          "font": {
           "color": "#2a3f5f"
          },
          "geo": {
           "bgcolor": "white",
           "lakecolor": "white",
           "landcolor": "#E5ECF6",
           "showlakes": true,
           "showland": true,
           "subunitcolor": "white"
          },
          "hoverlabel": {
           "align": "left"
          },
          "hovermode": "closest",
          "mapbox": {
           "style": "light"
          },
          "paper_bgcolor": "white",
          "plot_bgcolor": "#E5ECF6",
          "polar": {
           "angularaxis": {
            "gridcolor": "white",
            "linecolor": "white",
            "ticks": ""
           },
           "bgcolor": "#E5ECF6",
           "radialaxis": {
            "gridcolor": "white",
            "linecolor": "white",
            "ticks": ""
           }
          },
          "scene": {
           "xaxis": {
            "backgroundcolor": "#E5ECF6",
            "gridcolor": "white",
            "gridwidth": 2,
            "linecolor": "white",
            "showbackground": true,
            "ticks": "",
            "zerolinecolor": "white"
           },
           "yaxis": {
            "backgroundcolor": "#E5ECF6",
            "gridcolor": "white",
            "gridwidth": 2,
            "linecolor": "white",
            "showbackground": true,
            "ticks": "",
            "zerolinecolor": "white"
           },
           "zaxis": {
            "backgroundcolor": "#E5ECF6",
            "gridcolor": "white",
            "gridwidth": 2,
            "linecolor": "white",
            "showbackground": true,
            "ticks": "",
            "zerolinecolor": "white"
           }
          },
          "shapedefaults": {
           "line": {
            "color": "#2a3f5f"
           }
          },
          "ternary": {
           "aaxis": {
            "gridcolor": "white",
            "linecolor": "white",
            "ticks": ""
           },
           "baxis": {
            "gridcolor": "white",
            "linecolor": "white",
            "ticks": ""
           },
           "bgcolor": "#E5ECF6",
           "caxis": {
            "gridcolor": "white",
            "linecolor": "white",
            "ticks": ""
           }
          },
          "title": {
           "x": 0.05
          },
          "xaxis": {
           "automargin": true,
           "gridcolor": "white",
           "linecolor": "white",
           "ticks": "",
           "title": {
            "standoff": 15
           },
           "zerolinecolor": "white",
           "zerolinewidth": 2
          },
          "yaxis": {
           "automargin": true,
           "gridcolor": "white",
           "linecolor": "white",
           "ticks": "",
           "title": {
            "standoff": 15
           },
           "zerolinecolor": "white",
           "zerolinewidth": 2
          }
         }
        },
        "title": {
         "text": "Export Value analysis for each country"
        },
        "xaxis": {
         "anchor": "y",
         "domain": [
          0,
          1
         ],
         "title": {
          "text": "x"
         }
        },
        "yaxis": {
         "anchor": "x",
         "domain": [
          0,
          1
         ],
         "title": {
          "text": "y"
         }
        }
       }
      }
     },
     "metadata": {},
     "output_type": "display_data"
    }
   ],
   "source": [
    "# Values    \n",
    "fig1 = px.bar(x=data['Area'], y=data['Export Value'], title=\"Export Value analysis for each country\")\n",
    "fig1.show();   \n"
   ]
  },
  {
   "cell_type": "code",
   "execution_count": 20,
   "id": "112a3648",
   "metadata": {},
   "outputs": [
    {
     "data": {
      "application/vnd.plotly.v1+json": {
       "config": {
        "plotlyServerURL": "https://plot.ly"
       },
       "data": [
        {
         "alignmentgroup": "True",
         "hovertemplate": "color=France<br>x=%{x}<br>y=%{y}<extra></extra>",
         "legendgroup": "France",
         "marker": {
          "color": "#636efa",
          "pattern": {
           "shape": ""
          }
         },
         "name": "France",
         "offsetgroup": "France",
         "orientation": "v",
         "showlegend": true,
         "textposition": "auto",
         "type": "bar",
         "x": [
          2010,
          2011,
          2012,
          2013,
          2014,
          2015,
          2016,
          2017,
          2018,
          2019,
          2020,
          2021,
          2012,
          2013,
          2014,
          2015,
          2016,
          2017,
          2018,
          2019,
          2020,
          2021,
          2010,
          2011,
          2012,
          2013,
          2014,
          2015,
          2016,
          2017,
          2018,
          2019,
          2020,
          2021,
          2010,
          2011,
          2012,
          2013,
          2014,
          2015,
          2016,
          2017,
          2018,
          2019,
          2020,
          2021,
          2010,
          2011,
          2012,
          2013,
          2014,
          2015,
          2016,
          2017,
          2018,
          2019,
          2020,
          2021,
          2014,
          2015,
          2016,
          2017,
          2018,
          2019,
          2020,
          2021,
          2010,
          2011,
          2012,
          2013,
          2014,
          2015,
          2016,
          2017,
          2018,
          2019,
          2020,
          2021,
          2010,
          2011,
          2012,
          2013,
          2014,
          2015,
          2016,
          2017,
          2018,
          2019,
          2020,
          2021,
          2010,
          2011,
          2012,
          2013,
          2014,
          2015,
          2016,
          2017,
          2018,
          2019,
          2020,
          2021,
          2010,
          2011,
          2012,
          2013,
          2014,
          2015,
          2016,
          2017,
          2018,
          2019,
          2020,
          2021,
          2010,
          2011,
          2012,
          2013,
          2014,
          2015,
          2016,
          2017,
          2018,
          2019,
          2020,
          2021,
          2010,
          2011,
          2012,
          2013,
          2014,
          2015,
          2016,
          2017,
          2018,
          2019,
          2020,
          2021,
          2010,
          2011,
          2012,
          2013,
          2014,
          2015,
          2016,
          2017,
          2018,
          2019,
          2020,
          2021,
          2010,
          2011
         ],
         "xaxis": "x",
         "y": [
          12,
          18,
          5,
          4,
          11,
          18,
          7,
          17,
          7,
          50,
          192,
          21,
          10,
          1,
          7,
          2,
          2,
          1671763,
          1983630,
          1833627,
          1683171,
          1637506,
          1497037,
          1525393,
          1644076,
          1743739,
          1660457,
          1633164,
          1655117,
          148407,
          177714,
          184810,
          208181,
          206717,
          215347,
          157581,
          169977,
          220354,
          193195,
          186102,
          200372,
          4765,
          4760,
          25970,
          28220,
          34252,
          25073,
          15127,
          19844,
          21070,
          19295,
          13813,
          16267,
          1021,
          506,
          502,
          626,
          462,
          390,
          302,
          540,
          326,
          469,
          1475,
          2052,
          1942,
          2451,
          3048,
          3769,
          1283,
          1438,
          2021,
          1117,
          136937,
          124176,
          102828,
          159421,
          204231,
          186092,
          188590,
          200009,
          215539,
          209536,
          218671,
          204322,
          3660,
          721,
          3777,
          3661,
          4984,
          4056,
          186,
          286,
          126,
          156,
          115,
          14,
          61731,
          61419,
          57614,
          66907,
          70419,
          64370,
          66371,
          68882,
          71445,
          74195,
          75858,
          91697,
          0,
          0,
          24,
          17,
          51,
          43,
          5,
          0,
          11,
          3,
          0,
          5771,
          7264,
          4892,
          6293,
          5539,
          3892,
          3665,
          3313,
          2330,
          2056,
          4092,
          6949,
          53685,
          71766,
          47789,
          45955,
          45891,
          39082,
          35190,
          36896,
          31028,
          34220,
          40344,
          45494,
          157034,
          142263,
          159811,
          157672,
          139326,
          102048,
          94882,
          111176
         ],
         "yaxis": "y"
        },
        {
         "alignmentgroup": "True",
         "hovertemplate": "color=Germany<br>x=%{x}<br>y=%{y}<extra></extra>",
         "legendgroup": "Germany",
         "marker": {
          "color": "#EF553B",
          "pattern": {
           "shape": ""
          }
         },
         "name": "Germany",
         "offsetgroup": "Germany",
         "orientation": "v",
         "showlegend": true,
         "textposition": "auto",
         "type": "bar",
         "x": [
          2012,
          2013,
          2014,
          2015,
          2016,
          2017,
          2018,
          2019,
          2020,
          2021,
          2010,
          2011,
          2012,
          2013,
          2014,
          2015,
          2016,
          2017,
          2018,
          2019,
          2020,
          2021,
          2010,
          2011,
          2012,
          2013,
          2014,
          2015,
          2016,
          2017,
          2018,
          2019,
          2020,
          2021,
          2012,
          2013,
          2016,
          2012,
          2013,
          2014,
          2015,
          2016,
          2017,
          2018,
          2019,
          2020,
          2021,
          2010,
          2011,
          2012,
          2013,
          2014,
          2015,
          2016,
          2017,
          2018,
          2019,
          2020,
          2021,
          2010,
          2011,
          2012,
          2013,
          2014,
          2015,
          2016,
          2017,
          2018,
          2019,
          2020,
          2021,
          2010,
          2011,
          2012,
          2013,
          2014,
          2015,
          2016,
          2017,
          2018,
          2019,
          2020,
          2021,
          2014,
          2015,
          2016,
          2017,
          2018,
          2019,
          2020,
          2021,
          2010,
          2011,
          2012,
          2013,
          2014,
          2015,
          2016,
          2017,
          2018,
          2019,
          2020,
          2021,
          2010,
          2011,
          2012,
          2013,
          2014,
          2015,
          2016,
          2017,
          2018,
          2019,
          2020,
          2021,
          2010,
          2011,
          2012,
          2013,
          2014,
          2015,
          2017,
          2019,
          2020,
          2010,
          2011,
          2012,
          2013,
          2014,
          2015,
          2016,
          2017,
          2018,
          2019,
          2020,
          2021,
          2010,
          2011,
          2012,
          2013,
          2015,
          2016,
          2017,
          2018,
          2020,
          2010,
          2011,
          2012,
          2013,
          2014
         ],
         "xaxis": "x",
         "y": [
          111269,
          126408,
          170638,
          111557,
          44067,
          47675,
          54661,
          53032,
          53004,
          50350,
          50790,
          51380,
          48402,
          48042,
          47578,
          58143,
          0,
          0,
          5,
          0,
          10,
          6,
          7,
          13,
          14,
          0,
          5,
          41,
          1,
          0,
          0,
          16,
          2,
          101,
          40,
          20,
          14,
          2,
          123,
          305,
          332000,
          414555,
          314412,
          288566,
          363097,
          363127,
          348303,
          430613,
          404480,
          335349,
          285957,
          275073,
          467332,
          653473,
          699378,
          698650,
          652803,
          586792,
          609869,
          654322,
          680352,
          588261,
          504633,
          516765,
          2400,
          2155,
          4848,
          5010,
          7564,
          7204,
          8199,
          4315,
          5649,
          4476,
          4006,
          4692,
          596,
          240,
          821,
          78,
          42,
          107,
          99,
          586,
          20,
          288,
          106,
          324,
          20,
          192,
          241,
          94,
          28,
          22,
          5,
          0,
          138966,
          207905,
          164876,
          203444,
          172842,
          153143,
          132193,
          196697,
          205683,
          224024,
          191466,
          244057,
          0,
          0,
          0,
          0,
          11,
          6,
          9,
          4,
          3,
          6,
          25476,
          33271,
          31972,
          31568,
          32557,
          32548,
          36835,
          35954,
          39059,
          38165,
          45551,
          55926,
          0,
          0,
          0,
          0,
          1148,
          1117,
          466,
          29,
          11,
          10,
          5,
          47,
          8,
          13,
          481,
          4935,
          5005,
          6980,
          2676,
          2788
         ],
         "yaxis": "y"
        },
        {
         "alignmentgroup": "True",
         "hovertemplate": "color=Ghana<br>x=%{x}<br>y=%{y}<extra></extra>",
         "legendgroup": "Ghana",
         "marker": {
          "color": "#00cc96",
          "pattern": {
           "shape": ""
          }
         },
         "name": "Ghana",
         "offsetgroup": "Ghana",
         "orientation": "v",
         "showlegend": true,
         "textposition": "auto",
         "type": "bar",
         "x": [
          2015,
          2016,
          2017,
          2018,
          2019,
          2020,
          2021,
          2010,
          2011,
          2012,
          2013,
          2014,
          2015,
          2016,
          2017,
          2018,
          2019,
          2020,
          2021,
          2010,
          2011,
          2012,
          2013,
          2014,
          2015,
          2016,
          2017,
          2018,
          2019,
          2020,
          2021,
          2010,
          2011,
          2012,
          2013,
          2014,
          2015,
          2016,
          2017,
          2018,
          2019,
          2020,
          2021,
          2016,
          2017,
          2018,
          2019,
          2020,
          2013,
          2014,
          2016,
          2017,
          2020,
          2017,
          2018,
          2019,
          2010,
          2011,
          2012,
          2013,
          2014,
          2015,
          2016,
          2017,
          2018,
          2019,
          2020,
          2021,
          2010,
          2011,
          2012,
          2013,
          2014,
          2015,
          2016,
          2017,
          2018,
          2019,
          2020,
          2021,
          2010,
          2011,
          2012,
          2013,
          2016,
          2018,
          2019,
          2021,
          2014,
          2016,
          2019,
          2021,
          2010,
          2011,
          2012,
          2013,
          2015,
          2016,
          2017,
          2018,
          2019,
          2020,
          2021,
          2010,
          2011,
          2012,
          2013,
          2014,
          2015,
          2016,
          2017,
          2018,
          2019,
          2020,
          2021,
          2012
         ],
         "xaxis": "x",
         "y": [
          1506,
          1246,
          1579,
          958,
          1762,
          2153,
          2882,
          265024,
          315241,
          486099,
          459629,
          460370,
          262583,
          195691,
          228237,
          195695,
          197491,
          207627,
          165735,
          33421,
          39107,
          33806,
          39967,
          47561,
          40987,
          48910,
          49455,
          58061,
          51657,
          49978,
          39759,
          2,
          21,
          13,
          13,
          21,
          26,
          31,
          9,
          3,
          0,
          0,
          2,
          0,
          6,
          6,
          2,
          5,
          2,
          1,
          0,
          0,
          0,
          0,
          1,
          0,
          0,
          0,
          0,
          13,
          23,
          23,
          13,
          5,
          2086,
          4,
          0,
          0,
          0,
          0,
          86,
          313,
          430,
          363,
          13,
          33,
          45,
          23,
          579,
          832,
          0,
          0,
          0,
          0,
          59,
          140,
          80,
          146,
          0,
          0,
          0,
          0,
          1,
          0,
          14,
          36,
          0,
          0,
          1,
          3,
          5,
          7,
          7,
          0,
          2,
          0,
          4,
          2,
          0,
          0,
          0,
          0,
          4760,
          4,
          7,
          816
         ],
         "yaxis": "y"
        },
        {
         "alignmentgroup": "True",
         "hovertemplate": "color=Ireland<br>x=%{x}<br>y=%{y}<extra></extra>",
         "legendgroup": "Ireland",
         "marker": {
          "color": "#ab63fa",
          "pattern": {
           "shape": ""
          }
         },
         "name": "Ireland",
         "offsetgroup": "Ireland",
         "orientation": "v",
         "showlegend": true,
         "textposition": "auto",
         "type": "bar",
         "x": [
          2013,
          2016,
          2017,
          2018,
          2019,
          2021,
          2010,
          2011,
          2012,
          2013,
          2014,
          2015,
          2016,
          2017,
          2018,
          2019,
          2020,
          2021,
          2010,
          2011,
          2012,
          2013,
          2014,
          2015,
          2017,
          2018,
          2019,
          2020,
          2021,
          2017,
          2018,
          2019,
          2020,
          2021,
          2010,
          2011,
          2012,
          2013,
          2014,
          2015,
          2016,
          2017,
          2018,
          2019,
          2020,
          2021,
          2010,
          2011,
          2012,
          2013,
          2016,
          2017,
          2018,
          2019,
          2021,
          2010,
          2011,
          2012,
          2013,
          2014,
          2016,
          2017,
          2018,
          2019,
          2020,
          2021,
          2010,
          2011,
          2012,
          2013,
          2014,
          2016,
          2017,
          2020,
          2021,
          2016,
          2017,
          2018,
          2020,
          2015,
          2021,
          2010,
          2011,
          2012,
          2013,
          2014,
          2015,
          2016,
          2017,
          2018,
          2019,
          2020,
          2021,
          2010,
          2011,
          2012,
          2013,
          2014,
          2015,
          2016,
          2017,
          2018,
          2019,
          2020,
          2021,
          2010,
          2011,
          2012,
          2013,
          2014,
          2018,
          2019,
          2021,
          2015,
          2021,
          2010,
          2011,
          2012,
          2013,
          2017,
          2020,
          2021,
          2010,
          2011,
          2012,
          2013,
          2014,
          2015,
          2016
         ],
         "xaxis": "x",
         "y": [
          252,
          31,
          59,
          0,
          3,
          434,
          1,
          192881,
          180423,
          161982,
          156314,
          167563,
          99553,
          75105,
          96265,
          114435,
          124506,
          124611,
          141461,
          17622,
          22397,
          15206,
          10814,
          12465,
          12180,
          11759,
          12208,
          14478,
          7908,
          3828,
          4517,
          0,
          0,
          0,
          0,
          14,
          0,
          0,
          0,
          20,
          18,
          13,
          33,
          22,
          12,
          11,
          16,
          208893,
          270007,
          232773,
          331483,
          244046,
          286063,
          221978,
          315639,
          313235,
          295085,
          246957,
          370031,
          0,
          0,
          336,
          22,
          2742,
          874,
          1847,
          3640,
          248,
          112,
          237,
          18668,
          4169,
          120,
          103,
          151,
          4533,
          149,
          289,
          617,
          730,
          411,
          386,
          1245,
          0,
          0,
          11,
          22,
          38,
          47,
          43,
          414,
          858,
          1126,
          296,
          2564,
          0,
          0,
          0,
          0,
          0,
          1,
          5192,
          3153,
          4951,
          9871,
          5955,
          2087,
          2222,
          3042,
          2213,
          1295,
          3091,
          1822,
          17536,
          17405,
          7878,
          70747,
          93928,
          74750,
          61740,
          73802,
          72321,
          72237,
          19378,
          83827,
          2523,
          2504,
          178,
          20
         ],
         "yaxis": "y"
        },
        {
         "alignmentgroup": "True",
         "hovertemplate": "color=Italy<br>x=%{x}<br>y=%{y}<extra></extra>",
         "legendgroup": "Italy",
         "marker": {
          "color": "#FFA15A",
          "pattern": {
           "shape": ""
          }
         },
         "name": "Italy",
         "offsetgroup": "Italy",
         "orientation": "v",
         "showlegend": true,
         "textposition": "auto",
         "type": "bar",
         "x": [
          2017,
          2018,
          2019,
          2020,
          2021,
          2010,
          2011,
          2012,
          2013,
          2014,
          2015,
          2016,
          2017,
          2018,
          2019,
          2020,
          2021,
          2010,
          2011,
          2012,
          2013,
          2014,
          2015,
          2016,
          2017,
          2018,
          2019,
          2020,
          2021,
          2010,
          2011,
          2012,
          2013,
          2014,
          2015,
          2016,
          2017,
          2018,
          2019,
          2020,
          2021,
          2010,
          2011,
          2012,
          2013,
          2014,
          2015,
          2016,
          2018,
          2019,
          2020,
          2021,
          2010,
          2011,
          2012,
          2013,
          2014,
          2015,
          2016,
          2017,
          2018,
          2019,
          2020,
          2021,
          2010,
          2011,
          2012,
          2013,
          2014,
          2015,
          2016,
          2017,
          2018,
          2019,
          2020,
          2021,
          2010,
          2011,
          2012,
          2013,
          2014,
          2015,
          2016,
          2017,
          2018,
          2019,
          2020,
          2021,
          2010,
          2011,
          2012,
          2013,
          2014,
          2015,
          2016,
          2017,
          2018,
          2019,
          2020,
          2021,
          2010,
          2011,
          2012,
          2013,
          2014,
          2015,
          2016,
          2017,
          2018,
          2020,
          2021,
          2012,
          2013,
          2014,
          2015,
          2016,
          2019,
          2020,
          2010,
          2011,
          2012,
          2013,
          2014,
          2015,
          2016,
          2017,
          2018,
          2019,
          2020,
          2021,
          2010,
          2011,
          2012,
          2013,
          2014,
          2015,
          2016,
          2017,
          2018,
          2019,
          2020,
          2021,
          2010,
          2011,
          2012,
          2013,
          2014,
          2015,
          2016,
          2017,
          2018,
          2019,
          2020,
          2021,
          2014,
          2015,
          2016
         ],
         "xaxis": "x",
         "y": [
          133,
          1191,
          318,
          136,
          147,
          179,
          5,
          8,
          12,
          2,
          9,
          26,
          2,
          14,
          6,
          110,
          5,
          51,
          5,
          0,
          0,
          0,
          3325,
          4377,
          772,
          132,
          37,
          216,
          668,
          2,
          16,
          2,
          6,
          44,
          15833,
          15683,
          19313,
          20062,
          19053,
          22523,
          15415,
          12377,
          7630,
          7906,
          6893,
          9622,
          11443,
          10826,
          12295,
          11480,
          13350,
          10633,
          11148,
          8492,
          8597,
          7272,
          8380,
          6209,
          20,
          0,
          25,
          14,
          10,
          10,
          36,
          17,
          62,
          58,
          13,
          11,
          7,
          28,
          34,
          0,
          107,
          33,
          59,
          24,
          2,
          26,
          6,
          69,
          9,
          107,
          125,
          112,
          16,
          48,
          8452,
          6430,
          6404,
          8635,
          12684,
          8878,
          5876,
          11553,
          18287,
          4421,
          5315,
          7294,
          0,
          0,
          329,
          22,
          408,
          72,
          55,
          153,
          19,
          183,
          29,
          92,
          15161,
          16898,
          16646,
          17423,
          18186,
          16609,
          17537,
          15438,
          17309,
          15718,
          14402,
          14955,
          0,
          0,
          0,
          0,
          4,
          323,
          23,
          124,
          165,
          141,
          80,
          15,
          57,
          14,
          30,
          246,
          166,
          187,
          219,
          149,
          186,
          137,
          259,
          1,
          3682,
          2194,
          2591,
          2868,
          617,
          915,
          415,
          276,
          192
         ],
         "yaxis": "y"
        },
        {
         "alignmentgroup": "True",
         "hovertemplate": "color=Nigeria<br>x=%{x}<br>y=%{y}<extra></extra>",
         "legendgroup": "Nigeria",
         "marker": {
          "color": "#19d3f3",
          "pattern": {
           "shape": ""
          }
         },
         "name": "Nigeria",
         "offsetgroup": "Nigeria",
         "orientation": "v",
         "showlegend": true,
         "textposition": "auto",
         "type": "bar",
         "x": [
          2017,
          2018,
          2019,
          2020,
          2021,
          2010,
          2011,
          2012,
          2013,
          2014,
          2015,
          2016,
          2017,
          2018,
          2019,
          2020,
          2021,
          2010,
          2011,
          2012,
          2013,
          2014,
          2015,
          2016,
          2017,
          2018,
          2019,
          2020,
          2021,
          2010,
          2011,
          2012,
          2013,
          2014,
          2015,
          2016,
          2017,
          2019,
          2020,
          2021,
          2010,
          2011,
          2012,
          2013,
          2014,
          2015,
          2016,
          2017,
          2018,
          2019,
          2020,
          2021,
          2010,
          2011,
          2012,
          2013,
          2010,
          2011,
          2012,
          2013,
          2014,
          2015,
          2016,
          2017,
          2018,
          2019,
          2020,
          2021,
          2010,
          2011,
          2012,
          2013,
          2014,
          2015,
          2016,
          2017,
          2018,
          2019,
          2020,
          2021,
          2010,
          2011,
          2012,
          2013,
          2014,
          2015,
          2016,
          2017,
          2018,
          2019,
          2020,
          2021,
          2010,
          2011,
          2012,
          2013,
          2014,
          2015,
          2016,
          2017,
          2018,
          2019,
          2020
         ],
         "xaxis": "x",
         "y": [
          164,
          229,
          365,
          3958,
          5562,
          4445,
          2774,
          1764,
          1258,
          1555,
          1155,
          1187,
          1995,
          1637,
          645,
          0,
          0,
          0,
          1,
          0,
          3,
          0,
          0,
          0,
          0,
          0,
          42,
          1,
          7,
          2,
          0,
          13,
          18,
          0,
          0,
          0,
          0,
          1,
          0,
          0,
          19,
          4,
          0,
          0,
          0,
          1,
          0,
          2,
          6,
          15,
          8,
          8,
          0,
          1,
          0,
          0,
          1,
          28,
          24,
          31,
          33,
          58,
          47,
          34,
          67,
          0,
          0,
          0,
          1,
          0,
          0,
          0,
          0,
          1,
          2,
          2,
          2,
          0,
          0,
          0,
          0,
          3,
          1,
          0,
          0,
          0,
          2,
          0,
          0,
          0,
          5,
          3,
          0,
          0,
          0,
          0,
          0,
          0,
          3,
          0,
          2,
          3,
          0
         ],
         "yaxis": "y"
        },
        {
         "alignmentgroup": "True",
         "hovertemplate": "color=Spain<br>x=%{x}<br>y=%{y}<extra></extra>",
         "legendgroup": "Spain",
         "marker": {
          "color": "#FF6692",
          "pattern": {
           "shape": ""
          }
         },
         "name": "Spain",
         "offsetgroup": "Spain",
         "orientation": "v",
         "showlegend": true,
         "textposition": "auto",
         "type": "bar",
         "x": [
          2021,
          2010,
          2011,
          2012,
          2013,
          2014,
          2015,
          2016,
          2017,
          2018,
          2019,
          2020,
          2015,
          2016,
          2017,
          2018,
          2020,
          2015,
          2016,
          2017,
          2018,
          2019,
          2020,
          2010,
          2011,
          2012,
          2013,
          2014,
          2015,
          2016,
          2017,
          2018,
          2019,
          2020,
          2021,
          2010,
          2011,
          2012,
          2013,
          2014,
          2015,
          2016,
          2017,
          2018,
          2019,
          2020,
          2021,
          2014,
          2018,
          2010,
          2011,
          2012,
          2013,
          2014,
          2015,
          2016,
          2017,
          2018,
          2019,
          2020,
          2021,
          2010,
          2011,
          2012,
          2013,
          2014,
          2015,
          2016,
          2017,
          2018,
          2019,
          2012,
          2013,
          2018,
          2014,
          2015,
          2016,
          2017,
          2018,
          2019,
          2020,
          2021,
          2010,
          2011,
          2012,
          2013,
          2014,
          2015,
          2016,
          2017,
          2018,
          2019,
          2020,
          2021,
          2019,
          2021,
          2010,
          2011,
          2012,
          2013,
          2014,
          2015,
          2016,
          2017,
          2018,
          2019,
          2020,
          2021,
          2010,
          2011,
          2012,
          2013,
          2015,
          2016,
          2017,
          2018,
          2019,
          2021,
          2014,
          2018,
          2010,
          2011,
          2012,
          2013,
          2014,
          2015,
          2018,
          2019,
          2020,
          2021,
          2012,
          2013,
          2014,
          2018,
          2019,
          2020,
          2021,
          2010,
          2011,
          2012,
          2013
         ],
         "xaxis": "x",
         "y": [
          82,
          77,
          24,
          11,
          34,
          81,
          18,
          25,
          25,
          115746,
          126875,
          223514,
          187363,
          170446,
          227922,
          238619,
          301044,
          398979,
          325218,
          346927,
          313909,
          26111,
          29517,
          31071,
          34608,
          38896,
          45845,
          66186,
          62709,
          61953,
          67828,
          77853,
          91663,
          0,
          8,
          0,
          1,
          0,
          0,
          5,
          0,
          231,
          438,
          648,
          454,
          672,
          103,
          287,
          761,
          834,
          876,
          1121,
          971,
          730,
          6697,
          9053,
          8501,
          10569,
          13360,
          9310,
          7559,
          7353,
          14368,
          12444,
          19283,
          23805,
          10,
          0,
          114,
          21,
          275,
          22,
          1,
          684,
          1305,
          372,
          444,
          16938,
          20167,
          18981,
          23071,
          25112,
          26479,
          27779,
          37566,
          42016,
          39677,
          48346,
          60938,
          0,
          0,
          0,
          0,
          2578,
          1780,
          3745,
          3931,
          2938,
          1854,
          1362,
          977,
          450,
          510,
          733,
          1510,
          33209,
          39393,
          64359,
          102387,
          117657,
          139789,
          170415,
          169206,
          154148,
          165925,
          197156,
          149813,
          254029,
          298262,
          248097,
          275163,
          280496,
          197730,
          186725,
          212551,
          176794,
          182335,
          157637,
          143184,
          380,
          53,
          524,
          288,
          227,
          167,
          143,
          172,
          118,
          129,
          99,
          90
         ],
         "yaxis": "y"
        },
        {
         "alignmentgroup": "True",
         "hovertemplate": "color=United States of America<br>x=%{x}<br>y=%{y}<extra></extra>",
         "legendgroup": "United States of America",
         "marker": {
          "color": "#B6E880",
          "pattern": {
           "shape": ""
          }
         },
         "name": "United States of America",
         "offsetgroup": "United States of America",
         "orientation": "v",
         "showlegend": true,
         "textposition": "auto",
         "type": "bar",
         "x": [
          2014,
          2015,
          2016,
          2017,
          2018,
          2019,
          2020,
          2021,
          2010,
          2011,
          2012,
          2013,
          2014,
          2015,
          2016,
          2017,
          2018,
          2019,
          2020,
          2021,
          2010,
          2011,
          2012,
          2013,
          2014,
          2015,
          2016,
          2017,
          2018,
          2019,
          2020
         ],
         "xaxis": "x",
         "y": [
          145,
          203,
          48,
          453,
          728,
          1250,
          2840,
          3274,
          1546,
          545,
          868,
          750,
          536,
          255,
          17,
          42,
          318,
          942,
          517,
          538,
          1222,
          1533,
          326,
          414,
          175,
          256,
          18,
          165,
          235,
          206,
          139
         ],
         "yaxis": "y"
        }
       ],
       "layout": {
        "barmode": "relative",
        "legend": {
         "title": {
          "text": "color"
         },
         "tracegroupgap": 0
        },
        "template": {
         "data": {
          "bar": [
           {
            "error_x": {
             "color": "#2a3f5f"
            },
            "error_y": {
             "color": "#2a3f5f"
            },
            "marker": {
             "line": {
              "color": "#E5ECF6",
              "width": 0.5
             },
             "pattern": {
              "fillmode": "overlay",
              "size": 10,
              "solidity": 0.2
             }
            },
            "type": "bar"
           }
          ],
          "barpolar": [
           {
            "marker": {
             "line": {
              "color": "#E5ECF6",
              "width": 0.5
             },
             "pattern": {
              "fillmode": "overlay",
              "size": 10,
              "solidity": 0.2
             }
            },
            "type": "barpolar"
           }
          ],
          "carpet": [
           {
            "aaxis": {
             "endlinecolor": "#2a3f5f",
             "gridcolor": "white",
             "linecolor": "white",
             "minorgridcolor": "white",
             "startlinecolor": "#2a3f5f"
            },
            "baxis": {
             "endlinecolor": "#2a3f5f",
             "gridcolor": "white",
             "linecolor": "white",
             "minorgridcolor": "white",
             "startlinecolor": "#2a3f5f"
            },
            "type": "carpet"
           }
          ],
          "choropleth": [
           {
            "colorbar": {
             "outlinewidth": 0,
             "ticks": ""
            },
            "type": "choropleth"
           }
          ],
          "contour": [
           {
            "colorbar": {
             "outlinewidth": 0,
             "ticks": ""
            },
            "colorscale": [
             [
              0,
              "#0d0887"
             ],
             [
              0.1111111111111111,
              "#46039f"
             ],
             [
              0.2222222222222222,
              "#7201a8"
             ],
             [
              0.3333333333333333,
              "#9c179e"
             ],
             [
              0.4444444444444444,
              "#bd3786"
             ],
             [
              0.5555555555555556,
              "#d8576b"
             ],
             [
              0.6666666666666666,
              "#ed7953"
             ],
             [
              0.7777777777777778,
              "#fb9f3a"
             ],
             [
              0.8888888888888888,
              "#fdca26"
             ],
             [
              1,
              "#f0f921"
             ]
            ],
            "type": "contour"
           }
          ],
          "contourcarpet": [
           {
            "colorbar": {
             "outlinewidth": 0,
             "ticks": ""
            },
            "type": "contourcarpet"
           }
          ],
          "heatmap": [
           {
            "colorbar": {
             "outlinewidth": 0,
             "ticks": ""
            },
            "colorscale": [
             [
              0,
              "#0d0887"
             ],
             [
              0.1111111111111111,
              "#46039f"
             ],
             [
              0.2222222222222222,
              "#7201a8"
             ],
             [
              0.3333333333333333,
              "#9c179e"
             ],
             [
              0.4444444444444444,
              "#bd3786"
             ],
             [
              0.5555555555555556,
              "#d8576b"
             ],
             [
              0.6666666666666666,
              "#ed7953"
             ],
             [
              0.7777777777777778,
              "#fb9f3a"
             ],
             [
              0.8888888888888888,
              "#fdca26"
             ],
             [
              1,
              "#f0f921"
             ]
            ],
            "type": "heatmap"
           }
          ],
          "heatmapgl": [
           {
            "colorbar": {
             "outlinewidth": 0,
             "ticks": ""
            },
            "colorscale": [
             [
              0,
              "#0d0887"
             ],
             [
              0.1111111111111111,
              "#46039f"
             ],
             [
              0.2222222222222222,
              "#7201a8"
             ],
             [
              0.3333333333333333,
              "#9c179e"
             ],
             [
              0.4444444444444444,
              "#bd3786"
             ],
             [
              0.5555555555555556,
              "#d8576b"
             ],
             [
              0.6666666666666666,
              "#ed7953"
             ],
             [
              0.7777777777777778,
              "#fb9f3a"
             ],
             [
              0.8888888888888888,
              "#fdca26"
             ],
             [
              1,
              "#f0f921"
             ]
            ],
            "type": "heatmapgl"
           }
          ],
          "histogram": [
           {
            "marker": {
             "pattern": {
              "fillmode": "overlay",
              "size": 10,
              "solidity": 0.2
             }
            },
            "type": "histogram"
           }
          ],
          "histogram2d": [
           {
            "colorbar": {
             "outlinewidth": 0,
             "ticks": ""
            },
            "colorscale": [
             [
              0,
              "#0d0887"
             ],
             [
              0.1111111111111111,
              "#46039f"
             ],
             [
              0.2222222222222222,
              "#7201a8"
             ],
             [
              0.3333333333333333,
              "#9c179e"
             ],
             [
              0.4444444444444444,
              "#bd3786"
             ],
             [
              0.5555555555555556,
              "#d8576b"
             ],
             [
              0.6666666666666666,
              "#ed7953"
             ],
             [
              0.7777777777777778,
              "#fb9f3a"
             ],
             [
              0.8888888888888888,
              "#fdca26"
             ],
             [
              1,
              "#f0f921"
             ]
            ],
            "type": "histogram2d"
           }
          ],
          "histogram2dcontour": [
           {
            "colorbar": {
             "outlinewidth": 0,
             "ticks": ""
            },
            "colorscale": [
             [
              0,
              "#0d0887"
             ],
             [
              0.1111111111111111,
              "#46039f"
             ],
             [
              0.2222222222222222,
              "#7201a8"
             ],
             [
              0.3333333333333333,
              "#9c179e"
             ],
             [
              0.4444444444444444,
              "#bd3786"
             ],
             [
              0.5555555555555556,
              "#d8576b"
             ],
             [
              0.6666666666666666,
              "#ed7953"
             ],
             [
              0.7777777777777778,
              "#fb9f3a"
             ],
             [
              0.8888888888888888,
              "#fdca26"
             ],
             [
              1,
              "#f0f921"
             ]
            ],
            "type": "histogram2dcontour"
           }
          ],
          "mesh3d": [
           {
            "colorbar": {
             "outlinewidth": 0,
             "ticks": ""
            },
            "type": "mesh3d"
           }
          ],
          "parcoords": [
           {
            "line": {
             "colorbar": {
              "outlinewidth": 0,
              "ticks": ""
             }
            },
            "type": "parcoords"
           }
          ],
          "pie": [
           {
            "automargin": true,
            "type": "pie"
           }
          ],
          "scatter": [
           {
            "fillpattern": {
             "fillmode": "overlay",
             "size": 10,
             "solidity": 0.2
            },
            "type": "scatter"
           }
          ],
          "scatter3d": [
           {
            "line": {
             "colorbar": {
              "outlinewidth": 0,
              "ticks": ""
             }
            },
            "marker": {
             "colorbar": {
              "outlinewidth": 0,
              "ticks": ""
             }
            },
            "type": "scatter3d"
           }
          ],
          "scattercarpet": [
           {
            "marker": {
             "colorbar": {
              "outlinewidth": 0,
              "ticks": ""
             }
            },
            "type": "scattercarpet"
           }
          ],
          "scattergeo": [
           {
            "marker": {
             "colorbar": {
              "outlinewidth": 0,
              "ticks": ""
             }
            },
            "type": "scattergeo"
           }
          ],
          "scattergl": [
           {
            "marker": {
             "colorbar": {
              "outlinewidth": 0,
              "ticks": ""
             }
            },
            "type": "scattergl"
           }
          ],
          "scattermapbox": [
           {
            "marker": {
             "colorbar": {
              "outlinewidth": 0,
              "ticks": ""
             }
            },
            "type": "scattermapbox"
           }
          ],
          "scatterpolar": [
           {
            "marker": {
             "colorbar": {
              "outlinewidth": 0,
              "ticks": ""
             }
            },
            "type": "scatterpolar"
           }
          ],
          "scatterpolargl": [
           {
            "marker": {
             "colorbar": {
              "outlinewidth": 0,
              "ticks": ""
             }
            },
            "type": "scatterpolargl"
           }
          ],
          "scatterternary": [
           {
            "marker": {
             "colorbar": {
              "outlinewidth": 0,
              "ticks": ""
             }
            },
            "type": "scatterternary"
           }
          ],
          "surface": [
           {
            "colorbar": {
             "outlinewidth": 0,
             "ticks": ""
            },
            "colorscale": [
             [
              0,
              "#0d0887"
             ],
             [
              0.1111111111111111,
              "#46039f"
             ],
             [
              0.2222222222222222,
              "#7201a8"
             ],
             [
              0.3333333333333333,
              "#9c179e"
             ],
             [
              0.4444444444444444,
              "#bd3786"
             ],
             [
              0.5555555555555556,
              "#d8576b"
             ],
             [
              0.6666666666666666,
              "#ed7953"
             ],
             [
              0.7777777777777778,
              "#fb9f3a"
             ],
             [
              0.8888888888888888,
              "#fdca26"
             ],
             [
              1,
              "#f0f921"
             ]
            ],
            "type": "surface"
           }
          ],
          "table": [
           {
            "cells": {
             "fill": {
              "color": "#EBF0F8"
             },
             "line": {
              "color": "white"
             }
            },
            "header": {
             "fill": {
              "color": "#C8D4E3"
             },
             "line": {
              "color": "white"
             }
            },
            "type": "table"
           }
          ]
         },
         "layout": {
          "annotationdefaults": {
           "arrowcolor": "#2a3f5f",
           "arrowhead": 0,
           "arrowwidth": 1
          },
          "autotypenumbers": "strict",
          "coloraxis": {
           "colorbar": {
            "outlinewidth": 0,
            "ticks": ""
           }
          },
          "colorscale": {
           "diverging": [
            [
             0,
             "#8e0152"
            ],
            [
             0.1,
             "#c51b7d"
            ],
            [
             0.2,
             "#de77ae"
            ],
            [
             0.3,
             "#f1b6da"
            ],
            [
             0.4,
             "#fde0ef"
            ],
            [
             0.5,
             "#f7f7f7"
            ],
            [
             0.6,
             "#e6f5d0"
            ],
            [
             0.7,
             "#b8e186"
            ],
            [
             0.8,
             "#7fbc41"
            ],
            [
             0.9,
             "#4d9221"
            ],
            [
             1,
             "#276419"
            ]
           ],
           "sequential": [
            [
             0,
             "#0d0887"
            ],
            [
             0.1111111111111111,
             "#46039f"
            ],
            [
             0.2222222222222222,
             "#7201a8"
            ],
            [
             0.3333333333333333,
             "#9c179e"
            ],
            [
             0.4444444444444444,
             "#bd3786"
            ],
            [
             0.5555555555555556,
             "#d8576b"
            ],
            [
             0.6666666666666666,
             "#ed7953"
            ],
            [
             0.7777777777777778,
             "#fb9f3a"
            ],
            [
             0.8888888888888888,
             "#fdca26"
            ],
            [
             1,
             "#f0f921"
            ]
           ],
           "sequentialminus": [
            [
             0,
             "#0d0887"
            ],
            [
             0.1111111111111111,
             "#46039f"
            ],
            [
             0.2222222222222222,
             "#7201a8"
            ],
            [
             0.3333333333333333,
             "#9c179e"
            ],
            [
             0.4444444444444444,
             "#bd3786"
            ],
            [
             0.5555555555555556,
             "#d8576b"
            ],
            [
             0.6666666666666666,
             "#ed7953"
            ],
            [
             0.7777777777777778,
             "#fb9f3a"
            ],
            [
             0.8888888888888888,
             "#fdca26"
            ],
            [
             1,
             "#f0f921"
            ]
           ]
          },
          "colorway": [
           "#636efa",
           "#EF553B",
           "#00cc96",
           "#ab63fa",
           "#FFA15A",
           "#19d3f3",
           "#FF6692",
           "#B6E880",
           "#FF97FF",
           "#FECB52"
          ],
          "font": {
           "color": "#2a3f5f"
          },
          "geo": {
           "bgcolor": "white",
           "lakecolor": "white",
           "landcolor": "#E5ECF6",
           "showlakes": true,
           "showland": true,
           "subunitcolor": "white"
          },
          "hoverlabel": {
           "align": "left"
          },
          "hovermode": "closest",
          "mapbox": {
           "style": "light"
          },
          "paper_bgcolor": "white",
          "plot_bgcolor": "#E5ECF6",
          "polar": {
           "angularaxis": {
            "gridcolor": "white",
            "linecolor": "white",
            "ticks": ""
           },
           "bgcolor": "#E5ECF6",
           "radialaxis": {
            "gridcolor": "white",
            "linecolor": "white",
            "ticks": ""
           }
          },
          "scene": {
           "xaxis": {
            "backgroundcolor": "#E5ECF6",
            "gridcolor": "white",
            "gridwidth": 2,
            "linecolor": "white",
            "showbackground": true,
            "ticks": "",
            "zerolinecolor": "white"
           },
           "yaxis": {
            "backgroundcolor": "#E5ECF6",
            "gridcolor": "white",
            "gridwidth": 2,
            "linecolor": "white",
            "showbackground": true,
            "ticks": "",
            "zerolinecolor": "white"
           },
           "zaxis": {
            "backgroundcolor": "#E5ECF6",
            "gridcolor": "white",
            "gridwidth": 2,
            "linecolor": "white",
            "showbackground": true,
            "ticks": "",
            "zerolinecolor": "white"
           }
          },
          "shapedefaults": {
           "line": {
            "color": "#2a3f5f"
           }
          },
          "ternary": {
           "aaxis": {
            "gridcolor": "white",
            "linecolor": "white",
            "ticks": ""
           },
           "baxis": {
            "gridcolor": "white",
            "linecolor": "white",
            "ticks": ""
           },
           "bgcolor": "#E5ECF6",
           "caxis": {
            "gridcolor": "white",
            "linecolor": "white",
            "ticks": ""
           }
          },
          "title": {
           "x": 0.05
          },
          "xaxis": {
           "automargin": true,
           "gridcolor": "white",
           "linecolor": "white",
           "ticks": "",
           "title": {
            "standoff": 15
           },
           "zerolinecolor": "white",
           "zerolinewidth": 2
          },
          "yaxis": {
           "automargin": true,
           "gridcolor": "white",
           "linecolor": "white",
           "ticks": "",
           "title": {
            "standoff": 15
           },
           "zerolinecolor": "white",
           "zerolinewidth": 2
          }
         }
        },
        "title": {
         "text": "Yearly Export Value of all Countries specified"
        },
        "xaxis": {
         "anchor": "y",
         "domain": [
          0,
          1
         ],
         "title": {
          "text": "x"
         }
        },
        "yaxis": {
         "anchor": "x",
         "domain": [
          0,
          1
         ],
         "title": {
          "text": "y"
         }
        }
       }
      }
     },
     "metadata": {},
     "output_type": "display_data"
    }
   ],
   "source": [
    "fig4 = px.bar(y=data['Export Value'], x=data['Year'], color=data['Area'], title='Yearly Export Value of all Countries specified')\n",
    "fig4.show();"
   ]
  },
  {
   "cell_type": "code",
   "execution_count": 21,
   "id": "ae26888c",
   "metadata": {},
   "outputs": [
    {
     "data": {
      "application/vnd.plotly.v1+json": {
       "config": {
        "plotlyServerURL": "https://plot.ly"
       },
       "data": [
        {
         "alignmentgroup": "True",
         "hovertemplate": "x=%{x}<br>y=%{y}<extra></extra>",
         "legendgroup": "",
         "marker": {
          "color": "#636efa",
          "pattern": {
           "shape": ""
          }
         },
         "name": "",
         "offsetgroup": "",
         "orientation": "v",
         "showlegend": false,
         "textposition": "auto",
         "type": "bar",
         "x": [
          "France",
          "France",
          "France",
          "France",
          "France",
          "France",
          "France",
          "France",
          "France",
          "France",
          "France",
          "France",
          "France",
          "France",
          "France",
          "France",
          "France",
          "France",
          "France",
          "France",
          "France",
          "France",
          "France",
          "France",
          "France",
          "France",
          "France",
          "France",
          "France",
          "France",
          "France",
          "France",
          "France",
          "France",
          "France",
          "France",
          "France",
          "France",
          "France",
          "France",
          "France",
          "France",
          "France",
          "France",
          "France",
          "France",
          "France",
          "France",
          "France",
          "France",
          "France",
          "France",
          "France",
          "France",
          "France",
          "France",
          "France",
          "France",
          "France",
          "France",
          "France",
          "France",
          "France",
          "France",
          "France",
          "France",
          "France",
          "France",
          "France",
          "France",
          "France",
          "France",
          "France",
          "France",
          "France",
          "France",
          "France",
          "France",
          "France",
          "France",
          "France",
          "France",
          "France",
          "France",
          "France",
          "France",
          "France",
          "France",
          "France",
          "France",
          "France",
          "France",
          "France",
          "France",
          "France",
          "France",
          "France",
          "France",
          "France",
          "France",
          "France",
          "France",
          "France",
          "France",
          "France",
          "France",
          "France",
          "France",
          "France",
          "France",
          "France",
          "France",
          "France",
          "France",
          "France",
          "France",
          "France",
          "France",
          "France",
          "France",
          "France",
          "France",
          "France",
          "France",
          "France",
          "France",
          "France",
          "France",
          "France",
          "France",
          "France",
          "France",
          "France",
          "France",
          "France",
          "France",
          "France",
          "France",
          "France",
          "France",
          "France",
          "France",
          "France",
          "France",
          "France",
          "France",
          "France",
          "France",
          "France",
          "France",
          "France",
          "France",
          "Germany",
          "Germany",
          "Germany",
          "Germany",
          "Germany",
          "Germany",
          "Germany",
          "Germany",
          "Germany",
          "Germany",
          "Germany",
          "Germany",
          "Germany",
          "Germany",
          "Germany",
          "Germany",
          "Germany",
          "Germany",
          "Germany",
          "Germany",
          "Germany",
          "Germany",
          "Germany",
          "Germany",
          "Germany",
          "Germany",
          "Germany",
          "Germany",
          "Germany",
          "Germany",
          "Germany",
          "Germany",
          "Germany",
          "Germany",
          "Germany",
          "Germany",
          "Germany",
          "Germany",
          "Germany",
          "Germany",
          "Germany",
          "Germany",
          "Germany",
          "Germany",
          "Germany",
          "Germany",
          "Germany",
          "Germany",
          "Germany",
          "Germany",
          "Germany",
          "Germany",
          "Germany",
          "Germany",
          "Germany",
          "Germany",
          "Germany",
          "Germany",
          "Germany",
          "Germany",
          "Germany",
          "Germany",
          "Germany",
          "Germany",
          "Germany",
          "Germany",
          "Germany",
          "Germany",
          "Germany",
          "Germany",
          "Germany",
          "Germany",
          "Germany",
          "Germany",
          "Germany",
          "Germany",
          "Germany",
          "Germany",
          "Germany",
          "Germany",
          "Germany",
          "Germany",
          "Germany",
          "Germany",
          "Germany",
          "Germany",
          "Germany",
          "Germany",
          "Germany",
          "Germany",
          "Germany",
          "Germany",
          "Germany",
          "Germany",
          "Germany",
          "Germany",
          "Germany",
          "Germany",
          "Germany",
          "Germany",
          "Germany",
          "Germany",
          "Germany",
          "Germany",
          "Germany",
          "Germany",
          "Germany",
          "Germany",
          "Germany",
          "Germany",
          "Germany",
          "Germany",
          "Germany",
          "Germany",
          "Germany",
          "Germany",
          "Germany",
          "Germany",
          "Germany",
          "Germany",
          "Germany",
          "Germany",
          "Germany",
          "Germany",
          "Germany",
          "Germany",
          "Germany",
          "Germany",
          "Germany",
          "Germany",
          "Germany",
          "Germany",
          "Germany",
          "Germany",
          "Germany",
          "Germany",
          "Germany",
          "Germany",
          "Germany",
          "Germany",
          "Germany",
          "Germany",
          "Germany",
          "Germany",
          "Germany",
          "Germany",
          "Germany",
          "Germany",
          "Germany",
          "Germany",
          "Ghana",
          "Ghana",
          "Ghana",
          "Ghana",
          "Ghana",
          "Ghana",
          "Ghana",
          "Ghana",
          "Ghana",
          "Ghana",
          "Ghana",
          "Ghana",
          "Ghana",
          "Ghana",
          "Ghana",
          "Ghana",
          "Ghana",
          "Ghana",
          "Ghana",
          "Ghana",
          "Ghana",
          "Ghana",
          "Ghana",
          "Ghana",
          "Ghana",
          "Ghana",
          "Ghana",
          "Ghana",
          "Ghana",
          "Ghana",
          "Ghana",
          "Ghana",
          "Ghana",
          "Ghana",
          "Ghana",
          "Ghana",
          "Ghana",
          "Ghana",
          "Ghana",
          "Ghana",
          "Ghana",
          "Ghana",
          "Ghana",
          "Ghana",
          "Ghana",
          "Ghana",
          "Ghana",
          "Ghana",
          "Ghana",
          "Ghana",
          "Ghana",
          "Ghana",
          "Ghana",
          "Ghana",
          "Ghana",
          "Ghana",
          "Ghana",
          "Ghana",
          "Ghana",
          "Ghana",
          "Ghana",
          "Ghana",
          "Ghana",
          "Ghana",
          "Ghana",
          "Ghana",
          "Ghana",
          "Ghana",
          "Ghana",
          "Ghana",
          "Ghana",
          "Ghana",
          "Ghana",
          "Ghana",
          "Ghana",
          "Ghana",
          "Ghana",
          "Ghana",
          "Ghana",
          "Ghana",
          "Ghana",
          "Ghana",
          "Ghana",
          "Ghana",
          "Ghana",
          "Ghana",
          "Ghana",
          "Ghana",
          "Ghana",
          "Ghana",
          "Ghana",
          "Ghana",
          "Ghana",
          "Ghana",
          "Ghana",
          "Ghana",
          "Ghana",
          "Ghana",
          "Ghana",
          "Ghana",
          "Ghana",
          "Ghana",
          "Ghana",
          "Ghana",
          "Ghana",
          "Ghana",
          "Ghana",
          "Ghana",
          "Ghana",
          "Ghana",
          "Ghana",
          "Ghana",
          "Ghana",
          "Ghana",
          "Ghana",
          "Ghana",
          "Ireland",
          "Ireland",
          "Ireland",
          "Ireland",
          "Ireland",
          "Ireland",
          "Ireland",
          "Ireland",
          "Ireland",
          "Ireland",
          "Ireland",
          "Ireland",
          "Ireland",
          "Ireland",
          "Ireland",
          "Ireland",
          "Ireland",
          "Ireland",
          "Ireland",
          "Ireland",
          "Ireland",
          "Ireland",
          "Ireland",
          "Ireland",
          "Ireland",
          "Ireland",
          "Ireland",
          "Ireland",
          "Ireland",
          "Ireland",
          "Ireland",
          "Ireland",
          "Ireland",
          "Ireland",
          "Ireland",
          "Ireland",
          "Ireland",
          "Ireland",
          "Ireland",
          "Ireland",
          "Ireland",
          "Ireland",
          "Ireland",
          "Ireland",
          "Ireland",
          "Ireland",
          "Ireland",
          "Ireland",
          "Ireland",
          "Ireland",
          "Ireland",
          "Ireland",
          "Ireland",
          "Ireland",
          "Ireland",
          "Ireland",
          "Ireland",
          "Ireland",
          "Ireland",
          "Ireland",
          "Ireland",
          "Ireland",
          "Ireland",
          "Ireland",
          "Ireland",
          "Ireland",
          "Ireland",
          "Ireland",
          "Ireland",
          "Ireland",
          "Ireland",
          "Ireland",
          "Ireland",
          "Ireland",
          "Ireland",
          "Ireland",
          "Ireland",
          "Ireland",
          "Ireland",
          "Ireland",
          "Ireland",
          "Ireland",
          "Ireland",
          "Ireland",
          "Ireland",
          "Ireland",
          "Ireland",
          "Ireland",
          "Ireland",
          "Ireland",
          "Ireland",
          "Ireland",
          "Ireland",
          "Ireland",
          "Ireland",
          "Ireland",
          "Ireland",
          "Ireland",
          "Ireland",
          "Ireland",
          "Ireland",
          "Ireland",
          "Ireland",
          "Ireland",
          "Ireland",
          "Ireland",
          "Ireland",
          "Ireland",
          "Ireland",
          "Ireland",
          "Ireland",
          "Ireland",
          "Ireland",
          "Ireland",
          "Ireland",
          "Ireland",
          "Ireland",
          "Ireland",
          "Ireland",
          "Ireland",
          "Ireland",
          "Ireland",
          "Ireland",
          "Ireland",
          "Ireland",
          "Ireland",
          "Ireland",
          "Ireland",
          "Ireland",
          "Italy",
          "Italy",
          "Italy",
          "Italy",
          "Italy",
          "Italy",
          "Italy",
          "Italy",
          "Italy",
          "Italy",
          "Italy",
          "Italy",
          "Italy",
          "Italy",
          "Italy",
          "Italy",
          "Italy",
          "Italy",
          "Italy",
          "Italy",
          "Italy",
          "Italy",
          "Italy",
          "Italy",
          "Italy",
          "Italy",
          "Italy",
          "Italy",
          "Italy",
          "Italy",
          "Italy",
          "Italy",
          "Italy",
          "Italy",
          "Italy",
          "Italy",
          "Italy",
          "Italy",
          "Italy",
          "Italy",
          "Italy",
          "Italy",
          "Italy",
          "Italy",
          "Italy",
          "Italy",
          "Italy",
          "Italy",
          "Italy",
          "Italy",
          "Italy",
          "Italy",
          "Italy",
          "Italy",
          "Italy",
          "Italy",
          "Italy",
          "Italy",
          "Italy",
          "Italy",
          "Italy",
          "Italy",
          "Italy",
          "Italy",
          "Italy",
          "Italy",
          "Italy",
          "Italy",
          "Italy",
          "Italy",
          "Italy",
          "Italy",
          "Italy",
          "Italy",
          "Italy",
          "Italy",
          "Italy",
          "Italy",
          "Italy",
          "Italy",
          "Italy",
          "Italy",
          "Italy",
          "Italy",
          "Italy",
          "Italy",
          "Italy",
          "Italy",
          "Italy",
          "Italy",
          "Italy",
          "Italy",
          "Italy",
          "Italy",
          "Italy",
          "Italy",
          "Italy",
          "Italy",
          "Italy",
          "Italy",
          "Italy",
          "Italy",
          "Italy",
          "Italy",
          "Italy",
          "Italy",
          "Italy",
          "Italy",
          "Italy",
          "Italy",
          "Italy",
          "Italy",
          "Italy",
          "Italy",
          "Italy",
          "Italy",
          "Italy",
          "Italy",
          "Italy",
          "Italy",
          "Italy",
          "Italy",
          "Italy",
          "Italy",
          "Italy",
          "Italy",
          "Italy",
          "Italy",
          "Italy",
          "Italy",
          "Italy",
          "Italy",
          "Italy",
          "Italy",
          "Italy",
          "Italy",
          "Italy",
          "Italy",
          "Italy",
          "Italy",
          "Italy",
          "Italy",
          "Italy",
          "Italy",
          "Italy",
          "Italy",
          "Italy",
          "Italy",
          "Italy",
          "Italy",
          "Italy",
          "Italy",
          "Italy",
          "Italy",
          "Italy",
          "Italy",
          "Italy",
          "Nigeria",
          "Nigeria",
          "Nigeria",
          "Nigeria",
          "Nigeria",
          "Nigeria",
          "Nigeria",
          "Nigeria",
          "Nigeria",
          "Nigeria",
          "Nigeria",
          "Nigeria",
          "Nigeria",
          "Nigeria",
          "Nigeria",
          "Nigeria",
          "Nigeria",
          "Nigeria",
          "Nigeria",
          "Nigeria",
          "Nigeria",
          "Nigeria",
          "Nigeria",
          "Nigeria",
          "Nigeria",
          "Nigeria",
          "Nigeria",
          "Nigeria",
          "Nigeria",
          "Nigeria",
          "Nigeria",
          "Nigeria",
          "Nigeria",
          "Nigeria",
          "Nigeria",
          "Nigeria",
          "Nigeria",
          "Nigeria",
          "Nigeria",
          "Nigeria",
          "Nigeria",
          "Nigeria",
          "Nigeria",
          "Nigeria",
          "Nigeria",
          "Nigeria",
          "Nigeria",
          "Nigeria",
          "Nigeria",
          "Nigeria",
          "Nigeria",
          "Nigeria",
          "Nigeria",
          "Nigeria",
          "Nigeria",
          "Nigeria",
          "Nigeria",
          "Nigeria",
          "Nigeria",
          "Nigeria",
          "Nigeria",
          "Nigeria",
          "Nigeria",
          "Nigeria",
          "Nigeria",
          "Nigeria",
          "Nigeria",
          "Nigeria",
          "Nigeria",
          "Nigeria",
          "Nigeria",
          "Nigeria",
          "Nigeria",
          "Nigeria",
          "Nigeria",
          "Nigeria",
          "Nigeria",
          "Nigeria",
          "Nigeria",
          "Nigeria",
          "Nigeria",
          "Nigeria",
          "Nigeria",
          "Nigeria",
          "Nigeria",
          "Nigeria",
          "Nigeria",
          "Nigeria",
          "Nigeria",
          "Nigeria",
          "Nigeria",
          "Nigeria",
          "Nigeria",
          "Nigeria",
          "Nigeria",
          "Nigeria",
          "Nigeria",
          "Nigeria",
          "Nigeria",
          "Nigeria",
          "Nigeria",
          "Nigeria",
          "Nigeria",
          "Spain",
          "Spain",
          "Spain",
          "Spain",
          "Spain",
          "Spain",
          "Spain",
          "Spain",
          "Spain",
          "Spain",
          "Spain",
          "Spain",
          "Spain",
          "Spain",
          "Spain",
          "Spain",
          "Spain",
          "Spain",
          "Spain",
          "Spain",
          "Spain",
          "Spain",
          "Spain",
          "Spain",
          "Spain",
          "Spain",
          "Spain",
          "Spain",
          "Spain",
          "Spain",
          "Spain",
          "Spain",
          "Spain",
          "Spain",
          "Spain",
          "Spain",
          "Spain",
          "Spain",
          "Spain",
          "Spain",
          "Spain",
          "Spain",
          "Spain",
          "Spain",
          "Spain",
          "Spain",
          "Spain",
          "Spain",
          "Spain",
          "Spain",
          "Spain",
          "Spain",
          "Spain",
          "Spain",
          "Spain",
          "Spain",
          "Spain",
          "Spain",
          "Spain",
          "Spain",
          "Spain",
          "Spain",
          "Spain",
          "Spain",
          "Spain",
          "Spain",
          "Spain",
          "Spain",
          "Spain",
          "Spain",
          "Spain",
          "Spain",
          "Spain",
          "Spain",
          "Spain",
          "Spain",
          "Spain",
          "Spain",
          "Spain",
          "Spain",
          "Spain",
          "Spain",
          "Spain",
          "Spain",
          "Spain",
          "Spain",
          "Spain",
          "Spain",
          "Spain",
          "Spain",
          "Spain",
          "Spain",
          "Spain",
          "Spain",
          "Spain",
          "Spain",
          "Spain",
          "Spain",
          "Spain",
          "Spain",
          "Spain",
          "Spain",
          "Spain",
          "Spain",
          "Spain",
          "Spain",
          "Spain",
          "Spain",
          "Spain",
          "Spain",
          "Spain",
          "Spain",
          "Spain",
          "Spain",
          "Spain",
          "Spain",
          "Spain",
          "Spain",
          "Spain",
          "Spain",
          "Spain",
          "Spain",
          "Spain",
          "Spain",
          "Spain",
          "Spain",
          "Spain",
          "Spain",
          "Spain",
          "Spain",
          "Spain",
          "Spain",
          "Spain",
          "Spain",
          "Spain",
          "Spain",
          "Spain",
          "Spain",
          "Spain",
          "Spain",
          "Spain",
          "United States of America",
          "United States of America",
          "United States of America",
          "United States of America",
          "United States of America",
          "United States of America",
          "United States of America",
          "United States of America",
          "United States of America",
          "United States of America",
          "United States of America",
          "United States of America",
          "United States of America",
          "United States of America",
          "United States of America",
          "United States of America",
          "United States of America",
          "United States of America",
          "United States of America",
          "United States of America",
          "United States of America",
          "United States of America",
          "United States of America",
          "United States of America",
          "United States of America",
          "United States of America",
          "United States of America",
          "United States of America",
          "United States of America",
          "United States of America",
          "United States of America"
         ],
         "xaxis": "x",
         "y": [
          38,
          79,
          47,
          69,
          40,
          290,
          14,
          38,
          16,
          20,
          11,
          19,
          58,
          86,
          31,
          29,
          7,
          0,
          39,
          14,
          18,
          6,
          73132,
          78635,
          78158,
          78420,
          74600,
          50835,
          34871,
          34887,
          59570,
          64405,
          58550,
          58903,
          22928,
          19574,
          20680,
          23124,
          24752,
          21181,
          26483,
          26061,
          29312,
          28065,
          35067,
          49488,
          18,
          22,
          21,
          31,
          343,
          253,
          762,
          157,
          1467,
          1890,
          109,
          443,
          17,
          17,
          10,
          2,
          3,
          27,
          16,
          0,
          420,
          242,
          47,
          79,
          58,
          40,
          18,
          4,
          49,
          204,
          185,
          94,
          80831,
          67117,
          82972,
          102876,
          101832,
          101283,
          93297,
          118844,
          121560,
          90393,
          113701,
          92409,
          8,
          0,
          112,
          27,
          283,
          503,
          7,
          5,
          42,
          32,
          90,
          6,
          68590,
          57059,
          50849,
          51876,
          52506,
          42861,
          45669,
          51405,
          54989,
          55589,
          61647,
          77797,
          0,
          0,
          319,
          381,
          365,
          294,
          238,
          227,
          238,
          218,
          200,
          168,
          3513,
          4024,
          4086,
          4479,
          3470,
          2186,
          1577,
          1370,
          1319,
          887,
          112,
          113,
          47792,
          42398,
          39929,
          42620,
          43708,
          32156,
          27157,
          21875,
          22327,
          17106,
          27169,
          39877,
          27294,
          26506,
          28699,
          20983,
          14750,
          8027,
          9494,
          11285,
          11591,
          11108,
          8623,
          9049,
          10907,
          13845,
          7700,
          5550,
          6059,
          5908,
          6363,
          6928,
          6752,
          8694,
          7949,
          33024,
          0,
          5,
          5,
          1,
          6,
          5,
          1,
          3,
          2,
          3,
          10,
          15,
          1,
          0,
          21,
          248,
          380,
          409,
          177,
          56,
          335,
          269,
          38,
          1425,
          414,
          100830,
          120661,
          99022,
          94929,
          82161,
          55537,
          53485,
          69191,
          57367,
          35718,
          40299,
          59590,
          116076,
          155101,
          161825,
          173124,
          170728,
          156922,
          173832,
          193759,
          185487,
          170013,
          167632,
          189016,
          0,
          1372,
          3495,
          1129,
          1118,
          1206,
          2514,
          4059,
          3523,
          3102,
          1854,
          2487,
          177,
          134,
          67,
          146,
          194,
          109,
          81,
          256,
          6,
          10,
          110,
          32,
          81,
          36,
          34,
          57,
          46,
          39,
          282,
          98,
          29256,
          26674,
          27041,
          21940,
          30549,
          22643,
          21901,
          30522,
          47458,
          38041,
          38967,
          43433,
          0,
          0,
          9,
          0,
          1,
          1,
          3,
          0,
          4,
          34499,
          39637,
          34284,
          37705,
          46487,
          45837,
          45250,
          48326,
          52226,
          48223,
          65992,
          75575,
          0,
          0,
          0,
          0,
          0,
          0,
          0,
          2,
          0,
          42,
          92,
          129,
          274,
          240,
          368,
          399,
          84,
          214,
          122,
          274,
          543,
          4555,
          7517,
          7623,
          10077,
          9770,
          9624,
          14916,
          15147,
          21915,
          15385,
          20790,
          34153,
          1324388,
          1488032,
          1668697,
          1766278,
          1636071,
          1132411,
          1371592,
          1495602,
          1152205,
          1333570,
          1105070,
          679770,
          82564,
          174082,
          176972,
          193426,
          187536,
          138484,
          156310,
          149272,
          180769,
          164548,
          174371,
          161944,
          5,
          36,
          10,
          1,
          0,
          0,
          0,
          4,
          0,
          8,
          3,
          0,
          1,
          1901,
          5580,
          3800,
          598,
          3800,
          3800,
          3800,
          444,
          408,
          321,
          310,
          705,
          2325,
          5979,
          6382,
          8886,
          5448,
          4442,
          6723,
          8247,
          8903,
          10704,
          13669,
          12823,
          13,
          192,
          1,
          3,
          12,
          17,
          24,
          62,
          1,
          0,
          0,
          0,
          1313,
          1631,
          697,
          237,
          5,
          153,
          0,
          1,
          3,
          9,
          16,
          134,
          16,
          0,
          16,
          1,
          139,
          150,
          130,
          77,
          61,
          0,
          8,
          5,
          17,
          5,
          85,
          259,
          423,
          0,
          403,
          1479,
          4736,
          3999,
          12,
          54,
          109,
          154,
          65,
          114,
          45,
          137,
          0,
          0,
          0,
          0,
          109,
          14,
          7,
          3,
          1,
          106,
          196,
          2,
          1,
          0,
          6,
          1,
          2000,
          2500,
          1642,
          628,
          1,
          573,
          243,
          409,
          967,
          819,
          15,
          1,
          61,
          1,
          0,
          11,
          6,
          8,
          0,
          0,
          5,
          2,
          0,
          2,
          48,
          6,
          0,
          8,
          25,
          44,
          28,
          55,
          0,
          0,
          0,
          3,
          2229,
          8,
          4,
          36,
          61,
          11,
          62,
          1,
          9,
          21,
          30,
          442,
          1259,
          5183,
          2721,
          226,
          1021,
          787,
          927,
          1750,
          4073,
          11952,
          5883,
          16651,
          19830,
          22179,
          8548,
          7086,
          6964,
          5825,
          6194,
          7219,
          7667,
          8750,
          7745,
          41,
          9,
          0,
          0,
          0,
          0,
          3,
          119,
          1,
          0,
          0,
          1559,
          0,
          0,
          13,
          8,
          21,
          205579,
          246219,
          194244,
          260431,
          323741,
          336858,
          299226,
          327510,
          294028,
          331794,
          452915,
          312442,
          2,
          0,
          29,
          98,
          57,
          742,
          1071,
          408,
          66,
          2570,
          1445,
          275,
          2013,
          2267,
          1997,
          1293,
          669,
          686,
          314,
          432,
          397,
          408,
          373,
          622,
          0,
          0,
          787,
          1041,
          1239,
          1390,
          555,
          824,
          446,
          309,
          179,
          730,
          0,
          16,
          226,
          160,
          129,
          147,
          38,
          166,
          169,
          113,
          192,
          3910,
          2707,
          17554,
          14171,
          2136,
          1185,
          1870,
          1605,
          1809,
          1603,
          44250,
          48356,
          0,
          27,
          41,
          0,
          1357,
          1875,
          1370,
          2960,
          1648,
          1015,
          1914,
          969,
          1099,
          1507,
          1227,
          1339,
          1352,
          1635,
          1056,
          1403,
          1374,
          962,
          1148,
          648,
          78,
          40,
          10,
          8,
          137,
          54,
          185,
          9,
          32,
          72,
          1,
          2,
          0,
          0,
          6985,
          2414,
          2659,
          1713,
          1419,
          1152,
          298,
          2163,
          3,
          82,
          9,
          6,
          58,
          44,
          19,
          12,
          1529059,
          1624134,
          1528922,
          1471464,
          1440211,
          1158432,
          1182271,
          1289425,
          1523228,
          1412914,
          1416698,
          1583075,
          12612,
          13689,
          14205,
          14305,
          13705,
          12932,
          12385,
          14882,
          18280,
          16573,
          16375,
          21159,
          355,
          560,
          1548,
          1742,
          1659,
          1449,
          1543,
          1323,
          62,
          111,
          11,
          37,
          429,
          359,
          250,
          263,
          198,
          87,
          101,
          104,
          522,
          500,
          560,
          531,
          357,
          642,
          596,
          559,
          78,
          112,
          38,
          21,
          69853,
          63546,
          49606,
          44023,
          48352,
          44533,
          50818,
          47224,
          39562,
          39919,
          39988,
          49100,
          1,
          0,
          167,
          25,
          245,
          265,
          114,
          3,
          170,
          12,
          44,
          30480,
          33151,
          27748,
          27779,
          27214,
          22708,
          22549,
          23361,
          21470,
          20433,
          21999,
          24337,
          0,
          0,
          0,
          0,
          779,
          927,
          3440,
          3443,
          3163,
          3386,
          2660,
          2597,
          2331,
          2881,
          2090,
          3199,
          122502,
          123587,
          103734,
          91793,
          94125,
          75665,
          67884,
          71166,
          73590,
          61136,
          46752,
          62158,
          118171,
          128400,
          115780,
          106724,
          129331,
          112558,
          140934,
          183546,
          153382,
          143194,
          128486,
          105890,
          5496,
          3316,
          2655,
          3925,
          3394,
          2790,
          2778,
          2473,
          4206,
          3964,
          4057,
          172,
          0,
          0,
          3580,
          1717,
          1955,
          788,
          974,
          2,
          125,
          50,
          11,
          7,
          6,
          26,
          1,
          1,
          57,
          95,
          319,
          435,
          2174,
          652,
          110000,
          140000,
          100000,
          100250,
          100000,
          100000,
          100000,
          100000,
          100000,
          100000,
          100000,
          100000,
          25,
          21,
          112,
          112,
          108,
          280,
          288,
          596,
          32,
          1252,
          1224,
          513,
          6,
          46,
          7921,
          6521,
          13912,
          13950,
          2694,
          849,
          844,
          1187,
          2000,
          2000,
          1592,
          1600,
          3894,
          4291,
          1072,
          261,
          509,
          780,
          222,
          411,
          170,
          341,
          4,
          0,
          3,
          113,
          106,
          24,
          21,
          131,
          47,
          53,
          90,
          9,
          3361,
          4303,
          4300,
          1445,
          382,
          106,
          203,
          404,
          785,
          19,
          4,
          0,
          0,
          21000,
          9660,
          9921,
          10000,
          7500,
          7500,
          10000,
          10000,
          10000,
          10000,
          10000,
          10000,
          0,
          0,
          0,
          310,
          109,
          254,
          263,
          148,
          109,
          91,
          13,
          0,
          0,
          0,
          0,
          2,
          1,
          0,
          0,
          0,
          19,
          12,
          126,
          227,
          5,
          14,
          2,
          0,
          3,
          264380,
          283349,
          235882,
          270516,
          318085,
          240933,
          253974,
          310327,
          348778,
          296304,
          271345,
          285646,
          38303,
          31962,
          39643,
          41540,
          49728,
          41482,
          40217,
          48616,
          50994,
          36607,
          34991,
          41001,
          2362,
          1933,
          5369,
          5193,
          5171,
          4182,
          1405,
          2190,
          2745,
          2410,
          2069
         ],
         "yaxis": "y"
        }
       ],
       "layout": {
        "barmode": "relative",
        "legend": {
         "tracegroupgap": 0
        },
        "template": {
         "data": {
          "bar": [
           {
            "error_x": {
             "color": "#2a3f5f"
            },
            "error_y": {
             "color": "#2a3f5f"
            },
            "marker": {
             "line": {
              "color": "#E5ECF6",
              "width": 0.5
             },
             "pattern": {
              "fillmode": "overlay",
              "size": 10,
              "solidity": 0.2
             }
            },
            "type": "bar"
           }
          ],
          "barpolar": [
           {
            "marker": {
             "line": {
              "color": "#E5ECF6",
              "width": 0.5
             },
             "pattern": {
              "fillmode": "overlay",
              "size": 10,
              "solidity": 0.2
             }
            },
            "type": "barpolar"
           }
          ],
          "carpet": [
           {
            "aaxis": {
             "endlinecolor": "#2a3f5f",
             "gridcolor": "white",
             "linecolor": "white",
             "minorgridcolor": "white",
             "startlinecolor": "#2a3f5f"
            },
            "baxis": {
             "endlinecolor": "#2a3f5f",
             "gridcolor": "white",
             "linecolor": "white",
             "minorgridcolor": "white",
             "startlinecolor": "#2a3f5f"
            },
            "type": "carpet"
           }
          ],
          "choropleth": [
           {
            "colorbar": {
             "outlinewidth": 0,
             "ticks": ""
            },
            "type": "choropleth"
           }
          ],
          "contour": [
           {
            "colorbar": {
             "outlinewidth": 0,
             "ticks": ""
            },
            "colorscale": [
             [
              0,
              "#0d0887"
             ],
             [
              0.1111111111111111,
              "#46039f"
             ],
             [
              0.2222222222222222,
              "#7201a8"
             ],
             [
              0.3333333333333333,
              "#9c179e"
             ],
             [
              0.4444444444444444,
              "#bd3786"
             ],
             [
              0.5555555555555556,
              "#d8576b"
             ],
             [
              0.6666666666666666,
              "#ed7953"
             ],
             [
              0.7777777777777778,
              "#fb9f3a"
             ],
             [
              0.8888888888888888,
              "#fdca26"
             ],
             [
              1,
              "#f0f921"
             ]
            ],
            "type": "contour"
           }
          ],
          "contourcarpet": [
           {
            "colorbar": {
             "outlinewidth": 0,
             "ticks": ""
            },
            "type": "contourcarpet"
           }
          ],
          "heatmap": [
           {
            "colorbar": {
             "outlinewidth": 0,
             "ticks": ""
            },
            "colorscale": [
             [
              0,
              "#0d0887"
             ],
             [
              0.1111111111111111,
              "#46039f"
             ],
             [
              0.2222222222222222,
              "#7201a8"
             ],
             [
              0.3333333333333333,
              "#9c179e"
             ],
             [
              0.4444444444444444,
              "#bd3786"
             ],
             [
              0.5555555555555556,
              "#d8576b"
             ],
             [
              0.6666666666666666,
              "#ed7953"
             ],
             [
              0.7777777777777778,
              "#fb9f3a"
             ],
             [
              0.8888888888888888,
              "#fdca26"
             ],
             [
              1,
              "#f0f921"
             ]
            ],
            "type": "heatmap"
           }
          ],
          "heatmapgl": [
           {
            "colorbar": {
             "outlinewidth": 0,
             "ticks": ""
            },
            "colorscale": [
             [
              0,
              "#0d0887"
             ],
             [
              0.1111111111111111,
              "#46039f"
             ],
             [
              0.2222222222222222,
              "#7201a8"
             ],
             [
              0.3333333333333333,
              "#9c179e"
             ],
             [
              0.4444444444444444,
              "#bd3786"
             ],
             [
              0.5555555555555556,
              "#d8576b"
             ],
             [
              0.6666666666666666,
              "#ed7953"
             ],
             [
              0.7777777777777778,
              "#fb9f3a"
             ],
             [
              0.8888888888888888,
              "#fdca26"
             ],
             [
              1,
              "#f0f921"
             ]
            ],
            "type": "heatmapgl"
           }
          ],
          "histogram": [
           {
            "marker": {
             "pattern": {
              "fillmode": "overlay",
              "size": 10,
              "solidity": 0.2
             }
            },
            "type": "histogram"
           }
          ],
          "histogram2d": [
           {
            "colorbar": {
             "outlinewidth": 0,
             "ticks": ""
            },
            "colorscale": [
             [
              0,
              "#0d0887"
             ],
             [
              0.1111111111111111,
              "#46039f"
             ],
             [
              0.2222222222222222,
              "#7201a8"
             ],
             [
              0.3333333333333333,
              "#9c179e"
             ],
             [
              0.4444444444444444,
              "#bd3786"
             ],
             [
              0.5555555555555556,
              "#d8576b"
             ],
             [
              0.6666666666666666,
              "#ed7953"
             ],
             [
              0.7777777777777778,
              "#fb9f3a"
             ],
             [
              0.8888888888888888,
              "#fdca26"
             ],
             [
              1,
              "#f0f921"
             ]
            ],
            "type": "histogram2d"
           }
          ],
          "histogram2dcontour": [
           {
            "colorbar": {
             "outlinewidth": 0,
             "ticks": ""
            },
            "colorscale": [
             [
              0,
              "#0d0887"
             ],
             [
              0.1111111111111111,
              "#46039f"
             ],
             [
              0.2222222222222222,
              "#7201a8"
             ],
             [
              0.3333333333333333,
              "#9c179e"
             ],
             [
              0.4444444444444444,
              "#bd3786"
             ],
             [
              0.5555555555555556,
              "#d8576b"
             ],
             [
              0.6666666666666666,
              "#ed7953"
             ],
             [
              0.7777777777777778,
              "#fb9f3a"
             ],
             [
              0.8888888888888888,
              "#fdca26"
             ],
             [
              1,
              "#f0f921"
             ]
            ],
            "type": "histogram2dcontour"
           }
          ],
          "mesh3d": [
           {
            "colorbar": {
             "outlinewidth": 0,
             "ticks": ""
            },
            "type": "mesh3d"
           }
          ],
          "parcoords": [
           {
            "line": {
             "colorbar": {
              "outlinewidth": 0,
              "ticks": ""
             }
            },
            "type": "parcoords"
           }
          ],
          "pie": [
           {
            "automargin": true,
            "type": "pie"
           }
          ],
          "scatter": [
           {
            "fillpattern": {
             "fillmode": "overlay",
             "size": 10,
             "solidity": 0.2
            },
            "type": "scatter"
           }
          ],
          "scatter3d": [
           {
            "line": {
             "colorbar": {
              "outlinewidth": 0,
              "ticks": ""
             }
            },
            "marker": {
             "colorbar": {
              "outlinewidth": 0,
              "ticks": ""
             }
            },
            "type": "scatter3d"
           }
          ],
          "scattercarpet": [
           {
            "marker": {
             "colorbar": {
              "outlinewidth": 0,
              "ticks": ""
             }
            },
            "type": "scattercarpet"
           }
          ],
          "scattergeo": [
           {
            "marker": {
             "colorbar": {
              "outlinewidth": 0,
              "ticks": ""
             }
            },
            "type": "scattergeo"
           }
          ],
          "scattergl": [
           {
            "marker": {
             "colorbar": {
              "outlinewidth": 0,
              "ticks": ""
             }
            },
            "type": "scattergl"
           }
          ],
          "scattermapbox": [
           {
            "marker": {
             "colorbar": {
              "outlinewidth": 0,
              "ticks": ""
             }
            },
            "type": "scattermapbox"
           }
          ],
          "scatterpolar": [
           {
            "marker": {
             "colorbar": {
              "outlinewidth": 0,
              "ticks": ""
             }
            },
            "type": "scatterpolar"
           }
          ],
          "scatterpolargl": [
           {
            "marker": {
             "colorbar": {
              "outlinewidth": 0,
              "ticks": ""
             }
            },
            "type": "scatterpolargl"
           }
          ],
          "scatterternary": [
           {
            "marker": {
             "colorbar": {
              "outlinewidth": 0,
              "ticks": ""
             }
            },
            "type": "scatterternary"
           }
          ],
          "surface": [
           {
            "colorbar": {
             "outlinewidth": 0,
             "ticks": ""
            },
            "colorscale": [
             [
              0,
              "#0d0887"
             ],
             [
              0.1111111111111111,
              "#46039f"
             ],
             [
              0.2222222222222222,
              "#7201a8"
             ],
             [
              0.3333333333333333,
              "#9c179e"
             ],
             [
              0.4444444444444444,
              "#bd3786"
             ],
             [
              0.5555555555555556,
              "#d8576b"
             ],
             [
              0.6666666666666666,
              "#ed7953"
             ],
             [
              0.7777777777777778,
              "#fb9f3a"
             ],
             [
              0.8888888888888888,
              "#fdca26"
             ],
             [
              1,
              "#f0f921"
             ]
            ],
            "type": "surface"
           }
          ],
          "table": [
           {
            "cells": {
             "fill": {
              "color": "#EBF0F8"
             },
             "line": {
              "color": "white"
             }
            },
            "header": {
             "fill": {
              "color": "#C8D4E3"
             },
             "line": {
              "color": "white"
             }
            },
            "type": "table"
           }
          ]
         },
         "layout": {
          "annotationdefaults": {
           "arrowcolor": "#2a3f5f",
           "arrowhead": 0,
           "arrowwidth": 1
          },
          "autotypenumbers": "strict",
          "coloraxis": {
           "colorbar": {
            "outlinewidth": 0,
            "ticks": ""
           }
          },
          "colorscale": {
           "diverging": [
            [
             0,
             "#8e0152"
            ],
            [
             0.1,
             "#c51b7d"
            ],
            [
             0.2,
             "#de77ae"
            ],
            [
             0.3,
             "#f1b6da"
            ],
            [
             0.4,
             "#fde0ef"
            ],
            [
             0.5,
             "#f7f7f7"
            ],
            [
             0.6,
             "#e6f5d0"
            ],
            [
             0.7,
             "#b8e186"
            ],
            [
             0.8,
             "#7fbc41"
            ],
            [
             0.9,
             "#4d9221"
            ],
            [
             1,
             "#276419"
            ]
           ],
           "sequential": [
            [
             0,
             "#0d0887"
            ],
            [
             0.1111111111111111,
             "#46039f"
            ],
            [
             0.2222222222222222,
             "#7201a8"
            ],
            [
             0.3333333333333333,
             "#9c179e"
            ],
            [
             0.4444444444444444,
             "#bd3786"
            ],
            [
             0.5555555555555556,
             "#d8576b"
            ],
            [
             0.6666666666666666,
             "#ed7953"
            ],
            [
             0.7777777777777778,
             "#fb9f3a"
            ],
            [
             0.8888888888888888,
             "#fdca26"
            ],
            [
             1,
             "#f0f921"
            ]
           ],
           "sequentialminus": [
            [
             0,
             "#0d0887"
            ],
            [
             0.1111111111111111,
             "#46039f"
            ],
            [
             0.2222222222222222,
             "#7201a8"
            ],
            [
             0.3333333333333333,
             "#9c179e"
            ],
            [
             0.4444444444444444,
             "#bd3786"
            ],
            [
             0.5555555555555556,
             "#d8576b"
            ],
            [
             0.6666666666666666,
             "#ed7953"
            ],
            [
             0.7777777777777778,
             "#fb9f3a"
            ],
            [
             0.8888888888888888,
             "#fdca26"
            ],
            [
             1,
             "#f0f921"
            ]
           ]
          },
          "colorway": [
           "#636efa",
           "#EF553B",
           "#00cc96",
           "#ab63fa",
           "#FFA15A",
           "#19d3f3",
           "#FF6692",
           "#B6E880",
           "#FF97FF",
           "#FECB52"
          ],
          "font": {
           "color": "#2a3f5f"
          },
          "geo": {
           "bgcolor": "white",
           "lakecolor": "white",
           "landcolor": "#E5ECF6",
           "showlakes": true,
           "showland": true,
           "subunitcolor": "white"
          },
          "hoverlabel": {
           "align": "left"
          },
          "hovermode": "closest",
          "mapbox": {
           "style": "light"
          },
          "paper_bgcolor": "white",
          "plot_bgcolor": "#E5ECF6",
          "polar": {
           "angularaxis": {
            "gridcolor": "white",
            "linecolor": "white",
            "ticks": ""
           },
           "bgcolor": "#E5ECF6",
           "radialaxis": {
            "gridcolor": "white",
            "linecolor": "white",
            "ticks": ""
           }
          },
          "scene": {
           "xaxis": {
            "backgroundcolor": "#E5ECF6",
            "gridcolor": "white",
            "gridwidth": 2,
            "linecolor": "white",
            "showbackground": true,
            "ticks": "",
            "zerolinecolor": "white"
           },
           "yaxis": {
            "backgroundcolor": "#E5ECF6",
            "gridcolor": "white",
            "gridwidth": 2,
            "linecolor": "white",
            "showbackground": true,
            "ticks": "",
            "zerolinecolor": "white"
           },
           "zaxis": {
            "backgroundcolor": "#E5ECF6",
            "gridcolor": "white",
            "gridwidth": 2,
            "linecolor": "white",
            "showbackground": true,
            "ticks": "",
            "zerolinecolor": "white"
           }
          },
          "shapedefaults": {
           "line": {
            "color": "#2a3f5f"
           }
          },
          "ternary": {
           "aaxis": {
            "gridcolor": "white",
            "linecolor": "white",
            "ticks": ""
           },
           "baxis": {
            "gridcolor": "white",
            "linecolor": "white",
            "ticks": ""
           },
           "bgcolor": "#E5ECF6",
           "caxis": {
            "gridcolor": "white",
            "linecolor": "white",
            "ticks": ""
           }
          },
          "title": {
           "x": 0.05
          },
          "xaxis": {
           "automargin": true,
           "gridcolor": "white",
           "linecolor": "white",
           "ticks": "",
           "title": {
            "standoff": 15
           },
           "zerolinecolor": "white",
           "zerolinewidth": 2
          },
          "yaxis": {
           "automargin": true,
           "gridcolor": "white",
           "linecolor": "white",
           "ticks": "",
           "title": {
            "standoff": 15
           },
           "zerolinecolor": "white",
           "zerolinewidth": 2
          }
         }
        },
        "title": {
         "text": "Import Value analysis for each country"
        },
        "xaxis": {
         "anchor": "y",
         "domain": [
          0,
          1
         ],
         "title": {
          "text": "x"
         }
        },
        "yaxis": {
         "anchor": "x",
         "domain": [
          0,
          1
         ],
         "title": {
          "text": "y"
         }
        }
       }
      }
     },
     "metadata": {},
     "output_type": "display_data"
    }
   ],
   "source": [
    "fig2 = px.bar(x=data['Area'], y=data['Import Value'], title=\"Import Value analysis for each country\")\n",
    "fig2.show();"
   ]
  },
  {
   "cell_type": "code",
   "execution_count": 22,
   "id": "410eaa20",
   "metadata": {},
   "outputs": [
    {
     "data": {
      "application/vnd.plotly.v1+json": {
       "config": {
        "plotlyServerURL": "https://plot.ly"
       },
       "data": [
        {
         "alignmentgroup": "True",
         "hovertemplate": "color=France<br>x=%{x}<br>y=%{y}<extra></extra>",
         "legendgroup": "France",
         "marker": {
          "color": "#636efa",
          "pattern": {
           "shape": ""
          }
         },
         "name": "France",
         "offsetgroup": "France",
         "orientation": "v",
         "showlegend": true,
         "textposition": "auto",
         "type": "bar",
         "x": [
          2010,
          2011,
          2012,
          2013,
          2014,
          2015,
          2016,
          2017,
          2018,
          2019,
          2020,
          2021,
          2012,
          2013,
          2014,
          2015,
          2016,
          2017,
          2018,
          2019,
          2020,
          2021,
          2010,
          2011,
          2012,
          2013,
          2014,
          2015,
          2016,
          2017,
          2018,
          2019,
          2020,
          2021,
          2010,
          2011,
          2012,
          2013,
          2014,
          2015,
          2016,
          2017,
          2018,
          2019,
          2020,
          2021,
          2010,
          2011,
          2012,
          2013,
          2014,
          2015,
          2016,
          2017,
          2018,
          2019,
          2020,
          2021,
          2014,
          2015,
          2016,
          2017,
          2018,
          2019,
          2020,
          2021,
          2010,
          2011,
          2012,
          2013,
          2014,
          2015,
          2016,
          2017,
          2018,
          2019,
          2020,
          2021,
          2010,
          2011,
          2012,
          2013,
          2014,
          2015,
          2016,
          2017,
          2018,
          2019,
          2020,
          2021,
          2010,
          2011,
          2012,
          2013,
          2014,
          2015,
          2016,
          2017,
          2018,
          2019,
          2020,
          2021,
          2010,
          2011,
          2012,
          2013,
          2014,
          2015,
          2016,
          2017,
          2018,
          2019,
          2020,
          2021,
          2010,
          2011,
          2012,
          2013,
          2014,
          2015,
          2016,
          2017,
          2018,
          2019,
          2020,
          2021,
          2010,
          2011,
          2012,
          2013,
          2014,
          2015,
          2016,
          2017,
          2018,
          2019,
          2020,
          2021,
          2010,
          2011,
          2012,
          2013,
          2014,
          2015,
          2016,
          2017,
          2018,
          2019,
          2020,
          2021,
          2010,
          2011
         ],
         "xaxis": "x",
         "y": [
          38,
          79,
          47,
          69,
          40,
          290,
          14,
          38,
          16,
          20,
          11,
          19,
          58,
          86,
          31,
          29,
          7,
          0,
          39,
          14,
          18,
          6,
          73132,
          78635,
          78158,
          78420,
          74600,
          50835,
          34871,
          34887,
          59570,
          64405,
          58550,
          58903,
          22928,
          19574,
          20680,
          23124,
          24752,
          21181,
          26483,
          26061,
          29312,
          28065,
          35067,
          49488,
          18,
          22,
          21,
          31,
          343,
          253,
          762,
          157,
          1467,
          1890,
          109,
          443,
          17,
          17,
          10,
          2,
          3,
          27,
          16,
          0,
          420,
          242,
          47,
          79,
          58,
          40,
          18,
          4,
          49,
          204,
          185,
          94,
          80831,
          67117,
          82972,
          102876,
          101832,
          101283,
          93297,
          118844,
          121560,
          90393,
          113701,
          92409,
          8,
          0,
          112,
          27,
          283,
          503,
          7,
          5,
          42,
          32,
          90,
          6,
          68590,
          57059,
          50849,
          51876,
          52506,
          42861,
          45669,
          51405,
          54989,
          55589,
          61647,
          77797,
          0,
          0,
          319,
          381,
          365,
          294,
          238,
          227,
          238,
          218,
          200,
          168,
          3513,
          4024,
          4086,
          4479,
          3470,
          2186,
          1577,
          1370,
          1319,
          887,
          112,
          113,
          47792,
          42398,
          39929,
          42620,
          43708,
          32156,
          27157,
          21875,
          22327,
          17106,
          27169,
          39877,
          27294,
          26506
         ],
         "yaxis": "y"
        },
        {
         "alignmentgroup": "True",
         "hovertemplate": "color=Germany<br>x=%{x}<br>y=%{y}<extra></extra>",
         "legendgroup": "Germany",
         "marker": {
          "color": "#EF553B",
          "pattern": {
           "shape": ""
          }
         },
         "name": "Germany",
         "offsetgroup": "Germany",
         "orientation": "v",
         "showlegend": true,
         "textposition": "auto",
         "type": "bar",
         "x": [
          2012,
          2013,
          2014,
          2015,
          2016,
          2017,
          2018,
          2019,
          2020,
          2021,
          2010,
          2011,
          2012,
          2013,
          2014,
          2015,
          2016,
          2017,
          2018,
          2019,
          2020,
          2021,
          2010,
          2011,
          2012,
          2013,
          2014,
          2015,
          2016,
          2017,
          2018,
          2019,
          2020,
          2021,
          2012,
          2013,
          2016,
          2012,
          2013,
          2014,
          2015,
          2016,
          2017,
          2018,
          2019,
          2020,
          2021,
          2010,
          2011,
          2012,
          2013,
          2014,
          2015,
          2016,
          2017,
          2018,
          2019,
          2020,
          2021,
          2010,
          2011,
          2012,
          2013,
          2014,
          2015,
          2016,
          2017,
          2018,
          2019,
          2020,
          2021,
          2010,
          2011,
          2012,
          2013,
          2014,
          2015,
          2016,
          2017,
          2018,
          2019,
          2020,
          2021,
          2014,
          2015,
          2016,
          2017,
          2018,
          2019,
          2020,
          2021,
          2010,
          2011,
          2012,
          2013,
          2014,
          2015,
          2016,
          2017,
          2018,
          2019,
          2020,
          2021,
          2010,
          2011,
          2012,
          2013,
          2014,
          2015,
          2016,
          2017,
          2018,
          2019,
          2020,
          2021,
          2010,
          2011,
          2012,
          2013,
          2014,
          2015,
          2017,
          2019,
          2020,
          2010,
          2011,
          2012,
          2013,
          2014,
          2015,
          2016,
          2017,
          2018,
          2019,
          2020,
          2021,
          2010,
          2011,
          2012,
          2013,
          2015,
          2016,
          2017,
          2018,
          2020,
          2010,
          2011,
          2012,
          2013,
          2014
         ],
         "xaxis": "x",
         "y": [
          28699,
          20983,
          14750,
          8027,
          9494,
          11285,
          11591,
          11108,
          8623,
          9049,
          10907,
          13845,
          7700,
          5550,
          6059,
          5908,
          6363,
          6928,
          6752,
          8694,
          7949,
          33024,
          0,
          5,
          5,
          1,
          6,
          5,
          1,
          3,
          2,
          3,
          10,
          15,
          1,
          0,
          21,
          248,
          380,
          409,
          177,
          56,
          335,
          269,
          38,
          1425,
          414,
          100830,
          120661,
          99022,
          94929,
          82161,
          55537,
          53485,
          69191,
          57367,
          35718,
          40299,
          59590,
          116076,
          155101,
          161825,
          173124,
          170728,
          156922,
          173832,
          193759,
          185487,
          170013,
          167632,
          189016,
          0,
          1372,
          3495,
          1129,
          1118,
          1206,
          2514,
          4059,
          3523,
          3102,
          1854,
          2487,
          177,
          134,
          67,
          146,
          194,
          109,
          81,
          256,
          6,
          10,
          110,
          32,
          81,
          36,
          34,
          57,
          46,
          39,
          282,
          98,
          29256,
          26674,
          27041,
          21940,
          30549,
          22643,
          21901,
          30522,
          47458,
          38041,
          38967,
          43433,
          0,
          0,
          9,
          0,
          1,
          1,
          3,
          0,
          4,
          34499,
          39637,
          34284,
          37705,
          46487,
          45837,
          45250,
          48326,
          52226,
          48223,
          65992,
          75575,
          0,
          0,
          0,
          0,
          0,
          0,
          0,
          2,
          0,
          42,
          92,
          129,
          274,
          240
         ],
         "yaxis": "y"
        },
        {
         "alignmentgroup": "True",
         "hovertemplate": "color=Ghana<br>x=%{x}<br>y=%{y}<extra></extra>",
         "legendgroup": "Ghana",
         "marker": {
          "color": "#00cc96",
          "pattern": {
           "shape": ""
          }
         },
         "name": "Ghana",
         "offsetgroup": "Ghana",
         "orientation": "v",
         "showlegend": true,
         "textposition": "auto",
         "type": "bar",
         "x": [
          2015,
          2016,
          2017,
          2018,
          2019,
          2020,
          2021,
          2010,
          2011,
          2012,
          2013,
          2014,
          2015,
          2016,
          2017,
          2018,
          2019,
          2020,
          2021,
          2010,
          2011,
          2012,
          2013,
          2014,
          2015,
          2016,
          2017,
          2018,
          2019,
          2020,
          2021,
          2010,
          2011,
          2012,
          2013,
          2014,
          2015,
          2016,
          2017,
          2018,
          2019,
          2020,
          2021,
          2016,
          2017,
          2018,
          2019,
          2020,
          2013,
          2014,
          2016,
          2017,
          2020,
          2017,
          2018,
          2019,
          2010,
          2011,
          2012,
          2013,
          2014,
          2015,
          2016,
          2017,
          2018,
          2019,
          2020,
          2021,
          2010,
          2011,
          2012,
          2013,
          2014,
          2015,
          2016,
          2017,
          2018,
          2019,
          2020,
          2021,
          2010,
          2011,
          2012,
          2013,
          2016,
          2018,
          2019,
          2021,
          2014,
          2016,
          2019,
          2021,
          2010,
          2011,
          2012,
          2013,
          2015,
          2016,
          2017,
          2018,
          2019,
          2020,
          2021,
          2010,
          2011,
          2012,
          2013,
          2014,
          2015,
          2016,
          2017,
          2018,
          2019,
          2020,
          2021,
          2012
         ],
         "xaxis": "x",
         "y": [
          368,
          399,
          84,
          214,
          122,
          274,
          543,
          4555,
          7517,
          7623,
          10077,
          9770,
          9624,
          14916,
          15147,
          21915,
          15385,
          20790,
          34153,
          1324388,
          1488032,
          1668697,
          1766278,
          1636071,
          1132411,
          1371592,
          1495602,
          1152205,
          1333570,
          1105070,
          679770,
          82564,
          174082,
          176972,
          193426,
          187536,
          138484,
          156310,
          149272,
          180769,
          164548,
          174371,
          161944,
          5,
          36,
          10,
          1,
          0,
          0,
          0,
          4,
          0,
          8,
          3,
          0,
          1,
          1901,
          5580,
          3800,
          598,
          3800,
          3800,
          3800,
          444,
          408,
          321,
          310,
          705,
          2325,
          5979,
          6382,
          8886,
          5448,
          4442,
          6723,
          8247,
          8903,
          10704,
          13669,
          12823,
          13,
          192,
          1,
          3,
          12,
          17,
          24,
          62,
          1,
          0,
          0,
          0,
          1313,
          1631,
          697,
          237,
          5,
          153,
          0,
          1,
          3,
          9,
          16,
          134,
          16,
          0,
          16,
          1,
          139,
          150,
          130,
          77,
          61,
          0,
          8,
          5
         ],
         "yaxis": "y"
        },
        {
         "alignmentgroup": "True",
         "hovertemplate": "color=Ireland<br>x=%{x}<br>y=%{y}<extra></extra>",
         "legendgroup": "Ireland",
         "marker": {
          "color": "#ab63fa",
          "pattern": {
           "shape": ""
          }
         },
         "name": "Ireland",
         "offsetgroup": "Ireland",
         "orientation": "v",
         "showlegend": true,
         "textposition": "auto",
         "type": "bar",
         "x": [
          2013,
          2016,
          2017,
          2018,
          2019,
          2021,
          2010,
          2011,
          2012,
          2013,
          2014,
          2015,
          2016,
          2017,
          2018,
          2019,
          2020,
          2021,
          2010,
          2011,
          2012,
          2013,
          2014,
          2015,
          2017,
          2018,
          2019,
          2020,
          2021,
          2017,
          2018,
          2019,
          2020,
          2021,
          2010,
          2011,
          2012,
          2013,
          2014,
          2015,
          2016,
          2017,
          2018,
          2019,
          2020,
          2021,
          2010,
          2011,
          2012,
          2013,
          2016,
          2017,
          2018,
          2019,
          2021,
          2010,
          2011,
          2012,
          2013,
          2014,
          2016,
          2017,
          2018,
          2019,
          2020,
          2021,
          2010,
          2011,
          2012,
          2013,
          2014,
          2016,
          2017,
          2020,
          2021,
          2016,
          2017,
          2018,
          2020,
          2015,
          2021,
          2010,
          2011,
          2012,
          2013,
          2014,
          2015,
          2016,
          2017,
          2018,
          2019,
          2020,
          2021,
          2010,
          2011,
          2012,
          2013,
          2014,
          2015,
          2016,
          2017,
          2018,
          2019,
          2020,
          2021,
          2010,
          2011,
          2012,
          2013,
          2014,
          2018,
          2019,
          2021,
          2015,
          2021,
          2010,
          2011,
          2012,
          2013,
          2017,
          2020,
          2021,
          2010,
          2011,
          2012,
          2013,
          2014,
          2015,
          2016
         ],
         "xaxis": "x",
         "y": [
          17,
          5,
          85,
          259,
          423,
          0,
          403,
          1479,
          4736,
          3999,
          12,
          54,
          109,
          154,
          65,
          114,
          45,
          137,
          0,
          0,
          0,
          0,
          109,
          14,
          7,
          3,
          1,
          106,
          196,
          2,
          1,
          0,
          6,
          1,
          2000,
          2500,
          1642,
          628,
          1,
          573,
          243,
          409,
          967,
          819,
          15,
          1,
          61,
          1,
          0,
          11,
          6,
          8,
          0,
          0,
          5,
          2,
          0,
          2,
          48,
          6,
          0,
          8,
          25,
          44,
          28,
          55,
          0,
          0,
          0,
          3,
          2229,
          8,
          4,
          36,
          61,
          11,
          62,
          1,
          9,
          21,
          30,
          442,
          1259,
          5183,
          2721,
          226,
          1021,
          787,
          927,
          1750,
          4073,
          11952,
          5883,
          16651,
          19830,
          22179,
          8548,
          7086,
          6964,
          5825,
          6194,
          7219,
          7667,
          8750,
          7745,
          41,
          9,
          0,
          0,
          0,
          0,
          3,
          119,
          1,
          0,
          0,
          1559,
          0,
          0,
          13,
          8,
          21,
          205579,
          246219,
          194244,
          260431,
          323741,
          336858,
          299226
         ],
         "yaxis": "y"
        },
        {
         "alignmentgroup": "True",
         "hovertemplate": "color=Italy<br>x=%{x}<br>y=%{y}<extra></extra>",
         "legendgroup": "Italy",
         "marker": {
          "color": "#FFA15A",
          "pattern": {
           "shape": ""
          }
         },
         "name": "Italy",
         "offsetgroup": "Italy",
         "orientation": "v",
         "showlegend": true,
         "textposition": "auto",
         "type": "bar",
         "x": [
          2017,
          2018,
          2019,
          2020,
          2021,
          2010,
          2011,
          2012,
          2013,
          2014,
          2015,
          2016,
          2017,
          2018,
          2019,
          2020,
          2021,
          2010,
          2011,
          2012,
          2013,
          2014,
          2015,
          2016,
          2017,
          2018,
          2019,
          2020,
          2021,
          2010,
          2011,
          2012,
          2013,
          2014,
          2015,
          2016,
          2017,
          2018,
          2019,
          2020,
          2021,
          2010,
          2011,
          2012,
          2013,
          2014,
          2015,
          2016,
          2018,
          2019,
          2020,
          2021,
          2010,
          2011,
          2012,
          2013,
          2014,
          2015,
          2016,
          2017,
          2018,
          2019,
          2020,
          2021,
          2010,
          2011,
          2012,
          2013,
          2014,
          2015,
          2016,
          2017,
          2018,
          2019,
          2020,
          2021,
          2010,
          2011,
          2012,
          2013,
          2014,
          2015,
          2016,
          2017,
          2018,
          2019,
          2020,
          2021,
          2010,
          2011,
          2012,
          2013,
          2014,
          2015,
          2016,
          2017,
          2018,
          2019,
          2020,
          2021,
          2010,
          2011,
          2012,
          2013,
          2014,
          2015,
          2016,
          2017,
          2018,
          2020,
          2021,
          2012,
          2013,
          2014,
          2015,
          2016,
          2019,
          2020,
          2010,
          2011,
          2012,
          2013,
          2014,
          2015,
          2016,
          2017,
          2018,
          2019,
          2020,
          2021,
          2010,
          2011,
          2012,
          2013,
          2014,
          2015,
          2016,
          2017,
          2018,
          2019,
          2020,
          2021,
          2010,
          2011,
          2012,
          2013,
          2014,
          2015,
          2016,
          2017,
          2018,
          2019,
          2020,
          2021,
          2014,
          2015,
          2016
         ],
         "xaxis": "x",
         "y": [
          327510,
          294028,
          331794,
          452915,
          312442,
          2,
          0,
          29,
          98,
          57,
          742,
          1071,
          408,
          66,
          2570,
          1445,
          275,
          2013,
          2267,
          1997,
          1293,
          669,
          686,
          314,
          432,
          397,
          408,
          373,
          622,
          0,
          0,
          787,
          1041,
          1239,
          1390,
          555,
          824,
          446,
          309,
          179,
          730,
          0,
          16,
          226,
          160,
          129,
          147,
          38,
          166,
          169,
          113,
          192,
          3910,
          2707,
          17554,
          14171,
          2136,
          1185,
          1870,
          1605,
          1809,
          1603,
          44250,
          48356,
          0,
          27,
          41,
          0,
          1357,
          1875,
          1370,
          2960,
          1648,
          1015,
          1914,
          969,
          1099,
          1507,
          1227,
          1339,
          1352,
          1635,
          1056,
          1403,
          1374,
          962,
          1148,
          648,
          78,
          40,
          10,
          8,
          137,
          54,
          185,
          9,
          32,
          72,
          1,
          2,
          0,
          0,
          6985,
          2414,
          2659,
          1713,
          1419,
          1152,
          298,
          2163,
          3,
          82,
          9,
          6,
          58,
          44,
          19,
          12,
          1529059,
          1624134,
          1528922,
          1471464,
          1440211,
          1158432,
          1182271,
          1289425,
          1523228,
          1412914,
          1416698,
          1583075,
          12612,
          13689,
          14205,
          14305,
          13705,
          12932,
          12385,
          14882,
          18280,
          16573,
          16375,
          21159,
          355,
          560,
          1548,
          1742,
          1659,
          1449,
          1543,
          1323,
          62,
          111,
          11,
          37,
          429,
          359,
          250
         ],
         "yaxis": "y"
        },
        {
         "alignmentgroup": "True",
         "hovertemplate": "color=Nigeria<br>x=%{x}<br>y=%{y}<extra></extra>",
         "legendgroup": "Nigeria",
         "marker": {
          "color": "#19d3f3",
          "pattern": {
           "shape": ""
          }
         },
         "name": "Nigeria",
         "offsetgroup": "Nigeria",
         "orientation": "v",
         "showlegend": true,
         "textposition": "auto",
         "type": "bar",
         "x": [
          2017,
          2018,
          2019,
          2020,
          2021,
          2010,
          2011,
          2012,
          2013,
          2014,
          2015,
          2016,
          2017,
          2018,
          2019,
          2020,
          2021,
          2010,
          2011,
          2012,
          2013,
          2014,
          2015,
          2016,
          2017,
          2018,
          2019,
          2020,
          2021,
          2010,
          2011,
          2012,
          2013,
          2014,
          2015,
          2016,
          2017,
          2019,
          2020,
          2021,
          2010,
          2011,
          2012,
          2013,
          2014,
          2015,
          2016,
          2017,
          2018,
          2019,
          2020,
          2021,
          2010,
          2011,
          2012,
          2013,
          2010,
          2011,
          2012,
          2013,
          2014,
          2015,
          2016,
          2017,
          2018,
          2019,
          2020,
          2021,
          2010,
          2011,
          2012,
          2013,
          2014,
          2015,
          2016,
          2017,
          2018,
          2019,
          2020,
          2021,
          2010,
          2011,
          2012,
          2013,
          2014,
          2015,
          2016,
          2017,
          2018,
          2019,
          2020,
          2021,
          2010,
          2011,
          2012,
          2013,
          2014,
          2015,
          2016,
          2017,
          2018,
          2019,
          2020
         ],
         "xaxis": "x",
         "y": [
          263,
          198,
          87,
          101,
          104,
          522,
          500,
          560,
          531,
          357,
          642,
          596,
          559,
          78,
          112,
          38,
          21,
          69853,
          63546,
          49606,
          44023,
          48352,
          44533,
          50818,
          47224,
          39562,
          39919,
          39988,
          49100,
          1,
          0,
          167,
          25,
          245,
          265,
          114,
          3,
          170,
          12,
          44,
          30480,
          33151,
          27748,
          27779,
          27214,
          22708,
          22549,
          23361,
          21470,
          20433,
          21999,
          24337,
          0,
          0,
          0,
          0,
          779,
          927,
          3440,
          3443,
          3163,
          3386,
          2660,
          2597,
          2331,
          2881,
          2090,
          3199,
          122502,
          123587,
          103734,
          91793,
          94125,
          75665,
          67884,
          71166,
          73590,
          61136,
          46752,
          62158,
          118171,
          128400,
          115780,
          106724,
          129331,
          112558,
          140934,
          183546,
          153382,
          143194,
          128486,
          105890,
          5496,
          3316,
          2655,
          3925,
          3394,
          2790,
          2778,
          2473,
          4206,
          3964,
          4057
         ],
         "yaxis": "y"
        },
        {
         "alignmentgroup": "True",
         "hovertemplate": "color=Spain<br>x=%{x}<br>y=%{y}<extra></extra>",
         "legendgroup": "Spain",
         "marker": {
          "color": "#FF6692",
          "pattern": {
           "shape": ""
          }
         },
         "name": "Spain",
         "offsetgroup": "Spain",
         "orientation": "v",
         "showlegend": true,
         "textposition": "auto",
         "type": "bar",
         "x": [
          2021,
          2010,
          2011,
          2012,
          2013,
          2014,
          2015,
          2016,
          2017,
          2018,
          2019,
          2020,
          2015,
          2016,
          2017,
          2018,
          2020,
          2015,
          2016,
          2017,
          2018,
          2019,
          2020,
          2010,
          2011,
          2012,
          2013,
          2014,
          2015,
          2016,
          2017,
          2018,
          2019,
          2020,
          2021,
          2010,
          2011,
          2012,
          2013,
          2014,
          2015,
          2016,
          2017,
          2018,
          2019,
          2020,
          2021,
          2014,
          2018,
          2010,
          2011,
          2012,
          2013,
          2014,
          2015,
          2016,
          2017,
          2018,
          2019,
          2020,
          2021,
          2010,
          2011,
          2012,
          2013,
          2014,
          2015,
          2016,
          2017,
          2018,
          2019,
          2012,
          2013,
          2018,
          2014,
          2015,
          2016,
          2017,
          2018,
          2019,
          2020,
          2021,
          2010,
          2011,
          2012,
          2013,
          2014,
          2015,
          2016,
          2017,
          2018,
          2019,
          2020,
          2021,
          2019,
          2021,
          2010,
          2011,
          2012,
          2013,
          2014,
          2015,
          2016,
          2017,
          2018,
          2019,
          2020,
          2021,
          2010,
          2011,
          2012,
          2013,
          2015,
          2016,
          2017,
          2018,
          2019,
          2021,
          2014,
          2018,
          2010,
          2011,
          2012,
          2013,
          2014,
          2015,
          2018,
          2019,
          2020,
          2021,
          2012,
          2013,
          2014,
          2018,
          2019,
          2020,
          2021,
          2010,
          2011,
          2012,
          2013
         ],
         "xaxis": "x",
         "y": [
          172,
          0,
          0,
          3580,
          1717,
          1955,
          788,
          974,
          2,
          125,
          50,
          11,
          7,
          6,
          26,
          1,
          1,
          57,
          95,
          319,
          435,
          2174,
          652,
          110000,
          140000,
          100000,
          100250,
          100000,
          100000,
          100000,
          100000,
          100000,
          100000,
          100000,
          100000,
          25,
          21,
          112,
          112,
          108,
          280,
          288,
          596,
          32,
          1252,
          1224,
          513,
          6,
          46,
          7921,
          6521,
          13912,
          13950,
          2694,
          849,
          844,
          1187,
          2000,
          2000,
          1592,
          1600,
          3894,
          4291,
          1072,
          261,
          509,
          780,
          222,
          411,
          170,
          341,
          4,
          0,
          3,
          113,
          106,
          24,
          21,
          131,
          47,
          53,
          90,
          9,
          3361,
          4303,
          4300,
          1445,
          382,
          106,
          203,
          404,
          785,
          19,
          4,
          0,
          0,
          21000,
          9660,
          9921,
          10000,
          7500,
          7500,
          10000,
          10000,
          10000,
          10000,
          10000,
          10000,
          0,
          0,
          0,
          310,
          109,
          254,
          263,
          148,
          109,
          91,
          13,
          0,
          0,
          0,
          0,
          2,
          1,
          0,
          0,
          0,
          19,
          12,
          126,
          227,
          5,
          14,
          2,
          0,
          3,
          264380,
          283349,
          235882,
          270516
         ],
         "yaxis": "y"
        },
        {
         "alignmentgroup": "True",
         "hovertemplate": "color=United States of America<br>x=%{x}<br>y=%{y}<extra></extra>",
         "legendgroup": "United States of America",
         "marker": {
          "color": "#B6E880",
          "pattern": {
           "shape": ""
          }
         },
         "name": "United States of America",
         "offsetgroup": "United States of America",
         "orientation": "v",
         "showlegend": true,
         "textposition": "auto",
         "type": "bar",
         "x": [
          2014,
          2015,
          2016,
          2017,
          2018,
          2019,
          2020,
          2021,
          2010,
          2011,
          2012,
          2013,
          2014,
          2015,
          2016,
          2017,
          2018,
          2019,
          2020,
          2021,
          2010,
          2011,
          2012,
          2013,
          2014,
          2015,
          2016,
          2017,
          2018,
          2019,
          2020
         ],
         "xaxis": "x",
         "y": [
          318085,
          240933,
          253974,
          310327,
          348778,
          296304,
          271345,
          285646,
          38303,
          31962,
          39643,
          41540,
          49728,
          41482,
          40217,
          48616,
          50994,
          36607,
          34991,
          41001,
          2362,
          1933,
          5369,
          5193,
          5171,
          4182,
          1405,
          2190,
          2745,
          2410,
          2069
         ],
         "yaxis": "y"
        }
       ],
       "layout": {
        "barmode": "relative",
        "legend": {
         "title": {
          "text": "color"
         },
         "tracegroupgap": 0
        },
        "template": {
         "data": {
          "bar": [
           {
            "error_x": {
             "color": "#2a3f5f"
            },
            "error_y": {
             "color": "#2a3f5f"
            },
            "marker": {
             "line": {
              "color": "#E5ECF6",
              "width": 0.5
             },
             "pattern": {
              "fillmode": "overlay",
              "size": 10,
              "solidity": 0.2
             }
            },
            "type": "bar"
           }
          ],
          "barpolar": [
           {
            "marker": {
             "line": {
              "color": "#E5ECF6",
              "width": 0.5
             },
             "pattern": {
              "fillmode": "overlay",
              "size": 10,
              "solidity": 0.2
             }
            },
            "type": "barpolar"
           }
          ],
          "carpet": [
           {
            "aaxis": {
             "endlinecolor": "#2a3f5f",
             "gridcolor": "white",
             "linecolor": "white",
             "minorgridcolor": "white",
             "startlinecolor": "#2a3f5f"
            },
            "baxis": {
             "endlinecolor": "#2a3f5f",
             "gridcolor": "white",
             "linecolor": "white",
             "minorgridcolor": "white",
             "startlinecolor": "#2a3f5f"
            },
            "type": "carpet"
           }
          ],
          "choropleth": [
           {
            "colorbar": {
             "outlinewidth": 0,
             "ticks": ""
            },
            "type": "choropleth"
           }
          ],
          "contour": [
           {
            "colorbar": {
             "outlinewidth": 0,
             "ticks": ""
            },
            "colorscale": [
             [
              0,
              "#0d0887"
             ],
             [
              0.1111111111111111,
              "#46039f"
             ],
             [
              0.2222222222222222,
              "#7201a8"
             ],
             [
              0.3333333333333333,
              "#9c179e"
             ],
             [
              0.4444444444444444,
              "#bd3786"
             ],
             [
              0.5555555555555556,
              "#d8576b"
             ],
             [
              0.6666666666666666,
              "#ed7953"
             ],
             [
              0.7777777777777778,
              "#fb9f3a"
             ],
             [
              0.8888888888888888,
              "#fdca26"
             ],
             [
              1,
              "#f0f921"
             ]
            ],
            "type": "contour"
           }
          ],
          "contourcarpet": [
           {
            "colorbar": {
             "outlinewidth": 0,
             "ticks": ""
            },
            "type": "contourcarpet"
           }
          ],
          "heatmap": [
           {
            "colorbar": {
             "outlinewidth": 0,
             "ticks": ""
            },
            "colorscale": [
             [
              0,
              "#0d0887"
             ],
             [
              0.1111111111111111,
              "#46039f"
             ],
             [
              0.2222222222222222,
              "#7201a8"
             ],
             [
              0.3333333333333333,
              "#9c179e"
             ],
             [
              0.4444444444444444,
              "#bd3786"
             ],
             [
              0.5555555555555556,
              "#d8576b"
             ],
             [
              0.6666666666666666,
              "#ed7953"
             ],
             [
              0.7777777777777778,
              "#fb9f3a"
             ],
             [
              0.8888888888888888,
              "#fdca26"
             ],
             [
              1,
              "#f0f921"
             ]
            ],
            "type": "heatmap"
           }
          ],
          "heatmapgl": [
           {
            "colorbar": {
             "outlinewidth": 0,
             "ticks": ""
            },
            "colorscale": [
             [
              0,
              "#0d0887"
             ],
             [
              0.1111111111111111,
              "#46039f"
             ],
             [
              0.2222222222222222,
              "#7201a8"
             ],
             [
              0.3333333333333333,
              "#9c179e"
             ],
             [
              0.4444444444444444,
              "#bd3786"
             ],
             [
              0.5555555555555556,
              "#d8576b"
             ],
             [
              0.6666666666666666,
              "#ed7953"
             ],
             [
              0.7777777777777778,
              "#fb9f3a"
             ],
             [
              0.8888888888888888,
              "#fdca26"
             ],
             [
              1,
              "#f0f921"
             ]
            ],
            "type": "heatmapgl"
           }
          ],
          "histogram": [
           {
            "marker": {
             "pattern": {
              "fillmode": "overlay",
              "size": 10,
              "solidity": 0.2
             }
            },
            "type": "histogram"
           }
          ],
          "histogram2d": [
           {
            "colorbar": {
             "outlinewidth": 0,
             "ticks": ""
            },
            "colorscale": [
             [
              0,
              "#0d0887"
             ],
             [
              0.1111111111111111,
              "#46039f"
             ],
             [
              0.2222222222222222,
              "#7201a8"
             ],
             [
              0.3333333333333333,
              "#9c179e"
             ],
             [
              0.4444444444444444,
              "#bd3786"
             ],
             [
              0.5555555555555556,
              "#d8576b"
             ],
             [
              0.6666666666666666,
              "#ed7953"
             ],
             [
              0.7777777777777778,
              "#fb9f3a"
             ],
             [
              0.8888888888888888,
              "#fdca26"
             ],
             [
              1,
              "#f0f921"
             ]
            ],
            "type": "histogram2d"
           }
          ],
          "histogram2dcontour": [
           {
            "colorbar": {
             "outlinewidth": 0,
             "ticks": ""
            },
            "colorscale": [
             [
              0,
              "#0d0887"
             ],
             [
              0.1111111111111111,
              "#46039f"
             ],
             [
              0.2222222222222222,
              "#7201a8"
             ],
             [
              0.3333333333333333,
              "#9c179e"
             ],
             [
              0.4444444444444444,
              "#bd3786"
             ],
             [
              0.5555555555555556,
              "#d8576b"
             ],
             [
              0.6666666666666666,
              "#ed7953"
             ],
             [
              0.7777777777777778,
              "#fb9f3a"
             ],
             [
              0.8888888888888888,
              "#fdca26"
             ],
             [
              1,
              "#f0f921"
             ]
            ],
            "type": "histogram2dcontour"
           }
          ],
          "mesh3d": [
           {
            "colorbar": {
             "outlinewidth": 0,
             "ticks": ""
            },
            "type": "mesh3d"
           }
          ],
          "parcoords": [
           {
            "line": {
             "colorbar": {
              "outlinewidth": 0,
              "ticks": ""
             }
            },
            "type": "parcoords"
           }
          ],
          "pie": [
           {
            "automargin": true,
            "type": "pie"
           }
          ],
          "scatter": [
           {
            "fillpattern": {
             "fillmode": "overlay",
             "size": 10,
             "solidity": 0.2
            },
            "type": "scatter"
           }
          ],
          "scatter3d": [
           {
            "line": {
             "colorbar": {
              "outlinewidth": 0,
              "ticks": ""
             }
            },
            "marker": {
             "colorbar": {
              "outlinewidth": 0,
              "ticks": ""
             }
            },
            "type": "scatter3d"
           }
          ],
          "scattercarpet": [
           {
            "marker": {
             "colorbar": {
              "outlinewidth": 0,
              "ticks": ""
             }
            },
            "type": "scattercarpet"
           }
          ],
          "scattergeo": [
           {
            "marker": {
             "colorbar": {
              "outlinewidth": 0,
              "ticks": ""
             }
            },
            "type": "scattergeo"
           }
          ],
          "scattergl": [
           {
            "marker": {
             "colorbar": {
              "outlinewidth": 0,
              "ticks": ""
             }
            },
            "type": "scattergl"
           }
          ],
          "scattermapbox": [
           {
            "marker": {
             "colorbar": {
              "outlinewidth": 0,
              "ticks": ""
             }
            },
            "type": "scattermapbox"
           }
          ],
          "scatterpolar": [
           {
            "marker": {
             "colorbar": {
              "outlinewidth": 0,
              "ticks": ""
             }
            },
            "type": "scatterpolar"
           }
          ],
          "scatterpolargl": [
           {
            "marker": {
             "colorbar": {
              "outlinewidth": 0,
              "ticks": ""
             }
            },
            "type": "scatterpolargl"
           }
          ],
          "scatterternary": [
           {
            "marker": {
             "colorbar": {
              "outlinewidth": 0,
              "ticks": ""
             }
            },
            "type": "scatterternary"
           }
          ],
          "surface": [
           {
            "colorbar": {
             "outlinewidth": 0,
             "ticks": ""
            },
            "colorscale": [
             [
              0,
              "#0d0887"
             ],
             [
              0.1111111111111111,
              "#46039f"
             ],
             [
              0.2222222222222222,
              "#7201a8"
             ],
             [
              0.3333333333333333,
              "#9c179e"
             ],
             [
              0.4444444444444444,
              "#bd3786"
             ],
             [
              0.5555555555555556,
              "#d8576b"
             ],
             [
              0.6666666666666666,
              "#ed7953"
             ],
             [
              0.7777777777777778,
              "#fb9f3a"
             ],
             [
              0.8888888888888888,
              "#fdca26"
             ],
             [
              1,
              "#f0f921"
             ]
            ],
            "type": "surface"
           }
          ],
          "table": [
           {
            "cells": {
             "fill": {
              "color": "#EBF0F8"
             },
             "line": {
              "color": "white"
             }
            },
            "header": {
             "fill": {
              "color": "#C8D4E3"
             },
             "line": {
              "color": "white"
             }
            },
            "type": "table"
           }
          ]
         },
         "layout": {
          "annotationdefaults": {
           "arrowcolor": "#2a3f5f",
           "arrowhead": 0,
           "arrowwidth": 1
          },
          "autotypenumbers": "strict",
          "coloraxis": {
           "colorbar": {
            "outlinewidth": 0,
            "ticks": ""
           }
          },
          "colorscale": {
           "diverging": [
            [
             0,
             "#8e0152"
            ],
            [
             0.1,
             "#c51b7d"
            ],
            [
             0.2,
             "#de77ae"
            ],
            [
             0.3,
             "#f1b6da"
            ],
            [
             0.4,
             "#fde0ef"
            ],
            [
             0.5,
             "#f7f7f7"
            ],
            [
             0.6,
             "#e6f5d0"
            ],
            [
             0.7,
             "#b8e186"
            ],
            [
             0.8,
             "#7fbc41"
            ],
            [
             0.9,
             "#4d9221"
            ],
            [
             1,
             "#276419"
            ]
           ],
           "sequential": [
            [
             0,
             "#0d0887"
            ],
            [
             0.1111111111111111,
             "#46039f"
            ],
            [
             0.2222222222222222,
             "#7201a8"
            ],
            [
             0.3333333333333333,
             "#9c179e"
            ],
            [
             0.4444444444444444,
             "#bd3786"
            ],
            [
             0.5555555555555556,
             "#d8576b"
            ],
            [
             0.6666666666666666,
             "#ed7953"
            ],
            [
             0.7777777777777778,
             "#fb9f3a"
            ],
            [
             0.8888888888888888,
             "#fdca26"
            ],
            [
             1,
             "#f0f921"
            ]
           ],
           "sequentialminus": [
            [
             0,
             "#0d0887"
            ],
            [
             0.1111111111111111,
             "#46039f"
            ],
            [
             0.2222222222222222,
             "#7201a8"
            ],
            [
             0.3333333333333333,
             "#9c179e"
            ],
            [
             0.4444444444444444,
             "#bd3786"
            ],
            [
             0.5555555555555556,
             "#d8576b"
            ],
            [
             0.6666666666666666,
             "#ed7953"
            ],
            [
             0.7777777777777778,
             "#fb9f3a"
            ],
            [
             0.8888888888888888,
             "#fdca26"
            ],
            [
             1,
             "#f0f921"
            ]
           ]
          },
          "colorway": [
           "#636efa",
           "#EF553B",
           "#00cc96",
           "#ab63fa",
           "#FFA15A",
           "#19d3f3",
           "#FF6692",
           "#B6E880",
           "#FF97FF",
           "#FECB52"
          ],
          "font": {
           "color": "#2a3f5f"
          },
          "geo": {
           "bgcolor": "white",
           "lakecolor": "white",
           "landcolor": "#E5ECF6",
           "showlakes": true,
           "showland": true,
           "subunitcolor": "white"
          },
          "hoverlabel": {
           "align": "left"
          },
          "hovermode": "closest",
          "mapbox": {
           "style": "light"
          },
          "paper_bgcolor": "white",
          "plot_bgcolor": "#E5ECF6",
          "polar": {
           "angularaxis": {
            "gridcolor": "white",
            "linecolor": "white",
            "ticks": ""
           },
           "bgcolor": "#E5ECF6",
           "radialaxis": {
            "gridcolor": "white",
            "linecolor": "white",
            "ticks": ""
           }
          },
          "scene": {
           "xaxis": {
            "backgroundcolor": "#E5ECF6",
            "gridcolor": "white",
            "gridwidth": 2,
            "linecolor": "white",
            "showbackground": true,
            "ticks": "",
            "zerolinecolor": "white"
           },
           "yaxis": {
            "backgroundcolor": "#E5ECF6",
            "gridcolor": "white",
            "gridwidth": 2,
            "linecolor": "white",
            "showbackground": true,
            "ticks": "",
            "zerolinecolor": "white"
           },
           "zaxis": {
            "backgroundcolor": "#E5ECF6",
            "gridcolor": "white",
            "gridwidth": 2,
            "linecolor": "white",
            "showbackground": true,
            "ticks": "",
            "zerolinecolor": "white"
           }
          },
          "shapedefaults": {
           "line": {
            "color": "#2a3f5f"
           }
          },
          "ternary": {
           "aaxis": {
            "gridcolor": "white",
            "linecolor": "white",
            "ticks": ""
           },
           "baxis": {
            "gridcolor": "white",
            "linecolor": "white",
            "ticks": ""
           },
           "bgcolor": "#E5ECF6",
           "caxis": {
            "gridcolor": "white",
            "linecolor": "white",
            "ticks": ""
           }
          },
          "title": {
           "x": 0.05
          },
          "xaxis": {
           "automargin": true,
           "gridcolor": "white",
           "linecolor": "white",
           "ticks": "",
           "title": {
            "standoff": 15
           },
           "zerolinecolor": "white",
           "zerolinewidth": 2
          },
          "yaxis": {
           "automargin": true,
           "gridcolor": "white",
           "linecolor": "white",
           "ticks": "",
           "title": {
            "standoff": 15
           },
           "zerolinecolor": "white",
           "zerolinewidth": 2
          }
         }
        },
        "title": {
         "text": "Yearly Import Value of all Countries specified"
        },
        "xaxis": {
         "anchor": "y",
         "domain": [
          0,
          1
         ],
         "title": {
          "text": "x"
         }
        },
        "yaxis": {
         "anchor": "x",
         "domain": [
          0,
          1
         ],
         "title": {
          "text": "y"
         }
        }
       }
      }
     },
     "metadata": {},
     "output_type": "display_data"
    }
   ],
   "source": [
    "fig3 = px.bar(y=data['Import Value'], x=data['Year'], color=data['Area'], title='Yearly Import Value of all Countries specified')\n",
    "fig3.show();"
   ]
  },
  {
   "cell_type": "code",
   "execution_count": 24,
   "id": "b2b9d9d7",
   "metadata": {},
   "outputs": [
    {
     "data": {
      "application/vnd.plotly.v1+json": {
       "config": {
        "plotlyServerURL": "https://plot.ly"
       },
       "data": [
        {
         "alignmentgroup": "True",
         "hovertemplate": "x=%{x}<br>y=%{y}<extra></extra>",
         "legendgroup": "",
         "marker": {
          "color": "#636efa",
          "pattern": {
           "shape": ""
          }
         },
         "name": "",
         "offsetgroup": "",
         "orientation": "v",
         "showlegend": false,
         "textposition": "auto",
         "type": "bar",
         "x": [
          "France",
          "France",
          "France",
          "France",
          "France",
          "France",
          "France",
          "France",
          "France",
          "France",
          "France",
          "France",
          "France",
          "France",
          "France",
          "France",
          "France",
          "France",
          "France",
          "France",
          "France",
          "France",
          "France",
          "France",
          "France",
          "France",
          "France",
          "France",
          "France",
          "France",
          "France",
          "France",
          "France",
          "France",
          "France",
          "France",
          "France",
          "France",
          "France",
          "France",
          "France",
          "France",
          "France",
          "France",
          "France",
          "France",
          "France",
          "France",
          "France",
          "France",
          "France",
          "France",
          "France",
          "France",
          "France",
          "France",
          "France",
          "France",
          "France",
          "France",
          "France",
          "France",
          "France",
          "France",
          "France",
          "France",
          "France",
          "France",
          "France",
          "France",
          "France",
          "France",
          "France",
          "France",
          "France",
          "France",
          "France",
          "France",
          "France",
          "France",
          "France",
          "France",
          "France",
          "France",
          "France",
          "France",
          "France",
          "France",
          "France",
          "France",
          "France",
          "France",
          "France",
          "France",
          "France",
          "France",
          "France",
          "France",
          "France",
          "France",
          "France",
          "France",
          "France",
          "France",
          "France",
          "France",
          "France",
          "France",
          "France",
          "France",
          "France",
          "France",
          "France",
          "France",
          "France",
          "France",
          "France",
          "France",
          "France",
          "France",
          "France",
          "France",
          "France",
          "France",
          "France",
          "France",
          "France",
          "France",
          "France",
          "France",
          "France",
          "France",
          "France",
          "France",
          "France",
          "France",
          "France",
          "France",
          "France",
          "France",
          "France",
          "France",
          "France",
          "France",
          "France",
          "France",
          "France",
          "France",
          "France",
          "France",
          "France",
          "France",
          "Germany",
          "Germany",
          "Germany",
          "Germany",
          "Germany",
          "Germany",
          "Germany",
          "Germany",
          "Germany",
          "Germany",
          "Germany",
          "Germany",
          "Germany",
          "Germany",
          "Germany",
          "Germany",
          "Germany",
          "Germany",
          "Germany",
          "Germany",
          "Germany",
          "Germany",
          "Germany",
          "Germany",
          "Germany",
          "Germany",
          "Germany",
          "Germany",
          "Germany",
          "Germany",
          "Germany",
          "Germany",
          "Germany",
          "Germany",
          "Germany",
          "Germany",
          "Germany",
          "Germany",
          "Germany",
          "Germany",
          "Germany",
          "Germany",
          "Germany",
          "Germany",
          "Germany",
          "Germany",
          "Germany",
          "Germany",
          "Germany",
          "Germany",
          "Germany",
          "Germany",
          "Germany",
          "Germany",
          "Germany",
          "Germany",
          "Germany",
          "Germany",
          "Germany",
          "Germany",
          "Germany",
          "Germany",
          "Germany",
          "Germany",
          "Germany",
          "Germany",
          "Germany",
          "Germany",
          "Germany",
          "Germany",
          "Germany",
          "Germany",
          "Germany",
          "Germany",
          "Germany",
          "Germany",
          "Germany",
          "Germany",
          "Germany",
          "Germany",
          "Germany",
          "Germany",
          "Germany",
          "Germany",
          "Germany",
          "Germany",
          "Germany",
          "Germany",
          "Germany",
          "Germany",
          "Germany",
          "Germany",
          "Germany",
          "Germany",
          "Germany",
          "Germany",
          "Germany",
          "Germany",
          "Germany",
          "Germany",
          "Germany",
          "Germany",
          "Germany",
          "Germany",
          "Germany",
          "Germany",
          "Germany",
          "Germany",
          "Germany",
          "Germany",
          "Germany",
          "Germany",
          "Germany",
          "Germany",
          "Germany",
          "Germany",
          "Germany",
          "Germany",
          "Germany",
          "Germany",
          "Germany",
          "Germany",
          "Germany",
          "Germany",
          "Germany",
          "Germany",
          "Germany",
          "Germany",
          "Germany",
          "Germany",
          "Germany",
          "Germany",
          "Germany",
          "Germany",
          "Germany",
          "Germany",
          "Germany",
          "Germany",
          "Germany",
          "Germany",
          "Germany",
          "Germany",
          "Germany",
          "Germany",
          "Germany",
          "Germany",
          "Germany",
          "Germany",
          "Germany",
          "Germany",
          "Ghana",
          "Ghana",
          "Ghana",
          "Ghana",
          "Ghana",
          "Ghana",
          "Ghana",
          "Ghana",
          "Ghana",
          "Ghana",
          "Ghana",
          "Ghana",
          "Ghana",
          "Ghana",
          "Ghana",
          "Ghana",
          "Ghana",
          "Ghana",
          "Ghana",
          "Ghana",
          "Ghana",
          "Ghana",
          "Ghana",
          "Ghana",
          "Ghana",
          "Ghana",
          "Ghana",
          "Ghana",
          "Ghana",
          "Ghana",
          "Ghana",
          "Ghana",
          "Ghana",
          "Ghana",
          "Ghana",
          "Ghana",
          "Ghana",
          "Ghana",
          "Ghana",
          "Ghana",
          "Ghana",
          "Ghana",
          "Ghana",
          "Ghana",
          "Ghana",
          "Ghana",
          "Ghana",
          "Ghana",
          "Ghana",
          "Ghana",
          "Ghana",
          "Ghana",
          "Ghana",
          "Ghana",
          "Ghana",
          "Ghana",
          "Ghana",
          "Ghana",
          "Ghana",
          "Ghana",
          "Ghana",
          "Ghana",
          "Ghana",
          "Ghana",
          "Ghana",
          "Ghana",
          "Ghana",
          "Ghana",
          "Ghana",
          "Ghana",
          "Ghana",
          "Ghana",
          "Ghana",
          "Ghana",
          "Ghana",
          "Ghana",
          "Ghana",
          "Ghana",
          "Ghana",
          "Ghana",
          "Ghana",
          "Ghana",
          "Ghana",
          "Ghana",
          "Ghana",
          "Ghana",
          "Ghana",
          "Ghana",
          "Ghana",
          "Ghana",
          "Ghana",
          "Ghana",
          "Ghana",
          "Ghana",
          "Ghana",
          "Ghana",
          "Ghana",
          "Ghana",
          "Ghana",
          "Ghana",
          "Ghana",
          "Ghana",
          "Ghana",
          "Ghana",
          "Ghana",
          "Ghana",
          "Ghana",
          "Ghana",
          "Ghana",
          "Ghana",
          "Ghana",
          "Ghana",
          "Ghana",
          "Ghana",
          "Ghana",
          "Ghana",
          "Ireland",
          "Ireland",
          "Ireland",
          "Ireland",
          "Ireland",
          "Ireland",
          "Ireland",
          "Ireland",
          "Ireland",
          "Ireland",
          "Ireland",
          "Ireland",
          "Ireland",
          "Ireland",
          "Ireland",
          "Ireland",
          "Ireland",
          "Ireland",
          "Ireland",
          "Ireland",
          "Ireland",
          "Ireland",
          "Ireland",
          "Ireland",
          "Ireland",
          "Ireland",
          "Ireland",
          "Ireland",
          "Ireland",
          "Ireland",
          "Ireland",
          "Ireland",
          "Ireland",
          "Ireland",
          "Ireland",
          "Ireland",
          "Ireland",
          "Ireland",
          "Ireland",
          "Ireland",
          "Ireland",
          "Ireland",
          "Ireland",
          "Ireland",
          "Ireland",
          "Ireland",
          "Ireland",
          "Ireland",
          "Ireland",
          "Ireland",
          "Ireland",
          "Ireland",
          "Ireland",
          "Ireland",
          "Ireland",
          "Ireland",
          "Ireland",
          "Ireland",
          "Ireland",
          "Ireland",
          "Ireland",
          "Ireland",
          "Ireland",
          "Ireland",
          "Ireland",
          "Ireland",
          "Ireland",
          "Ireland",
          "Ireland",
          "Ireland",
          "Ireland",
          "Ireland",
          "Ireland",
          "Ireland",
          "Ireland",
          "Ireland",
          "Ireland",
          "Ireland",
          "Ireland",
          "Ireland",
          "Ireland",
          "Ireland",
          "Ireland",
          "Ireland",
          "Ireland",
          "Ireland",
          "Ireland",
          "Ireland",
          "Ireland",
          "Ireland",
          "Ireland",
          "Ireland",
          "Ireland",
          "Ireland",
          "Ireland",
          "Ireland",
          "Ireland",
          "Ireland",
          "Ireland",
          "Ireland",
          "Ireland",
          "Ireland",
          "Ireland",
          "Ireland",
          "Ireland",
          "Ireland",
          "Ireland",
          "Ireland",
          "Ireland",
          "Ireland",
          "Ireland",
          "Ireland",
          "Ireland",
          "Ireland",
          "Ireland",
          "Ireland",
          "Ireland",
          "Ireland",
          "Ireland",
          "Ireland",
          "Ireland",
          "Ireland",
          "Ireland",
          "Ireland",
          "Ireland",
          "Ireland",
          "Ireland",
          "Ireland",
          "Ireland",
          "Italy",
          "Italy",
          "Italy",
          "Italy",
          "Italy",
          "Italy",
          "Italy",
          "Italy",
          "Italy",
          "Italy",
          "Italy",
          "Italy",
          "Italy",
          "Italy",
          "Italy",
          "Italy",
          "Italy",
          "Italy",
          "Italy",
          "Italy",
          "Italy",
          "Italy",
          "Italy",
          "Italy",
          "Italy",
          "Italy",
          "Italy",
          "Italy",
          "Italy",
          "Italy",
          "Italy",
          "Italy",
          "Italy",
          "Italy",
          "Italy",
          "Italy",
          "Italy",
          "Italy",
          "Italy",
          "Italy",
          "Italy",
          "Italy",
          "Italy",
          "Italy",
          "Italy",
          "Italy",
          "Italy",
          "Italy",
          "Italy",
          "Italy",
          "Italy",
          "Italy",
          "Italy",
          "Italy",
          "Italy",
          "Italy",
          "Italy",
          "Italy",
          "Italy",
          "Italy",
          "Italy",
          "Italy",
          "Italy",
          "Italy",
          "Italy",
          "Italy",
          "Italy",
          "Italy",
          "Italy",
          "Italy",
          "Italy",
          "Italy",
          "Italy",
          "Italy",
          "Italy",
          "Italy",
          "Italy",
          "Italy",
          "Italy",
          "Italy",
          "Italy",
          "Italy",
          "Italy",
          "Italy",
          "Italy",
          "Italy",
          "Italy",
          "Italy",
          "Italy",
          "Italy",
          "Italy",
          "Italy",
          "Italy",
          "Italy",
          "Italy",
          "Italy",
          "Italy",
          "Italy",
          "Italy",
          "Italy",
          "Italy",
          "Italy",
          "Italy",
          "Italy",
          "Italy",
          "Italy",
          "Italy",
          "Italy",
          "Italy",
          "Italy",
          "Italy",
          "Italy",
          "Italy",
          "Italy",
          "Italy",
          "Italy",
          "Italy",
          "Italy",
          "Italy",
          "Italy",
          "Italy",
          "Italy",
          "Italy",
          "Italy",
          "Italy",
          "Italy",
          "Italy",
          "Italy",
          "Italy",
          "Italy",
          "Italy",
          "Italy",
          "Italy",
          "Italy",
          "Italy",
          "Italy",
          "Italy",
          "Italy",
          "Italy",
          "Italy",
          "Italy",
          "Italy",
          "Italy",
          "Italy",
          "Italy",
          "Italy",
          "Italy",
          "Italy",
          "Italy",
          "Italy",
          "Italy",
          "Italy",
          "Italy",
          "Italy",
          "Italy",
          "Italy",
          "Italy",
          "Nigeria",
          "Nigeria",
          "Nigeria",
          "Nigeria",
          "Nigeria",
          "Nigeria",
          "Nigeria",
          "Nigeria",
          "Nigeria",
          "Nigeria",
          "Nigeria",
          "Nigeria",
          "Nigeria",
          "Nigeria",
          "Nigeria",
          "Nigeria",
          "Nigeria",
          "Nigeria",
          "Nigeria",
          "Nigeria",
          "Nigeria",
          "Nigeria",
          "Nigeria",
          "Nigeria",
          "Nigeria",
          "Nigeria",
          "Nigeria",
          "Nigeria",
          "Nigeria",
          "Nigeria",
          "Nigeria",
          "Nigeria",
          "Nigeria",
          "Nigeria",
          "Nigeria",
          "Nigeria",
          "Nigeria",
          "Nigeria",
          "Nigeria",
          "Nigeria",
          "Nigeria",
          "Nigeria",
          "Nigeria",
          "Nigeria",
          "Nigeria",
          "Nigeria",
          "Nigeria",
          "Nigeria",
          "Nigeria",
          "Nigeria",
          "Nigeria",
          "Nigeria",
          "Nigeria",
          "Nigeria",
          "Nigeria",
          "Nigeria",
          "Nigeria",
          "Nigeria",
          "Nigeria",
          "Nigeria",
          "Nigeria",
          "Nigeria",
          "Nigeria",
          "Nigeria",
          "Nigeria",
          "Nigeria",
          "Nigeria",
          "Nigeria",
          "Nigeria",
          "Nigeria",
          "Nigeria",
          "Nigeria",
          "Nigeria",
          "Nigeria",
          "Nigeria",
          "Nigeria",
          "Nigeria",
          "Nigeria",
          "Nigeria",
          "Nigeria",
          "Nigeria",
          "Nigeria",
          "Nigeria",
          "Nigeria",
          "Nigeria",
          "Nigeria",
          "Nigeria",
          "Nigeria",
          "Nigeria",
          "Nigeria",
          "Nigeria",
          "Nigeria",
          "Nigeria",
          "Nigeria",
          "Nigeria",
          "Nigeria",
          "Nigeria",
          "Nigeria",
          "Nigeria",
          "Nigeria",
          "Nigeria",
          "Nigeria",
          "Nigeria",
          "Spain",
          "Spain",
          "Spain",
          "Spain",
          "Spain",
          "Spain",
          "Spain",
          "Spain",
          "Spain",
          "Spain",
          "Spain",
          "Spain",
          "Spain",
          "Spain",
          "Spain",
          "Spain",
          "Spain",
          "Spain",
          "Spain",
          "Spain",
          "Spain",
          "Spain",
          "Spain",
          "Spain",
          "Spain",
          "Spain",
          "Spain",
          "Spain",
          "Spain",
          "Spain",
          "Spain",
          "Spain",
          "Spain",
          "Spain",
          "Spain",
          "Spain",
          "Spain",
          "Spain",
          "Spain",
          "Spain",
          "Spain",
          "Spain",
          "Spain",
          "Spain",
          "Spain",
          "Spain",
          "Spain",
          "Spain",
          "Spain",
          "Spain",
          "Spain",
          "Spain",
          "Spain",
          "Spain",
          "Spain",
          "Spain",
          "Spain",
          "Spain",
          "Spain",
          "Spain",
          "Spain",
          "Spain",
          "Spain",
          "Spain",
          "Spain",
          "Spain",
          "Spain",
          "Spain",
          "Spain",
          "Spain",
          "Spain",
          "Spain",
          "Spain",
          "Spain",
          "Spain",
          "Spain",
          "Spain",
          "Spain",
          "Spain",
          "Spain",
          "Spain",
          "Spain",
          "Spain",
          "Spain",
          "Spain",
          "Spain",
          "Spain",
          "Spain",
          "Spain",
          "Spain",
          "Spain",
          "Spain",
          "Spain",
          "Spain",
          "Spain",
          "Spain",
          "Spain",
          "Spain",
          "Spain",
          "Spain",
          "Spain",
          "Spain",
          "Spain",
          "Spain",
          "Spain",
          "Spain",
          "Spain",
          "Spain",
          "Spain",
          "Spain",
          "Spain",
          "Spain",
          "Spain",
          "Spain",
          "Spain",
          "Spain",
          "Spain",
          "Spain",
          "Spain",
          "Spain",
          "Spain",
          "Spain",
          "Spain",
          "Spain",
          "Spain",
          "Spain",
          "Spain",
          "Spain",
          "Spain",
          "Spain",
          "Spain",
          "Spain",
          "Spain",
          "Spain",
          "Spain",
          "Spain",
          "Spain",
          "Spain",
          "Spain",
          "Spain",
          "Spain",
          "United States of America",
          "United States of America",
          "United States of America",
          "United States of America",
          "United States of America",
          "United States of America",
          "United States of America",
          "United States of America",
          "United States of America",
          "United States of America",
          "United States of America",
          "United States of America",
          "United States of America",
          "United States of America",
          "United States of America",
          "United States of America",
          "United States of America",
          "United States of America",
          "United States of America",
          "United States of America",
          "United States of America",
          "United States of America",
          "United States of America",
          "United States of America",
          "United States of America",
          "United States of America",
          "United States of America",
          "United States of America",
          "United States of America",
          "United States of America",
          "United States of America"
         ],
         "xaxis": "x",
         "y": [
          5,
          16,
          4,
          8,
          36,
          49,
          16,
          28,
          9,
          25,
          144,
          9,
          6,
          1,
          6,
          3,
          11,
          1403448,
          1563657,
          1393851,
          1309566,
          1285585,
          1432532,
          1480824,
          1600053,
          1580984,
          1616152,
          1622105,
          1598921,
          86914,
          91317,
          77405,
          87395,
          83667,
          94155,
          84123,
          91065,
          102459,
          103106,
          97918,
          87624,
          515,
          423,
          2826,
          3205,
          32261,
          25738,
          18576,
          20740,
          18598,
          18594,
          12846,
          11904,
          233,
          152,
          160,
          131,
          95,
          94,
          63,
          123,
          6597,
          3203,
          9758,
          10202,
          13136,
          13017,
          8997,
          8394,
          6309,
          6861,
          9043,
          3934,
          13020,
          11629,
          13090,
          16094,
          27063,
          21270,
          13767,
          11912,
          13331,
          13291,
          12045,
          12658,
          2891,
          480,
          438,
          451,
          3996,
          166,
          56,
          165,
          20,
          102,
          12,
          6,
          0,
          0,
          445,
          524,
          394,
          447,
          438,
          250,
          178,
          175,
          122,
          111,
          177,
          213,
          737162,
          837988,
          617526,
          600806,
          534734,
          518074,
          486650,
          490278,
          429135,
          464147,
          479990,
          479725,
          851632,
          637539,
          658516,
          671208,
          648382,
          613577,
          545597,
          542331,
          631127,
          679512,
          827529,
          566418,
          22338,
          20398,
          21137,
          19170,
          18275,
          18292,
          15754,
          15885,
          14497,
          16391,
          12648,
          14030,
          0,
          1,
          2,
          0,
          4,
          3,
          8,
          5,
          14,
          2,
          2,
          192,
          2,
          5,
          7,
          8,
          1,
          11,
          7,
          2,
          3,
          1,
          32,
          51,
          635483,
          662683,
          620524,
          627805,
          758846,
          817369,
          827024,
          865523,
          841118,
          817675,
          760612,
          743361,
          218892,
          254984,
          290584,
          270858,
          262670,
          292094,
          333700,
          328450,
          312679,
          296964,
          256019,
          255995,
          574,
          476,
          979,
          992,
          1986,
          2061,
          2434,
          1471,
          1625,
          1399,
          1398,
          1246,
          78,
          43,
          87,
          12,
          6,
          20,
          12,
          86,
          58,
          386,
          246,
          446,
          41,
          258,
          339,
          189,
          77,
          65,
          97,
          4,
          5593,
          5184,
          5046,
          4743,
          4978,
          5701,
          6187,
          5376,
          5626,
          4811,
          4486,
          4799,
          0,
          0,
          0,
          0,
          4,
          2,
          4,
          1,
          1,
          1,
          47,
          48,
          16,
          1,
          0,
          0,
          0,
          1,
          0,
          0,
          0,
          44703,
          40149,
          50510,
          20712,
          20746,
          12612,
          9839,
          9802,
          8052,
          16141,
          15134,
          17188,
          2414878,
          2747865,
          3470900,
          3216293,
          3512535,
          3209888,
          2464606,
          2436522,
          2500287,
          2068207,
          2180304,
          1905226,
          8677,
          12079,
          12593,
          14002,
          17582,
          18791,
          22597,
          23665,
          26498,
          26057,
          25947,
          20732,
          6,
          56,
          25,
          32,
          77,
          120,
          127,
          25,
          6,
          0,
          0,
          1,
          0,
          7,
          130,
          8,
          16,
          7,
          222,
          0,
          0,
          0,
          0,
          2,
          0,
          0,
          0,
          0,
          64,
          24,
          24,
          4,
          5,
          52,
          2,
          0,
          3,
          0,
          0,
          0,
          0,
          0,
          0,
          843,
          2000,
          0,
          0,
          11,
          43,
          364,
          136,
          21,
          0,
          12,
          1,
          34,
          12,
          0,
          0,
          0,
          0,
          2813,
          1,
          2,
          470,
          110,
          16,
          36,
          1,
          4,
          205,
          96,
          271663,
          184630,
          130578,
          192352,
          205866,
          148454,
          123727,
          150293,
          188065,
          235879,
          291373,
          213348,
          26028,
          35812,
          33600,
          20271,
          31017,
          33416,
          32923,
          37847,
          46109,
          15032,
          3341,
          6270,
          0,
          0,
          0,
          0,
          2,
          0,
          0,
          0,
          130,
          114,
          100,
          100,
          167,
          86,
          34,
          140,
          2945,
          5430,
          7305,
          8109,
          6164,
          76197,
          4292,
          6129,
          14826,
          6334,
          2850,
          7430,
          0,
          0,
          33,
          2,
          73,
          833,
          187,
          574,
          56,
          35,
          46,
          608,
          0,
          0,
          0,
          0,
          0,
          0,
          0,
          0,
          37090,
          18711,
          30528,
          54197,
          37646,
          15036,
          15657,
          20834,
          15958,
          5331,
          18605,
          9641,
          107825,
          85938,
          66043,
          468232,
          532435,
          568290,
          466088,
          1476820,
          489525,
          419108,
          100718,
          598917,
          307,
          169,
          25,
          2,
          10,
          80,
          87,
          24,
          17,
          33,
          3,
          8,
          5,
          4,
          5,
          10,
          6,
          8,
          3,
          51,
          1,
          652,
          9,
          0,
          0,
          0,
          1310,
          1753,
          323,
          64,
          13,
          130,
          284,
          2,
          6,
          1,
          4,
          7,
          39960,
          44169,
          50406,
          50689,
          52808,
          53434,
          40337,
          19347,
          13501,
          10292,
          10515,
          18400,
          19052,
          15169,
          13728,
          12435,
          16834,
          15776,
          15110,
          15621,
          14317,
          13525,
          15413,
          10326,
          7,
          0,
          13,
          6,
          5,
          2,
          22,
          4,
          38,
          22,
          6,
          14,
          1,
          6,
          7,
          0,
          21,
          6,
          11,
          12,
          6,
          188,
          105,
          215,
          42,
          286,
          576,
          3225,
          32,
          268,
          947,
          252,
          389,
          549,
          1054,
          1275,
          1389,
          555,
          3572,
          415,
          1792,
          1012,
          0,
          0,
          43,
          5,
          395,
          58,
          401,
          20,
          8,
          9,
          5,
          29,
          52,
          1,
          5,
          10,
          6,
          4,
          0,
          1,
          0,
          0,
          3,
          2868,
          2280,
          3611,
          2120,
          5800,
          2784,
          3337,
          140,
          20739,
          12849,
          12928,
          15438,
          3957,
          4871,
          2050,
          1281,
          1668,
          680,
          1043,
          2223,
          2852,
          3770,
          2621,
          1612,
          824,
          912,
          1170,
          856,
          867,
          1401,
          1122,
          483,
          5,
          0,
          6,
          20,
          10,
          0,
          1,
          0,
          0,
          0,
          3,
          41,
          23,
          131,
          22,
          2,
          32,
          97,
          0,
          0,
          0,
          4,
          2,
          5,
          20,
          617,
          37,
          2,
          0,
          20,
          278,
          11,
          193,
          25,
          101,
          42,
          32,
          2,
          6,
          0,
          0,
          2,
          0,
          0,
          0,
          0,
          0,
          0,
          0,
          0,
          71,
          39,
          13,
          12,
          20,
          879,
          0,
          0,
          4,
          150,
          12,
          0,
          0,
          0,
          1,
          1,
          2,
          3,
          1,
          16,
          87,
          2,
          360,
          360,
          6,
          4,
          6,
          18,
          34,
          22,
          21,
          181390,
          124380,
          183739,
          195446,
          123195,
          195656,
          160759,
          212150,
          257340,
          258104,
          313358,
          251556,
          12315,
          14961,
          17060,
          18555,
          19240,
          22184,
          26557,
          29202,
          24711,
          27278,
          27320,
          29185,
          0,
          1,
          0,
          0,
          0,
          0,
          0,
          0,
          17,
          4556,
          10342,
          7241,
          6819,
          1773,
          2708,
          2003,
          4270,
          3105,
          2883,
          3166,
          2639,
          5683,
          8103,
          6194,
          4861,
          7517,
          13935,
          8252,
          4308,
          4091,
          4285,
          19556,
          62383,
          30,
          0,
          126,
          14,
          69,
          22,
          1,
          2335,
          962,
          249,
          576,
          550,
          302,
          710,
          616,
          518,
          450,
          340,
          216,
          95,
          108,
          166,
          213,
          583250,
          356994,
          576295,
          934987,
          801985,
          1007042,
          1132960,
          1101305,
          1016928,
          1429288,
          1393410,
          1230921,
          2020115,
          1678904,
          1517627,
          1417810,
          1584001,
          1630483,
          1519351,
          1503630,
          1755264,
          2038224,
          1360227,
          1390949,
          210,
          11,
          191,
          82,
          47,
          41,
          34,
          34,
          26,
          26,
          21,
          18,
          132,
          220,
          60,
          227,
          2791,
          6278,
          12533,
          13221,
          6079,
          1508,
          2097,
          637,
          308,
          196,
          18,
          31,
          349,
          1422,
          943,
          694,
          1661,
          2007,
          278,
          955,
          1123,
          380,
          40,
          407,
          675,
          105,
          128,
          290,
          89271,
          191024,
          191404,
          164770,
          107821,
          72625,
          69559,
          193232,
          244419,
          306244,
          320721,
          510248,
          69344,
          80605,
          84803,
          87015,
          90341,
          61736,
          68995,
          68817,
          59217,
          67586,
          51896,
          56432,
          737,
          901,
          593,
          500,
          492,
          448,
          758,
          376,
          623,
          344,
          362,
          534,
          1,
          1,
          24,
          55,
          26,
          1,
          20,
          7198,
          4423,
          7179,
          5386,
          6273,
          4105,
          7335,
          3287,
          457,
          37423,
          2853,
          3618,
          168615,
          185603,
          158419,
          210084,
          211017,
          180451,
          149731,
          160020,
          147218,
          121473,
          95460,
          100959,
          2554,
          1489,
          350,
          1351,
          4372,
          903,
          2110,
          3130,
          12807,
          2286,
          0,
          0,
          11,
          23,
          22,
          29,
          23,
          63,
          41,
          44,
          50,
          50,
          59,
          59,
          151602,
          78293,
          55728,
          54496,
          75943,
          44508,
          51767,
          30436,
          44416,
          23126,
          49474,
          45015,
          24223,
          34831,
          55059,
          34004,
          19406,
          40763,
          48227,
          63160,
          65119,
          61663,
          57611,
          55818,
          8219,
          7622,
          6460,
          6789,
          9220,
          10076,
          11859,
          10458,
          9756,
          6043,
          4857,
          5914
         ],
         "yaxis": "y"
        }
       ],
       "layout": {
        "barmode": "relative",
        "legend": {
         "tracegroupgap": 0
        },
        "template": {
         "data": {
          "bar": [
           {
            "error_x": {
             "color": "#2a3f5f"
            },
            "error_y": {
             "color": "#2a3f5f"
            },
            "marker": {
             "line": {
              "color": "#E5ECF6",
              "width": 0.5
             },
             "pattern": {
              "fillmode": "overlay",
              "size": 10,
              "solidity": 0.2
             }
            },
            "type": "bar"
           }
          ],
          "barpolar": [
           {
            "marker": {
             "line": {
              "color": "#E5ECF6",
              "width": 0.5
             },
             "pattern": {
              "fillmode": "overlay",
              "size": 10,
              "solidity": 0.2
             }
            },
            "type": "barpolar"
           }
          ],
          "carpet": [
           {
            "aaxis": {
             "endlinecolor": "#2a3f5f",
             "gridcolor": "white",
             "linecolor": "white",
             "minorgridcolor": "white",
             "startlinecolor": "#2a3f5f"
            },
            "baxis": {
             "endlinecolor": "#2a3f5f",
             "gridcolor": "white",
             "linecolor": "white",
             "minorgridcolor": "white",
             "startlinecolor": "#2a3f5f"
            },
            "type": "carpet"
           }
          ],
          "choropleth": [
           {
            "colorbar": {
             "outlinewidth": 0,
             "ticks": ""
            },
            "type": "choropleth"
           }
          ],
          "contour": [
           {
            "colorbar": {
             "outlinewidth": 0,
             "ticks": ""
            },
            "colorscale": [
             [
              0,
              "#0d0887"
             ],
             [
              0.1111111111111111,
              "#46039f"
             ],
             [
              0.2222222222222222,
              "#7201a8"
             ],
             [
              0.3333333333333333,
              "#9c179e"
             ],
             [
              0.4444444444444444,
              "#bd3786"
             ],
             [
              0.5555555555555556,
              "#d8576b"
             ],
             [
              0.6666666666666666,
              "#ed7953"
             ],
             [
              0.7777777777777778,
              "#fb9f3a"
             ],
             [
              0.8888888888888888,
              "#fdca26"
             ],
             [
              1,
              "#f0f921"
             ]
            ],
            "type": "contour"
           }
          ],
          "contourcarpet": [
           {
            "colorbar": {
             "outlinewidth": 0,
             "ticks": ""
            },
            "type": "contourcarpet"
           }
          ],
          "heatmap": [
           {
            "colorbar": {
             "outlinewidth": 0,
             "ticks": ""
            },
            "colorscale": [
             [
              0,
              "#0d0887"
             ],
             [
              0.1111111111111111,
              "#46039f"
             ],
             [
              0.2222222222222222,
              "#7201a8"
             ],
             [
              0.3333333333333333,
              "#9c179e"
             ],
             [
              0.4444444444444444,
              "#bd3786"
             ],
             [
              0.5555555555555556,
              "#d8576b"
             ],
             [
              0.6666666666666666,
              "#ed7953"
             ],
             [
              0.7777777777777778,
              "#fb9f3a"
             ],
             [
              0.8888888888888888,
              "#fdca26"
             ],
             [
              1,
              "#f0f921"
             ]
            ],
            "type": "heatmap"
           }
          ],
          "heatmapgl": [
           {
            "colorbar": {
             "outlinewidth": 0,
             "ticks": ""
            },
            "colorscale": [
             [
              0,
              "#0d0887"
             ],
             [
              0.1111111111111111,
              "#46039f"
             ],
             [
              0.2222222222222222,
              "#7201a8"
             ],
             [
              0.3333333333333333,
              "#9c179e"
             ],
             [
              0.4444444444444444,
              "#bd3786"
             ],
             [
              0.5555555555555556,
              "#d8576b"
             ],
             [
              0.6666666666666666,
              "#ed7953"
             ],
             [
              0.7777777777777778,
              "#fb9f3a"
             ],
             [
              0.8888888888888888,
              "#fdca26"
             ],
             [
              1,
              "#f0f921"
             ]
            ],
            "type": "heatmapgl"
           }
          ],
          "histogram": [
           {
            "marker": {
             "pattern": {
              "fillmode": "overlay",
              "size": 10,
              "solidity": 0.2
             }
            },
            "type": "histogram"
           }
          ],
          "histogram2d": [
           {
            "colorbar": {
             "outlinewidth": 0,
             "ticks": ""
            },
            "colorscale": [
             [
              0,
              "#0d0887"
             ],
             [
              0.1111111111111111,
              "#46039f"
             ],
             [
              0.2222222222222222,
              "#7201a8"
             ],
             [
              0.3333333333333333,
              "#9c179e"
             ],
             [
              0.4444444444444444,
              "#bd3786"
             ],
             [
              0.5555555555555556,
              "#d8576b"
             ],
             [
              0.6666666666666666,
              "#ed7953"
             ],
             [
              0.7777777777777778,
              "#fb9f3a"
             ],
             [
              0.8888888888888888,
              "#fdca26"
             ],
             [
              1,
              "#f0f921"
             ]
            ],
            "type": "histogram2d"
           }
          ],
          "histogram2dcontour": [
           {
            "colorbar": {
             "outlinewidth": 0,
             "ticks": ""
            },
            "colorscale": [
             [
              0,
              "#0d0887"
             ],
             [
              0.1111111111111111,
              "#46039f"
             ],
             [
              0.2222222222222222,
              "#7201a8"
             ],
             [
              0.3333333333333333,
              "#9c179e"
             ],
             [
              0.4444444444444444,
              "#bd3786"
             ],
             [
              0.5555555555555556,
              "#d8576b"
             ],
             [
              0.6666666666666666,
              "#ed7953"
             ],
             [
              0.7777777777777778,
              "#fb9f3a"
             ],
             [
              0.8888888888888888,
              "#fdca26"
             ],
             [
              1,
              "#f0f921"
             ]
            ],
            "type": "histogram2dcontour"
           }
          ],
          "mesh3d": [
           {
            "colorbar": {
             "outlinewidth": 0,
             "ticks": ""
            },
            "type": "mesh3d"
           }
          ],
          "parcoords": [
           {
            "line": {
             "colorbar": {
              "outlinewidth": 0,
              "ticks": ""
             }
            },
            "type": "parcoords"
           }
          ],
          "pie": [
           {
            "automargin": true,
            "type": "pie"
           }
          ],
          "scatter": [
           {
            "fillpattern": {
             "fillmode": "overlay",
             "size": 10,
             "solidity": 0.2
            },
            "type": "scatter"
           }
          ],
          "scatter3d": [
           {
            "line": {
             "colorbar": {
              "outlinewidth": 0,
              "ticks": ""
             }
            },
            "marker": {
             "colorbar": {
              "outlinewidth": 0,
              "ticks": ""
             }
            },
            "type": "scatter3d"
           }
          ],
          "scattercarpet": [
           {
            "marker": {
             "colorbar": {
              "outlinewidth": 0,
              "ticks": ""
             }
            },
            "type": "scattercarpet"
           }
          ],
          "scattergeo": [
           {
            "marker": {
             "colorbar": {
              "outlinewidth": 0,
              "ticks": ""
             }
            },
            "type": "scattergeo"
           }
          ],
          "scattergl": [
           {
            "marker": {
             "colorbar": {
              "outlinewidth": 0,
              "ticks": ""
             }
            },
            "type": "scattergl"
           }
          ],
          "scattermapbox": [
           {
            "marker": {
             "colorbar": {
              "outlinewidth": 0,
              "ticks": ""
             }
            },
            "type": "scattermapbox"
           }
          ],
          "scatterpolar": [
           {
            "marker": {
             "colorbar": {
              "outlinewidth": 0,
              "ticks": ""
             }
            },
            "type": "scatterpolar"
           }
          ],
          "scatterpolargl": [
           {
            "marker": {
             "colorbar": {
              "outlinewidth": 0,
              "ticks": ""
             }
            },
            "type": "scatterpolargl"
           }
          ],
          "scatterternary": [
           {
            "marker": {
             "colorbar": {
              "outlinewidth": 0,
              "ticks": ""
             }
            },
            "type": "scatterternary"
           }
          ],
          "surface": [
           {
            "colorbar": {
             "outlinewidth": 0,
             "ticks": ""
            },
            "colorscale": [
             [
              0,
              "#0d0887"
             ],
             [
              0.1111111111111111,
              "#46039f"
             ],
             [
              0.2222222222222222,
              "#7201a8"
             ],
             [
              0.3333333333333333,
              "#9c179e"
             ],
             [
              0.4444444444444444,
              "#bd3786"
             ],
             [
              0.5555555555555556,
              "#d8576b"
             ],
             [
              0.6666666666666666,
              "#ed7953"
             ],
             [
              0.7777777777777778,
              "#fb9f3a"
             ],
             [
              0.8888888888888888,
              "#fdca26"
             ],
             [
              1,
              "#f0f921"
             ]
            ],
            "type": "surface"
           }
          ],
          "table": [
           {
            "cells": {
             "fill": {
              "color": "#EBF0F8"
             },
             "line": {
              "color": "white"
             }
            },
            "header": {
             "fill": {
              "color": "#C8D4E3"
             },
             "line": {
              "color": "white"
             }
            },
            "type": "table"
           }
          ]
         },
         "layout": {
          "annotationdefaults": {
           "arrowcolor": "#2a3f5f",
           "arrowhead": 0,
           "arrowwidth": 1
          },
          "autotypenumbers": "strict",
          "coloraxis": {
           "colorbar": {
            "outlinewidth": 0,
            "ticks": ""
           }
          },
          "colorscale": {
           "diverging": [
            [
             0,
             "#8e0152"
            ],
            [
             0.1,
             "#c51b7d"
            ],
            [
             0.2,
             "#de77ae"
            ],
            [
             0.3,
             "#f1b6da"
            ],
            [
             0.4,
             "#fde0ef"
            ],
            [
             0.5,
             "#f7f7f7"
            ],
            [
             0.6,
             "#e6f5d0"
            ],
            [
             0.7,
             "#b8e186"
            ],
            [
             0.8,
             "#7fbc41"
            ],
            [
             0.9,
             "#4d9221"
            ],
            [
             1,
             "#276419"
            ]
           ],
           "sequential": [
            [
             0,
             "#0d0887"
            ],
            [
             0.1111111111111111,
             "#46039f"
            ],
            [
             0.2222222222222222,
             "#7201a8"
            ],
            [
             0.3333333333333333,
             "#9c179e"
            ],
            [
             0.4444444444444444,
             "#bd3786"
            ],
            [
             0.5555555555555556,
             "#d8576b"
            ],
            [
             0.6666666666666666,
             "#ed7953"
            ],
            [
             0.7777777777777778,
             "#fb9f3a"
            ],
            [
             0.8888888888888888,
             "#fdca26"
            ],
            [
             1,
             "#f0f921"
            ]
           ],
           "sequentialminus": [
            [
             0,
             "#0d0887"
            ],
            [
             0.1111111111111111,
             "#46039f"
            ],
            [
             0.2222222222222222,
             "#7201a8"
            ],
            [
             0.3333333333333333,
             "#9c179e"
            ],
            [
             0.4444444444444444,
             "#bd3786"
            ],
            [
             0.5555555555555556,
             "#d8576b"
            ],
            [
             0.6666666666666666,
             "#ed7953"
            ],
            [
             0.7777777777777778,
             "#fb9f3a"
            ],
            [
             0.8888888888888888,
             "#fdca26"
            ],
            [
             1,
             "#f0f921"
            ]
           ]
          },
          "colorway": [
           "#636efa",
           "#EF553B",
           "#00cc96",
           "#ab63fa",
           "#FFA15A",
           "#19d3f3",
           "#FF6692",
           "#B6E880",
           "#FF97FF",
           "#FECB52"
          ],
          "font": {
           "color": "#2a3f5f"
          },
          "geo": {
           "bgcolor": "white",
           "lakecolor": "white",
           "landcolor": "#E5ECF6",
           "showlakes": true,
           "showland": true,
           "subunitcolor": "white"
          },
          "hoverlabel": {
           "align": "left"
          },
          "hovermode": "closest",
          "mapbox": {
           "style": "light"
          },
          "paper_bgcolor": "white",
          "plot_bgcolor": "#E5ECF6",
          "polar": {
           "angularaxis": {
            "gridcolor": "white",
            "linecolor": "white",
            "ticks": ""
           },
           "bgcolor": "#E5ECF6",
           "radialaxis": {
            "gridcolor": "white",
            "linecolor": "white",
            "ticks": ""
           }
          },
          "scene": {
           "xaxis": {
            "backgroundcolor": "#E5ECF6",
            "gridcolor": "white",
            "gridwidth": 2,
            "linecolor": "white",
            "showbackground": true,
            "ticks": "",
            "zerolinecolor": "white"
           },
           "yaxis": {
            "backgroundcolor": "#E5ECF6",
            "gridcolor": "white",
            "gridwidth": 2,
            "linecolor": "white",
            "showbackground": true,
            "ticks": "",
            "zerolinecolor": "white"
           },
           "zaxis": {
            "backgroundcolor": "#E5ECF6",
            "gridcolor": "white",
            "gridwidth": 2,
            "linecolor": "white",
            "showbackground": true,
            "ticks": "",
            "zerolinecolor": "white"
           }
          },
          "shapedefaults": {
           "line": {
            "color": "#2a3f5f"
           }
          },
          "ternary": {
           "aaxis": {
            "gridcolor": "white",
            "linecolor": "white",
            "ticks": ""
           },
           "baxis": {
            "gridcolor": "white",
            "linecolor": "white",
            "ticks": ""
           },
           "bgcolor": "#E5ECF6",
           "caxis": {
            "gridcolor": "white",
            "linecolor": "white",
            "ticks": ""
           }
          },
          "title": {
           "x": 0.05
          },
          "xaxis": {
           "automargin": true,
           "gridcolor": "white",
           "linecolor": "white",
           "ticks": "",
           "title": {
            "standoff": 15
           },
           "zerolinecolor": "white",
           "zerolinewidth": 2
          },
          "yaxis": {
           "automargin": true,
           "gridcolor": "white",
           "linecolor": "white",
           "ticks": "",
           "title": {
            "standoff": 15
           },
           "zerolinecolor": "white",
           "zerolinewidth": 2
          }
         }
        },
        "title": {
         "text": "Export Quantity analysis for each country"
        },
        "xaxis": {
         "anchor": "y",
         "domain": [
          0,
          1
         ],
         "title": {
          "text": "x"
         }
        },
        "yaxis": {
         "anchor": "x",
         "domain": [
          0,
          1
         ],
         "title": {
          "text": "y"
         }
        }
       }
      }
     },
     "metadata": {},
     "output_type": "display_data"
    }
   ],
   "source": [
    "fig1 = px.bar(x=data['Area'], y=data['Export Quantity'], title=\"Export Quantity analysis for each country\")\n",
    "fig1.show();"
   ]
  },
  {
   "cell_type": "code",
   "execution_count": 26,
   "id": "ec462d9d",
   "metadata": {},
   "outputs": [
    {
     "data": {
      "application/vnd.plotly.v1+json": {
       "config": {
        "plotlyServerURL": "https://plot.ly"
       },
       "data": [
        {
         "alignmentgroup": "True",
         "hovertemplate": "color=France<br>x=%{x}<br>y=%{y}<extra></extra>",
         "legendgroup": "France",
         "marker": {
          "color": "#636efa",
          "pattern": {
           "shape": ""
          }
         },
         "name": "France",
         "offsetgroup": "France",
         "orientation": "v",
         "showlegend": true,
         "textposition": "auto",
         "type": "bar",
         "x": [
          2010,
          2011,
          2012,
          2013,
          2014,
          2015,
          2016,
          2017,
          2018,
          2019,
          2020,
          2021,
          2012,
          2013,
          2014,
          2015,
          2016,
          2017,
          2018,
          2019,
          2020,
          2021,
          2010,
          2011,
          2012,
          2013,
          2014,
          2015,
          2016,
          2017,
          2018,
          2019,
          2020,
          2021,
          2010,
          2011,
          2012,
          2013,
          2014,
          2015,
          2016,
          2017,
          2018,
          2019,
          2020,
          2021,
          2010,
          2011,
          2012,
          2013,
          2014,
          2015,
          2016,
          2017,
          2018,
          2019,
          2020,
          2021,
          2014,
          2015,
          2016,
          2017,
          2018,
          2019,
          2020,
          2021,
          2010,
          2011,
          2012,
          2013,
          2014,
          2015,
          2016,
          2017,
          2018,
          2019,
          2020,
          2021,
          2010,
          2011,
          2012,
          2013,
          2014,
          2015,
          2016,
          2017,
          2018,
          2019,
          2020,
          2021,
          2010,
          2011,
          2012,
          2013,
          2014,
          2015,
          2016,
          2017,
          2018,
          2019,
          2020,
          2021,
          2010,
          2011,
          2012,
          2013,
          2014,
          2015,
          2016,
          2017,
          2018,
          2019,
          2020,
          2021,
          2010,
          2011,
          2012,
          2013,
          2014,
          2015,
          2016,
          2017,
          2018,
          2019,
          2020,
          2021,
          2010,
          2011,
          2012,
          2013,
          2014,
          2015,
          2016,
          2017,
          2018,
          2019,
          2020,
          2021,
          2010,
          2011,
          2012,
          2013,
          2014,
          2015,
          2016,
          2017,
          2018,
          2019,
          2020,
          2021,
          2010,
          2011
         ],
         "xaxis": "x",
         "y": [
          5,
          16,
          4,
          8,
          36,
          49,
          16,
          28,
          9,
          25,
          144,
          9,
          6,
          1,
          6,
          3,
          11,
          1403448,
          1563657,
          1393851,
          1309566,
          1285585,
          1432532,
          1480824,
          1600053,
          1580984,
          1616152,
          1622105,
          1598921,
          86914,
          91317,
          77405,
          87395,
          83667,
          94155,
          84123,
          91065,
          102459,
          103106,
          97918,
          87624,
          515,
          423,
          2826,
          3205,
          32261,
          25738,
          18576,
          20740,
          18598,
          18594,
          12846,
          11904,
          233,
          152,
          160,
          131,
          95,
          94,
          63,
          123,
          6597,
          3203,
          9758,
          10202,
          13136,
          13017,
          8997,
          8394,
          6309,
          6861,
          9043,
          3934,
          13020,
          11629,
          13090,
          16094,
          27063,
          21270,
          13767,
          11912,
          13331,
          13291,
          12045,
          12658,
          2891,
          480,
          438,
          451,
          3996,
          166,
          56,
          165,
          20,
          102,
          12,
          6,
          0,
          0,
          445,
          524,
          394,
          447,
          438,
          250,
          178,
          175,
          122,
          111,
          177,
          213,
          737162,
          837988,
          617526,
          600806,
          534734,
          518074,
          486650,
          490278,
          429135,
          464147,
          479990,
          479725,
          851632,
          637539,
          658516,
          671208,
          648382,
          613577,
          545597,
          542331,
          631127,
          679512,
          827529,
          566418,
          22338,
          20398,
          21137,
          19170,
          18275,
          18292,
          15754,
          15885,
          14497,
          16391,
          12648,
          14030,
          0,
          1,
          2,
          0,
          4
         ],
         "yaxis": "y"
        },
        {
         "alignmentgroup": "True",
         "hovertemplate": "color=Germany<br>x=%{x}<br>y=%{y}<extra></extra>",
         "legendgroup": "Germany",
         "marker": {
          "color": "#EF553B",
          "pattern": {
           "shape": ""
          }
         },
         "name": "Germany",
         "offsetgroup": "Germany",
         "orientation": "v",
         "showlegend": true,
         "textposition": "auto",
         "type": "bar",
         "x": [
          2012,
          2013,
          2014,
          2015,
          2016,
          2017,
          2018,
          2019,
          2020,
          2021,
          2010,
          2011,
          2012,
          2013,
          2014,
          2015,
          2016,
          2017,
          2018,
          2019,
          2020,
          2021,
          2010,
          2011,
          2012,
          2013,
          2014,
          2015,
          2016,
          2017,
          2018,
          2019,
          2020,
          2021,
          2012,
          2013,
          2016,
          2012,
          2013,
          2014,
          2015,
          2016,
          2017,
          2018,
          2019,
          2020,
          2021,
          2010,
          2011,
          2012,
          2013,
          2014,
          2015,
          2016,
          2017,
          2018,
          2019,
          2020,
          2021,
          2010,
          2011,
          2012,
          2013,
          2014,
          2015,
          2016,
          2017,
          2018,
          2019,
          2020,
          2021,
          2010,
          2011,
          2012,
          2013,
          2014,
          2015,
          2016,
          2017,
          2018,
          2019,
          2020,
          2021,
          2014,
          2015,
          2016,
          2017,
          2018,
          2019,
          2020,
          2021,
          2010,
          2011,
          2012,
          2013,
          2014,
          2015,
          2016,
          2017,
          2018,
          2019,
          2020,
          2021,
          2010,
          2011,
          2012,
          2013,
          2014,
          2015,
          2016,
          2017,
          2018,
          2019,
          2020,
          2021,
          2010,
          2011,
          2012,
          2013,
          2014,
          2015,
          2017,
          2019,
          2020,
          2010,
          2011,
          2012,
          2013,
          2014,
          2015,
          2016,
          2017,
          2018,
          2019,
          2020,
          2021,
          2010,
          2011,
          2012,
          2013,
          2015,
          2016,
          2017,
          2018,
          2020,
          2010,
          2011,
          2012,
          2013,
          2014
         ],
         "xaxis": "x",
         "y": [
          3,
          8,
          5,
          14,
          2,
          2,
          192,
          2,
          5,
          7,
          8,
          1,
          11,
          7,
          2,
          3,
          1,
          32,
          51,
          635483,
          662683,
          620524,
          627805,
          758846,
          817369,
          827024,
          865523,
          841118,
          817675,
          760612,
          743361,
          218892,
          254984,
          290584,
          270858,
          262670,
          292094,
          333700,
          328450,
          312679,
          296964,
          256019,
          255995,
          574,
          476,
          979,
          992,
          1986,
          2061,
          2434,
          1471,
          1625,
          1399,
          1398,
          1246,
          78,
          43,
          87,
          12,
          6,
          20,
          12,
          86,
          58,
          386,
          246,
          446,
          41,
          258,
          339,
          189,
          77,
          65,
          97,
          4,
          5593,
          5184,
          5046,
          4743,
          4978,
          5701,
          6187,
          5376,
          5626,
          4811,
          4486,
          4799,
          0,
          0,
          0,
          0,
          4,
          2,
          4,
          1,
          1,
          1,
          47,
          48,
          16,
          1,
          0,
          0,
          0,
          1,
          0,
          0,
          0,
          44703,
          40149,
          50510,
          20712,
          20746,
          12612,
          9839,
          9802,
          8052,
          16141,
          15134,
          17188,
          2414878,
          2747865,
          3470900,
          3216293,
          3512535,
          3209888,
          2464606,
          2436522,
          2500287,
          2068207,
          2180304,
          1905226,
          8677,
          12079,
          12593,
          14002,
          17582,
          18791,
          22597,
          23665,
          26498,
          26057,
          25947,
          20732,
          6,
          56,
          25,
          32,
          77,
          120
         ],
         "yaxis": "y"
        },
        {
         "alignmentgroup": "True",
         "hovertemplate": "color=Ghana<br>x=%{x}<br>y=%{y}<extra></extra>",
         "legendgroup": "Ghana",
         "marker": {
          "color": "#00cc96",
          "pattern": {
           "shape": ""
          }
         },
         "name": "Ghana",
         "offsetgroup": "Ghana",
         "orientation": "v",
         "showlegend": true,
         "textposition": "auto",
         "type": "bar",
         "x": [
          2015,
          2016,
          2017,
          2018,
          2019,
          2020,
          2021,
          2010,
          2011,
          2012,
          2013,
          2014,
          2015,
          2016,
          2017,
          2018,
          2019,
          2020,
          2021,
          2010,
          2011,
          2012,
          2013,
          2014,
          2015,
          2016,
          2017,
          2018,
          2019,
          2020,
          2021,
          2010,
          2011,
          2012,
          2013,
          2014,
          2015,
          2016,
          2017,
          2018,
          2019,
          2020,
          2021,
          2016,
          2017,
          2018,
          2019,
          2020,
          2013,
          2014,
          2016,
          2017,
          2020,
          2017,
          2018,
          2019,
          2010,
          2011,
          2012,
          2013,
          2014,
          2015,
          2016,
          2017,
          2018,
          2019,
          2020,
          2021,
          2010,
          2011,
          2012,
          2013,
          2014,
          2015,
          2016,
          2017,
          2018,
          2019,
          2020,
          2021,
          2010,
          2011,
          2012,
          2013,
          2016,
          2018,
          2019,
          2021,
          2014,
          2016,
          2019,
          2021,
          2010,
          2011,
          2012,
          2013,
          2015,
          2016,
          2017,
          2018,
          2019,
          2020,
          2021,
          2010,
          2011,
          2012,
          2013,
          2014,
          2015,
          2016,
          2017,
          2018,
          2019,
          2020,
          2021,
          2012
         ],
         "xaxis": "x",
         "y": [
          127,
          25,
          6,
          0,
          0,
          1,
          0,
          7,
          130,
          8,
          16,
          7,
          222,
          0,
          0,
          0,
          0,
          2,
          0,
          0,
          0,
          0,
          64,
          24,
          24,
          4,
          5,
          52,
          2,
          0,
          3,
          0,
          0,
          0,
          0,
          0,
          0,
          843,
          2000,
          0,
          0,
          11,
          43,
          364,
          136,
          21,
          0,
          12,
          1,
          34,
          12,
          0,
          0,
          0,
          0,
          2813,
          1,
          2,
          470,
          110,
          16,
          36,
          1,
          4,
          205,
          96,
          271663,
          184630,
          130578,
          192352,
          205866,
          148454,
          123727,
          150293,
          188065,
          235879,
          291373,
          213348,
          26028,
          35812,
          33600,
          20271,
          31017,
          33416,
          32923,
          37847,
          46109,
          15032,
          3341,
          6270,
          0,
          0,
          0,
          0,
          2,
          0,
          0,
          0,
          130,
          114,
          100,
          100,
          167,
          86,
          34,
          140,
          2945,
          5430,
          7305,
          8109,
          6164,
          76197,
          4292,
          6129,
          14826,
          6334
         ],
         "yaxis": "y"
        },
        {
         "alignmentgroup": "True",
         "hovertemplate": "color=Ireland<br>x=%{x}<br>y=%{y}<extra></extra>",
         "legendgroup": "Ireland",
         "marker": {
          "color": "#ab63fa",
          "pattern": {
           "shape": ""
          }
         },
         "name": "Ireland",
         "offsetgroup": "Ireland",
         "orientation": "v",
         "showlegend": true,
         "textposition": "auto",
         "type": "bar",
         "x": [
          2013,
          2016,
          2017,
          2018,
          2019,
          2021,
          2010,
          2011,
          2012,
          2013,
          2014,
          2015,
          2016,
          2017,
          2018,
          2019,
          2020,
          2021,
          2010,
          2011,
          2012,
          2013,
          2014,
          2015,
          2017,
          2018,
          2019,
          2020,
          2021,
          2017,
          2018,
          2019,
          2020,
          2021,
          2010,
          2011,
          2012,
          2013,
          2014,
          2015,
          2016,
          2017,
          2018,
          2019,
          2020,
          2021,
          2010,
          2011,
          2012,
          2013,
          2016,
          2017,
          2018,
          2019,
          2021,
          2010,
          2011,
          2012,
          2013,
          2014,
          2016,
          2017,
          2018,
          2019,
          2020,
          2021,
          2010,
          2011,
          2012,
          2013,
          2014,
          2016,
          2017,
          2020,
          2021,
          2016,
          2017,
          2018,
          2020,
          2015,
          2021,
          2010,
          2011,
          2012,
          2013,
          2014,
          2015,
          2016,
          2017,
          2018,
          2019,
          2020,
          2021,
          2010,
          2011,
          2012,
          2013,
          2014,
          2015,
          2016,
          2017,
          2018,
          2019,
          2020,
          2021,
          2010,
          2011,
          2012,
          2013,
          2014,
          2018,
          2019,
          2021,
          2015,
          2021,
          2010,
          2011,
          2012,
          2013,
          2017,
          2020,
          2021,
          2010,
          2011,
          2012,
          2013,
          2014,
          2015,
          2016
         ],
         "xaxis": "x",
         "y": [
          2850,
          7430,
          0,
          0,
          33,
          2,
          73,
          833,
          187,
          574,
          56,
          35,
          46,
          608,
          0,
          0,
          0,
          0,
          0,
          0,
          0,
          0,
          37090,
          18711,
          30528,
          54197,
          37646,
          15036,
          15657,
          20834,
          15958,
          5331,
          18605,
          9641,
          107825,
          85938,
          66043,
          468232,
          532435,
          568290,
          466088,
          1476820,
          489525,
          419108,
          100718,
          598917,
          307,
          169,
          25,
          2,
          10,
          80,
          87,
          24,
          17,
          33,
          3,
          8,
          5,
          4,
          5,
          10,
          6,
          8,
          3,
          51,
          1,
          652,
          9,
          0,
          0,
          0,
          1310,
          1753,
          323,
          64,
          13,
          130,
          284,
          2,
          6,
          1,
          4,
          7,
          39960,
          44169,
          50406,
          50689,
          52808,
          53434,
          40337,
          19347,
          13501,
          10292,
          10515,
          18400,
          19052,
          15169,
          13728,
          12435,
          16834,
          15776,
          15110,
          15621,
          14317,
          13525,
          15413,
          10326,
          7,
          0,
          13,
          6,
          5,
          2,
          22,
          4,
          38,
          22,
          6,
          14,
          1,
          6,
          7,
          0,
          21,
          6,
          11,
          12,
          6
         ],
         "yaxis": "y"
        },
        {
         "alignmentgroup": "True",
         "hovertemplate": "color=Italy<br>x=%{x}<br>y=%{y}<extra></extra>",
         "legendgroup": "Italy",
         "marker": {
          "color": "#FFA15A",
          "pattern": {
           "shape": ""
          }
         },
         "name": "Italy",
         "offsetgroup": "Italy",
         "orientation": "v",
         "showlegend": true,
         "textposition": "auto",
         "type": "bar",
         "x": [
          2017,
          2018,
          2019,
          2020,
          2021,
          2010,
          2011,
          2012,
          2013,
          2014,
          2015,
          2016,
          2017,
          2018,
          2019,
          2020,
          2021,
          2010,
          2011,
          2012,
          2013,
          2014,
          2015,
          2016,
          2017,
          2018,
          2019,
          2020,
          2021,
          2010,
          2011,
          2012,
          2013,
          2014,
          2015,
          2016,
          2017,
          2018,
          2019,
          2020,
          2021,
          2010,
          2011,
          2012,
          2013,
          2014,
          2015,
          2016,
          2018,
          2019,
          2020,
          2021,
          2010,
          2011,
          2012,
          2013,
          2014,
          2015,
          2016,
          2017,
          2018,
          2019,
          2020,
          2021,
          2010,
          2011,
          2012,
          2013,
          2014,
          2015,
          2016,
          2017,
          2018,
          2019,
          2020,
          2021,
          2010,
          2011,
          2012,
          2013,
          2014,
          2015,
          2016,
          2017,
          2018,
          2019,
          2020,
          2021,
          2010,
          2011,
          2012,
          2013,
          2014,
          2015,
          2016,
          2017,
          2018,
          2019,
          2020,
          2021,
          2010,
          2011,
          2012,
          2013,
          2014,
          2015,
          2016,
          2017,
          2018,
          2020,
          2021,
          2012,
          2013,
          2014,
          2015,
          2016,
          2019,
          2020,
          2010,
          2011,
          2012,
          2013,
          2014,
          2015,
          2016,
          2017,
          2018,
          2019,
          2020,
          2021,
          2010,
          2011,
          2012,
          2013,
          2014,
          2015,
          2016,
          2017,
          2018,
          2019,
          2020,
          2021,
          2010,
          2011,
          2012,
          2013,
          2014,
          2015,
          2016,
          2017,
          2018,
          2019,
          2020,
          2021,
          2014,
          2015,
          2016
         ],
         "xaxis": "x",
         "y": [
          188,
          105,
          215,
          42,
          286,
          576,
          3225,
          32,
          268,
          947,
          252,
          389,
          549,
          1054,
          1275,
          1389,
          555,
          3572,
          415,
          1792,
          1012,
          0,
          0,
          43,
          5,
          395,
          58,
          401,
          20,
          8,
          9,
          5,
          29,
          52,
          1,
          5,
          10,
          6,
          4,
          0,
          1,
          0,
          0,
          3,
          2868,
          2280,
          3611,
          2120,
          5800,
          2784,
          3337,
          140,
          20739,
          12849,
          12928,
          15438,
          3957,
          4871,
          2050,
          1281,
          1668,
          680,
          1043,
          2223,
          2852,
          3770,
          2621,
          1612,
          824,
          912,
          1170,
          856,
          867,
          1401,
          1122,
          483,
          5,
          0,
          6,
          20,
          10,
          0,
          1,
          0,
          0,
          0,
          3,
          41,
          23,
          131,
          22,
          2,
          32,
          97,
          0,
          0,
          0,
          4,
          2,
          5,
          20,
          617,
          37,
          2,
          0,
          20,
          278,
          11,
          193,
          25,
          101,
          42,
          32,
          2,
          6,
          0,
          0,
          2,
          0,
          0,
          0,
          0,
          0,
          0,
          0,
          0,
          71,
          39,
          13,
          12,
          20,
          879,
          0,
          0,
          4,
          150,
          12,
          0,
          0,
          0,
          1,
          1,
          2,
          3,
          1,
          16,
          87,
          2,
          360,
          360,
          6,
          4,
          6,
          18,
          34,
          22,
          21
         ],
         "yaxis": "y"
        },
        {
         "alignmentgroup": "True",
         "hovertemplate": "color=Nigeria<br>x=%{x}<br>y=%{y}<extra></extra>",
         "legendgroup": "Nigeria",
         "marker": {
          "color": "#19d3f3",
          "pattern": {
           "shape": ""
          }
         },
         "name": "Nigeria",
         "offsetgroup": "Nigeria",
         "orientation": "v",
         "showlegend": true,
         "textposition": "auto",
         "type": "bar",
         "x": [
          2017,
          2018,
          2019,
          2020,
          2021,
          2010,
          2011,
          2012,
          2013,
          2014,
          2015,
          2016,
          2017,
          2018,
          2019,
          2020,
          2021,
          2010,
          2011,
          2012,
          2013,
          2014,
          2015,
          2016,
          2017,
          2018,
          2019,
          2020,
          2021,
          2010,
          2011,
          2012,
          2013,
          2014,
          2015,
          2016,
          2017,
          2019,
          2020,
          2021,
          2010,
          2011,
          2012,
          2013,
          2014,
          2015,
          2016,
          2017,
          2018,
          2019,
          2020,
          2021,
          2010,
          2011,
          2012,
          2013,
          2010,
          2011,
          2012,
          2013,
          2014,
          2015,
          2016,
          2017,
          2018,
          2019,
          2020,
          2021,
          2010,
          2011,
          2012,
          2013,
          2014,
          2015,
          2016,
          2017,
          2018,
          2019,
          2020,
          2021,
          2010,
          2011,
          2012,
          2013,
          2014,
          2015,
          2016,
          2017,
          2018,
          2019,
          2020,
          2021,
          2010,
          2011,
          2012,
          2013,
          2014,
          2015,
          2016,
          2017,
          2018,
          2019,
          2020
         ],
         "xaxis": "x",
         "y": [
          181390,
          124380,
          183739,
          195446,
          123195,
          195656,
          160759,
          212150,
          257340,
          258104,
          313358,
          251556,
          12315,
          14961,
          17060,
          18555,
          19240,
          22184,
          26557,
          29202,
          24711,
          27278,
          27320,
          29185,
          0,
          1,
          0,
          0,
          0,
          0,
          0,
          0,
          17,
          4556,
          10342,
          7241,
          6819,
          1773,
          2708,
          2003,
          4270,
          3105,
          2883,
          3166,
          2639,
          5683,
          8103,
          6194,
          4861,
          7517,
          13935,
          8252,
          4308,
          4091,
          4285,
          19556,
          62383,
          30,
          0,
          126,
          14,
          69,
          22,
          1,
          2335,
          962,
          249,
          576,
          550,
          302,
          710,
          616,
          518,
          450,
          340,
          216,
          95,
          108,
          166,
          213,
          583250,
          356994,
          576295,
          934987,
          801985,
          1007042,
          1132960,
          1101305,
          1016928,
          1429288,
          1393410,
          1230921,
          2020115,
          1678904,
          1517627,
          1417810,
          1584001,
          1630483,
          1519351,
          1503630,
          1755264,
          2038224,
          1360227
         ],
         "yaxis": "y"
        },
        {
         "alignmentgroup": "True",
         "hovertemplate": "color=Spain<br>x=%{x}<br>y=%{y}<extra></extra>",
         "legendgroup": "Spain",
         "marker": {
          "color": "#FF6692",
          "pattern": {
           "shape": ""
          }
         },
         "name": "Spain",
         "offsetgroup": "Spain",
         "orientation": "v",
         "showlegend": true,
         "textposition": "auto",
         "type": "bar",
         "x": [
          2021,
          2010,
          2011,
          2012,
          2013,
          2014,
          2015,
          2016,
          2017,
          2018,
          2019,
          2020,
          2015,
          2016,
          2017,
          2018,
          2020,
          2015,
          2016,
          2017,
          2018,
          2019,
          2020,
          2010,
          2011,
          2012,
          2013,
          2014,
          2015,
          2016,
          2017,
          2018,
          2019,
          2020,
          2021,
          2010,
          2011,
          2012,
          2013,
          2014,
          2015,
          2016,
          2017,
          2018,
          2019,
          2020,
          2021,
          2014,
          2018,
          2010,
          2011,
          2012,
          2013,
          2014,
          2015,
          2016,
          2017,
          2018,
          2019,
          2020,
          2021,
          2010,
          2011,
          2012,
          2013,
          2014,
          2015,
          2016,
          2017,
          2018,
          2019,
          2012,
          2013,
          2018,
          2014,
          2015,
          2016,
          2017,
          2018,
          2019,
          2020,
          2021,
          2010,
          2011,
          2012,
          2013,
          2014,
          2015,
          2016,
          2017,
          2018,
          2019,
          2020,
          2021,
          2019,
          2021,
          2010,
          2011,
          2012,
          2013,
          2014,
          2015,
          2016,
          2017,
          2018,
          2019,
          2020,
          2021,
          2010,
          2011,
          2012,
          2013,
          2015,
          2016,
          2017,
          2018,
          2019,
          2021,
          2014,
          2018,
          2010,
          2011,
          2012,
          2013,
          2014,
          2015,
          2018,
          2019,
          2020,
          2021,
          2012,
          2013,
          2014,
          2018,
          2019,
          2020,
          2021,
          2010,
          2011,
          2012,
          2013
         ],
         "xaxis": "x",
         "y": [
          1390949,
          210,
          11,
          191,
          82,
          47,
          41,
          34,
          34,
          26,
          26,
          21,
          18,
          132,
          220,
          60,
          227,
          2791,
          6278,
          12533,
          13221,
          6079,
          1508,
          2097,
          637,
          308,
          196,
          18,
          31,
          349,
          1422,
          943,
          694,
          1661,
          2007,
          278,
          955,
          1123,
          380,
          40,
          407,
          675,
          105,
          128,
          290,
          89271,
          191024,
          191404,
          164770,
          107821,
          72625,
          69559,
          193232,
          244419,
          306244,
          320721,
          510248,
          69344,
          80605,
          84803,
          87015,
          90341,
          61736,
          68995,
          68817,
          59217,
          67586,
          51896,
          56432,
          737,
          901,
          593,
          500,
          492,
          448,
          758,
          376,
          623,
          344,
          362,
          534,
          1,
          1,
          24,
          55,
          26,
          1,
          20,
          7198,
          4423,
          7179,
          5386,
          6273,
          4105,
          7335,
          3287,
          457,
          37423,
          2853,
          3618,
          168615,
          185603,
          158419,
          210084,
          211017,
          180451,
          149731,
          160020,
          147218,
          121473,
          95460,
          100959,
          2554,
          1489,
          350,
          1351,
          4372,
          903,
          2110,
          3130,
          12807,
          2286,
          0,
          0,
          11,
          23,
          22,
          29,
          23,
          63,
          41,
          44,
          50,
          50,
          59,
          59,
          151602,
          78293,
          55728,
          54496,
          75943
         ],
         "yaxis": "y"
        },
        {
         "alignmentgroup": "True",
         "hovertemplate": "color=United States of America<br>x=%{x}<br>y=%{y}<extra></extra>",
         "legendgroup": "United States of America",
         "marker": {
          "color": "#B6E880",
          "pattern": {
           "shape": ""
          }
         },
         "name": "United States of America",
         "offsetgroup": "United States of America",
         "orientation": "v",
         "showlegend": true,
         "textposition": "auto",
         "type": "bar",
         "x": [
          2014,
          2015,
          2016,
          2017,
          2018,
          2019,
          2020,
          2021,
          2010,
          2011,
          2012,
          2013,
          2014,
          2015,
          2016,
          2017,
          2018,
          2019,
          2020,
          2021,
          2010,
          2011,
          2012,
          2013,
          2014,
          2015,
          2016,
          2017,
          2018,
          2019,
          2020
         ],
         "xaxis": "x",
         "y": [
          44508,
          51767,
          30436,
          44416,
          23126,
          49474,
          45015,
          24223,
          34831,
          55059,
          34004,
          19406,
          40763,
          48227,
          63160,
          65119,
          61663,
          57611,
          55818,
          8219,
          7622,
          6460,
          6789,
          9220,
          10076,
          11859,
          10458,
          9756,
          6043,
          4857,
          5914
         ],
         "yaxis": "y"
        }
       ],
       "layout": {
        "barmode": "relative",
        "legend": {
         "title": {
          "text": "color"
         },
         "tracegroupgap": 0
        },
        "template": {
         "data": {
          "bar": [
           {
            "error_x": {
             "color": "#2a3f5f"
            },
            "error_y": {
             "color": "#2a3f5f"
            },
            "marker": {
             "line": {
              "color": "#E5ECF6",
              "width": 0.5
             },
             "pattern": {
              "fillmode": "overlay",
              "size": 10,
              "solidity": 0.2
             }
            },
            "type": "bar"
           }
          ],
          "barpolar": [
           {
            "marker": {
             "line": {
              "color": "#E5ECF6",
              "width": 0.5
             },
             "pattern": {
              "fillmode": "overlay",
              "size": 10,
              "solidity": 0.2
             }
            },
            "type": "barpolar"
           }
          ],
          "carpet": [
           {
            "aaxis": {
             "endlinecolor": "#2a3f5f",
             "gridcolor": "white",
             "linecolor": "white",
             "minorgridcolor": "white",
             "startlinecolor": "#2a3f5f"
            },
            "baxis": {
             "endlinecolor": "#2a3f5f",
             "gridcolor": "white",
             "linecolor": "white",
             "minorgridcolor": "white",
             "startlinecolor": "#2a3f5f"
            },
            "type": "carpet"
           }
          ],
          "choropleth": [
           {
            "colorbar": {
             "outlinewidth": 0,
             "ticks": ""
            },
            "type": "choropleth"
           }
          ],
          "contour": [
           {
            "colorbar": {
             "outlinewidth": 0,
             "ticks": ""
            },
            "colorscale": [
             [
              0,
              "#0d0887"
             ],
             [
              0.1111111111111111,
              "#46039f"
             ],
             [
              0.2222222222222222,
              "#7201a8"
             ],
             [
              0.3333333333333333,
              "#9c179e"
             ],
             [
              0.4444444444444444,
              "#bd3786"
             ],
             [
              0.5555555555555556,
              "#d8576b"
             ],
             [
              0.6666666666666666,
              "#ed7953"
             ],
             [
              0.7777777777777778,
              "#fb9f3a"
             ],
             [
              0.8888888888888888,
              "#fdca26"
             ],
             [
              1,
              "#f0f921"
             ]
            ],
            "type": "contour"
           }
          ],
          "contourcarpet": [
           {
            "colorbar": {
             "outlinewidth": 0,
             "ticks": ""
            },
            "type": "contourcarpet"
           }
          ],
          "heatmap": [
           {
            "colorbar": {
             "outlinewidth": 0,
             "ticks": ""
            },
            "colorscale": [
             [
              0,
              "#0d0887"
             ],
             [
              0.1111111111111111,
              "#46039f"
             ],
             [
              0.2222222222222222,
              "#7201a8"
             ],
             [
              0.3333333333333333,
              "#9c179e"
             ],
             [
              0.4444444444444444,
              "#bd3786"
             ],
             [
              0.5555555555555556,
              "#d8576b"
             ],
             [
              0.6666666666666666,
              "#ed7953"
             ],
             [
              0.7777777777777778,
              "#fb9f3a"
             ],
             [
              0.8888888888888888,
              "#fdca26"
             ],
             [
              1,
              "#f0f921"
             ]
            ],
            "type": "heatmap"
           }
          ],
          "heatmapgl": [
           {
            "colorbar": {
             "outlinewidth": 0,
             "ticks": ""
            },
            "colorscale": [
             [
              0,
              "#0d0887"
             ],
             [
              0.1111111111111111,
              "#46039f"
             ],
             [
              0.2222222222222222,
              "#7201a8"
             ],
             [
              0.3333333333333333,
              "#9c179e"
             ],
             [
              0.4444444444444444,
              "#bd3786"
             ],
             [
              0.5555555555555556,
              "#d8576b"
             ],
             [
              0.6666666666666666,
              "#ed7953"
             ],
             [
              0.7777777777777778,
              "#fb9f3a"
             ],
             [
              0.8888888888888888,
              "#fdca26"
             ],
             [
              1,
              "#f0f921"
             ]
            ],
            "type": "heatmapgl"
           }
          ],
          "histogram": [
           {
            "marker": {
             "pattern": {
              "fillmode": "overlay",
              "size": 10,
              "solidity": 0.2
             }
            },
            "type": "histogram"
           }
          ],
          "histogram2d": [
           {
            "colorbar": {
             "outlinewidth": 0,
             "ticks": ""
            },
            "colorscale": [
             [
              0,
              "#0d0887"
             ],
             [
              0.1111111111111111,
              "#46039f"
             ],
             [
              0.2222222222222222,
              "#7201a8"
             ],
             [
              0.3333333333333333,
              "#9c179e"
             ],
             [
              0.4444444444444444,
              "#bd3786"
             ],
             [
              0.5555555555555556,
              "#d8576b"
             ],
             [
              0.6666666666666666,
              "#ed7953"
             ],
             [
              0.7777777777777778,
              "#fb9f3a"
             ],
             [
              0.8888888888888888,
              "#fdca26"
             ],
             [
              1,
              "#f0f921"
             ]
            ],
            "type": "histogram2d"
           }
          ],
          "histogram2dcontour": [
           {
            "colorbar": {
             "outlinewidth": 0,
             "ticks": ""
            },
            "colorscale": [
             [
              0,
              "#0d0887"
             ],
             [
              0.1111111111111111,
              "#46039f"
             ],
             [
              0.2222222222222222,
              "#7201a8"
             ],
             [
              0.3333333333333333,
              "#9c179e"
             ],
             [
              0.4444444444444444,
              "#bd3786"
             ],
             [
              0.5555555555555556,
              "#d8576b"
             ],
             [
              0.6666666666666666,
              "#ed7953"
             ],
             [
              0.7777777777777778,
              "#fb9f3a"
             ],
             [
              0.8888888888888888,
              "#fdca26"
             ],
             [
              1,
              "#f0f921"
             ]
            ],
            "type": "histogram2dcontour"
           }
          ],
          "mesh3d": [
           {
            "colorbar": {
             "outlinewidth": 0,
             "ticks": ""
            },
            "type": "mesh3d"
           }
          ],
          "parcoords": [
           {
            "line": {
             "colorbar": {
              "outlinewidth": 0,
              "ticks": ""
             }
            },
            "type": "parcoords"
           }
          ],
          "pie": [
           {
            "automargin": true,
            "type": "pie"
           }
          ],
          "scatter": [
           {
            "fillpattern": {
             "fillmode": "overlay",
             "size": 10,
             "solidity": 0.2
            },
            "type": "scatter"
           }
          ],
          "scatter3d": [
           {
            "line": {
             "colorbar": {
              "outlinewidth": 0,
              "ticks": ""
             }
            },
            "marker": {
             "colorbar": {
              "outlinewidth": 0,
              "ticks": ""
             }
            },
            "type": "scatter3d"
           }
          ],
          "scattercarpet": [
           {
            "marker": {
             "colorbar": {
              "outlinewidth": 0,
              "ticks": ""
             }
            },
            "type": "scattercarpet"
           }
          ],
          "scattergeo": [
           {
            "marker": {
             "colorbar": {
              "outlinewidth": 0,
              "ticks": ""
             }
            },
            "type": "scattergeo"
           }
          ],
          "scattergl": [
           {
            "marker": {
             "colorbar": {
              "outlinewidth": 0,
              "ticks": ""
             }
            },
            "type": "scattergl"
           }
          ],
          "scattermapbox": [
           {
            "marker": {
             "colorbar": {
              "outlinewidth": 0,
              "ticks": ""
             }
            },
            "type": "scattermapbox"
           }
          ],
          "scatterpolar": [
           {
            "marker": {
             "colorbar": {
              "outlinewidth": 0,
              "ticks": ""
             }
            },
            "type": "scatterpolar"
           }
          ],
          "scatterpolargl": [
           {
            "marker": {
             "colorbar": {
              "outlinewidth": 0,
              "ticks": ""
             }
            },
            "type": "scatterpolargl"
           }
          ],
          "scatterternary": [
           {
            "marker": {
             "colorbar": {
              "outlinewidth": 0,
              "ticks": ""
             }
            },
            "type": "scatterternary"
           }
          ],
          "surface": [
           {
            "colorbar": {
             "outlinewidth": 0,
             "ticks": ""
            },
            "colorscale": [
             [
              0,
              "#0d0887"
             ],
             [
              0.1111111111111111,
              "#46039f"
             ],
             [
              0.2222222222222222,
              "#7201a8"
             ],
             [
              0.3333333333333333,
              "#9c179e"
             ],
             [
              0.4444444444444444,
              "#bd3786"
             ],
             [
              0.5555555555555556,
              "#d8576b"
             ],
             [
              0.6666666666666666,
              "#ed7953"
             ],
             [
              0.7777777777777778,
              "#fb9f3a"
             ],
             [
              0.8888888888888888,
              "#fdca26"
             ],
             [
              1,
              "#f0f921"
             ]
            ],
            "type": "surface"
           }
          ],
          "table": [
           {
            "cells": {
             "fill": {
              "color": "#EBF0F8"
             },
             "line": {
              "color": "white"
             }
            },
            "header": {
             "fill": {
              "color": "#C8D4E3"
             },
             "line": {
              "color": "white"
             }
            },
            "type": "table"
           }
          ]
         },
         "layout": {
          "annotationdefaults": {
           "arrowcolor": "#2a3f5f",
           "arrowhead": 0,
           "arrowwidth": 1
          },
          "autotypenumbers": "strict",
          "coloraxis": {
           "colorbar": {
            "outlinewidth": 0,
            "ticks": ""
           }
          },
          "colorscale": {
           "diverging": [
            [
             0,
             "#8e0152"
            ],
            [
             0.1,
             "#c51b7d"
            ],
            [
             0.2,
             "#de77ae"
            ],
            [
             0.3,
             "#f1b6da"
            ],
            [
             0.4,
             "#fde0ef"
            ],
            [
             0.5,
             "#f7f7f7"
            ],
            [
             0.6,
             "#e6f5d0"
            ],
            [
             0.7,
             "#b8e186"
            ],
            [
             0.8,
             "#7fbc41"
            ],
            [
             0.9,
             "#4d9221"
            ],
            [
             1,
             "#276419"
            ]
           ],
           "sequential": [
            [
             0,
             "#0d0887"
            ],
            [
             0.1111111111111111,
             "#46039f"
            ],
            [
             0.2222222222222222,
             "#7201a8"
            ],
            [
             0.3333333333333333,
             "#9c179e"
            ],
            [
             0.4444444444444444,
             "#bd3786"
            ],
            [
             0.5555555555555556,
             "#d8576b"
            ],
            [
             0.6666666666666666,
             "#ed7953"
            ],
            [
             0.7777777777777778,
             "#fb9f3a"
            ],
            [
             0.8888888888888888,
             "#fdca26"
            ],
            [
             1,
             "#f0f921"
            ]
           ],
           "sequentialminus": [
            [
             0,
             "#0d0887"
            ],
            [
             0.1111111111111111,
             "#46039f"
            ],
            [
             0.2222222222222222,
             "#7201a8"
            ],
            [
             0.3333333333333333,
             "#9c179e"
            ],
            [
             0.4444444444444444,
             "#bd3786"
            ],
            [
             0.5555555555555556,
             "#d8576b"
            ],
            [
             0.6666666666666666,
             "#ed7953"
            ],
            [
             0.7777777777777778,
             "#fb9f3a"
            ],
            [
             0.8888888888888888,
             "#fdca26"
            ],
            [
             1,
             "#f0f921"
            ]
           ]
          },
          "colorway": [
           "#636efa",
           "#EF553B",
           "#00cc96",
           "#ab63fa",
           "#FFA15A",
           "#19d3f3",
           "#FF6692",
           "#B6E880",
           "#FF97FF",
           "#FECB52"
          ],
          "font": {
           "color": "#2a3f5f"
          },
          "geo": {
           "bgcolor": "white",
           "lakecolor": "white",
           "landcolor": "#E5ECF6",
           "showlakes": true,
           "showland": true,
           "subunitcolor": "white"
          },
          "hoverlabel": {
           "align": "left"
          },
          "hovermode": "closest",
          "mapbox": {
           "style": "light"
          },
          "paper_bgcolor": "white",
          "plot_bgcolor": "#E5ECF6",
          "polar": {
           "angularaxis": {
            "gridcolor": "white",
            "linecolor": "white",
            "ticks": ""
           },
           "bgcolor": "#E5ECF6",
           "radialaxis": {
            "gridcolor": "white",
            "linecolor": "white",
            "ticks": ""
           }
          },
          "scene": {
           "xaxis": {
            "backgroundcolor": "#E5ECF6",
            "gridcolor": "white",
            "gridwidth": 2,
            "linecolor": "white",
            "showbackground": true,
            "ticks": "",
            "zerolinecolor": "white"
           },
           "yaxis": {
            "backgroundcolor": "#E5ECF6",
            "gridcolor": "white",
            "gridwidth": 2,
            "linecolor": "white",
            "showbackground": true,
            "ticks": "",
            "zerolinecolor": "white"
           },
           "zaxis": {
            "backgroundcolor": "#E5ECF6",
            "gridcolor": "white",
            "gridwidth": 2,
            "linecolor": "white",
            "showbackground": true,
            "ticks": "",
            "zerolinecolor": "white"
           }
          },
          "shapedefaults": {
           "line": {
            "color": "#2a3f5f"
           }
          },
          "ternary": {
           "aaxis": {
            "gridcolor": "white",
            "linecolor": "white",
            "ticks": ""
           },
           "baxis": {
            "gridcolor": "white",
            "linecolor": "white",
            "ticks": ""
           },
           "bgcolor": "#E5ECF6",
           "caxis": {
            "gridcolor": "white",
            "linecolor": "white",
            "ticks": ""
           }
          },
          "title": {
           "x": 0.05
          },
          "xaxis": {
           "automargin": true,
           "gridcolor": "white",
           "linecolor": "white",
           "ticks": "",
           "title": {
            "standoff": 15
           },
           "zerolinecolor": "white",
           "zerolinewidth": 2
          },
          "yaxis": {
           "automargin": true,
           "gridcolor": "white",
           "linecolor": "white",
           "ticks": "",
           "title": {
            "standoff": 15
           },
           "zerolinecolor": "white",
           "zerolinewidth": 2
          }
         }
        },
        "title": {
         "text": "Yearly Export Quantity of all Countries specified"
        },
        "xaxis": {
         "anchor": "y",
         "domain": [
          0,
          1
         ],
         "title": {
          "text": "x"
         }
        },
        "yaxis": {
         "anchor": "x",
         "domain": [
          0,
          1
         ],
         "title": {
          "text": "y"
         }
        }
       }
      }
     },
     "metadata": {},
     "output_type": "display_data"
    }
   ],
   "source": [
    "fig4 = px.bar(y=data['Export Quantity'], x=data['Year'], color=data['Area'], title='Yearly Export Quantity of all Countries specified')\n",
    "fig4.show();"
   ]
  },
  {
   "cell_type": "code",
   "execution_count": 27,
   "id": "762c9876",
   "metadata": {},
   "outputs": [
    {
     "data": {
      "application/vnd.plotly.v1+json": {
       "config": {
        "plotlyServerURL": "https://plot.ly"
       },
       "data": [
        {
         "alignmentgroup": "True",
         "hovertemplate": "x=%{x}<br>y=%{y}<extra></extra>",
         "legendgroup": "",
         "marker": {
          "color": "#636efa",
          "pattern": {
           "shape": ""
          }
         },
         "name": "",
         "offsetgroup": "",
         "orientation": "v",
         "showlegend": false,
         "textposition": "auto",
         "type": "bar",
         "x": [
          "France",
          "France",
          "France",
          "France",
          "France",
          "France",
          "France",
          "France",
          "France",
          "France",
          "France",
          "France",
          "France",
          "France",
          "France",
          "France",
          "France",
          "France",
          "France",
          "France",
          "France",
          "France",
          "France",
          "France",
          "France",
          "France",
          "France",
          "France",
          "France",
          "France",
          "France",
          "France",
          "France",
          "France",
          "France",
          "France",
          "France",
          "France",
          "France",
          "France",
          "France",
          "France",
          "France",
          "France",
          "France",
          "France",
          "France",
          "France",
          "France",
          "France",
          "France",
          "France",
          "France",
          "France",
          "France",
          "France",
          "France",
          "France",
          "France",
          "France",
          "France",
          "France",
          "France",
          "France",
          "France",
          "France",
          "France",
          "France",
          "France",
          "France",
          "France",
          "France",
          "France",
          "France",
          "France",
          "France",
          "France",
          "France",
          "France",
          "France",
          "France",
          "France",
          "France",
          "France",
          "France",
          "France",
          "France",
          "France",
          "France",
          "France",
          "France",
          "France",
          "France",
          "France",
          "France",
          "France",
          "France",
          "France",
          "France",
          "France",
          "France",
          "France",
          "France",
          "France",
          "France",
          "France",
          "France",
          "France",
          "France",
          "France",
          "France",
          "France",
          "France",
          "France",
          "France",
          "France",
          "France",
          "France",
          "France",
          "France",
          "France",
          "France",
          "France",
          "France",
          "France",
          "France",
          "France",
          "France",
          "France",
          "France",
          "France",
          "France",
          "France",
          "France",
          "France",
          "France",
          "France",
          "France",
          "France",
          "France",
          "France",
          "France",
          "France",
          "France",
          "France",
          "France",
          "France",
          "France",
          "France",
          "France",
          "France",
          "France",
          "Germany",
          "Germany",
          "Germany",
          "Germany",
          "Germany",
          "Germany",
          "Germany",
          "Germany",
          "Germany",
          "Germany",
          "Germany",
          "Germany",
          "Germany",
          "Germany",
          "Germany",
          "Germany",
          "Germany",
          "Germany",
          "Germany",
          "Germany",
          "Germany",
          "Germany",
          "Germany",
          "Germany",
          "Germany",
          "Germany",
          "Germany",
          "Germany",
          "Germany",
          "Germany",
          "Germany",
          "Germany",
          "Germany",
          "Germany",
          "Germany",
          "Germany",
          "Germany",
          "Germany",
          "Germany",
          "Germany",
          "Germany",
          "Germany",
          "Germany",
          "Germany",
          "Germany",
          "Germany",
          "Germany",
          "Germany",
          "Germany",
          "Germany",
          "Germany",
          "Germany",
          "Germany",
          "Germany",
          "Germany",
          "Germany",
          "Germany",
          "Germany",
          "Germany",
          "Germany",
          "Germany",
          "Germany",
          "Germany",
          "Germany",
          "Germany",
          "Germany",
          "Germany",
          "Germany",
          "Germany",
          "Germany",
          "Germany",
          "Germany",
          "Germany",
          "Germany",
          "Germany",
          "Germany",
          "Germany",
          "Germany",
          "Germany",
          "Germany",
          "Germany",
          "Germany",
          "Germany",
          "Germany",
          "Germany",
          "Germany",
          "Germany",
          "Germany",
          "Germany",
          "Germany",
          "Germany",
          "Germany",
          "Germany",
          "Germany",
          "Germany",
          "Germany",
          "Germany",
          "Germany",
          "Germany",
          "Germany",
          "Germany",
          "Germany",
          "Germany",
          "Germany",
          "Germany",
          "Germany",
          "Germany",
          "Germany",
          "Germany",
          "Germany",
          "Germany",
          "Germany",
          "Germany",
          "Germany",
          "Germany",
          "Germany",
          "Germany",
          "Germany",
          "Germany",
          "Germany",
          "Germany",
          "Germany",
          "Germany",
          "Germany",
          "Germany",
          "Germany",
          "Germany",
          "Germany",
          "Germany",
          "Germany",
          "Germany",
          "Germany",
          "Germany",
          "Germany",
          "Germany",
          "Germany",
          "Germany",
          "Germany",
          "Germany",
          "Germany",
          "Germany",
          "Germany",
          "Germany",
          "Germany",
          "Germany",
          "Germany",
          "Germany",
          "Germany",
          "Germany",
          "Germany",
          "Ghana",
          "Ghana",
          "Ghana",
          "Ghana",
          "Ghana",
          "Ghana",
          "Ghana",
          "Ghana",
          "Ghana",
          "Ghana",
          "Ghana",
          "Ghana",
          "Ghana",
          "Ghana",
          "Ghana",
          "Ghana",
          "Ghana",
          "Ghana",
          "Ghana",
          "Ghana",
          "Ghana",
          "Ghana",
          "Ghana",
          "Ghana",
          "Ghana",
          "Ghana",
          "Ghana",
          "Ghana",
          "Ghana",
          "Ghana",
          "Ghana",
          "Ghana",
          "Ghana",
          "Ghana",
          "Ghana",
          "Ghana",
          "Ghana",
          "Ghana",
          "Ghana",
          "Ghana",
          "Ghana",
          "Ghana",
          "Ghana",
          "Ghana",
          "Ghana",
          "Ghana",
          "Ghana",
          "Ghana",
          "Ghana",
          "Ghana",
          "Ghana",
          "Ghana",
          "Ghana",
          "Ghana",
          "Ghana",
          "Ghana",
          "Ghana",
          "Ghana",
          "Ghana",
          "Ghana",
          "Ghana",
          "Ghana",
          "Ghana",
          "Ghana",
          "Ghana",
          "Ghana",
          "Ghana",
          "Ghana",
          "Ghana",
          "Ghana",
          "Ghana",
          "Ghana",
          "Ghana",
          "Ghana",
          "Ghana",
          "Ghana",
          "Ghana",
          "Ghana",
          "Ghana",
          "Ghana",
          "Ghana",
          "Ghana",
          "Ghana",
          "Ghana",
          "Ghana",
          "Ghana",
          "Ghana",
          "Ghana",
          "Ghana",
          "Ghana",
          "Ghana",
          "Ghana",
          "Ghana",
          "Ghana",
          "Ghana",
          "Ghana",
          "Ghana",
          "Ghana",
          "Ghana",
          "Ghana",
          "Ghana",
          "Ghana",
          "Ghana",
          "Ghana",
          "Ghana",
          "Ghana",
          "Ghana",
          "Ghana",
          "Ghana",
          "Ghana",
          "Ghana",
          "Ghana",
          "Ghana",
          "Ghana",
          "Ghana",
          "Ghana",
          "Ireland",
          "Ireland",
          "Ireland",
          "Ireland",
          "Ireland",
          "Ireland",
          "Ireland",
          "Ireland",
          "Ireland",
          "Ireland",
          "Ireland",
          "Ireland",
          "Ireland",
          "Ireland",
          "Ireland",
          "Ireland",
          "Ireland",
          "Ireland",
          "Ireland",
          "Ireland",
          "Ireland",
          "Ireland",
          "Ireland",
          "Ireland",
          "Ireland",
          "Ireland",
          "Ireland",
          "Ireland",
          "Ireland",
          "Ireland",
          "Ireland",
          "Ireland",
          "Ireland",
          "Ireland",
          "Ireland",
          "Ireland",
          "Ireland",
          "Ireland",
          "Ireland",
          "Ireland",
          "Ireland",
          "Ireland",
          "Ireland",
          "Ireland",
          "Ireland",
          "Ireland",
          "Ireland",
          "Ireland",
          "Ireland",
          "Ireland",
          "Ireland",
          "Ireland",
          "Ireland",
          "Ireland",
          "Ireland",
          "Ireland",
          "Ireland",
          "Ireland",
          "Ireland",
          "Ireland",
          "Ireland",
          "Ireland",
          "Ireland",
          "Ireland",
          "Ireland",
          "Ireland",
          "Ireland",
          "Ireland",
          "Ireland",
          "Ireland",
          "Ireland",
          "Ireland",
          "Ireland",
          "Ireland",
          "Ireland",
          "Ireland",
          "Ireland",
          "Ireland",
          "Ireland",
          "Ireland",
          "Ireland",
          "Ireland",
          "Ireland",
          "Ireland",
          "Ireland",
          "Ireland",
          "Ireland",
          "Ireland",
          "Ireland",
          "Ireland",
          "Ireland",
          "Ireland",
          "Ireland",
          "Ireland",
          "Ireland",
          "Ireland",
          "Ireland",
          "Ireland",
          "Ireland",
          "Ireland",
          "Ireland",
          "Ireland",
          "Ireland",
          "Ireland",
          "Ireland",
          "Ireland",
          "Ireland",
          "Ireland",
          "Ireland",
          "Ireland",
          "Ireland",
          "Ireland",
          "Ireland",
          "Ireland",
          "Ireland",
          "Ireland",
          "Ireland",
          "Ireland",
          "Ireland",
          "Ireland",
          "Ireland",
          "Ireland",
          "Ireland",
          "Ireland",
          "Ireland",
          "Ireland",
          "Ireland",
          "Ireland",
          "Ireland",
          "Italy",
          "Italy",
          "Italy",
          "Italy",
          "Italy",
          "Italy",
          "Italy",
          "Italy",
          "Italy",
          "Italy",
          "Italy",
          "Italy",
          "Italy",
          "Italy",
          "Italy",
          "Italy",
          "Italy",
          "Italy",
          "Italy",
          "Italy",
          "Italy",
          "Italy",
          "Italy",
          "Italy",
          "Italy",
          "Italy",
          "Italy",
          "Italy",
          "Italy",
          "Italy",
          "Italy",
          "Italy",
          "Italy",
          "Italy",
          "Italy",
          "Italy",
          "Italy",
          "Italy",
          "Italy",
          "Italy",
          "Italy",
          "Italy",
          "Italy",
          "Italy",
          "Italy",
          "Italy",
          "Italy",
          "Italy",
          "Italy",
          "Italy",
          "Italy",
          "Italy",
          "Italy",
          "Italy",
          "Italy",
          "Italy",
          "Italy",
          "Italy",
          "Italy",
          "Italy",
          "Italy",
          "Italy",
          "Italy",
          "Italy",
          "Italy",
          "Italy",
          "Italy",
          "Italy",
          "Italy",
          "Italy",
          "Italy",
          "Italy",
          "Italy",
          "Italy",
          "Italy",
          "Italy",
          "Italy",
          "Italy",
          "Italy",
          "Italy",
          "Italy",
          "Italy",
          "Italy",
          "Italy",
          "Italy",
          "Italy",
          "Italy",
          "Italy",
          "Italy",
          "Italy",
          "Italy",
          "Italy",
          "Italy",
          "Italy",
          "Italy",
          "Italy",
          "Italy",
          "Italy",
          "Italy",
          "Italy",
          "Italy",
          "Italy",
          "Italy",
          "Italy",
          "Italy",
          "Italy",
          "Italy",
          "Italy",
          "Italy",
          "Italy",
          "Italy",
          "Italy",
          "Italy",
          "Italy",
          "Italy",
          "Italy",
          "Italy",
          "Italy",
          "Italy",
          "Italy",
          "Italy",
          "Italy",
          "Italy",
          "Italy",
          "Italy",
          "Italy",
          "Italy",
          "Italy",
          "Italy",
          "Italy",
          "Italy",
          "Italy",
          "Italy",
          "Italy",
          "Italy",
          "Italy",
          "Italy",
          "Italy",
          "Italy",
          "Italy",
          "Italy",
          "Italy",
          "Italy",
          "Italy",
          "Italy",
          "Italy",
          "Italy",
          "Italy",
          "Italy",
          "Italy",
          "Italy",
          "Italy",
          "Italy",
          "Italy",
          "Italy",
          "Italy",
          "Italy",
          "Nigeria",
          "Nigeria",
          "Nigeria",
          "Nigeria",
          "Nigeria",
          "Nigeria",
          "Nigeria",
          "Nigeria",
          "Nigeria",
          "Nigeria",
          "Nigeria",
          "Nigeria",
          "Nigeria",
          "Nigeria",
          "Nigeria",
          "Nigeria",
          "Nigeria",
          "Nigeria",
          "Nigeria",
          "Nigeria",
          "Nigeria",
          "Nigeria",
          "Nigeria",
          "Nigeria",
          "Nigeria",
          "Nigeria",
          "Nigeria",
          "Nigeria",
          "Nigeria",
          "Nigeria",
          "Nigeria",
          "Nigeria",
          "Nigeria",
          "Nigeria",
          "Nigeria",
          "Nigeria",
          "Nigeria",
          "Nigeria",
          "Nigeria",
          "Nigeria",
          "Nigeria",
          "Nigeria",
          "Nigeria",
          "Nigeria",
          "Nigeria",
          "Nigeria",
          "Nigeria",
          "Nigeria",
          "Nigeria",
          "Nigeria",
          "Nigeria",
          "Nigeria",
          "Nigeria",
          "Nigeria",
          "Nigeria",
          "Nigeria",
          "Nigeria",
          "Nigeria",
          "Nigeria",
          "Nigeria",
          "Nigeria",
          "Nigeria",
          "Nigeria",
          "Nigeria",
          "Nigeria",
          "Nigeria",
          "Nigeria",
          "Nigeria",
          "Nigeria",
          "Nigeria",
          "Nigeria",
          "Nigeria",
          "Nigeria",
          "Nigeria",
          "Nigeria",
          "Nigeria",
          "Nigeria",
          "Nigeria",
          "Nigeria",
          "Nigeria",
          "Nigeria",
          "Nigeria",
          "Nigeria",
          "Nigeria",
          "Nigeria",
          "Nigeria",
          "Nigeria",
          "Nigeria",
          "Nigeria",
          "Nigeria",
          "Nigeria",
          "Nigeria",
          "Nigeria",
          "Nigeria",
          "Nigeria",
          "Nigeria",
          "Nigeria",
          "Nigeria",
          "Nigeria",
          "Nigeria",
          "Nigeria",
          "Nigeria",
          "Nigeria",
          "Spain",
          "Spain",
          "Spain",
          "Spain",
          "Spain",
          "Spain",
          "Spain",
          "Spain",
          "Spain",
          "Spain",
          "Spain",
          "Spain",
          "Spain",
          "Spain",
          "Spain",
          "Spain",
          "Spain",
          "Spain",
          "Spain",
          "Spain",
          "Spain",
          "Spain",
          "Spain",
          "Spain",
          "Spain",
          "Spain",
          "Spain",
          "Spain",
          "Spain",
          "Spain",
          "Spain",
          "Spain",
          "Spain",
          "Spain",
          "Spain",
          "Spain",
          "Spain",
          "Spain",
          "Spain",
          "Spain",
          "Spain",
          "Spain",
          "Spain",
          "Spain",
          "Spain",
          "Spain",
          "Spain",
          "Spain",
          "Spain",
          "Spain",
          "Spain",
          "Spain",
          "Spain",
          "Spain",
          "Spain",
          "Spain",
          "Spain",
          "Spain",
          "Spain",
          "Spain",
          "Spain",
          "Spain",
          "Spain",
          "Spain",
          "Spain",
          "Spain",
          "Spain",
          "Spain",
          "Spain",
          "Spain",
          "Spain",
          "Spain",
          "Spain",
          "Spain",
          "Spain",
          "Spain",
          "Spain",
          "Spain",
          "Spain",
          "Spain",
          "Spain",
          "Spain",
          "Spain",
          "Spain",
          "Spain",
          "Spain",
          "Spain",
          "Spain",
          "Spain",
          "Spain",
          "Spain",
          "Spain",
          "Spain",
          "Spain",
          "Spain",
          "Spain",
          "Spain",
          "Spain",
          "Spain",
          "Spain",
          "Spain",
          "Spain",
          "Spain",
          "Spain",
          "Spain",
          "Spain",
          "Spain",
          "Spain",
          "Spain",
          "Spain",
          "Spain",
          "Spain",
          "Spain",
          "Spain",
          "Spain",
          "Spain",
          "Spain",
          "Spain",
          "Spain",
          "Spain",
          "Spain",
          "Spain",
          "Spain",
          "Spain",
          "Spain",
          "Spain",
          "Spain",
          "Spain",
          "Spain",
          "Spain",
          "Spain",
          "Spain",
          "Spain",
          "Spain",
          "Spain",
          "Spain",
          "Spain",
          "Spain",
          "Spain",
          "Spain",
          "Spain",
          "United States of America",
          "United States of America",
          "United States of America",
          "United States of America",
          "United States of America",
          "United States of America",
          "United States of America",
          "United States of America",
          "United States of America",
          "United States of America",
          "United States of America",
          "United States of America",
          "United States of America",
          "United States of America",
          "United States of America",
          "United States of America",
          "United States of America",
          "United States of America",
          "United States of America",
          "United States of America",
          "United States of America",
          "United States of America",
          "United States of America",
          "United States of America",
          "United States of America",
          "United States of America",
          "United States of America",
          "United States of America",
          "United States of America",
          "United States of America",
          "United States of America"
         ],
         "xaxis": "x",
         "y": [
          41,
          55,
          34,
          56,
          27,
          30,
          16,
          24,
          19,
          26,
          20,
          16,
          25,
          25,
          23,
          10,
          11,
          1,
          9,
          22,
          12,
          5,
          138623,
          96460,
          153258,
          85528,
          76386,
          59462,
          52897,
          46753,
          75954,
          85147,
          75696,
          64468,
          20858,
          16320,
          17488,
          18100,
          19487,
          19287,
          23322,
          24937,
          23907,
          21010,
          21003,
          20440,
          1,
          1,
          1,
          4,
          272,
          340,
          1056,
          51,
          128,
          199,
          5,
          49,
          3,
          0,
          0,
          0,
          0,
          5,
          0,
          0,
          12126,
          7220,
          1026,
          920,
          1131,
          991,
          356,
          77,
          1027,
          2200,
          1311,
          932,
          6284,
          3471,
          3865,
          6862,
          4707,
          2628,
          1631,
          1671,
          1762,
          4873,
          1884,
          3515,
          2,
          0,
          60,
          49,
          162,
          23,
          5,
          3,
          13,
          84,
          195,
          1765,
          0,
          0,
          454,
          495,
          525,
          519,
          420,
          321,
          215,
          183,
          163,
          114,
          11,
          8,
          541038,
          350640,
          366561,
          373028,
          378580,
          321522,
          264740,
          207476,
          204089,
          166233,
          225057,
          331263,
          316167,
          256673,
          237147,
          155112,
          191015,
          205695,
          194899,
          185385,
          187869,
          156334,
          148846,
          154456,
          1969,
          3359,
          1474,
          760,
          763,
          913,
          1104,
          1301,
          1125,
          2076,
          1294,
          2903,
          0,
          11,
          1,
          17,
          13,
          5,
          4,
          5,
          3,
          13,
          19,
          21,
          2,
          0,
          27,
          187,
          125,
          103,
          34,
          35,
          45,
          77,
          7,
          165,
          77,
          124697,
          108799,
          102908,
          92898,
          91205,
          64025,
          66480,
          76414,
          52625,
          33579,
          35907,
          45156,
          151087,
          177549,
          184023,
          166356,
          183222,
          185061,
          190489,
          185661,
          164936,
          145190,
          148774,
          138707,
          0,
          596,
          1496,
          816,
          426,
          705,
          2514,
          3275,
          2058,
          1463,
          705,
          2691,
          11,
          4,
          12,
          8,
          8,
          10,
          8,
          45,
          29,
          39,
          1220,
          245,
          757,
          620,
          568,
          866,
          736,
          619,
          914,
          1142,
          2070,
          2035,
          2262,
          1865,
          2147,
          2308,
          1849,
          1837,
          1823,
          1966,
          2238,
          2857,
          0,
          0,
          4,
          0,
          1,
          1,
          3,
          1,
          3,
          5,
          1,
          0,
          0,
          0,
          0,
          0,
          0,
          0,
          0,
          0,
          0,
          39260,
          55085,
          57120,
          73014,
          71646,
          80025,
          130204,
          125907,
          172629,
          133637,
          159809,
          233112,
          12173194,
          12902105,
          14191997,
          14150339,
          14894670,
          14368612,
          15542605,
          15191521,
          14052852,
          13777357,
          12389432,
          10628069,
          3814,
          6816,
          7593,
          7979,
          7893,
          6971,
          8231,
          8793,
          12325,
          11805,
          12482,
          12888,
          61,
          1,
          6,
          1,
          1,
          0,
          2,
          0,
          0,
          9,
          3,
          0,
          10,
          7525,
          22191,
          15000,
          2376,
          15000,
          15000,
          15000,
          1283,
          622,
          563,
          2307,
          872,
          2219,
          5081,
          5829,
          7588,
          4539,
          3931,
          7643,
          10731,
          10954,
          14474,
          11288,
          11050,
          8,
          71,
          1,
          2,
          10,
          90,
          112,
          73,
          0,
          0,
          0,
          0,
          41259,
          72543,
          35152,
          8911,
          1029,
          2828,
          4,
          6,
          11,
          1611,
          1325,
          45,
          6,
          0,
          7,
          0,
          31,
          302,
          252,
          96,
          66,
          0,
          15,
          10,
          18,
          8,
          39,
          103,
          72,
          8,
          0,
          0,
          0,
          1,
          0,
          60000,
          80000,
          85309,
          24592,
          20,
          16122,
          16110,
          16691,
          38485,
          34656,
          129,
          343,
          243,
          2,
          0,
          59,
          16,
          35,
          5,
          7,
          33,
          1,
          0,
          2,
          36,
          3,
          3,
          13,
          61,
          91,
          1,
          6,
          0,
          0,
          0,
          27,
          2955,
          124,
          80,
          676,
          4,
          3,
          6,
          1,
          6,
          1973,
          2544,
          98,
          1017,
          4055,
          2791,
          2174,
          8338,
          6494,
          5862,
          7811,
          16376,
          13907,
          23056,
          8832,
          14962,
          19129,
          4840,
          5604,
          7328,
          9587,
          5812,
          7644,
          8129,
          7030,
          7185,
          3,
          1,
          0,
          0,
          0,
          0,
          0,
          65,
          1,
          0,
          0,
          10034,
          0,
          0,
          69,
          27,
          45,
          1875,
          2190,
          3826,
          3940,
          3901,
          2675,
          2780,
          4403,
          2751,
          5228,
          3191,
          3465,
          4,
          0,
          265,
          231,
          371,
          1283,
          1500,
          1480,
          260,
          3006,
          250,
          1685,
          0,
          0,
          0,
          3,
          45,
          32,
          27,
          15,
          4,
          0,
          0,
          0,
          0,
          31006,
          18372,
          222913,
          71284,
          18758,
          12157,
          19543,
          17889,
          19232,
          16831,
          363075,
          317112,
          0,
          245,
          440,
          0,
          6330,
          9394,
          7239,
          53302,
          6823,
          5921,
          6207,
          4757,
          482,
          679,
          546,
          558,
          595,
          699,
          574,
          503,
          505,
          598,
          472,
          208,
          242,
          97,
          24,
          27,
          396,
          704,
          1028,
          20,
          112,
          203,
          4,
          19,
          0,
          0,
          5023,
          1827,
          3923,
          1920,
          2876,
          929,
          236,
          1088,
          2,
          16,
          1,
          10,
          75,
          65,
          12,
          16,
          1368146,
          1341117,
          1212348,
          1155942,
          1134072,
          1072569,
          1150563,
          1153213,
          1073288,
          1083142,
          1060476,
          1099629,
          8474,
          6054,
          8283,
          9241,
          9525,
          12067,
          11922,
          11625,
          9069,
          7216,
          6577,
          8044,
          35,
          51,
          136,
          147,
          125,
          1247,
          1348,
          1162,
          43,
          38,
          7,
          17,
          94,
          87,
          59,
          88,
          43,
          14,
          20,
          21,
          9707,
          9263,
          9544,
          6775,
          5589,
          10318,
          18492,
          7520,
          1616,
          2178,
          550,
          405,
          51482,
          45337,
          38287,
          31907,
          34295,
          36592,
          34422,
          30170,
          24284,
          28361,
          30437,
          30436,
          5,
          1,
          179,
          24,
          169,
          95,
          227,
          2,
          113,
          495,
          541,
          38,
          44,
          117,
          124,
          146,
          136,
          135,
          143,
          103,
          118,
          74,
          117,
          1619278,
          1346178,
          1193682,
          1073517,
          1189731,
          1118457,
          1103678,
          1028912,
          981086,
          842374,
          533557,
          682273,
          959464,
          1131253,
          974574,
          809543,
          1055670,
          1447638,
          1603232,
          1554269,
          1312166,
          1135660,
          1017404,
          1017980,
          1513,
          503,
          381,
          505,
          471,
          317,
          348,
          357,
          181,
          455,
          301,
          13,
          0,
          0,
          3816,
          1704,
          1989,
          9366,
          8052,
          3,
          379,
          1483,
          68,
          0,
          1,
          23,
          0,
          0,
          1101,
          199,
          1094,
          1353,
          10351,
          1960,
          450000,
          500000,
          400000,
          401000,
          400000,
          400000,
          400000,
          400000,
          400000,
          400000,
          400000,
          400000,
          23,
          9,
          20,
          20,
          37,
          55,
          2302,
          119,
          22,
          174,
          57,
          3,
          3,
          7,
          276240,
          256728,
          257176,
          258000,
          103642,
          48582,
          55653,
          89920,
          80000,
          80000,
          62037,
          60000,
          12582,
          13354,
          515,
          191,
          426,
          625,
          206,
          91,
          31,
          88,
          3,
          0,
          1,
          0,
          0,
          0,
          0,
          1,
          0,
          708773,
          317473,
          195368,
          200000,
          150000,
          150000,
          200000,
          200000,
          200000,
          200000,
          200000,
          200000,
          0,
          0,
          0,
          122,
          40,
          160,
          699,
          977,
          305,
          123,
          7,
          0,
          0,
          0,
          0,
          6,
          2,
          2,
          1,
          53,
          164,
          151,
          12,
          27,
          31,
          15,
          1,
          3,
          6,
          702437,
          593647,
          470081,
          818574,
          640469,
          569305,
          643343,
          711877,
          764192,
          734696,
          714144,
          697916,
          61581,
          39832,
          71122,
          59102,
          71205,
          81368,
          67036,
          64906,
          67110,
          49326,
          33532,
          35100,
          397,
          337,
          958,
          816,
          844,
          1052,
          647,
          798,
          1036,
          1094,
          794,
          938,
          0,
          0,
          0,
          0,
          13647,
          9215,
          8471,
          5626,
          10065,
          4919,
          52,
          5225,
          3595,
          43,
          278,
          312,
          1700,
          3617,
          9673,
          7400,
          20465,
          13075,
          110608,
          179763,
          57285,
          28833,
          22325,
          123730,
          3,
          3,
          244,
          72,
          52,
          812,
          32,
          12471,
          1909,
          334,
          3699,
          1026,
          54,
          63,
          57,
          48,
          71,
          25,
          106,
          411,
          114,
          301,
          704,
          917,
          244706,
          371782,
          442600,
          537860,
          394198,
          318499,
          298848,
          335802,
          267087,
          290941,
          313893,
          233498,
          441121,
          548351,
          340755,
          732279,
          1090981,
          1138117,
          795735,
          1042505,
          2140676,
          1729516,
          2620409,
          3091754,
          2726,
          2712,
          3483,
          5308,
          4744,
          5536,
          3567,
          3930,
          4112,
          4717,
          2584,
          1820,
          14,
          3,
          1,
          7,
          5,
          603,
          9,
          405,
          18,
          2159,
          25915,
          34730,
          18189,
          21627,
          28641,
          22992,
          21746,
          16970,
          21355,
          33580,
          23084,
          12,
          1,
          18,
          2308543,
          2123930,
          2141165,
          2033144,
          2358211,
          1985103,
          1708174
         ],
         "yaxis": "y"
        }
       ],
       "layout": {
        "barmode": "relative",
        "legend": {
         "tracegroupgap": 0
        },
        "template": {
         "data": {
          "bar": [
           {
            "error_x": {
             "color": "#2a3f5f"
            },
            "error_y": {
             "color": "#2a3f5f"
            },
            "marker": {
             "line": {
              "color": "#E5ECF6",
              "width": 0.5
             },
             "pattern": {
              "fillmode": "overlay",
              "size": 10,
              "solidity": 0.2
             }
            },
            "type": "bar"
           }
          ],
          "barpolar": [
           {
            "marker": {
             "line": {
              "color": "#E5ECF6",
              "width": 0.5
             },
             "pattern": {
              "fillmode": "overlay",
              "size": 10,
              "solidity": 0.2
             }
            },
            "type": "barpolar"
           }
          ],
          "carpet": [
           {
            "aaxis": {
             "endlinecolor": "#2a3f5f",
             "gridcolor": "white",
             "linecolor": "white",
             "minorgridcolor": "white",
             "startlinecolor": "#2a3f5f"
            },
            "baxis": {
             "endlinecolor": "#2a3f5f",
             "gridcolor": "white",
             "linecolor": "white",
             "minorgridcolor": "white",
             "startlinecolor": "#2a3f5f"
            },
            "type": "carpet"
           }
          ],
          "choropleth": [
           {
            "colorbar": {
             "outlinewidth": 0,
             "ticks": ""
            },
            "type": "choropleth"
           }
          ],
          "contour": [
           {
            "colorbar": {
             "outlinewidth": 0,
             "ticks": ""
            },
            "colorscale": [
             [
              0,
              "#0d0887"
             ],
             [
              0.1111111111111111,
              "#46039f"
             ],
             [
              0.2222222222222222,
              "#7201a8"
             ],
             [
              0.3333333333333333,
              "#9c179e"
             ],
             [
              0.4444444444444444,
              "#bd3786"
             ],
             [
              0.5555555555555556,
              "#d8576b"
             ],
             [
              0.6666666666666666,
              "#ed7953"
             ],
             [
              0.7777777777777778,
              "#fb9f3a"
             ],
             [
              0.8888888888888888,
              "#fdca26"
             ],
             [
              1,
              "#f0f921"
             ]
            ],
            "type": "contour"
           }
          ],
          "contourcarpet": [
           {
            "colorbar": {
             "outlinewidth": 0,
             "ticks": ""
            },
            "type": "contourcarpet"
           }
          ],
          "heatmap": [
           {
            "colorbar": {
             "outlinewidth": 0,
             "ticks": ""
            },
            "colorscale": [
             [
              0,
              "#0d0887"
             ],
             [
              0.1111111111111111,
              "#46039f"
             ],
             [
              0.2222222222222222,
              "#7201a8"
             ],
             [
              0.3333333333333333,
              "#9c179e"
             ],
             [
              0.4444444444444444,
              "#bd3786"
             ],
             [
              0.5555555555555556,
              "#d8576b"
             ],
             [
              0.6666666666666666,
              "#ed7953"
             ],
             [
              0.7777777777777778,
              "#fb9f3a"
             ],
             [
              0.8888888888888888,
              "#fdca26"
             ],
             [
              1,
              "#f0f921"
             ]
            ],
            "type": "heatmap"
           }
          ],
          "heatmapgl": [
           {
            "colorbar": {
             "outlinewidth": 0,
             "ticks": ""
            },
            "colorscale": [
             [
              0,
              "#0d0887"
             ],
             [
              0.1111111111111111,
              "#46039f"
             ],
             [
              0.2222222222222222,
              "#7201a8"
             ],
             [
              0.3333333333333333,
              "#9c179e"
             ],
             [
              0.4444444444444444,
              "#bd3786"
             ],
             [
              0.5555555555555556,
              "#d8576b"
             ],
             [
              0.6666666666666666,
              "#ed7953"
             ],
             [
              0.7777777777777778,
              "#fb9f3a"
             ],
             [
              0.8888888888888888,
              "#fdca26"
             ],
             [
              1,
              "#f0f921"
             ]
            ],
            "type": "heatmapgl"
           }
          ],
          "histogram": [
           {
            "marker": {
             "pattern": {
              "fillmode": "overlay",
              "size": 10,
              "solidity": 0.2
             }
            },
            "type": "histogram"
           }
          ],
          "histogram2d": [
           {
            "colorbar": {
             "outlinewidth": 0,
             "ticks": ""
            },
            "colorscale": [
             [
              0,
              "#0d0887"
             ],
             [
              0.1111111111111111,
              "#46039f"
             ],
             [
              0.2222222222222222,
              "#7201a8"
             ],
             [
              0.3333333333333333,
              "#9c179e"
             ],
             [
              0.4444444444444444,
              "#bd3786"
             ],
             [
              0.5555555555555556,
              "#d8576b"
             ],
             [
              0.6666666666666666,
              "#ed7953"
             ],
             [
              0.7777777777777778,
              "#fb9f3a"
             ],
             [
              0.8888888888888888,
              "#fdca26"
             ],
             [
              1,
              "#f0f921"
             ]
            ],
            "type": "histogram2d"
           }
          ],
          "histogram2dcontour": [
           {
            "colorbar": {
             "outlinewidth": 0,
             "ticks": ""
            },
            "colorscale": [
             [
              0,
              "#0d0887"
             ],
             [
              0.1111111111111111,
              "#46039f"
             ],
             [
              0.2222222222222222,
              "#7201a8"
             ],
             [
              0.3333333333333333,
              "#9c179e"
             ],
             [
              0.4444444444444444,
              "#bd3786"
             ],
             [
              0.5555555555555556,
              "#d8576b"
             ],
             [
              0.6666666666666666,
              "#ed7953"
             ],
             [
              0.7777777777777778,
              "#fb9f3a"
             ],
             [
              0.8888888888888888,
              "#fdca26"
             ],
             [
              1,
              "#f0f921"
             ]
            ],
            "type": "histogram2dcontour"
           }
          ],
          "mesh3d": [
           {
            "colorbar": {
             "outlinewidth": 0,
             "ticks": ""
            },
            "type": "mesh3d"
           }
          ],
          "parcoords": [
           {
            "line": {
             "colorbar": {
              "outlinewidth": 0,
              "ticks": ""
             }
            },
            "type": "parcoords"
           }
          ],
          "pie": [
           {
            "automargin": true,
            "type": "pie"
           }
          ],
          "scatter": [
           {
            "fillpattern": {
             "fillmode": "overlay",
             "size": 10,
             "solidity": 0.2
            },
            "type": "scatter"
           }
          ],
          "scatter3d": [
           {
            "line": {
             "colorbar": {
              "outlinewidth": 0,
              "ticks": ""
             }
            },
            "marker": {
             "colorbar": {
              "outlinewidth": 0,
              "ticks": ""
             }
            },
            "type": "scatter3d"
           }
          ],
          "scattercarpet": [
           {
            "marker": {
             "colorbar": {
              "outlinewidth": 0,
              "ticks": ""
             }
            },
            "type": "scattercarpet"
           }
          ],
          "scattergeo": [
           {
            "marker": {
             "colorbar": {
              "outlinewidth": 0,
              "ticks": ""
             }
            },
            "type": "scattergeo"
           }
          ],
          "scattergl": [
           {
            "marker": {
             "colorbar": {
              "outlinewidth": 0,
              "ticks": ""
             }
            },
            "type": "scattergl"
           }
          ],
          "scattermapbox": [
           {
            "marker": {
             "colorbar": {
              "outlinewidth": 0,
              "ticks": ""
             }
            },
            "type": "scattermapbox"
           }
          ],
          "scatterpolar": [
           {
            "marker": {
             "colorbar": {
              "outlinewidth": 0,
              "ticks": ""
             }
            },
            "type": "scatterpolar"
           }
          ],
          "scatterpolargl": [
           {
            "marker": {
             "colorbar": {
              "outlinewidth": 0,
              "ticks": ""
             }
            },
            "type": "scatterpolargl"
           }
          ],
          "scatterternary": [
           {
            "marker": {
             "colorbar": {
              "outlinewidth": 0,
              "ticks": ""
             }
            },
            "type": "scatterternary"
           }
          ],
          "surface": [
           {
            "colorbar": {
             "outlinewidth": 0,
             "ticks": ""
            },
            "colorscale": [
             [
              0,
              "#0d0887"
             ],
             [
              0.1111111111111111,
              "#46039f"
             ],
             [
              0.2222222222222222,
              "#7201a8"
             ],
             [
              0.3333333333333333,
              "#9c179e"
             ],
             [
              0.4444444444444444,
              "#bd3786"
             ],
             [
              0.5555555555555556,
              "#d8576b"
             ],
             [
              0.6666666666666666,
              "#ed7953"
             ],
             [
              0.7777777777777778,
              "#fb9f3a"
             ],
             [
              0.8888888888888888,
              "#fdca26"
             ],
             [
              1,
              "#f0f921"
             ]
            ],
            "type": "surface"
           }
          ],
          "table": [
           {
            "cells": {
             "fill": {
              "color": "#EBF0F8"
             },
             "line": {
              "color": "white"
             }
            },
            "header": {
             "fill": {
              "color": "#C8D4E3"
             },
             "line": {
              "color": "white"
             }
            },
            "type": "table"
           }
          ]
         },
         "layout": {
          "annotationdefaults": {
           "arrowcolor": "#2a3f5f",
           "arrowhead": 0,
           "arrowwidth": 1
          },
          "autotypenumbers": "strict",
          "coloraxis": {
           "colorbar": {
            "outlinewidth": 0,
            "ticks": ""
           }
          },
          "colorscale": {
           "diverging": [
            [
             0,
             "#8e0152"
            ],
            [
             0.1,
             "#c51b7d"
            ],
            [
             0.2,
             "#de77ae"
            ],
            [
             0.3,
             "#f1b6da"
            ],
            [
             0.4,
             "#fde0ef"
            ],
            [
             0.5,
             "#f7f7f7"
            ],
            [
             0.6,
             "#e6f5d0"
            ],
            [
             0.7,
             "#b8e186"
            ],
            [
             0.8,
             "#7fbc41"
            ],
            [
             0.9,
             "#4d9221"
            ],
            [
             1,
             "#276419"
            ]
           ],
           "sequential": [
            [
             0,
             "#0d0887"
            ],
            [
             0.1111111111111111,
             "#46039f"
            ],
            [
             0.2222222222222222,
             "#7201a8"
            ],
            [
             0.3333333333333333,
             "#9c179e"
            ],
            [
             0.4444444444444444,
             "#bd3786"
            ],
            [
             0.5555555555555556,
             "#d8576b"
            ],
            [
             0.6666666666666666,
             "#ed7953"
            ],
            [
             0.7777777777777778,
             "#fb9f3a"
            ],
            [
             0.8888888888888888,
             "#fdca26"
            ],
            [
             1,
             "#f0f921"
            ]
           ],
           "sequentialminus": [
            [
             0,
             "#0d0887"
            ],
            [
             0.1111111111111111,
             "#46039f"
            ],
            [
             0.2222222222222222,
             "#7201a8"
            ],
            [
             0.3333333333333333,
             "#9c179e"
            ],
            [
             0.4444444444444444,
             "#bd3786"
            ],
            [
             0.5555555555555556,
             "#d8576b"
            ],
            [
             0.6666666666666666,
             "#ed7953"
            ],
            [
             0.7777777777777778,
             "#fb9f3a"
            ],
            [
             0.8888888888888888,
             "#fdca26"
            ],
            [
             1,
             "#f0f921"
            ]
           ]
          },
          "colorway": [
           "#636efa",
           "#EF553B",
           "#00cc96",
           "#ab63fa",
           "#FFA15A",
           "#19d3f3",
           "#FF6692",
           "#B6E880",
           "#FF97FF",
           "#FECB52"
          ],
          "font": {
           "color": "#2a3f5f"
          },
          "geo": {
           "bgcolor": "white",
           "lakecolor": "white",
           "landcolor": "#E5ECF6",
           "showlakes": true,
           "showland": true,
           "subunitcolor": "white"
          },
          "hoverlabel": {
           "align": "left"
          },
          "hovermode": "closest",
          "mapbox": {
           "style": "light"
          },
          "paper_bgcolor": "white",
          "plot_bgcolor": "#E5ECF6",
          "polar": {
           "angularaxis": {
            "gridcolor": "white",
            "linecolor": "white",
            "ticks": ""
           },
           "bgcolor": "#E5ECF6",
           "radialaxis": {
            "gridcolor": "white",
            "linecolor": "white",
            "ticks": ""
           }
          },
          "scene": {
           "xaxis": {
            "backgroundcolor": "#E5ECF6",
            "gridcolor": "white",
            "gridwidth": 2,
            "linecolor": "white",
            "showbackground": true,
            "ticks": "",
            "zerolinecolor": "white"
           },
           "yaxis": {
            "backgroundcolor": "#E5ECF6",
            "gridcolor": "white",
            "gridwidth": 2,
            "linecolor": "white",
            "showbackground": true,
            "ticks": "",
            "zerolinecolor": "white"
           },
           "zaxis": {
            "backgroundcolor": "#E5ECF6",
            "gridcolor": "white",
            "gridwidth": 2,
            "linecolor": "white",
            "showbackground": true,
            "ticks": "",
            "zerolinecolor": "white"
           }
          },
          "shapedefaults": {
           "line": {
            "color": "#2a3f5f"
           }
          },
          "ternary": {
           "aaxis": {
            "gridcolor": "white",
            "linecolor": "white",
            "ticks": ""
           },
           "baxis": {
            "gridcolor": "white",
            "linecolor": "white",
            "ticks": ""
           },
           "bgcolor": "#E5ECF6",
           "caxis": {
            "gridcolor": "white",
            "linecolor": "white",
            "ticks": ""
           }
          },
          "title": {
           "x": 0.05
          },
          "xaxis": {
           "automargin": true,
           "gridcolor": "white",
           "linecolor": "white",
           "ticks": "",
           "title": {
            "standoff": 15
           },
           "zerolinecolor": "white",
           "zerolinewidth": 2
          },
          "yaxis": {
           "automargin": true,
           "gridcolor": "white",
           "linecolor": "white",
           "ticks": "",
           "title": {
            "standoff": 15
           },
           "zerolinecolor": "white",
           "zerolinewidth": 2
          }
         }
        },
        "title": {
         "text": "Import Quantity analysis for each country"
        },
        "xaxis": {
         "anchor": "y",
         "domain": [
          0,
          1
         ],
         "title": {
          "text": "x"
         }
        },
        "yaxis": {
         "anchor": "x",
         "domain": [
          0,
          1
         ],
         "title": {
          "text": "y"
         }
        }
       }
      }
     },
     "metadata": {},
     "output_type": "display_data"
    }
   ],
   "source": [
    "fig2 = px.bar(x=data['Area'], y=data['Import Quantity'], title=\"Import Quantity analysis for each country\")\n",
    "fig2.show();"
   ]
  },
  {
   "cell_type": "code",
   "execution_count": 28,
   "id": "03762860",
   "metadata": {},
   "outputs": [
    {
     "data": {
      "application/vnd.plotly.v1+json": {
       "config": {
        "plotlyServerURL": "https://plot.ly"
       },
       "data": [
        {
         "colorscale": [
          [
           0,
           "#00083e"
          ],
          [
           0.5,
           "#ededee"
          ],
          [
           1,
           "#ffffff"
          ]
         ],
         "hoverinfo": "none",
         "opacity": 0.75,
         "showscale": false,
         "type": "heatmap",
         "z": [
          [
           0,
           0
          ],
          [
           0.5,
           0.5
          ],
          [
           1,
           1
          ],
          [
           0.5,
           0.5
          ],
          [
           1,
           1
          ],
          [
           0.5,
           0.5
          ],
          [
           1,
           1
          ],
          [
           0.5,
           0.5
          ],
          [
           1,
           1
          ]
         ]
        },
        {
         "marker": {
          "color": "#0099ff"
         },
         "name": "Total frequency of all crops",
         "type": "bar",
         "x": [
          "France",
          "Germany",
          "Ghana",
          "Ireland",
          "Italy",
          "Nigeria",
          "Spain",
          "United States of America"
         ],
         "xaxis": "x2",
         "y": [
          157475.77631578947,
          74931.38,
          -124114.77586206897,
          29660.837209302324,
          -118874.33121019109,
          -33954.446601941745,
          40856.70212765958,
          -91451.64516129032
         ],
         "yaxis": "y2"
        }
       ],
       "layout": {
        "annotations": [
         {
          "align": "left",
          "font": {
           "color": "#ffffff"
          },
          "showarrow": false,
          "text": "<b>Items</b>",
          "x": -0.45,
          "xanchor": "left",
          "xref": "x",
          "y": 0,
          "yref": "y"
         },
         {
          "align": "left",
          "font": {
           "color": "#ffffff"
          },
          "showarrow": false,
          "text": "<b>Total Frequency</b>",
          "x": 0.55,
          "xanchor": "left",
          "xref": "x",
          "y": 0,
          "yref": "y"
         },
         {
          "align": "left",
          "font": {
           "color": "#000000"
          },
          "showarrow": false,
          "text": "France",
          "x": -0.45,
          "xanchor": "left",
          "xref": "x",
          "y": 1,
          "yref": "y"
         },
         {
          "align": "left",
          "font": {
           "color": "#000000"
          },
          "showarrow": false,
          "text": "157475.77631578947",
          "x": 0.55,
          "xanchor": "left",
          "xref": "x",
          "y": 1,
          "yref": "y"
         },
         {
          "align": "left",
          "font": {
           "color": "#000000"
          },
          "showarrow": false,
          "text": "Germany",
          "x": -0.45,
          "xanchor": "left",
          "xref": "x",
          "y": 2,
          "yref": "y"
         },
         {
          "align": "left",
          "font": {
           "color": "#000000"
          },
          "showarrow": false,
          "text": "74931.38",
          "x": 0.55,
          "xanchor": "left",
          "xref": "x",
          "y": 2,
          "yref": "y"
         },
         {
          "align": "left",
          "font": {
           "color": "#000000"
          },
          "showarrow": false,
          "text": "Ghana",
          "x": -0.45,
          "xanchor": "left",
          "xref": "x",
          "y": 3,
          "yref": "y"
         },
         {
          "align": "left",
          "font": {
           "color": "#000000"
          },
          "showarrow": false,
          "text": "-124114.77586206897",
          "x": 0.55,
          "xanchor": "left",
          "xref": "x",
          "y": 3,
          "yref": "y"
         },
         {
          "align": "left",
          "font": {
           "color": "#000000"
          },
          "showarrow": false,
          "text": "Ireland",
          "x": -0.45,
          "xanchor": "left",
          "xref": "x",
          "y": 4,
          "yref": "y"
         },
         {
          "align": "left",
          "font": {
           "color": "#000000"
          },
          "showarrow": false,
          "text": "29660.837209302324",
          "x": 0.55,
          "xanchor": "left",
          "xref": "x",
          "y": 4,
          "yref": "y"
         },
         {
          "align": "left",
          "font": {
           "color": "#000000"
          },
          "showarrow": false,
          "text": "Italy",
          "x": -0.45,
          "xanchor": "left",
          "xref": "x",
          "y": 5,
          "yref": "y"
         },
         {
          "align": "left",
          "font": {
           "color": "#000000"
          },
          "showarrow": false,
          "text": "-118874.33121019109",
          "x": 0.55,
          "xanchor": "left",
          "xref": "x",
          "y": 5,
          "yref": "y"
         },
         {
          "align": "left",
          "font": {
           "color": "#000000"
          },
          "showarrow": false,
          "text": "Nigeria",
          "x": -0.45,
          "xanchor": "left",
          "xref": "x",
          "y": 6,
          "yref": "y"
         },
         {
          "align": "left",
          "font": {
           "color": "#000000"
          },
          "showarrow": false,
          "text": "-33954.446601941745",
          "x": 0.55,
          "xanchor": "left",
          "xref": "x",
          "y": 6,
          "yref": "y"
         },
         {
          "align": "left",
          "font": {
           "color": "#000000"
          },
          "showarrow": false,
          "text": "Spain",
          "x": -0.45,
          "xanchor": "left",
          "xref": "x",
          "y": 7,
          "yref": "y"
         },
         {
          "align": "left",
          "font": {
           "color": "#000000"
          },
          "showarrow": false,
          "text": "40856.70212765958",
          "x": 0.55,
          "xanchor": "left",
          "xref": "x",
          "y": 7,
          "yref": "y"
         },
         {
          "align": "left",
          "font": {
           "color": "#000000"
          },
          "showarrow": false,
          "text": "United States of America",
          "x": -0.45,
          "xanchor": "left",
          "xref": "x",
          "y": 8,
          "yref": "y"
         },
         {
          "align": "left",
          "font": {
           "color": "#000000"
          },
          "showarrow": false,
          "text": "-91451.64516129032",
          "x": 0.55,
          "xanchor": "left",
          "xref": "x",
          "y": 8,
          "yref": "y"
         }
        ],
        "height": 800,
        "margin": {
         "b": 0,
         "l": 50,
         "r": 0,
         "t": 75
        },
        "template": {
         "data": {
          "bar": [
           {
            "error_x": {
             "color": "#2a3f5f"
            },
            "error_y": {
             "color": "#2a3f5f"
            },
            "marker": {
             "line": {
              "color": "#E5ECF6",
              "width": 0.5
             },
             "pattern": {
              "fillmode": "overlay",
              "size": 10,
              "solidity": 0.2
             }
            },
            "type": "bar"
           }
          ],
          "barpolar": [
           {
            "marker": {
             "line": {
              "color": "#E5ECF6",
              "width": 0.5
             },
             "pattern": {
              "fillmode": "overlay",
              "size": 10,
              "solidity": 0.2
             }
            },
            "type": "barpolar"
           }
          ],
          "carpet": [
           {
            "aaxis": {
             "endlinecolor": "#2a3f5f",
             "gridcolor": "white",
             "linecolor": "white",
             "minorgridcolor": "white",
             "startlinecolor": "#2a3f5f"
            },
            "baxis": {
             "endlinecolor": "#2a3f5f",
             "gridcolor": "white",
             "linecolor": "white",
             "minorgridcolor": "white",
             "startlinecolor": "#2a3f5f"
            },
            "type": "carpet"
           }
          ],
          "choropleth": [
           {
            "colorbar": {
             "outlinewidth": 0,
             "ticks": ""
            },
            "type": "choropleth"
           }
          ],
          "contour": [
           {
            "colorbar": {
             "outlinewidth": 0,
             "ticks": ""
            },
            "colorscale": [
             [
              0,
              "#0d0887"
             ],
             [
              0.1111111111111111,
              "#46039f"
             ],
             [
              0.2222222222222222,
              "#7201a8"
             ],
             [
              0.3333333333333333,
              "#9c179e"
             ],
             [
              0.4444444444444444,
              "#bd3786"
             ],
             [
              0.5555555555555556,
              "#d8576b"
             ],
             [
              0.6666666666666666,
              "#ed7953"
             ],
             [
              0.7777777777777778,
              "#fb9f3a"
             ],
             [
              0.8888888888888888,
              "#fdca26"
             ],
             [
              1,
              "#f0f921"
             ]
            ],
            "type": "contour"
           }
          ],
          "contourcarpet": [
           {
            "colorbar": {
             "outlinewidth": 0,
             "ticks": ""
            },
            "type": "contourcarpet"
           }
          ],
          "heatmap": [
           {
            "colorbar": {
             "outlinewidth": 0,
             "ticks": ""
            },
            "colorscale": [
             [
              0,
              "#0d0887"
             ],
             [
              0.1111111111111111,
              "#46039f"
             ],
             [
              0.2222222222222222,
              "#7201a8"
             ],
             [
              0.3333333333333333,
              "#9c179e"
             ],
             [
              0.4444444444444444,
              "#bd3786"
             ],
             [
              0.5555555555555556,
              "#d8576b"
             ],
             [
              0.6666666666666666,
              "#ed7953"
             ],
             [
              0.7777777777777778,
              "#fb9f3a"
             ],
             [
              0.8888888888888888,
              "#fdca26"
             ],
             [
              1,
              "#f0f921"
             ]
            ],
            "type": "heatmap"
           }
          ],
          "heatmapgl": [
           {
            "colorbar": {
             "outlinewidth": 0,
             "ticks": ""
            },
            "colorscale": [
             [
              0,
              "#0d0887"
             ],
             [
              0.1111111111111111,
              "#46039f"
             ],
             [
              0.2222222222222222,
              "#7201a8"
             ],
             [
              0.3333333333333333,
              "#9c179e"
             ],
             [
              0.4444444444444444,
              "#bd3786"
             ],
             [
              0.5555555555555556,
              "#d8576b"
             ],
             [
              0.6666666666666666,
              "#ed7953"
             ],
             [
              0.7777777777777778,
              "#fb9f3a"
             ],
             [
              0.8888888888888888,
              "#fdca26"
             ],
             [
              1,
              "#f0f921"
             ]
            ],
            "type": "heatmapgl"
           }
          ],
          "histogram": [
           {
            "marker": {
             "pattern": {
              "fillmode": "overlay",
              "size": 10,
              "solidity": 0.2
             }
            },
            "type": "histogram"
           }
          ],
          "histogram2d": [
           {
            "colorbar": {
             "outlinewidth": 0,
             "ticks": ""
            },
            "colorscale": [
             [
              0,
              "#0d0887"
             ],
             [
              0.1111111111111111,
              "#46039f"
             ],
             [
              0.2222222222222222,
              "#7201a8"
             ],
             [
              0.3333333333333333,
              "#9c179e"
             ],
             [
              0.4444444444444444,
              "#bd3786"
             ],
             [
              0.5555555555555556,
              "#d8576b"
             ],
             [
              0.6666666666666666,
              "#ed7953"
             ],
             [
              0.7777777777777778,
              "#fb9f3a"
             ],
             [
              0.8888888888888888,
              "#fdca26"
             ],
             [
              1,
              "#f0f921"
             ]
            ],
            "type": "histogram2d"
           }
          ],
          "histogram2dcontour": [
           {
            "colorbar": {
             "outlinewidth": 0,
             "ticks": ""
            },
            "colorscale": [
             [
              0,
              "#0d0887"
             ],
             [
              0.1111111111111111,
              "#46039f"
             ],
             [
              0.2222222222222222,
              "#7201a8"
             ],
             [
              0.3333333333333333,
              "#9c179e"
             ],
             [
              0.4444444444444444,
              "#bd3786"
             ],
             [
              0.5555555555555556,
              "#d8576b"
             ],
             [
              0.6666666666666666,
              "#ed7953"
             ],
             [
              0.7777777777777778,
              "#fb9f3a"
             ],
             [
              0.8888888888888888,
              "#fdca26"
             ],
             [
              1,
              "#f0f921"
             ]
            ],
            "type": "histogram2dcontour"
           }
          ],
          "mesh3d": [
           {
            "colorbar": {
             "outlinewidth": 0,
             "ticks": ""
            },
            "type": "mesh3d"
           }
          ],
          "parcoords": [
           {
            "line": {
             "colorbar": {
              "outlinewidth": 0,
              "ticks": ""
             }
            },
            "type": "parcoords"
           }
          ],
          "pie": [
           {
            "automargin": true,
            "type": "pie"
           }
          ],
          "scatter": [
           {
            "fillpattern": {
             "fillmode": "overlay",
             "size": 10,
             "solidity": 0.2
            },
            "type": "scatter"
           }
          ],
          "scatter3d": [
           {
            "line": {
             "colorbar": {
              "outlinewidth": 0,
              "ticks": ""
             }
            },
            "marker": {
             "colorbar": {
              "outlinewidth": 0,
              "ticks": ""
             }
            },
            "type": "scatter3d"
           }
          ],
          "scattercarpet": [
           {
            "marker": {
             "colorbar": {
              "outlinewidth": 0,
              "ticks": ""
             }
            },
            "type": "scattercarpet"
           }
          ],
          "scattergeo": [
           {
            "marker": {
             "colorbar": {
              "outlinewidth": 0,
              "ticks": ""
             }
            },
            "type": "scattergeo"
           }
          ],
          "scattergl": [
           {
            "marker": {
             "colorbar": {
              "outlinewidth": 0,
              "ticks": ""
             }
            },
            "type": "scattergl"
           }
          ],
          "scattermapbox": [
           {
            "marker": {
             "colorbar": {
              "outlinewidth": 0,
              "ticks": ""
             }
            },
            "type": "scattermapbox"
           }
          ],
          "scatterpolar": [
           {
            "marker": {
             "colorbar": {
              "outlinewidth": 0,
              "ticks": ""
             }
            },
            "type": "scatterpolar"
           }
          ],
          "scatterpolargl": [
           {
            "marker": {
             "colorbar": {
              "outlinewidth": 0,
              "ticks": ""
             }
            },
            "type": "scatterpolargl"
           }
          ],
          "scatterternary": [
           {
            "marker": {
             "colorbar": {
              "outlinewidth": 0,
              "ticks": ""
             }
            },
            "type": "scatterternary"
           }
          ],
          "surface": [
           {
            "colorbar": {
             "outlinewidth": 0,
             "ticks": ""
            },
            "colorscale": [
             [
              0,
              "#0d0887"
             ],
             [
              0.1111111111111111,
              "#46039f"
             ],
             [
              0.2222222222222222,
              "#7201a8"
             ],
             [
              0.3333333333333333,
              "#9c179e"
             ],
             [
              0.4444444444444444,
              "#bd3786"
             ],
             [
              0.5555555555555556,
              "#d8576b"
             ],
             [
              0.6666666666666666,
              "#ed7953"
             ],
             [
              0.7777777777777778,
              "#fb9f3a"
             ],
             [
              0.8888888888888888,
              "#fdca26"
             ],
             [
              1,
              "#f0f921"
             ]
            ],
            "type": "surface"
           }
          ],
          "table": [
           {
            "cells": {
             "fill": {
              "color": "#EBF0F8"
             },
             "line": {
              "color": "white"
             }
            },
            "header": {
             "fill": {
              "color": "#C8D4E3"
             },
             "line": {
              "color": "white"
             }
            },
            "type": "table"
           }
          ]
         },
         "layout": {
          "annotationdefaults": {
           "arrowcolor": "#2a3f5f",
           "arrowhead": 0,
           "arrowwidth": 1
          },
          "autotypenumbers": "strict",
          "coloraxis": {
           "colorbar": {
            "outlinewidth": 0,
            "ticks": ""
           }
          },
          "colorscale": {
           "diverging": [
            [
             0,
             "#8e0152"
            ],
            [
             0.1,
             "#c51b7d"
            ],
            [
             0.2,
             "#de77ae"
            ],
            [
             0.3,
             "#f1b6da"
            ],
            [
             0.4,
             "#fde0ef"
            ],
            [
             0.5,
             "#f7f7f7"
            ],
            [
             0.6,
             "#e6f5d0"
            ],
            [
             0.7,
             "#b8e186"
            ],
            [
             0.8,
             "#7fbc41"
            ],
            [
             0.9,
             "#4d9221"
            ],
            [
             1,
             "#276419"
            ]
           ],
           "sequential": [
            [
             0,
             "#0d0887"
            ],
            [
             0.1111111111111111,
             "#46039f"
            ],
            [
             0.2222222222222222,
             "#7201a8"
            ],
            [
             0.3333333333333333,
             "#9c179e"
            ],
            [
             0.4444444444444444,
             "#bd3786"
            ],
            [
             0.5555555555555556,
             "#d8576b"
            ],
            [
             0.6666666666666666,
             "#ed7953"
            ],
            [
             0.7777777777777778,
             "#fb9f3a"
            ],
            [
             0.8888888888888888,
             "#fdca26"
            ],
            [
             1,
             "#f0f921"
            ]
           ],
           "sequentialminus": [
            [
             0,
             "#0d0887"
            ],
            [
             0.1111111111111111,
             "#46039f"
            ],
            [
             0.2222222222222222,
             "#7201a8"
            ],
            [
             0.3333333333333333,
             "#9c179e"
            ],
            [
             0.4444444444444444,
             "#bd3786"
            ],
            [
             0.5555555555555556,
             "#d8576b"
            ],
            [
             0.6666666666666666,
             "#ed7953"
            ],
            [
             0.7777777777777778,
             "#fb9f3a"
            ],
            [
             0.8888888888888888,
             "#fdca26"
            ],
            [
             1,
             "#f0f921"
            ]
           ]
          },
          "colorway": [
           "#636efa",
           "#EF553B",
           "#00cc96",
           "#ab63fa",
           "#FFA15A",
           "#19d3f3",
           "#FF6692",
           "#B6E880",
           "#FF97FF",
           "#FECB52"
          ],
          "font": {
           "color": "#2a3f5f"
          },
          "geo": {
           "bgcolor": "white",
           "lakecolor": "white",
           "landcolor": "#E5ECF6",
           "showlakes": true,
           "showland": true,
           "subunitcolor": "white"
          },
          "hoverlabel": {
           "align": "left"
          },
          "hovermode": "closest",
          "mapbox": {
           "style": "light"
          },
          "paper_bgcolor": "white",
          "plot_bgcolor": "#E5ECF6",
          "polar": {
           "angularaxis": {
            "gridcolor": "white",
            "linecolor": "white",
            "ticks": ""
           },
           "bgcolor": "#E5ECF6",
           "radialaxis": {
            "gridcolor": "white",
            "linecolor": "white",
            "ticks": ""
           }
          },
          "scene": {
           "xaxis": {
            "backgroundcolor": "#E5ECF6",
            "gridcolor": "white",
            "gridwidth": 2,
            "linecolor": "white",
            "showbackground": true,
            "ticks": "",
            "zerolinecolor": "white"
           },
           "yaxis": {
            "backgroundcolor": "#E5ECF6",
            "gridcolor": "white",
            "gridwidth": 2,
            "linecolor": "white",
            "showbackground": true,
            "ticks": "",
            "zerolinecolor": "white"
           },
           "zaxis": {
            "backgroundcolor": "#E5ECF6",
            "gridcolor": "white",
            "gridwidth": 2,
            "linecolor": "white",
            "showbackground": true,
            "ticks": "",
            "zerolinecolor": "white"
           }
          },
          "shapedefaults": {
           "line": {
            "color": "#2a3f5f"
           }
          },
          "ternary": {
           "aaxis": {
            "gridcolor": "white",
            "linecolor": "white",
            "ticks": ""
           },
           "baxis": {
            "gridcolor": "white",
            "linecolor": "white",
            "ticks": ""
           },
           "bgcolor": "#E5ECF6",
           "caxis": {
            "gridcolor": "white",
            "linecolor": "white",
            "ticks": ""
           }
          },
          "title": {
           "x": 0.05
          },
          "xaxis": {
           "automargin": true,
           "gridcolor": "white",
           "linecolor": "white",
           "ticks": "",
           "title": {
            "standoff": 15
           },
           "zerolinecolor": "white",
           "zerolinewidth": 2
          },
          "yaxis": {
           "automargin": true,
           "gridcolor": "white",
           "linecolor": "white",
           "ticks": "",
           "title": {
            "standoff": 15
           },
           "zerolinecolor": "white",
           "zerolinewidth": 2
          }
         }
        },
        "xaxis": {
         "dtick": 1,
         "gridwidth": 2,
         "showticklabels": false,
         "tick0": -0.5,
         "ticks": "",
         "zeroline": false
        },
        "xaxis2": {
         "anchor": "y2"
        },
        "yaxis": {
         "autorange": "reversed",
         "domain": [
          0,
          0.45
         ],
         "dtick": 1,
         "gridwidth": 2,
         "showticklabels": false,
         "tick0": 0.5,
         "ticks": "",
         "zeroline": false
        },
        "yaxis2": {
         "anchor": "x2",
         "domain": [
          0.6,
          1
         ],
         "title": {
          "text": "Net Export Value"
         }
        }
       }
      }
     },
     "metadata": {},
     "output_type": "display_data"
    }
   ],
   "source": [
    "table_data = pd.DataFrame()\n",
    "table_data['Items'] = data.groupby('Area')['Net Export Value'].mean().index\n",
    "table_data['Total Frequency'] = data.groupby('Area')['Net Export Value'].mean().values\n",
    "    \n",
    "\n",
    "fig = ff.create_table(table_data, height_constant=60)\n",
    "\n",
    "Items = data.groupby('Area')['Net Export Value'].mean().index\n",
    "Total_Frequency = data.groupby('Area')['Net Export Value'].mean().values\n",
    "\n",
    "trace1 = go.Bar(x=Items, y=Total_Frequency,\n",
    "                    marker=dict(color='#0099ff'),\n",
    "                    name='Total frequency of all crops',\n",
    "                    xaxis='x2', yaxis='y2')\n",
    "\n",
    "\n",
    "fig.add_traces([trace1])\n",
    "\n",
    "# initialize xaxis2 and yaxis2\n",
    "fig['layout']['xaxis2'] = {}\n",
    "fig['layout']['yaxis2'] = {}\n",
    "\n",
    "# Edit layout for subplots\n",
    "fig.layout.yaxis.update({'domain': [0, .45]})\n",
    "fig.layout.yaxis2.update({'domain': [.6, 1]})\n",
    "\n",
    "# The graph's yaxis2 MUST BE anchored to the graph's xaxis2 and vice versa\n",
    "fig.layout.yaxis2.update({'anchor': 'x2'})\n",
    "fig.layout.xaxis2.update({'anchor': 'y2'})\n",
    "fig.layout.yaxis2.update({'title': 'Net Export Value'})\n",
    "\n",
    "# Update the margins to add a title and see graph x-labels.\n",
    "fig.layout.margin.update({'t':75, 'l':50})\n",
    "\n",
    "\n",
    "# Update the height because adding a graph vertically will interact with\n",
    "# the plot height calculated for the table\n",
    "fig.layout.update({'height':800})\n",
    "\n",
    "\n",
    "fig.show();    \n",
    "\n"
   ]
  },
  {
   "cell_type": "code",
   "execution_count": 29,
   "id": "f63c1cba",
   "metadata": {},
   "outputs": [
    {
     "data": {
      "application/vnd.plotly.v1+json": {
       "config": {
        "plotlyServerURL": "https://plot.ly"
       },
       "data": [
        {
         "colorscale": [
          [
           0,
           "#00083e"
          ],
          [
           0.5,
           "#ededee"
          ],
          [
           1,
           "#ffffff"
          ]
         ],
         "hoverinfo": "none",
         "opacity": 0.75,
         "showscale": false,
         "type": "heatmap",
         "z": [
          [
           0,
           0
          ],
          [
           0.5,
           0.5
          ],
          [
           1,
           1
          ],
          [
           0.5,
           0.5
          ],
          [
           1,
           1
          ],
          [
           0.5,
           0.5
          ],
          [
           1,
           1
          ],
          [
           0.5,
           0.5
          ],
          [
           1,
           1
          ],
          [
           0.5,
           0.5
          ],
          [
           1,
           1
          ],
          [
           0.5,
           0.5
          ],
          [
           1,
           1
          ],
          [
           0.5,
           0.5
          ],
          [
           1,
           1
          ],
          [
           0.5,
           0.5
          ],
          [
           1,
           1
          ],
          [
           0.5,
           0.5
          ]
         ]
        },
        {
         "marker": {
          "color": "#0099ff"
         },
         "name": "Total frequency of all crops",
         "type": "bar",
         "x": [
          "Cattle",
          "Chickens",
          "Sheep",
          "Asses",
          "Horses",
          "Other live animals non food, n.e.c.",
          "Swine / pigs",
          "Goats",
          "Ducks",
          "Turkeys",
          "Other live animals, n.e.c.",
          "Mules and hinnies",
          "Rabbits and hares",
          "Camels",
          "Buffalo",
          "Geese",
          "Other rodents"
         ],
         "xaxis": "x2",
         "y": [
          84,
          84,
          72,
          71,
          70,
          68,
          67,
          66,
          65,
          61,
          60,
          54,
          52,
          38,
          35,
          30,
          2
         ],
         "yaxis": "y2"
        }
       ],
       "layout": {
        "annotations": [
         {
          "align": "left",
          "font": {
           "color": "#ffffff"
          },
          "showarrow": false,
          "text": "<b>Items</b>",
          "x": -0.45,
          "xanchor": "left",
          "xref": "x",
          "y": 0,
          "yref": "y"
         },
         {
          "align": "left",
          "font": {
           "color": "#ffffff"
          },
          "showarrow": false,
          "text": "<b>Total Frequency</b>",
          "x": 0.55,
          "xanchor": "left",
          "xref": "x",
          "y": 0,
          "yref": "y"
         },
         {
          "align": "left",
          "font": {
           "color": "#000000"
          },
          "showarrow": false,
          "text": "Cattle",
          "x": -0.45,
          "xanchor": "left",
          "xref": "x",
          "y": 1,
          "yref": "y"
         },
         {
          "align": "left",
          "font": {
           "color": "#000000"
          },
          "showarrow": false,
          "text": "84",
          "x": 0.55,
          "xanchor": "left",
          "xref": "x",
          "y": 1,
          "yref": "y"
         },
         {
          "align": "left",
          "font": {
           "color": "#000000"
          },
          "showarrow": false,
          "text": "Chickens",
          "x": -0.45,
          "xanchor": "left",
          "xref": "x",
          "y": 2,
          "yref": "y"
         },
         {
          "align": "left",
          "font": {
           "color": "#000000"
          },
          "showarrow": false,
          "text": "84",
          "x": 0.55,
          "xanchor": "left",
          "xref": "x",
          "y": 2,
          "yref": "y"
         },
         {
          "align": "left",
          "font": {
           "color": "#000000"
          },
          "showarrow": false,
          "text": "Sheep",
          "x": -0.45,
          "xanchor": "left",
          "xref": "x",
          "y": 3,
          "yref": "y"
         },
         {
          "align": "left",
          "font": {
           "color": "#000000"
          },
          "showarrow": false,
          "text": "72",
          "x": 0.55,
          "xanchor": "left",
          "xref": "x",
          "y": 3,
          "yref": "y"
         },
         {
          "align": "left",
          "font": {
           "color": "#000000"
          },
          "showarrow": false,
          "text": "Asses",
          "x": -0.45,
          "xanchor": "left",
          "xref": "x",
          "y": 4,
          "yref": "y"
         },
         {
          "align": "left",
          "font": {
           "color": "#000000"
          },
          "showarrow": false,
          "text": "71",
          "x": 0.55,
          "xanchor": "left",
          "xref": "x",
          "y": 4,
          "yref": "y"
         },
         {
          "align": "left",
          "font": {
           "color": "#000000"
          },
          "showarrow": false,
          "text": "Horses",
          "x": -0.45,
          "xanchor": "left",
          "xref": "x",
          "y": 5,
          "yref": "y"
         },
         {
          "align": "left",
          "font": {
           "color": "#000000"
          },
          "showarrow": false,
          "text": "70",
          "x": 0.55,
          "xanchor": "left",
          "xref": "x",
          "y": 5,
          "yref": "y"
         },
         {
          "align": "left",
          "font": {
           "color": "#000000"
          },
          "showarrow": false,
          "text": "Other live animals non food, n.e.c.",
          "x": -0.45,
          "xanchor": "left",
          "xref": "x",
          "y": 6,
          "yref": "y"
         },
         {
          "align": "left",
          "font": {
           "color": "#000000"
          },
          "showarrow": false,
          "text": "68",
          "x": 0.55,
          "xanchor": "left",
          "xref": "x",
          "y": 6,
          "yref": "y"
         },
         {
          "align": "left",
          "font": {
           "color": "#000000"
          },
          "showarrow": false,
          "text": "Swine / pigs",
          "x": -0.45,
          "xanchor": "left",
          "xref": "x",
          "y": 7,
          "yref": "y"
         },
         {
          "align": "left",
          "font": {
           "color": "#000000"
          },
          "showarrow": false,
          "text": "67",
          "x": 0.55,
          "xanchor": "left",
          "xref": "x",
          "y": 7,
          "yref": "y"
         },
         {
          "align": "left",
          "font": {
           "color": "#000000"
          },
          "showarrow": false,
          "text": "Goats",
          "x": -0.45,
          "xanchor": "left",
          "xref": "x",
          "y": 8,
          "yref": "y"
         },
         {
          "align": "left",
          "font": {
           "color": "#000000"
          },
          "showarrow": false,
          "text": "66",
          "x": 0.55,
          "xanchor": "left",
          "xref": "x",
          "y": 8,
          "yref": "y"
         },
         {
          "align": "left",
          "font": {
           "color": "#000000"
          },
          "showarrow": false,
          "text": "Ducks",
          "x": -0.45,
          "xanchor": "left",
          "xref": "x",
          "y": 9,
          "yref": "y"
         },
         {
          "align": "left",
          "font": {
           "color": "#000000"
          },
          "showarrow": false,
          "text": "65",
          "x": 0.55,
          "xanchor": "left",
          "xref": "x",
          "y": 9,
          "yref": "y"
         },
         {
          "align": "left",
          "font": {
           "color": "#000000"
          },
          "showarrow": false,
          "text": "Turkeys",
          "x": -0.45,
          "xanchor": "left",
          "xref": "x",
          "y": 10,
          "yref": "y"
         },
         {
          "align": "left",
          "font": {
           "color": "#000000"
          },
          "showarrow": false,
          "text": "61",
          "x": 0.55,
          "xanchor": "left",
          "xref": "x",
          "y": 10,
          "yref": "y"
         },
         {
          "align": "left",
          "font": {
           "color": "#000000"
          },
          "showarrow": false,
          "text": "Other live animals, n.e.c.",
          "x": -0.45,
          "xanchor": "left",
          "xref": "x",
          "y": 11,
          "yref": "y"
         },
         {
          "align": "left",
          "font": {
           "color": "#000000"
          },
          "showarrow": false,
          "text": "60",
          "x": 0.55,
          "xanchor": "left",
          "xref": "x",
          "y": 11,
          "yref": "y"
         },
         {
          "align": "left",
          "font": {
           "color": "#000000"
          },
          "showarrow": false,
          "text": "Mules and hinnies",
          "x": -0.45,
          "xanchor": "left",
          "xref": "x",
          "y": 12,
          "yref": "y"
         },
         {
          "align": "left",
          "font": {
           "color": "#000000"
          },
          "showarrow": false,
          "text": "54",
          "x": 0.55,
          "xanchor": "left",
          "xref": "x",
          "y": 12,
          "yref": "y"
         },
         {
          "align": "left",
          "font": {
           "color": "#000000"
          },
          "showarrow": false,
          "text": "Rabbits and hares",
          "x": -0.45,
          "xanchor": "left",
          "xref": "x",
          "y": 13,
          "yref": "y"
         },
         {
          "align": "left",
          "font": {
           "color": "#000000"
          },
          "showarrow": false,
          "text": "52",
          "x": 0.55,
          "xanchor": "left",
          "xref": "x",
          "y": 13,
          "yref": "y"
         },
         {
          "align": "left",
          "font": {
           "color": "#000000"
          },
          "showarrow": false,
          "text": "Camels",
          "x": -0.45,
          "xanchor": "left",
          "xref": "x",
          "y": 14,
          "yref": "y"
         },
         {
          "align": "left",
          "font": {
           "color": "#000000"
          },
          "showarrow": false,
          "text": "38",
          "x": 0.55,
          "xanchor": "left",
          "xref": "x",
          "y": 14,
          "yref": "y"
         },
         {
          "align": "left",
          "font": {
           "color": "#000000"
          },
          "showarrow": false,
          "text": "Buffalo",
          "x": -0.45,
          "xanchor": "left",
          "xref": "x",
          "y": 15,
          "yref": "y"
         },
         {
          "align": "left",
          "font": {
           "color": "#000000"
          },
          "showarrow": false,
          "text": "35",
          "x": 0.55,
          "xanchor": "left",
          "xref": "x",
          "y": 15,
          "yref": "y"
         },
         {
          "align": "left",
          "font": {
           "color": "#000000"
          },
          "showarrow": false,
          "text": "Geese",
          "x": -0.45,
          "xanchor": "left",
          "xref": "x",
          "y": 16,
          "yref": "y"
         },
         {
          "align": "left",
          "font": {
           "color": "#000000"
          },
          "showarrow": false,
          "text": "30",
          "x": 0.55,
          "xanchor": "left",
          "xref": "x",
          "y": 16,
          "yref": "y"
         },
         {
          "align": "left",
          "font": {
           "color": "#000000"
          },
          "showarrow": false,
          "text": "Other rodents",
          "x": -0.45,
          "xanchor": "left",
          "xref": "x",
          "y": 17,
          "yref": "y"
         },
         {
          "align": "left",
          "font": {
           "color": "#000000"
          },
          "showarrow": false,
          "text": "2",
          "x": 0.55,
          "xanchor": "left",
          "xref": "x",
          "y": 17,
          "yref": "y"
         }
        ],
        "height": 800,
        "margin": {
         "b": 0,
         "l": 50,
         "r": 0,
         "t": 75
        },
        "template": {
         "data": {
          "bar": [
           {
            "error_x": {
             "color": "#2a3f5f"
            },
            "error_y": {
             "color": "#2a3f5f"
            },
            "marker": {
             "line": {
              "color": "#E5ECF6",
              "width": 0.5
             },
             "pattern": {
              "fillmode": "overlay",
              "size": 10,
              "solidity": 0.2
             }
            },
            "type": "bar"
           }
          ],
          "barpolar": [
           {
            "marker": {
             "line": {
              "color": "#E5ECF6",
              "width": 0.5
             },
             "pattern": {
              "fillmode": "overlay",
              "size": 10,
              "solidity": 0.2
             }
            },
            "type": "barpolar"
           }
          ],
          "carpet": [
           {
            "aaxis": {
             "endlinecolor": "#2a3f5f",
             "gridcolor": "white",
             "linecolor": "white",
             "minorgridcolor": "white",
             "startlinecolor": "#2a3f5f"
            },
            "baxis": {
             "endlinecolor": "#2a3f5f",
             "gridcolor": "white",
             "linecolor": "white",
             "minorgridcolor": "white",
             "startlinecolor": "#2a3f5f"
            },
            "type": "carpet"
           }
          ],
          "choropleth": [
           {
            "colorbar": {
             "outlinewidth": 0,
             "ticks": ""
            },
            "type": "choropleth"
           }
          ],
          "contour": [
           {
            "colorbar": {
             "outlinewidth": 0,
             "ticks": ""
            },
            "colorscale": [
             [
              0,
              "#0d0887"
             ],
             [
              0.1111111111111111,
              "#46039f"
             ],
             [
              0.2222222222222222,
              "#7201a8"
             ],
             [
              0.3333333333333333,
              "#9c179e"
             ],
             [
              0.4444444444444444,
              "#bd3786"
             ],
             [
              0.5555555555555556,
              "#d8576b"
             ],
             [
              0.6666666666666666,
              "#ed7953"
             ],
             [
              0.7777777777777778,
              "#fb9f3a"
             ],
             [
              0.8888888888888888,
              "#fdca26"
             ],
             [
              1,
              "#f0f921"
             ]
            ],
            "type": "contour"
           }
          ],
          "contourcarpet": [
           {
            "colorbar": {
             "outlinewidth": 0,
             "ticks": ""
            },
            "type": "contourcarpet"
           }
          ],
          "heatmap": [
           {
            "colorbar": {
             "outlinewidth": 0,
             "ticks": ""
            },
            "colorscale": [
             [
              0,
              "#0d0887"
             ],
             [
              0.1111111111111111,
              "#46039f"
             ],
             [
              0.2222222222222222,
              "#7201a8"
             ],
             [
              0.3333333333333333,
              "#9c179e"
             ],
             [
              0.4444444444444444,
              "#bd3786"
             ],
             [
              0.5555555555555556,
              "#d8576b"
             ],
             [
              0.6666666666666666,
              "#ed7953"
             ],
             [
              0.7777777777777778,
              "#fb9f3a"
             ],
             [
              0.8888888888888888,
              "#fdca26"
             ],
             [
              1,
              "#f0f921"
             ]
            ],
            "type": "heatmap"
           }
          ],
          "heatmapgl": [
           {
            "colorbar": {
             "outlinewidth": 0,
             "ticks": ""
            },
            "colorscale": [
             [
              0,
              "#0d0887"
             ],
             [
              0.1111111111111111,
              "#46039f"
             ],
             [
              0.2222222222222222,
              "#7201a8"
             ],
             [
              0.3333333333333333,
              "#9c179e"
             ],
             [
              0.4444444444444444,
              "#bd3786"
             ],
             [
              0.5555555555555556,
              "#d8576b"
             ],
             [
              0.6666666666666666,
              "#ed7953"
             ],
             [
              0.7777777777777778,
              "#fb9f3a"
             ],
             [
              0.8888888888888888,
              "#fdca26"
             ],
             [
              1,
              "#f0f921"
             ]
            ],
            "type": "heatmapgl"
           }
          ],
          "histogram": [
           {
            "marker": {
             "pattern": {
              "fillmode": "overlay",
              "size": 10,
              "solidity": 0.2
             }
            },
            "type": "histogram"
           }
          ],
          "histogram2d": [
           {
            "colorbar": {
             "outlinewidth": 0,
             "ticks": ""
            },
            "colorscale": [
             [
              0,
              "#0d0887"
             ],
             [
              0.1111111111111111,
              "#46039f"
             ],
             [
              0.2222222222222222,
              "#7201a8"
             ],
             [
              0.3333333333333333,
              "#9c179e"
             ],
             [
              0.4444444444444444,
              "#bd3786"
             ],
             [
              0.5555555555555556,
              "#d8576b"
             ],
             [
              0.6666666666666666,
              "#ed7953"
             ],
             [
              0.7777777777777778,
              "#fb9f3a"
             ],
             [
              0.8888888888888888,
              "#fdca26"
             ],
             [
              1,
              "#f0f921"
             ]
            ],
            "type": "histogram2d"
           }
          ],
          "histogram2dcontour": [
           {
            "colorbar": {
             "outlinewidth": 0,
             "ticks": ""
            },
            "colorscale": [
             [
              0,
              "#0d0887"
             ],
             [
              0.1111111111111111,
              "#46039f"
             ],
             [
              0.2222222222222222,
              "#7201a8"
             ],
             [
              0.3333333333333333,
              "#9c179e"
             ],
             [
              0.4444444444444444,
              "#bd3786"
             ],
             [
              0.5555555555555556,
              "#d8576b"
             ],
             [
              0.6666666666666666,
              "#ed7953"
             ],
             [
              0.7777777777777778,
              "#fb9f3a"
             ],
             [
              0.8888888888888888,
              "#fdca26"
             ],
             [
              1,
              "#f0f921"
             ]
            ],
            "type": "histogram2dcontour"
           }
          ],
          "mesh3d": [
           {
            "colorbar": {
             "outlinewidth": 0,
             "ticks": ""
            },
            "type": "mesh3d"
           }
          ],
          "parcoords": [
           {
            "line": {
             "colorbar": {
              "outlinewidth": 0,
              "ticks": ""
             }
            },
            "type": "parcoords"
           }
          ],
          "pie": [
           {
            "automargin": true,
            "type": "pie"
           }
          ],
          "scatter": [
           {
            "fillpattern": {
             "fillmode": "overlay",
             "size": 10,
             "solidity": 0.2
            },
            "type": "scatter"
           }
          ],
          "scatter3d": [
           {
            "line": {
             "colorbar": {
              "outlinewidth": 0,
              "ticks": ""
             }
            },
            "marker": {
             "colorbar": {
              "outlinewidth": 0,
              "ticks": ""
             }
            },
            "type": "scatter3d"
           }
          ],
          "scattercarpet": [
           {
            "marker": {
             "colorbar": {
              "outlinewidth": 0,
              "ticks": ""
             }
            },
            "type": "scattercarpet"
           }
          ],
          "scattergeo": [
           {
            "marker": {
             "colorbar": {
              "outlinewidth": 0,
              "ticks": ""
             }
            },
            "type": "scattergeo"
           }
          ],
          "scattergl": [
           {
            "marker": {
             "colorbar": {
              "outlinewidth": 0,
              "ticks": ""
             }
            },
            "type": "scattergl"
           }
          ],
          "scattermapbox": [
           {
            "marker": {
             "colorbar": {
              "outlinewidth": 0,
              "ticks": ""
             }
            },
            "type": "scattermapbox"
           }
          ],
          "scatterpolar": [
           {
            "marker": {
             "colorbar": {
              "outlinewidth": 0,
              "ticks": ""
             }
            },
            "type": "scatterpolar"
           }
          ],
          "scatterpolargl": [
           {
            "marker": {
             "colorbar": {
              "outlinewidth": 0,
              "ticks": ""
             }
            },
            "type": "scatterpolargl"
           }
          ],
          "scatterternary": [
           {
            "marker": {
             "colorbar": {
              "outlinewidth": 0,
              "ticks": ""
             }
            },
            "type": "scatterternary"
           }
          ],
          "surface": [
           {
            "colorbar": {
             "outlinewidth": 0,
             "ticks": ""
            },
            "colorscale": [
             [
              0,
              "#0d0887"
             ],
             [
              0.1111111111111111,
              "#46039f"
             ],
             [
              0.2222222222222222,
              "#7201a8"
             ],
             [
              0.3333333333333333,
              "#9c179e"
             ],
             [
              0.4444444444444444,
              "#bd3786"
             ],
             [
              0.5555555555555556,
              "#d8576b"
             ],
             [
              0.6666666666666666,
              "#ed7953"
             ],
             [
              0.7777777777777778,
              "#fb9f3a"
             ],
             [
              0.8888888888888888,
              "#fdca26"
             ],
             [
              1,
              "#f0f921"
             ]
            ],
            "type": "surface"
           }
          ],
          "table": [
           {
            "cells": {
             "fill": {
              "color": "#EBF0F8"
             },
             "line": {
              "color": "white"
             }
            },
            "header": {
             "fill": {
              "color": "#C8D4E3"
             },
             "line": {
              "color": "white"
             }
            },
            "type": "table"
           }
          ]
         },
         "layout": {
          "annotationdefaults": {
           "arrowcolor": "#2a3f5f",
           "arrowhead": 0,
           "arrowwidth": 1
          },
          "autotypenumbers": "strict",
          "coloraxis": {
           "colorbar": {
            "outlinewidth": 0,
            "ticks": ""
           }
          },
          "colorscale": {
           "diverging": [
            [
             0,
             "#8e0152"
            ],
            [
             0.1,
             "#c51b7d"
            ],
            [
             0.2,
             "#de77ae"
            ],
            [
             0.3,
             "#f1b6da"
            ],
            [
             0.4,
             "#fde0ef"
            ],
            [
             0.5,
             "#f7f7f7"
            ],
            [
             0.6,
             "#e6f5d0"
            ],
            [
             0.7,
             "#b8e186"
            ],
            [
             0.8,
             "#7fbc41"
            ],
            [
             0.9,
             "#4d9221"
            ],
            [
             1,
             "#276419"
            ]
           ],
           "sequential": [
            [
             0,
             "#0d0887"
            ],
            [
             0.1111111111111111,
             "#46039f"
            ],
            [
             0.2222222222222222,
             "#7201a8"
            ],
            [
             0.3333333333333333,
             "#9c179e"
            ],
            [
             0.4444444444444444,
             "#bd3786"
            ],
            [
             0.5555555555555556,
             "#d8576b"
            ],
            [
             0.6666666666666666,
             "#ed7953"
            ],
            [
             0.7777777777777778,
             "#fb9f3a"
            ],
            [
             0.8888888888888888,
             "#fdca26"
            ],
            [
             1,
             "#f0f921"
            ]
           ],
           "sequentialminus": [
            [
             0,
             "#0d0887"
            ],
            [
             0.1111111111111111,
             "#46039f"
            ],
            [
             0.2222222222222222,
             "#7201a8"
            ],
            [
             0.3333333333333333,
             "#9c179e"
            ],
            [
             0.4444444444444444,
             "#bd3786"
            ],
            [
             0.5555555555555556,
             "#d8576b"
            ],
            [
             0.6666666666666666,
             "#ed7953"
            ],
            [
             0.7777777777777778,
             "#fb9f3a"
            ],
            [
             0.8888888888888888,
             "#fdca26"
            ],
            [
             1,
             "#f0f921"
            ]
           ]
          },
          "colorway": [
           "#636efa",
           "#EF553B",
           "#00cc96",
           "#ab63fa",
           "#FFA15A",
           "#19d3f3",
           "#FF6692",
           "#B6E880",
           "#FF97FF",
           "#FECB52"
          ],
          "font": {
           "color": "#2a3f5f"
          },
          "geo": {
           "bgcolor": "white",
           "lakecolor": "white",
           "landcolor": "#E5ECF6",
           "showlakes": true,
           "showland": true,
           "subunitcolor": "white"
          },
          "hoverlabel": {
           "align": "left"
          },
          "hovermode": "closest",
          "mapbox": {
           "style": "light"
          },
          "paper_bgcolor": "white",
          "plot_bgcolor": "#E5ECF6",
          "polar": {
           "angularaxis": {
            "gridcolor": "white",
            "linecolor": "white",
            "ticks": ""
           },
           "bgcolor": "#E5ECF6",
           "radialaxis": {
            "gridcolor": "white",
            "linecolor": "white",
            "ticks": ""
           }
          },
          "scene": {
           "xaxis": {
            "backgroundcolor": "#E5ECF6",
            "gridcolor": "white",
            "gridwidth": 2,
            "linecolor": "white",
            "showbackground": true,
            "ticks": "",
            "zerolinecolor": "white"
           },
           "yaxis": {
            "backgroundcolor": "#E5ECF6",
            "gridcolor": "white",
            "gridwidth": 2,
            "linecolor": "white",
            "showbackground": true,
            "ticks": "",
            "zerolinecolor": "white"
           },
           "zaxis": {
            "backgroundcolor": "#E5ECF6",
            "gridcolor": "white",
            "gridwidth": 2,
            "linecolor": "white",
            "showbackground": true,
            "ticks": "",
            "zerolinecolor": "white"
           }
          },
          "shapedefaults": {
           "line": {
            "color": "#2a3f5f"
           }
          },
          "ternary": {
           "aaxis": {
            "gridcolor": "white",
            "linecolor": "white",
            "ticks": ""
           },
           "baxis": {
            "gridcolor": "white",
            "linecolor": "white",
            "ticks": ""
           },
           "bgcolor": "#E5ECF6",
           "caxis": {
            "gridcolor": "white",
            "linecolor": "white",
            "ticks": ""
           }
          },
          "title": {
           "x": 0.05
          },
          "xaxis": {
           "automargin": true,
           "gridcolor": "white",
           "linecolor": "white",
           "ticks": "",
           "title": {
            "standoff": 15
           },
           "zerolinecolor": "white",
           "zerolinewidth": 2
          },
          "yaxis": {
           "automargin": true,
           "gridcolor": "white",
           "linecolor": "white",
           "ticks": "",
           "title": {
            "standoff": 15
           },
           "zerolinecolor": "white",
           "zerolinewidth": 2
          }
         }
        },
        "xaxis": {
         "dtick": 1,
         "gridwidth": 2,
         "showticklabels": false,
         "tick0": -0.5,
         "ticks": "",
         "zeroline": false
        },
        "xaxis2": {
         "anchor": "y2"
        },
        "yaxis": {
         "autorange": "reversed",
         "domain": [
          0,
          0.45
         ],
         "dtick": 1,
         "gridwidth": 2,
         "showticklabels": false,
         "tick0": 0.5,
         "ticks": "",
         "zeroline": false
        },
        "yaxis2": {
         "anchor": "x2",
         "domain": [
          0.6,
          1
         ],
         "title": {
          "text": "Total frequency of all crops"
         }
        }
       }
      }
     },
     "metadata": {},
     "output_type": "display_data"
    }
   ],
   "source": [
    "table_data = pd.DataFrame()\n",
    "table_data['Items'] = data['Item'].value_counts().index\n",
    "table_data['Total Frequency'] = data['Item'].value_counts().values\n",
    "    \n",
    "\n",
    "fig = ff.create_table(table_data, height_constant=60)\n",
    "\n",
    "Items = data['Item'].value_counts().index\n",
    "Total_Frequency = data['Item'].value_counts().values\n",
    "\n",
    "trace1 = go.Bar(x=Items, y=Total_Frequency,\n",
    "                    marker=dict(color='#0099ff'),\n",
    "                    name='Total frequency of all crops',\n",
    "                    xaxis='x2', yaxis='y2')\n",
    "\n",
    "\n",
    "fig.add_traces([trace1])\n",
    "\n",
    "# initialize xaxis2 and yaxis2\n",
    "fig['layout']['xaxis2'] = {}\n",
    "fig['layout']['yaxis2'] = {}\n",
    "\n",
    "# Edit layout for subplots\n",
    "fig.layout.yaxis.update({'domain': [0, .45]})\n",
    "fig.layout.yaxis2.update({'domain': [.6, 1]})\n",
    "\n",
    "# The graph's yaxis2 MUST BE anchored to the graph's xaxis2 and vice versa\n",
    "fig.layout.yaxis2.update({'anchor': 'x2'})\n",
    "fig.layout.xaxis2.update({'anchor': 'y2'})\n",
    "fig.layout.yaxis2.update({'title': 'Total frequency of all crops'})\n",
    "\n",
    "# Update the margins to add a title and see graph x-labels.\n",
    "fig.layout.margin.update({'t':75, 'l':50})\n",
    "\n",
    "\n",
    "# Update the height because adding a graph vertically will interact with\n",
    "# the plot height calculated for the table\n",
    "fig.layout.update({'height':800})\n",
    "\n",
    "fig.show();"
   ]
  },
  {
   "cell_type": "markdown",
   "id": "ae587520",
   "metadata": {},
   "source": [
    "# Exploratory Data Analysis"
   ]
  },
  {
   "cell_type": "code",
   "execution_count": 19,
   "id": "58b2b8ba",
   "metadata": {},
   "outputs": [
    {
     "data": {
      "text/html": [
       "<div>\n",
       "<style scoped>\n",
       "    .dataframe tbody tr th:only-of-type {\n",
       "        vertical-align: middle;\n",
       "    }\n",
       "\n",
       "    .dataframe tbody tr th {\n",
       "        vertical-align: top;\n",
       "    }\n",
       "\n",
       "    .dataframe thead th {\n",
       "        text-align: right;\n",
       "    }\n",
       "</style>\n",
       "<table border=\"1\" class=\"dataframe\">\n",
       "  <thead>\n",
       "    <tr style=\"text-align: right;\">\n",
       "      <th></th>\n",
       "      <th>count</th>\n",
       "      <th>mean</th>\n",
       "      <th>std</th>\n",
       "      <th>min</th>\n",
       "      <th>25%</th>\n",
       "      <th>50%</th>\n",
       "      <th>75%</th>\n",
       "      <th>max</th>\n",
       "    </tr>\n",
       "  </thead>\n",
       "  <tbody>\n",
       "    <tr>\n",
       "      <th>Year</th>\n",
       "      <td>23047.0</td>\n",
       "      <td>2014.937172</td>\n",
       "      <td>3.171957e+00</td>\n",
       "      <td>2010.0</td>\n",
       "      <td>2012.00</td>\n",
       "      <td>2015.0</td>\n",
       "      <td>2018.00</td>\n",
       "      <td>2020.0</td>\n",
       "    </tr>\n",
       "    <tr>\n",
       "      <th>Import Value</th>\n",
       "      <td>22934.0</td>\n",
       "      <td>157047.595753</td>\n",
       "      <td>4.449618e+05</td>\n",
       "      <td>0.0</td>\n",
       "      <td>3565.25</td>\n",
       "      <td>23956.0</td>\n",
       "      <td>109065.00</td>\n",
       "      <td>9472615.0</td>\n",
       "    </tr>\n",
       "    <tr>\n",
       "      <th>Export Value</th>\n",
       "      <td>22918.0</td>\n",
       "      <td>186241.810629</td>\n",
       "      <td>7.745842e+05</td>\n",
       "      <td>0.0</td>\n",
       "      <td>1345.25</td>\n",
       "      <td>13950.5</td>\n",
       "      <td>90641.25</td>\n",
       "      <td>25851456.0</td>\n",
       "    </tr>\n",
       "    <tr>\n",
       "      <th>Import Quantity</th>\n",
       "      <td>22912.0</td>\n",
       "      <td>128183.333231</td>\n",
       "      <td>5.401979e+05</td>\n",
       "      <td>0.0</td>\n",
       "      <td>1519.00</td>\n",
       "      <td>13499.0</td>\n",
       "      <td>66349.25</td>\n",
       "      <td>15542605.0</td>\n",
       "    </tr>\n",
       "    <tr>\n",
       "      <th>Export Quantity</th>\n",
       "      <td>22892.0</td>\n",
       "      <td>176697.847720</td>\n",
       "      <td>1.654605e+06</td>\n",
       "      <td>0.0</td>\n",
       "      <td>445.00</td>\n",
       "      <td>6801.0</td>\n",
       "      <td>54823.00</td>\n",
       "      <td>70066295.0</td>\n",
       "    </tr>\n",
       "    <tr>\n",
       "      <th>Net Export Value</th>\n",
       "      <td>22807.0</td>\n",
       "      <td>29287.536853</td>\n",
       "      <td>8.663126e+05</td>\n",
       "      <td>-9472615.0</td>\n",
       "      <td>-60996.50</td>\n",
       "      <td>-1570.0</td>\n",
       "      <td>42409.00</td>\n",
       "      <td>25784679.0</td>\n",
       "    </tr>\n",
       "  </tbody>\n",
       "</table>\n",
       "</div>"
      ],
      "text/plain": [
       "                    count           mean           std        min       25%  \\\n",
       "Year              23047.0    2014.937172  3.171957e+00     2010.0   2012.00   \n",
       "Import Value      22934.0  157047.595753  4.449618e+05        0.0   3565.25   \n",
       "Export Value      22918.0  186241.810629  7.745842e+05        0.0   1345.25   \n",
       "Import Quantity   22912.0  128183.333231  5.401979e+05        0.0   1519.00   \n",
       "Export Quantity   22892.0  176697.847720  1.654605e+06        0.0    445.00   \n",
       "Net Export Value  22807.0   29287.536853  8.663126e+05 -9472615.0 -60996.50   \n",
       "\n",
       "                      50%        75%         max  \n",
       "Year               2015.0    2018.00      2020.0  \n",
       "Import Value      23956.0  109065.00   9472615.0  \n",
       "Export Value      13950.5   90641.25  25851456.0  \n",
       "Import Quantity   13499.0   66349.25  15542605.0  \n",
       "Export Quantity    6801.0   54823.00  70066295.0  \n",
       "Net Export Value  -1570.0   42409.00  25784679.0  "
      ]
     },
     "execution_count": 19,
     "metadata": {},
     "output_type": "execute_result"
    }
   ],
   "source": [
    "#exploring the dataset insight and paterns\n",
    "# Summary statistics\n",
    "data.describe().T"
   ]
  },
  {
   "cell_type": "code",
   "execution_count": 20,
   "id": "69d45f99",
   "metadata": {},
   "outputs": [
    {
     "name": "stdout",
     "output_type": "stream",
     "text": [
      "['Abaca, manila hemp, raw' 'Almonds, in shell' 'Almonds, shelled'\n",
      " 'Animal oils and fats n.e.c.'\n",
      " 'Animal or vegetable fats and oils and their fractions, chemically modified, except those hydrogenated, inter-esterified, re-esterified or elaidinized; inedible mixtures or preparations of animal or vegetable fats or oils'\n",
      " 'Anise, badian, coriander, cumin, caraway, fennel and juniper berries, raw'\n",
      " 'Apple juice' 'Apple juice, concentrated' 'Apples' 'Apricots'\n",
      " 'Apricots, dried' 'Areca nuts' 'Artichokes' 'Asparagus' 'Asses'\n",
      " 'Avocados' 'Bambara beans, dry' 'Bananas' 'Barley' 'Barley, pearled'\n",
      " 'Beans, dry' 'beef and veal preparations nes' 'Beer of barley, malted'\n",
      " 'Bees' 'Beeswax' 'Beet pulp' 'Blueberries' 'Bran of maize'\n",
      " 'Bran of wheat' 'Brazil nuts, shelled' 'Bread' 'Breakfast cereals'\n",
      " 'Brewing or distilling dregs and waste'\n",
      " 'Broad beans and horse beans, dry' 'Buckwheat' 'Butter of cow milk'\n",
      " 'Buttermilk, curdled and acidified milk' 'Cabbages' 'Cake of  linseed'\n",
      " 'Cake of  soya beans' 'Cake of copra' 'Cake of cottonseed'\n",
      " 'Cake of groundnuts' 'Cake of maize' 'Cake of palm kernel'\n",
      " 'Cake of rapeseed' 'Cake of sesame seed' 'Cake of sunflower seed'\n",
      " 'Camels' 'Canary seed' 'Canned mushrooms' 'Cantaloupes and other melons'\n",
      " 'Carrots and turnips' 'Cashew nuts, in shell' 'Cashew nuts, shelled'\n",
      " 'Cassava, dry' 'Cattle' 'Cattle fat, unrendered'\n",
      " 'Cauliflowers and broccoli' 'Cereal preparations'\n",
      " 'Cereal straw, husks, unprepared, ground, pressed, or in the form of pellets'\n",
      " 'Cheese from milk of sheep, fresh or processed'\n",
      " 'Cheese from whole cow milk' 'Cherries' 'Chestnuts, in shell'\n",
      " 'Chick peas, dry' 'Chickens'\n",
      " 'Chillies and peppers, dry (Capsicum spp., Pimenta spp.), raw'\n",
      " 'Chillies and peppers, green (Capsicum spp. and Pimenta spp.)'\n",
      " 'Chocolate products nes' 'Cider and other fermented beverages'\n",
      " 'Cigarettes' 'Cigars and cheroots'\n",
      " 'Cinnamon and cinnamon-tree flowers, raw'\n",
      " 'Citrus juice, concentrated n.e.c.' 'Cloves (whole stems), raw'\n",
      " 'Cocoa beans' 'Cocoa butter, fat and oil' 'Cocoa paste not defatted'\n",
      " 'Cocoa powder and cake' 'Coconut oil' 'Coconuts, desiccated'\n",
      " 'Coconuts, in shell' 'Coffee extracts' 'Coffee husks and skins'\n",
      " 'Coffee substitutes' 'Coffee, decaffeinated or roasted' 'Coffee, green'\n",
      " 'Coir, raw'\n",
      " 'Communion wafers, empty cachets of a kind suitable for pharmaceutical use, sealing wafers, rice paper and similar products.'\n",
      " 'Copra' 'Cotton lint, ginned' 'Cotton linters' 'Cotton seed'\n",
      " 'Cotton waste' 'Cotton, carded or combed' 'Cottonseed oil' 'Cranberries'\n",
      " 'Cream, fresh' 'Crude organic material n.e.c.' 'Cucumbers and gherkins'\n",
      " 'Currants' 'Dairy products n.e.c.' 'Dates'\n",
      " 'Dog or cat food, put up for retail sale' 'Ducks'\n",
      " 'Edible offal of cattle, fresh, chilled or frozen'\n",
      " 'Edible offal of pigs, fresh, chilled or frozen'\n",
      " 'Edible offal of sheep, fresh, chilled or frozen'\n",
      " 'Edible offals and liver of chickens and guinea fowl, fresh, chilled or frozen'\n",
      " 'Edible offals and liver of ducks, fresh, chilled or frozen'\n",
      " 'Edible offals and liver of geese, fresh, chilled or frozen'\n",
      " 'Edible roots and tubers with high starch or inulin content, n.e.c., fresh'\n",
      " 'Eggplants (aubergines)' 'Eggs from other birds in shell, fresh, n.e.c.'\n",
      " 'Eggs, dried' 'Eggs, liquid' 'Essential oils n.e.c.'\n",
      " 'Extracts, essences and concentrates of tea or mate, and preparations with a basis thereof or with a basis of tea or mat�'\n",
      " 'Fat of pigs' 'Fat preparations n.e.c.' 'Fatty liver preparations' 'Figs'\n",
      " 'Figs, dried' 'Fine animal hair, n.e.c.' 'Flax, processed but not spun'\n",
      " 'Flax, raw or retted' 'Flax, tow and waste' 'Flour of maize'\n",
      " 'Flour of mixed grain' 'Flour of mustard seed' 'Flour of pulses'\n",
      " 'Flour of rice' 'Flour of roots and tubers n.e.c.'\n",
      " 'Flour, meal, powder, flakes, granules and pellets of potatoes' 'Fonio'\n",
      " 'Food preparations n.e.c.'\n",
      " 'Food preparations of flour, meal or malt extract' 'Food wastes'\n",
      " 'Fruit prepared n.e.c.' 'Game meat, fresh, chilled or frozen'\n",
      " 'Germ of maize' 'Ginger, raw' 'Glucose and dextrose'\n",
      " 'Gluten feed and meal' 'Goats' 'Grape juice' 'Grapefruit juice'\n",
      " 'Grapefruit juice, concentrated' 'Grapes' 'Green corn (maize)'\n",
      " 'Green garlic' 'Groundnut oil' 'Groundnuts, shelled'\n",
      " 'Hazelnuts, in shell' 'Hazelnuts, shelled' 'Hen eggs in shell, fresh'\n",
      " 'Hides, dry-salted of horses' 'Hides, wet-salted of cattle'\n",
      " 'Homogenized cooked fruit, prepared' 'Homogenized vegetable preparations'\n",
      " 'Hop cones' 'Horse meat, fresh or chilled' 'Horses' 'Husked rice'\n",
      " 'Ice and snow' 'Ice cream and other edible ice'\n",
      " 'Industrial monocarboxylic fatty acids; acid oils from refining'\n",
      " 'Infant food' 'Juice of citrus fruit n.e.c.' 'Juice of fruits n.e.c.'\n",
      " 'Juice of lemon' 'Juice of pineapples, concentrated'\n",
      " 'Jute, raw or retted' 'Karite nuts (sheanuts)' 'Kiwi fruit' 'Kola nuts'\n",
      " 'Lactose' 'Leeks and other alliaceous vegetables'\n",
      " 'Lemon juice, concentrated' 'Lemons and limes' 'Lentils, dry'\n",
      " 'Lettuce and chicory' 'Linseed' 'Lucerne (alfalfa) meal and pellets'\n",
      " 'Maize (corn)' 'Malt, whether or not roasted'\n",
      " 'Mangoes, guavas and mangosteens' 'Margarine and shortening'\n",
      " 'Mat� leaves' 'Meat meal' 'Meat of cattle boneless, fresh or chilled'\n",
      " 'Meat of cattle with the bone, fresh or chilled'\n",
      " 'Meat of chickens, fresh or chilled' 'Meat of ducks, fresh or chilled'\n",
      " 'Meat of geese, fresh or chilled' 'Meat of goat, fresh or chilled'\n",
      " 'Meat of pig boneless, fresh or chilled'\n",
      " 'Meat of pig with the bone, fresh or chilled'\n",
      " 'Meat of rabbits and hares, fresh or chilled'\n",
      " 'Meat of sheep, fresh or chilled' 'Meat of turkeys, fresh or chilled'\n",
      " 'Millet' 'Mixed grain'\n",
      " \"Mixes and doughs for the preparation of bakers' wares\" 'Molasses'\n",
      " 'Mules and hinnies' 'Mushrooms and truffles' 'Mustard seed'\n",
      " 'Natural honey' 'Natural rubber in other forms'\n",
      " 'Natural rubber in primary forms' 'Nutmeg, mace, cardamoms, raw' 'Oats'\n",
      " 'Oats, rolled' 'Oil of castor beans' 'Oil of citronella' 'Oil of linseed'\n",
      " 'Oil of maize' 'Oil of olive residues' 'Oil of palm kernel'\n",
      " 'Oil of sesame seed' 'Olive oil' 'Olives' 'Olives preserved'\n",
      " 'Onions and shallots, dry (excluding dehydrated)'\n",
      " 'Onions and shallots, green' 'Orange juice' 'Orange juice, concentrated'\n",
      " 'Oranges' 'Other beans, green' 'Other fibre crops, raw, n.e.c.'\n",
      " 'Other forage products, n.e.c.' 'Other fructose and syrup'\n",
      " 'Other fruit n.e.c., dried' 'Other fruits, n.e.c.'\n",
      " 'Other live animals, n.e.c.'\n",
      " 'Other manufactured tobacco and manufactured tobacco substitutes; homogenized\" or \"reconstituted\" tobacco; tobacco extracts and essences\"'\n",
      " 'Other meat and edible meat offal, salted, in brine, dried or smoked; edible flours and meals of meat or meat offal'\n",
      " 'Other meat n.e.c. (excluding mammals), fresh, chilled or frozen'\n",
      " 'Other non-alcoholic caloric beverages'\n",
      " 'Other nuts (excluding wild edible nuts and groundnuts), in shell, n.e.c.'\n",
      " 'Other oil of vegetable origin, crude n.e.c.' 'Other oil seeds, n.e.c.'\n",
      " 'Other raw skins of other animals, preserved'\n",
      " 'Other stimulant, spice and aromatic crops, n.e.c.'\n",
      " 'Other tropical fruits, n.e.c.'\n",
      " 'Other vegetables provisionally preserved'\n",
      " 'Other vegetables, fresh n.e.c.' 'Palm oil' 'Papayas' 'Paste of tomatoes'\n",
      " 'Pastry' 'Peaches and nectarines' 'Peanut butter' 'Pears' 'Peas, dry'\n",
      " 'Peas, green' 'Pepper (Piper spp.), raw' 'Persimmons' 'Pig fat, rendered'\n",
      " 'Pig meat preparations'\n",
      " 'Pig meat, cuts, salted, dried or smoked (bacon and ham)'\n",
      " 'Pineapple juice' 'Pineapples'\n",
      " 'Pineapples, otherwise prepared or preserved' 'Pistachios, in shell'\n",
      " 'Plantains and cooking bananas' 'Plums and sloes' 'Plums, dried'\n",
      " 'Pomelos and grapefruits' 'Poppy seed' 'Potatoes' 'Potatoes, frozen'\n",
      " 'Poultry meat preparations' 'Prepared groundnuts' 'Prepared nuts'\n",
      " 'Processed cheese' 'Pulp, waste of fruit for feed'\n",
      " 'Pumpkins, squash and gourds' 'Pyrethrum extract'\n",
      " 'Pyrethrum, dried flowers' 'Quinces' 'Quinoa' 'Rabbits and hares'\n",
      " 'Raisins' 'Rape or colza seed' 'Rapeseed or canola oil, crude'\n",
      " 'Raw cane or beet sugar (centrifugal only)'\n",
      " 'Raw hides and skins of sheep or lambs, with wool' 'Raw milk of cattle'\n",
      " 'Raw silk (not thrown)'\n",
      " 'Refined cane or beet sugar, in solid form, containing added flavouring or colouring matter; maple sugar and maple syrup'\n",
      " 'Refined sugar' 'Residues of fatty substances' 'Rice' 'Rice, broken'\n",
      " 'Rice, milled' 'Rice, paddy (rice milled equivalent)' 'Rye'\n",
      " 'Safflower-seed oil, crude'\n",
      " 'Sausages and similar products of meat, offal or blood of pig'\n",
      " 'Sesame seed' 'Sheep'\n",
      " 'Shorn wool, greasy, including fleece-washed shorn wool' 'Silk waste'\n",
      " 'Silk-worm cocoons suitable for reeling' 'Skim milk and whey powder'\n",
      " 'Skim milk of cows' 'Skins, dry-salted of sheep'\n",
      " 'Skins, wet-salted of calves' 'Skins, wet-salted of goats' 'Sorghum'\n",
      " 'Sour cherries' 'Soya bean oil' 'Soya beans' 'Soya sauce' 'Spinach'\n",
      " 'Starch of cassava' 'Strawberries' 'Sugar and syrups n.e.c.' 'Sugar beet'\n",
      " 'Sugar confectionery' 'Sunflower seed' 'Sunflower-seed oil, crude'\n",
      " 'Sweet corn, frozen' 'Sweet corn, prepared or preserved' 'Sweet potatoes'\n",
      " 'Swine / pigs' 'Tallow' 'Tangerines, mandarins, clementines' 'Tea leaves'\n",
      " 'Tomato juice' 'Tomatoes' 'Tomatoes, peeled (o/t vinegar)' 'Triticale'\n",
      " 'Turkeys' 'Uncooked pasta, not stuffed or otherwise prepared'\n",
      " 'Undenatured ethyl alcohol of an alcoholic strength by volume of less than 80% vol; spirits, liqueurs and other spirituous beverages'\n",
      " 'Unmanufactured tobacco' 'Vanilla, raw'\n",
      " 'Vegetable products for feed n.e.c.'\n",
      " 'Vegetable products, fresh or dry n.e.c.'\n",
      " 'Vegetable waxes (other than triglycerides), whether or not refined or coloured'\n",
      " 'Vegetables frozen' 'Vegetables preserved (frozen)'\n",
      " 'Vegetables preserved nes (o/t vinegar)' 'Vegetables, dehydrated'\n",
      " 'Vegetables, pulses and potatoes, preserved by vinegar or acetic acid'\n",
      " 'Vermouth and other wine of fresh grapes flavoured with plats or aromatic substances'\n",
      " 'Walnuts, in shell' 'Walnuts, shelled' 'Watermelons' 'Wheat'\n",
      " 'Wheat and meslin flour' 'Whey, condensed' 'Whey, dry'\n",
      " 'Whole milk powder' 'Whole milk, condensed' 'Whole milk, evaporated'\n",
      " 'Wine' 'Wool grease and lanolin'\n",
      " 'Wool, degreased or carbonized, not carded or combed' 'Wool, hair waste'\n",
      " 'Yoghurt' 'Yoghurt, with additives' 'Buffalo' 'Bulgur' 'Flour of cassava'\n",
      " 'Flour of cereals n.e.c.' 'Hides, dry-salted of buffalo'\n",
      " 'Hides, wet-salted of buffalo' 'Other grasses, for forage'\n",
      " 'Rice, milled (husked)' 'Cake of rice bran' 'Feed supplements'\n",
      " 'Skins, wet-salted of sheep' 'Bran of buckwheat' 'Cashewapple'\n",
      " 'Compound feed n.e.c.' 'Kapok fibre, raw' 'Liquid margarine'\n",
      " 'Oil of kapok' 'Oil of poppy seed' 'Rice-fermented beverages'\n",
      " 'Sausages and similar products of meat, offal or blood of beef and veal']\n",
      "(386,)\n"
     ]
    }
   ],
   "source": [
    "# list of agriculture tha we have in the data\n",
    "crop_names = data['Item'].unique()\n",
    "print(crop_names)\n",
    "\n",
    "# how many types of crops are there in the dataset\n",
    "print(data['Item'].unique().shape)"
   ]
  },
  {
   "cell_type": "code",
   "execution_count": 21,
   "id": "b1ea40f5",
   "metadata": {},
   "outputs": [
    {
     "data": {
      "text/plain": [
       "Germany                     4026\n",
       "France                      3995\n",
       "Italy                       3986\n",
       "Spain                       3984\n",
       "Ireland                     3871\n",
       "United States of America    3185\n",
       "Name: Area, dtype: int64"
      ]
     },
     "execution_count": 21,
     "metadata": {},
     "output_type": "execute_result"
    }
   ],
   "source": [
    "data['Area'].value_counts()"
   ]
  },
  {
   "cell_type": "code",
   "execution_count": 90,
   "id": "544b953f",
   "metadata": {},
   "outputs": [
    {
     "data": {
      "text/plain": [
       "<AxesSubplot:xlabel='Net Export Value', ylabel='Area'>"
      ]
     },
     "execution_count": 90,
     "metadata": {},
     "output_type": "execute_result"
    },
    {
     "data": {
      "image/png": "[encoded data removed]",
      "text/plain": [
       "<Figure size 432x288 with 1 Axes>"
      ]
     },
     "metadata": {},
     "output_type": "display_data"
    }
   ],
   "source": [
    "sb.boxplot(x='Net Export Value', y='Area', data=data)"
   ]
  },
  {
   "cell_type": "code",
   "execution_count": 92,
   "id": "cab637e2",
   "metadata": {},
   "outputs": [
    {
     "ename": "AttributeError",
     "evalue": "module 'seaborn' has no attribute 'plt'",
     "output_type": "error",
     "traceback": [
      "\u001b[1;31m---------------------------------------------------------------------------\u001b[0m",
      "\u001b[1;31mAttributeError\u001b[0m                            Traceback (most recent call last)",
      "\u001b[1;32m<ipython-input-92-e69ca5f639a3>\u001b[0m in \u001b[0;36m<module>\u001b[1;34m\u001b[0m\n\u001b[0;32m      1\u001b[0m \u001b[0mdata\u001b[0m\u001b[1;33m.\u001b[0m\u001b[0mhist\u001b[0m\u001b[1;33m(\u001b[0m\u001b[1;33m)\u001b[0m\u001b[1;33m\u001b[0m\u001b[1;33m\u001b[0m\u001b[0m\n\u001b[1;32m----> 2\u001b[1;33m \u001b[0msns\u001b[0m\u001b[1;33m.\u001b[0m\u001b[0mplt\u001b[0m\u001b[1;33m.\u001b[0m\u001b[0mshow\u001b[0m\u001b[1;33m(\u001b[0m\u001b[1;33m)\u001b[0m\u001b[1;33m\u001b[0m\u001b[1;33m\u001b[0m\u001b[0m\n\u001b[0m",
      "\u001b[1;31mAttributeError\u001b[0m: module 'seaborn' has no attribute 'plt'"
     ]
    },
    {
     "data": {
      "image/png": "[encoded data removed]",
      "text/plain": [
       "<Figure size 432x288 with 6 Axes>"
      ]
     },
     "metadata": {},
     "output_type": "display_data"
    }
   ],
   "source": [
    "data.hist()\n",
    "sns.plt.show()"
   ]
  },
  {
   "cell_type": "code",
   "execution_count": 22,
   "id": "67428b84",
   "metadata": {},
   "outputs": [
    {
     "data": {
      "image/png": "[encoded data removed]",
      "text/plain": [
       "<Figure size 864x360 with 1 Axes>"
      ]
     },
     "metadata": {},
     "output_type": "display_data"
    }
   ],
   "source": [
    "#frequency of countries trade\n",
    "plt.figure(figsize=(12,5))\n",
    "plt.title(\"Area by Agriculture Crops\")                                    \n",
    "plt.xlabel(\"Countries\")\n",
    "plt.ylabel(\"Frequency\")\n",
    "sns.countplot(x=data['Area']);"
   ]
  },
  {
   "cell_type": "code",
   "execution_count": 23,
   "id": "e6667398",
   "metadata": {},
   "outputs": [
    {
     "data": {
      "image/png": "[encoded data removed]",
      "text/plain": [
       "<Figure size 864x360 with 1 Axes>"
      ]
     },
     "metadata": {},
     "output_type": "display_data"
    }
   ],
   "source": [
    "#frequency of countries trade\n",
    "plt.figure(figsize=(12,5))\n",
    "plt.title(\"Export/Import Trends Value by Years\")                                    \n",
    "plt.xlabel(\"Years\")\n",
    "plt.ylabel(\"Frequency\")\n",
    "plt.legend(['Export Value','Import Value'])\n",
    "grp1 = data.groupby('Year')['Export Value'].mean()\n",
    "grp2 = data.groupby('Year')['Import Value'].mean()\n",
    "sns.lineplot(x=grp1.index, y=grp1.values);\n",
    "sns.lineplot(x=grp2.index, y=grp2.values);"
   ]
  },
  {
   "cell_type": "code",
   "execution_count": 24,
   "id": "fc8b08a5",
   "metadata": {},
   "outputs": [
    {
     "data": {
      "image/png": "[encoded data removed]",
      "text/plain": [
       "<Figure size 864x360 with 1 Axes>"
      ]
     },
     "metadata": {},
     "output_type": "display_data"
    }
   ],
   "source": [
    "#frequency of countries trade\n",
    "plt.figure(figsize=(12,5))\n",
    "plt.title(\"Export/Import Trends Quantity by Years\")                                    \n",
    "plt.xlabel(\"Years\")\n",
    "plt.ylabel(\"Frequency\")\n",
    "plt.legend(['Export Quantity','Import Quantity'])\n",
    "grp1 = data.groupby('Year')['Export Quantity'].mean()\n",
    "grp2 = data.groupby('Year')['Import Value'].mean()\n",
    "sns.barplot(x=grp1.index, y=grp1.values, color='r');\n",
    "sns.barplot(x=grp2.index, y=grp2.values, color='g');"
   ]
  },
  {
   "cell_type": "code",
   "execution_count": 25,
   "id": "fb538087",
   "metadata": {},
   "outputs": [
    {
     "data": {
      "image/png": "[encoded data removed]",
      "text/plain": [
       "<Figure size 432x288 with 1 Axes>"
      ]
     },
     "metadata": {},
     "output_type": "display_data"
    }
   ],
   "source": [
    "data.groupby('Area').Area.count().plot(kind='pie')\n",
    "plt.show()"
   ]
  },
  {
   "cell_type": "code",
   "execution_count": 26,
   "id": "3a8dd4a3",
   "metadata": {},
   "outputs": [
    {
     "data": {
      "image/png": "[encoded data removed]",
      "text/plain": [
       "<Figure size 864x360 with 1 Axes>"
      ]
     },
     "metadata": {},
     "output_type": "display_data"
    }
   ],
   "source": [
    "#frequency of countries trade\n",
    "plt.figure(figsize=(12,5))\n",
    "plt.title(\"Trends of the Export Value by Agriculture Crops\")                                    \n",
    "plt.xlabel(\"10 Years of Trade\")\n",
    "plt.ylabel(\"Frequency\")\n",
    "plt.legend([''])\n",
    "grp1 = data.groupby('Year')['Export Value'].mean()\n",
    "grp3 = data.groupby('Year')['Import Value'].mean()\n",
    "grp2 = data.groupby('Year')['Export Quantity'].mean()\n",
    "grp4 = data.groupby('Year')['Import Quantity'].mean()\n",
    "sns.lineplot(x=grp1.index, y=grp1.values);\n",
    "sns.lineplot(x=grp2.index, y=grp2.values);\n",
    "sns.lineplot(x=grp3.index, y=grp3.values);\n",
    "sns.lineplot(x=grp3.index, y=grp4.values);"
   ]
  },
  {
   "cell_type": "code",
   "execution_count": 27,
   "id": "1b18dadc",
   "metadata": {},
   "outputs": [
    {
     "data": {
      "image/png": "[encoded data removed]",
      "text/plain": [
       "<Figure size 792x432 with 1 Axes>"
      ]
     },
     "metadata": {},
     "output_type": "display_data"
    },
    {
     "data": {
      "image/png": "[encoded data removed]",
      "text/plain": [
       "<Figure size 792x432 with 1 Axes>"
      ]
     },
     "metadata": {},
     "output_type": "display_data"
    },
    {
     "data": {
      "image/png": "[encoded data removed]",
      "text/plain": [
       "<Figure size 792x432 with 1 Axes>"
      ]
     },
     "metadata": {},
     "output_type": "display_data"
    }
   ],
   "source": [
    "#visualising import, export and net export value\n",
    "cols = ['Import Value','Export Value','Net Export Value']\n",
    "def generate_barplot(cols):\n",
    "    for col in cols:\n",
    "        plt.figure(figsize=(11,6))\n",
    "        plt.title(f'Relation {col}')\n",
    "        sns.barplot(x=data['Area'], y=data[col])\n",
    "        plt.show()\n",
    "        \n",
    "generate_barplot(cols)"
   ]
  },
  {
   "cell_type": "markdown",
   "id": "23c21ffd",
   "metadata": {},
   "source": [
    "# Data Cleaning"
   ]
  },
  {
   "cell_type": "code",
   "execution_count": 38,
   "id": "af651724",
   "metadata": {},
   "outputs": [
    {
     "data": {
      "text/html": [
       "<div>\n",
       "<style scoped>\n",
       "    .dataframe tbody tr th:only-of-type {\n",
       "        vertical-align: middle;\n",
       "    }\n",
       "\n",
       "    .dataframe tbody tr th {\n",
       "        vertical-align: top;\n",
       "    }\n",
       "\n",
       "    .dataframe thead th {\n",
       "        text-align: right;\n",
       "    }\n",
       "</style>\n",
       "<table border=\"1\" class=\"dataframe\">\n",
       "  <thead>\n",
       "    <tr style=\"text-align: right;\">\n",
       "      <th></th>\n",
       "      <th>Item</th>\n",
       "      <th>Year</th>\n",
       "      <th>Import Value</th>\n",
       "      <th>Export Value</th>\n",
       "      <th>Area</th>\n",
       "      <th>Import Quantity</th>\n",
       "      <th>Export Quantity</th>\n",
       "      <th>Net Export Value</th>\n",
       "    </tr>\n",
       "  </thead>\n",
       "  <tbody>\n",
       "    <tr>\n",
       "      <th>4</th>\n",
       "      <td>Almonds, in shell</td>\n",
       "      <td>2010.0</td>\n",
       "      <td>1424.0</td>\n",
       "      <td>90.0</td>\n",
       "      <td>France</td>\n",
       "      <td>633.0</td>\n",
       "      <td>16.0</td>\n",
       "      <td>-1334.0</td>\n",
       "    </tr>\n",
       "    <tr>\n",
       "      <th>5</th>\n",
       "      <td>Almonds, in shell</td>\n",
       "      <td>2011.0</td>\n",
       "      <td>2225.0</td>\n",
       "      <td>73.0</td>\n",
       "      <td>France</td>\n",
       "      <td>685.0</td>\n",
       "      <td>14.0</td>\n",
       "      <td>-2152.0</td>\n",
       "    </tr>\n",
       "    <tr>\n",
       "      <th>6</th>\n",
       "      <td>Almonds, in shell</td>\n",
       "      <td>2012.0</td>\n",
       "      <td>2920.0</td>\n",
       "      <td>168.0</td>\n",
       "      <td>France</td>\n",
       "      <td>889.0</td>\n",
       "      <td>32.0</td>\n",
       "      <td>-2752.0</td>\n",
       "    </tr>\n",
       "    <tr>\n",
       "      <th>7</th>\n",
       "      <td>Almonds, in shell</td>\n",
       "      <td>2013.0</td>\n",
       "      <td>3473.0</td>\n",
       "      <td>168.0</td>\n",
       "      <td>France</td>\n",
       "      <td>822.0</td>\n",
       "      <td>27.0</td>\n",
       "      <td>-3305.0</td>\n",
       "    </tr>\n",
       "    <tr>\n",
       "      <th>8</th>\n",
       "      <td>Almonds, in shell</td>\n",
       "      <td>2014.0</td>\n",
       "      <td>9146.0</td>\n",
       "      <td>1611.0</td>\n",
       "      <td>France</td>\n",
       "      <td>1395.0</td>\n",
       "      <td>192.0</td>\n",
       "      <td>-7535.0</td>\n",
       "    </tr>\n",
       "    <tr>\n",
       "      <th>...</th>\n",
       "      <td>...</td>\n",
       "      <td>...</td>\n",
       "      <td>...</td>\n",
       "      <td>...</td>\n",
       "      <td>...</td>\n",
       "      <td>...</td>\n",
       "      <td>...</td>\n",
       "      <td>...</td>\n",
       "    </tr>\n",
       "    <tr>\n",
       "      <th>22794</th>\n",
       "      <td>Sausages and similar products of meat, offal o...</td>\n",
       "      <td>2011.0</td>\n",
       "      <td>31166.0</td>\n",
       "      <td>8141.0</td>\n",
       "      <td>United States of America</td>\n",
       "      <td>13769.0</td>\n",
       "      <td>71.0</td>\n",
       "      <td>-23025.0</td>\n",
       "    </tr>\n",
       "    <tr>\n",
       "      <th>22795</th>\n",
       "      <td>Sausages and similar products of meat, offal o...</td>\n",
       "      <td>2012.0</td>\n",
       "      <td>25084.0</td>\n",
       "      <td>5175.0</td>\n",
       "      <td>United States of America</td>\n",
       "      <td>25134.0</td>\n",
       "      <td>74.0</td>\n",
       "      <td>-19909.0</td>\n",
       "    </tr>\n",
       "    <tr>\n",
       "      <th>22797</th>\n",
       "      <td>Sausages and similar products of meat, offal o...</td>\n",
       "      <td>2014.0</td>\n",
       "      <td>28404.0</td>\n",
       "      <td>4578.0</td>\n",
       "      <td>United States of America</td>\n",
       "      <td>22080.0</td>\n",
       "      <td>36.0</td>\n",
       "      <td>-23826.0</td>\n",
       "    </tr>\n",
       "    <tr>\n",
       "      <th>23000</th>\n",
       "      <td>Sugar beet</td>\n",
       "      <td>2015.0</td>\n",
       "      <td>3161.0</td>\n",
       "      <td>5307.0</td>\n",
       "      <td>United States of America</td>\n",
       "      <td>1624880.0</td>\n",
       "      <td>91570.0</td>\n",
       "      <td>2146.0</td>\n",
       "    </tr>\n",
       "    <tr>\n",
       "      <th>23046</th>\n",
       "      <td>Sweet corn, frozen</td>\n",
       "      <td>2018.0</td>\n",
       "      <td>40922.0</td>\n",
       "      <td>39919.0</td>\n",
       "      <td>United States of America</td>\n",
       "      <td>2.0</td>\n",
       "      <td>44586.0</td>\n",
       "      <td>-1003.0</td>\n",
       "    </tr>\n",
       "  </tbody>\n",
       "</table>\n",
       "<p>4680 rows × 8 columns</p>\n",
       "</div>"
      ],
      "text/plain": [
       "                                                    Item    Year  \\\n",
       "4                                      Almonds, in shell  2010.0   \n",
       "5                                      Almonds, in shell  2011.0   \n",
       "6                                      Almonds, in shell  2012.0   \n",
       "7                                      Almonds, in shell  2013.0   \n",
       "8                                      Almonds, in shell  2014.0   \n",
       "...                                                  ...     ...   \n",
       "22794  Sausages and similar products of meat, offal o...  2011.0   \n",
       "22795  Sausages and similar products of meat, offal o...  2012.0   \n",
       "22797  Sausages and similar products of meat, offal o...  2014.0   \n",
       "23000                                         Sugar beet  2015.0   \n",
       "23046                                 Sweet corn, frozen  2018.0   \n",
       "\n",
       "       Import Value  Export Value                      Area  Import Quantity  \\\n",
       "4            1424.0          90.0                    France            633.0   \n",
       "5            2225.0          73.0                    France            685.0   \n",
       "6            2920.0         168.0                    France            889.0   \n",
       "7            3473.0         168.0                    France            822.0   \n",
       "8            9146.0        1611.0                    France           1395.0   \n",
       "...             ...           ...                       ...              ...   \n",
       "22794       31166.0        8141.0  United States of America          13769.0   \n",
       "22795       25084.0        5175.0  United States of America          25134.0   \n",
       "22797       28404.0        4578.0  United States of America          22080.0   \n",
       "23000        3161.0        5307.0  United States of America        1624880.0   \n",
       "23046       40922.0       39919.0  United States of America              2.0   \n",
       "\n",
       "       Export Quantity  Net Export Value  \n",
       "4                 16.0           -1334.0  \n",
       "5                 14.0           -2152.0  \n",
       "6                 32.0           -2752.0  \n",
       "7                 27.0           -3305.0  \n",
       "8                192.0           -7535.0  \n",
       "...                ...               ...  \n",
       "22794             71.0          -23025.0  \n",
       "22795             74.0          -19909.0  \n",
       "22797             36.0          -23826.0  \n",
       "23000          91570.0            2146.0  \n",
       "23046          44586.0           -1003.0  \n",
       "\n",
       "[4680 rows x 8 columns]"
      ]
     },
     "execution_count": 38,
     "metadata": {},
     "output_type": "execute_result"
    }
   ],
   "source": [
    "#some of the value column are 0, we need to remove them as the are not useful for this analysis. (It means zero transation occured for such agriculture crops in \"item column\") \n",
    "d.loc[(data[['Import Value', 'Export Value', 'Import Quantity', 'Export Quantity', 'Net Export Value' ]] != 0).all(axis=1)]"
   ]
  },
  {
   "cell_type": "code",
   "execution_count": 39,
   "id": "7f8630da",
   "metadata": {},
   "outputs": [
    {
     "data": {
      "text/html": [
       "<div>\n",
       "<style scoped>\n",
       "    .dataframe tbody tr th:only-of-type {\n",
       "        vertical-align: middle;\n",
       "    }\n",
       "\n",
       "    .dataframe tbody tr th {\n",
       "        vertical-align: top;\n",
       "    }\n",
       "\n",
       "    .dataframe thead th {\n",
       "        text-align: right;\n",
       "    }\n",
       "</style>\n",
       "<table border=\"1\" class=\"dataframe\">\n",
       "  <thead>\n",
       "    <tr style=\"text-align: right;\">\n",
       "      <th></th>\n",
       "      <th>Item</th>\n",
       "      <th>Year</th>\n",
       "      <th>Import Value</th>\n",
       "      <th>Export Value</th>\n",
       "      <th>Area</th>\n",
       "      <th>Import Quantity</th>\n",
       "      <th>Export Quantity</th>\n",
       "      <th>Net Export Value</th>\n",
       "    </tr>\n",
       "  </thead>\n",
       "  <tbody>\n",
       "    <tr>\n",
       "      <th>4</th>\n",
       "      <td>Almonds, in shell</td>\n",
       "      <td>2010.0</td>\n",
       "      <td>1424.0</td>\n",
       "      <td>90.0</td>\n",
       "      <td>France</td>\n",
       "      <td>633.0</td>\n",
       "      <td>16.0</td>\n",
       "      <td>-1334.0</td>\n",
       "    </tr>\n",
       "    <tr>\n",
       "      <th>5</th>\n",
       "      <td>Almonds, in shell</td>\n",
       "      <td>2011.0</td>\n",
       "      <td>2225.0</td>\n",
       "      <td>73.0</td>\n",
       "      <td>France</td>\n",
       "      <td>685.0</td>\n",
       "      <td>14.0</td>\n",
       "      <td>-2152.0</td>\n",
       "    </tr>\n",
       "    <tr>\n",
       "      <th>6</th>\n",
       "      <td>Almonds, in shell</td>\n",
       "      <td>2012.0</td>\n",
       "      <td>2920.0</td>\n",
       "      <td>168.0</td>\n",
       "      <td>France</td>\n",
       "      <td>889.0</td>\n",
       "      <td>32.0</td>\n",
       "      <td>-2752.0</td>\n",
       "    </tr>\n",
       "    <tr>\n",
       "      <th>7</th>\n",
       "      <td>Almonds, in shell</td>\n",
       "      <td>2013.0</td>\n",
       "      <td>3473.0</td>\n",
       "      <td>168.0</td>\n",
       "      <td>France</td>\n",
       "      <td>822.0</td>\n",
       "      <td>27.0</td>\n",
       "      <td>-3305.0</td>\n",
       "    </tr>\n",
       "    <tr>\n",
       "      <th>8</th>\n",
       "      <td>Almonds, in shell</td>\n",
       "      <td>2014.0</td>\n",
       "      <td>9146.0</td>\n",
       "      <td>1611.0</td>\n",
       "      <td>France</td>\n",
       "      <td>1395.0</td>\n",
       "      <td>192.0</td>\n",
       "      <td>-7535.0</td>\n",
       "    </tr>\n",
       "    <tr>\n",
       "      <th>...</th>\n",
       "      <td>...</td>\n",
       "      <td>...</td>\n",
       "      <td>...</td>\n",
       "      <td>...</td>\n",
       "      <td>...</td>\n",
       "      <td>...</td>\n",
       "      <td>...</td>\n",
       "      <td>...</td>\n",
       "    </tr>\n",
       "    <tr>\n",
       "      <th>22794</th>\n",
       "      <td>Sausages and similar products of meat, offal o...</td>\n",
       "      <td>2011.0</td>\n",
       "      <td>31166.0</td>\n",
       "      <td>8141.0</td>\n",
       "      <td>United States of America</td>\n",
       "      <td>13769.0</td>\n",
       "      <td>71.0</td>\n",
       "      <td>-23025.0</td>\n",
       "    </tr>\n",
       "    <tr>\n",
       "      <th>22795</th>\n",
       "      <td>Sausages and similar products of meat, offal o...</td>\n",
       "      <td>2012.0</td>\n",
       "      <td>25084.0</td>\n",
       "      <td>5175.0</td>\n",
       "      <td>United States of America</td>\n",
       "      <td>25134.0</td>\n",
       "      <td>74.0</td>\n",
       "      <td>-19909.0</td>\n",
       "    </tr>\n",
       "    <tr>\n",
       "      <th>22797</th>\n",
       "      <td>Sausages and similar products of meat, offal o...</td>\n",
       "      <td>2014.0</td>\n",
       "      <td>28404.0</td>\n",
       "      <td>4578.0</td>\n",
       "      <td>United States of America</td>\n",
       "      <td>22080.0</td>\n",
       "      <td>36.0</td>\n",
       "      <td>-23826.0</td>\n",
       "    </tr>\n",
       "    <tr>\n",
       "      <th>23000</th>\n",
       "      <td>Sugar beet</td>\n",
       "      <td>2015.0</td>\n",
       "      <td>3161.0</td>\n",
       "      <td>5307.0</td>\n",
       "      <td>United States of America</td>\n",
       "      <td>1624880.0</td>\n",
       "      <td>91570.0</td>\n",
       "      <td>2146.0</td>\n",
       "    </tr>\n",
       "    <tr>\n",
       "      <th>23046</th>\n",
       "      <td>Sweet corn, frozen</td>\n",
       "      <td>2018.0</td>\n",
       "      <td>40922.0</td>\n",
       "      <td>39919.0</td>\n",
       "      <td>United States of America</td>\n",
       "      <td>2.0</td>\n",
       "      <td>44586.0</td>\n",
       "      <td>-1003.0</td>\n",
       "    </tr>\n",
       "  </tbody>\n",
       "</table>\n",
       "<p>5410 rows × 8 columns</p>\n",
       "</div>"
      ],
      "text/plain": [
       "                                                    Item    Year  \\\n",
       "4                                      Almonds, in shell  2010.0   \n",
       "5                                      Almonds, in shell  2011.0   \n",
       "6                                      Almonds, in shell  2012.0   \n",
       "7                                      Almonds, in shell  2013.0   \n",
       "8                                      Almonds, in shell  2014.0   \n",
       "...                                                  ...     ...   \n",
       "22794  Sausages and similar products of meat, offal o...  2011.0   \n",
       "22795  Sausages and similar products of meat, offal o...  2012.0   \n",
       "22797  Sausages and similar products of meat, offal o...  2014.0   \n",
       "23000                                         Sugar beet  2015.0   \n",
       "23046                                 Sweet corn, frozen  2018.0   \n",
       "\n",
       "       Import Value  Export Value                      Area  Import Quantity  \\\n",
       "4            1424.0          90.0                    France            633.0   \n",
       "5            2225.0          73.0                    France            685.0   \n",
       "6            2920.0         168.0                    France            889.0   \n",
       "7            3473.0         168.0                    France            822.0   \n",
       "8            9146.0        1611.0                    France           1395.0   \n",
       "...             ...           ...                       ...              ...   \n",
       "22794       31166.0        8141.0  United States of America          13769.0   \n",
       "22795       25084.0        5175.0  United States of America          25134.0   \n",
       "22797       28404.0        4578.0  United States of America          22080.0   \n",
       "23000        3161.0        5307.0  United States of America        1624880.0   \n",
       "23046       40922.0       39919.0  United States of America              2.0   \n",
       "\n",
       "       Export Quantity  Net Export Value  \n",
       "4                 16.0           -1334.0  \n",
       "5                 14.0           -2152.0  \n",
       "6                 32.0           -2752.0  \n",
       "7                 27.0           -3305.0  \n",
       "8                192.0           -7535.0  \n",
       "...                ...               ...  \n",
       "22794             71.0          -23025.0  \n",
       "22795             74.0          -19909.0  \n",
       "22797             36.0          -23826.0  \n",
       "23000          91570.0            2146.0  \n",
       "23046          44586.0           -1003.0  \n",
       "\n",
       "[5410 rows x 8 columns]"
      ]
     },
     "execution_count": 39,
     "metadata": {},
     "output_type": "execute_result"
    }
   ],
   "source": [
    "data = data.loc[(data[['Import Value', 'Export Value', 'Import Quantity', 'Export Quantity', 'Net Export Value' ]] != 0).all(axis=1)]\n",
    "d"
   ]
  },
  {
   "cell_type": "markdown",
   "id": "0e18cc89",
   "metadata": {},
   "source": [
    "# Getting the 25th and 75th percentile to remove outliers"
   ]
  },
  {
   "cell_type": "code",
   "execution_count": 40,
   "id": "50b3d5c1",
   "metadata": {},
   "outputs": [
    {
     "data": {
      "text/plain": [
       "(4769.0, 118614.25, 2114.75, 99056.5)"
      ]
     },
     "execution_count": 40,
     "metadata": {},
     "output_type": "execute_result"
    }
   ],
   "source": [
    "etr = data['Export Value'].describe().to_list()\n",
    "itr = data['Import Value'].describe().to_list()\n",
    "\n",
    "\n",
    "eq1, eq2 = etr[4], etr[6]\n",
    "iq1, iq2 = itr[4], itr[6]\n",
    "iq1, iq2, eq1, eq2"
   ]
  },
  {
   "cell_type": "code",
   "execution_count": 41,
   "id": "9fecd433",
   "metadata": {},
   "outputs": [
    {
     "name": "stderr",
     "output_type": "stream",
     "text": [
      "<ipython-input-41-3f8c9d0e1368>:11: SettingWithCopyWarning: \n",
      "A value is trying to be set on a copy of a slice from a DataFrame.\n",
      "Try using .loc[row_indexer,col_indexer] = value instead\n",
      "\n",
      "See the caveats in the documentation: https://pandas.pydata.org/pandas-docs/stable/user_guide/indexing.html#returning-a-view-versus-a-copy\n",
      "  d['Export Value'] = [int(i) for i in d['Export Value']]\n",
      "<ipython-input-41-3f8c9d0e1368>:12: SettingWithCopyWarning: \n",
      "A value is trying to be set on a copy of a slice from a DataFrame.\n",
      "Try using .loc[row_indexer,col_indexer] = value instead\n",
      "\n",
      "See the caveats in the documentation: https://pandas.pydata.org/pandas-docs/stable/user_guide/indexing.html#returning-a-view-versus-a-copy\n",
      "  d['Export Quantity'] = [int(i) for i in d['Export Quantity']]\n",
      "<ipython-input-41-3f8c9d0e1368>:13: SettingWithCopyWarning: \n",
      "A value is trying to be set on a copy of a slice from a DataFrame.\n",
      "Try using .loc[row_indexer,col_indexer] = value instead\n",
      "\n",
      "See the caveats in the documentation: https://pandas.pydata.org/pandas-docs/stable/user_guide/indexing.html#returning-a-view-versus-a-copy\n",
      "  d['Import Value'] = [int(i) for i in d['Import Value']]\n",
      "<ipython-input-41-3f8c9d0e1368>:14: SettingWithCopyWarning: \n",
      "A value is trying to be set on a copy of a slice from a DataFrame.\n",
      "Try using .loc[row_indexer,col_indexer] = value instead\n",
      "\n",
      "See the caveats in the documentation: https://pandas.pydata.org/pandas-docs/stable/user_guide/indexing.html#returning-a-view-versus-a-copy\n",
      "  d['Import Quantity'] = [int(i) for i in d['Import Quantity']]\n",
      "<ipython-input-41-3f8c9d0e1368>:15: SettingWithCopyWarning: \n",
      "A value is trying to be set on a copy of a slice from a DataFrame.\n",
      "Try using .loc[row_indexer,col_indexer] = value instead\n",
      "\n",
      "See the caveats in the documentation: https://pandas.pydata.org/pandas-docs/stable/user_guide/indexing.html#returning-a-view-versus-a-copy\n",
      "  d['Net Export Value'] = [int(i) for i in d['Net Export Value']]\n"
     ]
    }
   ],
   "source": [
    "# filtered dataframe\n",
    "dr = data.where(data['Export Value'] > eq1)\n",
    "dr = data.where(data['Import Value'] > iq1)\n",
    "dr = data.where(data['Export Value'] < eq2)\n",
    "dr = data.where(data['Export Quantity'] > 0)\n",
    "dr = dr.where(dr['Import Value'] < iq2)\n",
    "dr.dropna(axis=0, inplace=True)\n",
    "\n",
    "# New dataframe\n",
    "d = dr[dr['Export Value'] < 50000]\n",
    "d['Export Value'] = [int(i) for i in d['Export Value']]\n",
    "d['Export Quantity'] = [int(i) for i in d['Export Quantity']]\n",
    "d['Import Value'] = [int(i) for i in d['Import Value']]\n",
    "d['Import Quantity'] = [int(i) for i in d['Import Quantity']]\n",
    "d['Net Export Value'] = [int(i) for i in d['Net Export Value']]\n",
    "\n",
    "# FIlter the outliers\n",
    "nqr = d['Net Export Value'].describe().to_list()\n",
    "nq1, nq2 = nqr[4], nqr[6]\n",
    "d = d.where(d['Net Export Value'] > nq1)\n",
    "d = d.where(d['Net Export Value'] < nq2)\n",
    "d.dropna(axis=0, inplace=True)"
   ]
  },
  {
   "cell_type": "code",
   "execution_count": 42,
   "id": "6146efe3",
   "metadata": {},
   "outputs": [
    {
     "data": {
      "text/plain": [
       "{'whiskers': [<matplotlib.lines.Line2D at 0x29f7a0151c0>,\n",
       "  <matplotlib.lines.Line2D at 0x29f7a0154c0>],\n",
       " 'caps': [<matplotlib.lines.Line2D at 0x29f7a015dc0>,\n",
       "  <matplotlib.lines.Line2D at 0x29f7a083220>],\n",
       " 'boxes': [<matplotlib.lines.Line2D at 0x29f7a015ee0>],\n",
       " 'medians': [<matplotlib.lines.Line2D at 0x29f7a083b50>],\n",
       " 'fliers': [<matplotlib.lines.Line2D at 0x29f7a083d60>],\n",
       " 'means': []}"
      ]
     },
     "execution_count": 42,
     "metadata": {},
     "output_type": "execute_result"
    },
    {
     "data": {
      "image/png": "[encoded data removed]",
      "text/plain": [
       "<Figure size 432x288 with 1 Axes>"
      ]
     },
     "metadata": {},
     "output_type": "display_data"
    }
   ],
   "source": [
    "plt.boxplot(d['Net Export Value'])"
   ]
  },
  {
   "cell_type": "code",
   "execution_count": 43,
   "id": "e3be059b",
   "metadata": {},
   "outputs": [
    {
     "data": {
      "text/html": [
       "<div>\n",
       "<style scoped>\n",
       "    .dataframe tbody tr th:only-of-type {\n",
       "        vertical-align: middle;\n",
       "    }\n",
       "\n",
       "    .dataframe tbody tr th {\n",
       "        vertical-align: top;\n",
       "    }\n",
       "\n",
       "    .dataframe thead th {\n",
       "        text-align: right;\n",
       "    }\n",
       "</style>\n",
       "<table border=\"1\" class=\"dataframe\">\n",
       "  <thead>\n",
       "    <tr style=\"text-align: right;\">\n",
       "      <th></th>\n",
       "      <th>Item</th>\n",
       "      <th>Year</th>\n",
       "      <th>Import Value</th>\n",
       "      <th>Export Value</th>\n",
       "      <th>Area</th>\n",
       "      <th>Import Quantity</th>\n",
       "      <th>Export Quantity</th>\n",
       "      <th>Net Export Value</th>\n",
       "    </tr>\n",
       "  </thead>\n",
       "  <tbody>\n",
       "    <tr>\n",
       "      <th>4</th>\n",
       "      <td>Almonds, in shell</td>\n",
       "      <td>2010.0</td>\n",
       "      <td>1424.0</td>\n",
       "      <td>90.0</td>\n",
       "      <td>France</td>\n",
       "      <td>633.0</td>\n",
       "      <td>16.0</td>\n",
       "      <td>-1334.0</td>\n",
       "    </tr>\n",
       "    <tr>\n",
       "      <th>5</th>\n",
       "      <td>Almonds, in shell</td>\n",
       "      <td>2011.0</td>\n",
       "      <td>2225.0</td>\n",
       "      <td>73.0</td>\n",
       "      <td>France</td>\n",
       "      <td>685.0</td>\n",
       "      <td>14.0</td>\n",
       "      <td>-2152.0</td>\n",
       "    </tr>\n",
       "    <tr>\n",
       "      <th>6</th>\n",
       "      <td>Almonds, in shell</td>\n",
       "      <td>2012.0</td>\n",
       "      <td>2920.0</td>\n",
       "      <td>168.0</td>\n",
       "      <td>France</td>\n",
       "      <td>889.0</td>\n",
       "      <td>32.0</td>\n",
       "      <td>-2752.0</td>\n",
       "    </tr>\n",
       "    <tr>\n",
       "      <th>7</th>\n",
       "      <td>Almonds, in shell</td>\n",
       "      <td>2013.0</td>\n",
       "      <td>3473.0</td>\n",
       "      <td>168.0</td>\n",
       "      <td>France</td>\n",
       "      <td>822.0</td>\n",
       "      <td>27.0</td>\n",
       "      <td>-3305.0</td>\n",
       "    </tr>\n",
       "    <tr>\n",
       "      <th>8</th>\n",
       "      <td>Almonds, in shell</td>\n",
       "      <td>2014.0</td>\n",
       "      <td>9146.0</td>\n",
       "      <td>1611.0</td>\n",
       "      <td>France</td>\n",
       "      <td>1395.0</td>\n",
       "      <td>192.0</td>\n",
       "      <td>-7535.0</td>\n",
       "    </tr>\n",
       "    <tr>\n",
       "      <th>...</th>\n",
       "      <td>...</td>\n",
       "      <td>...</td>\n",
       "      <td>...</td>\n",
       "      <td>...</td>\n",
       "      <td>...</td>\n",
       "      <td>...</td>\n",
       "      <td>...</td>\n",
       "      <td>...</td>\n",
       "    </tr>\n",
       "    <tr>\n",
       "      <th>22795</th>\n",
       "      <td>Sausages and similar products of meat, offal o...</td>\n",
       "      <td>2012.0</td>\n",
       "      <td>25084.0</td>\n",
       "      <td>5175.0</td>\n",
       "      <td>United States of America</td>\n",
       "      <td>25134.0</td>\n",
       "      <td>74.0</td>\n",
       "      <td>-19909.0</td>\n",
       "    </tr>\n",
       "    <tr>\n",
       "      <th>22796</th>\n",
       "      <td>Sausages and similar products of meat, offal o...</td>\n",
       "      <td>2013.0</td>\n",
       "      <td>28328.0</td>\n",
       "      <td>3401.0</td>\n",
       "      <td>United States of America</td>\n",
       "      <td>27184.0</td>\n",
       "      <td>50.0</td>\n",
       "      <td>-24927.0</td>\n",
       "    </tr>\n",
       "    <tr>\n",
       "      <th>22797</th>\n",
       "      <td>Sausages and similar products of meat, offal o...</td>\n",
       "      <td>2014.0</td>\n",
       "      <td>28404.0</td>\n",
       "      <td>4578.0</td>\n",
       "      <td>United States of America</td>\n",
       "      <td>22080.0</td>\n",
       "      <td>36.0</td>\n",
       "      <td>-23826.0</td>\n",
       "    </tr>\n",
       "    <tr>\n",
       "      <th>23000</th>\n",
       "      <td>Sugar beet</td>\n",
       "      <td>2015.0</td>\n",
       "      <td>3161.0</td>\n",
       "      <td>5307.0</td>\n",
       "      <td>United States of America</td>\n",
       "      <td>1624880.0</td>\n",
       "      <td>91570.0</td>\n",
       "      <td>2146.0</td>\n",
       "    </tr>\n",
       "    <tr>\n",
       "      <th>23046</th>\n",
       "      <td>Sweet corn, frozen</td>\n",
       "      <td>2018.0</td>\n",
       "      <td>40922.0</td>\n",
       "      <td>39919.0</td>\n",
       "      <td>United States of America</td>\n",
       "      <td>2.0</td>\n",
       "      <td>44586.0</td>\n",
       "      <td>-1003.0</td>\n",
       "    </tr>\n",
       "  </tbody>\n",
       "</table>\n",
       "<p>4890 rows × 8 columns</p>\n",
       "</div>"
      ],
      "text/plain": [
       "                                                    Item    Year  \\\n",
       "4                                      Almonds, in shell  2010.0   \n",
       "5                                      Almonds, in shell  2011.0   \n",
       "6                                      Almonds, in shell  2012.0   \n",
       "7                                      Almonds, in shell  2013.0   \n",
       "8                                      Almonds, in shell  2014.0   \n",
       "...                                                  ...     ...   \n",
       "22795  Sausages and similar products of meat, offal o...  2012.0   \n",
       "22796  Sausages and similar products of meat, offal o...  2013.0   \n",
       "22797  Sausages and similar products of meat, offal o...  2014.0   \n",
       "23000                                         Sugar beet  2015.0   \n",
       "23046                                 Sweet corn, frozen  2018.0   \n",
       "\n",
       "       Import Value  Export Value                      Area  Import Quantity  \\\n",
       "4            1424.0          90.0                    France            633.0   \n",
       "5            2225.0          73.0                    France            685.0   \n",
       "6            2920.0         168.0                    France            889.0   \n",
       "7            3473.0         168.0                    France            822.0   \n",
       "8            9146.0        1611.0                    France           1395.0   \n",
       "...             ...           ...                       ...              ...   \n",
       "22795       25084.0        5175.0  United States of America          25134.0   \n",
       "22796       28328.0        3401.0  United States of America          27184.0   \n",
       "22797       28404.0        4578.0  United States of America          22080.0   \n",
       "23000        3161.0        5307.0  United States of America        1624880.0   \n",
       "23046       40922.0       39919.0  United States of America              2.0   \n",
       "\n",
       "       Export Quantity  Net Export Value  \n",
       "4                 16.0           -1334.0  \n",
       "5                 14.0           -2152.0  \n",
       "6                 32.0           -2752.0  \n",
       "7                 27.0           -3305.0  \n",
       "8                192.0           -7535.0  \n",
       "...                ...               ...  \n",
       "22795             74.0          -19909.0  \n",
       "22796             50.0          -24927.0  \n",
       "22797             36.0          -23826.0  \n",
       "23000          91570.0            2146.0  \n",
       "23046          44586.0           -1003.0  \n",
       "\n",
       "[4890 rows x 8 columns]"
      ]
     },
     "execution_count": 43,
     "metadata": {},
     "output_type": "execute_result"
    }
   ],
   "source": [
    "#DROPPING SOME UNNEEDED COLUMNS\n",
    "d = d.drop(['Unit', 'id'], axis=1)\n",
    "# display the dataframe\n",
    "d"
   ]
  },
  {
   "cell_type": "markdown",
   "id": "3d147b39",
   "metadata": {},
   "source": [
    "# Descriptive Statistics"
   ]
  },
  {
   "cell_type": "code",
   "execution_count": 44,
   "id": "0c173fbe",
   "metadata": {},
   "outputs": [
    {
     "data": {
      "text/plain": [
       "Year                  2014.976892\n",
       "Import Value         12388.505930\n",
       "Export Value          4812.193865\n",
       "Import Quantity     119133.089366\n",
       "Export Quantity     101616.155624\n",
       "Net Export Value     -7576.312065\n",
       "dtype: float64"
      ]
     },
     "execution_count": 44,
     "metadata": {},
     "output_type": "execute_result"
    }
   ],
   "source": [
    "#getting all variables mean at once\n",
    "d.mean()"
   ]
  },
  {
   "cell_type": "code",
   "execution_count": 45,
   "id": "14f7ef02",
   "metadata": {},
   "outputs": [
    {
     "data": {
      "text/plain": [
       "Year                 2015.0\n",
       "Import Value         8433.0\n",
       "Export Value         1185.5\n",
       "Import Quantity     11898.5\n",
       "Export Quantity      4527.0\n",
       "Net Export Value    -4650.5\n",
       "dtype: float64"
      ]
     },
     "execution_count": 45,
     "metadata": {},
     "output_type": "execute_result"
    }
   ],
   "source": [
    "#getting all variables median at once\n",
    "d.median()"
   ]
  },
  {
   "cell_type": "code",
   "execution_count": 46,
   "id": "3a37909f",
   "metadata": {},
   "outputs": [
    {
     "data": {
      "text/html": [
       "<div>\n",
       "<style scoped>\n",
       "    .dataframe tbody tr th:only-of-type {\n",
       "        vertical-align: middle;\n",
       "    }\n",
       "\n",
       "    .dataframe tbody tr th {\n",
       "        vertical-align: top;\n",
       "    }\n",
       "\n",
       "    .dataframe thead th {\n",
       "        text-align: right;\n",
       "    }\n",
       "</style>\n",
       "<table border=\"1\" class=\"dataframe\">\n",
       "  <thead>\n",
       "    <tr style=\"text-align: right;\">\n",
       "      <th></th>\n",
       "      <th>Item</th>\n",
       "      <th>Year</th>\n",
       "      <th>Import Value</th>\n",
       "      <th>Export Value</th>\n",
       "      <th>Area</th>\n",
       "      <th>Import Quantity</th>\n",
       "      <th>Export Quantity</th>\n",
       "      <th>Net Export Value</th>\n",
       "    </tr>\n",
       "  </thead>\n",
       "  <tbody>\n",
       "    <tr>\n",
       "      <th>0</th>\n",
       "      <td>Citrus juice, concentrated n.e.c.</td>\n",
       "      <td>2015.0</td>\n",
       "      <td>1.0</td>\n",
       "      <td>1.0</td>\n",
       "      <td>Ireland</td>\n",
       "      <td>1.0</td>\n",
       "      <td>1.0</td>\n",
       "      <td>4.0</td>\n",
       "    </tr>\n",
       "  </tbody>\n",
       "</table>\n",
       "</div>"
      ],
      "text/plain": [
       "                                Item    Year  Import Value  Export Value  \\\n",
       "0  Citrus juice, concentrated n.e.c.  2015.0           1.0           1.0   \n",
       "\n",
       "      Area  Import Quantity  Export Quantity  Net Export Value  \n",
       "0  Ireland              1.0              1.0               4.0  "
      ]
     },
     "execution_count": 46,
     "metadata": {},
     "output_type": "execute_result"
    }
   ],
   "source": [
    "#getting all variables mode at once\n",
    "d.mode()"
   ]
  },
  {
   "cell_type": "code",
   "execution_count": 47,
   "id": "77ffe1cc",
   "metadata": {},
   "outputs": [
    {
     "data": {
      "text/plain": [
       "Year                9.790630e+00\n",
       "Import Value        1.643984e+08\n",
       "Export Value        7.109579e+07\n",
       "Import Quantity     2.286078e+11\n",
       "Export Quantity     1.818533e+11\n",
       "Net Export Value    7.064454e+07\n",
       "dtype: float64"
      ]
     },
     "execution_count": 47,
     "metadata": {},
     "output_type": "execute_result"
    }
   ],
   "source": [
    "#variance of all column at a go\n",
    "d.var()"
   ]
  },
  {
   "cell_type": "code",
   "execution_count": 48,
   "id": "5340bef3",
   "metadata": {},
   "outputs": [
    {
     "data": {
      "text/plain": [
       "Year                     3.128998\n",
       "Import Value         12821.795509\n",
       "Export Value          8431.831898\n",
       "Import Quantity     478129.507851\n",
       "Export Quantity     426442.558803\n",
       "Net Export Value      8405.030688\n",
       "dtype: float64"
      ]
     },
     "execution_count": 48,
     "metadata": {},
     "output_type": "execute_result"
    }
   ],
   "source": [
    "#standard Deviation of all column at a go\n",
    "d.std()"
   ]
  },
  {
   "cell_type": "code",
   "execution_count": 49,
   "id": "273b773a",
   "metadata": {},
   "outputs": [
    {
     "name": "stdout",
     "output_type": "stream",
     "text": [
      "Year                 0.013155\n",
      "Import Value         1.356122\n",
      "Export Value         2.710497\n",
      "Import Quantity     10.189342\n",
      "Export Quantity     10.388441\n",
      "Net Export Value    -0.835085\n",
      "dtype: float64\n"
     ]
    }
   ],
   "source": [
    "#skewedness of all variables\n",
    "print(d.skew())"
   ]
  },
  {
   "cell_type": "code",
   "execution_count": 50,
   "id": "32fbe61e",
   "metadata": {},
   "outputs": [
    {
     "data": {
      "text/plain": [
       "Year                 -1.188424\n",
       "Import Value          1.873534\n",
       "Export Value          7.704129\n",
       "Import Quantity     135.336608\n",
       "Export Quantity     135.868901\n",
       "Net Export Value     -0.532794\n",
       "dtype: float64"
      ]
     },
     "execution_count": 50,
     "metadata": {},
     "output_type": "execute_result"
    }
   ],
   "source": [
    "d.kurtosis()"
   ]
  },
  {
   "cell_type": "markdown",
   "id": "ed6827d3",
   "metadata": {},
   "source": [
    "# Inferential statistics"
   ]
  },
  {
   "cell_type": "code",
   "execution_count": 53,
   "id": "add2ad1e",
   "metadata": {},
   "outputs": [
    {
     "data": {
      "text/html": [
       "<div>\n",
       "<style scoped>\n",
       "    .dataframe tbody tr th:only-of-type {\n",
       "        vertical-align: middle;\n",
       "    }\n",
       "\n",
       "    .dataframe tbody tr th {\n",
       "        vertical-align: top;\n",
       "    }\n",
       "\n",
       "    .dataframe thead th {\n",
       "        text-align: right;\n",
       "    }\n",
       "</style>\n",
       "<table border=\"1\" class=\"dataframe\">\n",
       "  <thead>\n",
       "    <tr style=\"text-align: right;\">\n",
       "      <th></th>\n",
       "      <th>Item</th>\n",
       "      <th>Year</th>\n",
       "      <th>ImportValue</th>\n",
       "      <th>ExportValue</th>\n",
       "      <th>Area</th>\n",
       "      <th>ImportQuantity</th>\n",
       "      <th>ExportQuantity</th>\n",
       "      <th>NetExportValue</th>\n",
       "    </tr>\n",
       "  </thead>\n",
       "  <tbody>\n",
       "    <tr>\n",
       "      <th>4</th>\n",
       "      <td>Almonds, in shell</td>\n",
       "      <td>2010.0</td>\n",
       "      <td>1424.0</td>\n",
       "      <td>90.0</td>\n",
       "      <td>France</td>\n",
       "      <td>633.0</td>\n",
       "      <td>16.0</td>\n",
       "      <td>-1334.0</td>\n",
       "    </tr>\n",
       "    <tr>\n",
       "      <th>5</th>\n",
       "      <td>Almonds, in shell</td>\n",
       "      <td>2011.0</td>\n",
       "      <td>2225.0</td>\n",
       "      <td>73.0</td>\n",
       "      <td>France</td>\n",
       "      <td>685.0</td>\n",
       "      <td>14.0</td>\n",
       "      <td>-2152.0</td>\n",
       "    </tr>\n",
       "    <tr>\n",
       "      <th>6</th>\n",
       "      <td>Almonds, in shell</td>\n",
       "      <td>2012.0</td>\n",
       "      <td>2920.0</td>\n",
       "      <td>168.0</td>\n",
       "      <td>France</td>\n",
       "      <td>889.0</td>\n",
       "      <td>32.0</td>\n",
       "      <td>-2752.0</td>\n",
       "    </tr>\n",
       "    <tr>\n",
       "      <th>7</th>\n",
       "      <td>Almonds, in shell</td>\n",
       "      <td>2013.0</td>\n",
       "      <td>3473.0</td>\n",
       "      <td>168.0</td>\n",
       "      <td>France</td>\n",
       "      <td>822.0</td>\n",
       "      <td>27.0</td>\n",
       "      <td>-3305.0</td>\n",
       "    </tr>\n",
       "    <tr>\n",
       "      <th>8</th>\n",
       "      <td>Almonds, in shell</td>\n",
       "      <td>2014.0</td>\n",
       "      <td>9146.0</td>\n",
       "      <td>1611.0</td>\n",
       "      <td>France</td>\n",
       "      <td>1395.0</td>\n",
       "      <td>192.0</td>\n",
       "      <td>-7535.0</td>\n",
       "    </tr>\n",
       "    <tr>\n",
       "      <th>...</th>\n",
       "      <td>...</td>\n",
       "      <td>...</td>\n",
       "      <td>...</td>\n",
       "      <td>...</td>\n",
       "      <td>...</td>\n",
       "      <td>...</td>\n",
       "      <td>...</td>\n",
       "      <td>...</td>\n",
       "    </tr>\n",
       "    <tr>\n",
       "      <th>22795</th>\n",
       "      <td>Sausages and similar products of meat, offal o...</td>\n",
       "      <td>2012.0</td>\n",
       "      <td>25084.0</td>\n",
       "      <td>5175.0</td>\n",
       "      <td>United States of America</td>\n",
       "      <td>25134.0</td>\n",
       "      <td>74.0</td>\n",
       "      <td>-19909.0</td>\n",
       "    </tr>\n",
       "    <tr>\n",
       "      <th>22796</th>\n",
       "      <td>Sausages and similar products of meat, offal o...</td>\n",
       "      <td>2013.0</td>\n",
       "      <td>28328.0</td>\n",
       "      <td>3401.0</td>\n",
       "      <td>United States of America</td>\n",
       "      <td>27184.0</td>\n",
       "      <td>50.0</td>\n",
       "      <td>-24927.0</td>\n",
       "    </tr>\n",
       "    <tr>\n",
       "      <th>22797</th>\n",
       "      <td>Sausages and similar products of meat, offal o...</td>\n",
       "      <td>2014.0</td>\n",
       "      <td>28404.0</td>\n",
       "      <td>4578.0</td>\n",
       "      <td>United States of America</td>\n",
       "      <td>22080.0</td>\n",
       "      <td>36.0</td>\n",
       "      <td>-23826.0</td>\n",
       "    </tr>\n",
       "    <tr>\n",
       "      <th>23000</th>\n",
       "      <td>Sugar beet</td>\n",
       "      <td>2015.0</td>\n",
       "      <td>3161.0</td>\n",
       "      <td>5307.0</td>\n",
       "      <td>United States of America</td>\n",
       "      <td>1624880.0</td>\n",
       "      <td>91570.0</td>\n",
       "      <td>2146.0</td>\n",
       "    </tr>\n",
       "    <tr>\n",
       "      <th>23046</th>\n",
       "      <td>Sweet corn, frozen</td>\n",
       "      <td>2018.0</td>\n",
       "      <td>40922.0</td>\n",
       "      <td>39919.0</td>\n",
       "      <td>United States of America</td>\n",
       "      <td>2.0</td>\n",
       "      <td>44586.0</td>\n",
       "      <td>-1003.0</td>\n",
       "    </tr>\n",
       "  </tbody>\n",
       "</table>\n",
       "<p>4890 rows × 8 columns</p>\n",
       "</div>"
      ],
      "text/plain": [
       "                                                    Item    Year  ImportValue  \\\n",
       "4                                      Almonds, in shell  2010.0       1424.0   \n",
       "5                                      Almonds, in shell  2011.0       2225.0   \n",
       "6                                      Almonds, in shell  2012.0       2920.0   \n",
       "7                                      Almonds, in shell  2013.0       3473.0   \n",
       "8                                      Almonds, in shell  2014.0       9146.0   \n",
       "...                                                  ...     ...          ...   \n",
       "22795  Sausages and similar products of meat, offal o...  2012.0      25084.0   \n",
       "22796  Sausages and similar products of meat, offal o...  2013.0      28328.0   \n",
       "22797  Sausages and similar products of meat, offal o...  2014.0      28404.0   \n",
       "23000                                         Sugar beet  2015.0       3161.0   \n",
       "23046                                 Sweet corn, frozen  2018.0      40922.0   \n",
       "\n",
       "       ExportValue                      Area  ImportQuantity  ExportQuantity  \\\n",
       "4             90.0                    France           633.0            16.0   \n",
       "5             73.0                    France           685.0            14.0   \n",
       "6            168.0                    France           889.0            32.0   \n",
       "7            168.0                    France           822.0            27.0   \n",
       "8           1611.0                    France          1395.0           192.0   \n",
       "...            ...                       ...             ...             ...   \n",
       "22795       5175.0  United States of America         25134.0            74.0   \n",
       "22796       3401.0  United States of America         27184.0            50.0   \n",
       "22797       4578.0  United States of America         22080.0            36.0   \n",
       "23000       5307.0  United States of America       1624880.0         91570.0   \n",
       "23046      39919.0  United States of America             2.0         44586.0   \n",
       "\n",
       "       NetExportValue  \n",
       "4             -1334.0  \n",
       "5             -2152.0  \n",
       "6             -2752.0  \n",
       "7             -3305.0  \n",
       "8             -7535.0  \n",
       "...               ...  \n",
       "22795        -19909.0  \n",
       "22796        -24927.0  \n",
       "22797        -23826.0  \n",
       "23000          2146.0  \n",
       "23046         -1003.0  \n",
       "\n",
       "[4890 rows x 8 columns]"
      ]
     },
     "execution_count": 53,
     "metadata": {},
     "output_type": "execute_result"
    }
   ],
   "source": [
    "#removing empty spaces in columns\n",
    "d.columns = d.columns.str.replace(\" \", \"\")\n",
    "# display the dataframe\n",
    "d"
   ]
  },
  {
   "cell_type": "markdown",
   "id": "65ea72a7",
   "metadata": {},
   "source": [
    "# 1 Normality"
   ]
  },
  {
   "cell_type": "code",
   "execution_count": 54,
   "id": "fc8fb59a",
   "metadata": {},
   "outputs": [
    {
     "data": {
      "text/plain": [
       "<Figure size 432x288 with 0 Axes>"
      ]
     },
     "execution_count": 54,
     "metadata": {},
     "output_type": "execute_result"
    },
    {
     "data": {
      "image/png": "[encoded data removed]",
      "text/plain": [
       "<Figure size 432x288 with 1 Axes>"
      ]
     },
     "metadata": {},
     "output_type": "display_data"
    },
    {
     "data": {
      "text/plain": [
       "<Figure size 432x288 with 0 Axes>"
      ]
     },
     "metadata": {},
     "output_type": "display_data"
    }
   ],
   "source": [
    "#Checking normality with a plot\n",
    "stats.probplot(d.NetExportValue, plot = plt)\n",
    "plt.figure()"
   ]
  },
  {
   "cell_type": "code",
   "execution_count": 55,
   "id": "67cc11be",
   "metadata": {},
   "outputs": [
    {
     "name": "stderr",
     "output_type": "stream",
     "text": [
      "C:\\Users\\Owner\\anaconda3\\lib\\site-packages\\pandas\\core\\arraylike.py:358: RuntimeWarning: invalid value encountered in log\n",
      "  result = getattr(ufunc, method)(*inputs, **kwargs)\n"
     ]
    },
    {
     "data": {
      "image/png": "[encoded data removed]",
      "text/plain": [
       "<Figure size 432x288 with 1 Axes>"
      ]
     },
     "metadata": {},
     "output_type": "display_data"
    }
   ],
   "source": [
    "# use scipy.stats to plot against a norm\n",
    "stats.probplot(np.log(d['NetExportValue']), dist=\"norm\", plot=plt);"
   ]
  },
  {
   "cell_type": "markdown",
   "id": "ead0ff62",
   "metadata": {},
   "source": [
    "# 2 Normality using Shapiro Wilk test\n",
    "## Data come from a normal distribution\n",
    "## Data does not come from a normal distribution\n",
    "### p> 0.05 accept H0\n",
    "### p< 0.05 reject H1"
   ]
  },
  {
   "cell_type": "code",
   "execution_count": 57,
   "id": "f563ab7c",
   "metadata": {},
   "outputs": [
    {
     "data": {
      "text/plain": [
       "ShapiroResult(statistic=0.8184926509857178, pvalue=4.5303861642550333e-38)"
      ]
     },
     "execution_count": 57,
     "metadata": {},
     "output_type": "execute_result"
    }
   ],
   "source": [
    "stats.shapiro(d.NetExportValue[data.Area == \"Ireland\"])"
   ]
  },
  {
   "cell_type": "code",
   "execution_count": 58,
   "id": "77fb5cb4",
   "metadata": {},
   "outputs": [
    {
     "data": {
      "text/plain": [
       "ShapiroResult(statistic=0.9175293445587158, pvalue=4.0882684454745945e-20)"
      ]
     },
     "execution_count": 58,
     "metadata": {},
     "output_type": "execute_result"
    }
   ],
   "source": [
    "stats.shapiro(d.NetExportValue[d.Area == \"France\"])"
   ]
  },
  {
   "cell_type": "code",
   "execution_count": 59,
   "id": "dbad8659",
   "metadata": {},
   "outputs": [
    {
     "data": {
      "text/plain": [
       "ShapiroResult(statistic=0.8969371318817139, pvalue=2.90886204963427e-19)"
      ]
     },
     "execution_count": 59,
     "metadata": {},
     "output_type": "execute_result"
    }
   ],
   "source": [
    "stats.shapiro(d.NetExportValue[d.Area == \"Germany\"])"
   ]
  },
  {
   "cell_type": "code",
   "execution_count": 60,
   "id": "888f43c7",
   "metadata": {},
   "outputs": [
    {
     "data": {
      "text/plain": [
       "ShapiroResult(statistic=0.8726942539215088, pvalue=4.533396267840165e-25)"
      ]
     },
     "execution_count": 60,
     "metadata": {},
     "output_type": "execute_result"
    }
   ],
   "source": [
    "stats.shapiro(d.NetExportValue[d.Area == \"Spain\"])"
   ]
  },
  {
   "cell_type": "code",
   "execution_count": 61,
   "id": "97afaa54",
   "metadata": {},
   "outputs": [
    {
     "data": {
      "text/plain": [
       "ShapiroResult(statistic=0.9058552384376526, pvalue=2.6183558777177356e-23)"
      ]
     },
     "execution_count": 61,
     "metadata": {},
     "output_type": "execute_result"
    }
   ],
   "source": [
    "stats.shapiro(d.NetExportValue[d.Area == \"Italy\"])"
   ]
  },
  {
   "cell_type": "code",
   "execution_count": 62,
   "id": "4f573f31",
   "metadata": {},
   "outputs": [
    {
     "data": {
      "text/plain": [
       "ShapiroResult(statistic=0.8796030282974243, pvalue=2.633979392561124e-15)"
      ]
     },
     "execution_count": 62,
     "metadata": {},
     "output_type": "execute_result"
    }
   ],
   "source": [
    "stats.shapiro(d.NetExportValue[d.Area == \"United States of America\"])"
   ]
  },
  {
   "cell_type": "code",
   "execution_count": 63,
   "id": "98a5f704",
   "metadata": {},
   "outputs": [
    {
     "data": {
      "text/plain": [
       "Ireland                     1493\n",
       "Italy                        915\n",
       "Spain                        804\n",
       "France                       774\n",
       "Germany                      578\n",
       "United States of America     326\n",
       "Name: Area, dtype: int64"
      ]
     },
     "execution_count": 63,
     "metadata": {},
     "output_type": "execute_result"
    }
   ],
   "source": [
    "d['Area'].value_counts()"
   ]
  },
  {
   "cell_type": "markdown",
   "id": "a9f9eefc",
   "metadata": {},
   "source": [
    "# Test for Homogeneity "
   ]
  },
  {
   "cell_type": "code",
   "execution_count": 67,
   "id": "9ae43e00",
   "metadata": {},
   "outputs": [],
   "source": [
    "#Checking variances with Levene\n",
    "Ireland = d.NetExportValue[d.Area == 'Ireland']\n",
    "Germany = d.NetExportValue[d.Area == 'Germany']\n",
    "Spain = d.NetExportValue[d.Area == 'Spain']\n",
    "France = d.NetExportValue[d.Area == 'France']\n",
    "Italy = d.NetExportValue[d.Area == 'Italy']\n",
    "USA = d.NetExportValue[d.Area == 'United States of America']"
   ]
  },
  {
   "cell_type": "code",
   "execution_count": 68,
   "id": "2c5fe5e6",
   "metadata": {},
   "outputs": [],
   "source": [
    "from scipy.stats import levene"
   ]
  },
  {
   "cell_type": "code",
   "execution_count": 70,
   "id": "b4625b51",
   "metadata": {},
   "outputs": [
    {
     "data": {
      "text/plain": [
       "LeveneResult(statistic=22.354923497006688, pvalue=3.137232444512304e-22)"
      ]
     },
     "execution_count": 70,
     "metadata": {},
     "output_type": "execute_result"
    }
   ],
   "source": [
    "levene(Ireland, Germany, Spain, France, Italy, USA, center = 'mean')"
   ]
  },
  {
   "cell_type": "markdown",
   "id": "bfc15ffd",
   "metadata": {},
   "source": [
    "# Determine if there is any significant difference in the average NetExportValue among the countries countries"
   ]
  },
  {
   "cell_type": "code",
   "execution_count": 71,
   "id": "bdd86b58",
   "metadata": {},
   "outputs": [
    {
     "data": {
      "text/html": [
       "<div>\n",
       "<style scoped>\n",
       "    .dataframe tbody tr th:only-of-type {\n",
       "        vertical-align: middle;\n",
       "    }\n",
       "\n",
       "    .dataframe tbody tr th {\n",
       "        vertical-align: top;\n",
       "    }\n",
       "\n",
       "    .dataframe thead th {\n",
       "        text-align: right;\n",
       "    }\n",
       "</style>\n",
       "<table border=\"1\" class=\"dataframe\">\n",
       "  <thead>\n",
       "    <tr style=\"text-align: right;\">\n",
       "      <th></th>\n",
       "      <th>Area</th>\n",
       "      <th>France</th>\n",
       "      <th>Germany</th>\n",
       "      <th>Ireland</th>\n",
       "      <th>Italy</th>\n",
       "      <th>Spain</th>\n",
       "      <th>United States of America</th>\n",
       "    </tr>\n",
       "  </thead>\n",
       "  <tbody>\n",
       "    <tr>\n",
       "      <th rowspan=\"8\" valign=\"top\">Year</th>\n",
       "      <th>count</th>\n",
       "      <td>7.740000e+02</td>\n",
       "      <td>5.780000e+02</td>\n",
       "      <td>1.493000e+03</td>\n",
       "      <td>9.150000e+02</td>\n",
       "      <td>8.040000e+02</td>\n",
       "      <td>3.260000e+02</td>\n",
       "    </tr>\n",
       "    <tr>\n",
       "      <th>mean</th>\n",
       "      <td>2.014784e+03</td>\n",
       "      <td>2.014993e+03</td>\n",
       "      <td>2.015012e+03</td>\n",
       "      <td>2.015145e+03</td>\n",
       "      <td>2.014874e+03</td>\n",
       "      <td>2.015025e+03</td>\n",
       "    </tr>\n",
       "    <tr>\n",
       "      <th>std</th>\n",
       "      <td>3.122130e+00</td>\n",
       "      <td>3.089080e+00</td>\n",
       "      <td>3.121939e+00</td>\n",
       "      <td>3.138953e+00</td>\n",
       "      <td>3.179227e+00</td>\n",
       "      <td>3.086349e+00</td>\n",
       "    </tr>\n",
       "    <tr>\n",
       "      <th>min</th>\n",
       "      <td>2.010000e+03</td>\n",
       "      <td>2.010000e+03</td>\n",
       "      <td>2.010000e+03</td>\n",
       "      <td>2.010000e+03</td>\n",
       "      <td>2.010000e+03</td>\n",
       "      <td>2.010000e+03</td>\n",
       "    </tr>\n",
       "    <tr>\n",
       "      <th>25%</th>\n",
       "      <td>2.012000e+03</td>\n",
       "      <td>2.012000e+03</td>\n",
       "      <td>2.012000e+03</td>\n",
       "      <td>2.012000e+03</td>\n",
       "      <td>2.012000e+03</td>\n",
       "      <td>2.012000e+03</td>\n",
       "    </tr>\n",
       "    <tr>\n",
       "      <th>50%</th>\n",
       "      <td>2.015000e+03</td>\n",
       "      <td>2.015000e+03</td>\n",
       "      <td>2.015000e+03</td>\n",
       "      <td>2.015000e+03</td>\n",
       "      <td>2.015000e+03</td>\n",
       "      <td>2.015000e+03</td>\n",
       "    </tr>\n",
       "    <tr>\n",
       "      <th>75%</th>\n",
       "      <td>2.017000e+03</td>\n",
       "      <td>2.018000e+03</td>\n",
       "      <td>2.018000e+03</td>\n",
       "      <td>2.018000e+03</td>\n",
       "      <td>2.018000e+03</td>\n",
       "      <td>2.018000e+03</td>\n",
       "    </tr>\n",
       "    <tr>\n",
       "      <th>max</th>\n",
       "      <td>2.020000e+03</td>\n",
       "      <td>2.020000e+03</td>\n",
       "      <td>2.020000e+03</td>\n",
       "      <td>2.020000e+03</td>\n",
       "      <td>2.020000e+03</td>\n",
       "      <td>2.020000e+03</td>\n",
       "    </tr>\n",
       "    <tr>\n",
       "      <th rowspan=\"8\" valign=\"top\">ImportValue</th>\n",
       "      <th>count</th>\n",
       "      <td>7.740000e+02</td>\n",
       "      <td>5.780000e+02</td>\n",
       "      <td>1.493000e+03</td>\n",
       "      <td>9.150000e+02</td>\n",
       "      <td>8.040000e+02</td>\n",
       "      <td>3.260000e+02</td>\n",
       "    </tr>\n",
       "    <tr>\n",
       "      <th>mean</th>\n",
       "      <td>1.563030e+04</td>\n",
       "      <td>1.539511e+04</td>\n",
       "      <td>7.639776e+03</td>\n",
       "      <td>1.409259e+04</td>\n",
       "      <td>1.316251e+04</td>\n",
       "      <td>1.441719e+04</td>\n",
       "    </tr>\n",
       "    <tr>\n",
       "      <th>std</th>\n",
       "      <td>1.415861e+04</td>\n",
       "      <td>1.380192e+04</td>\n",
       "      <td>1.031301e+04</td>\n",
       "      <td>1.237284e+04</td>\n",
       "      <td>1.251858e+04</td>\n",
       "      <td>1.391311e+04</td>\n",
       "    </tr>\n",
       "    <tr>\n",
       "      <th>min</th>\n",
       "      <td>1.000000e+00</td>\n",
       "      <td>2.000000e+00</td>\n",
       "      <td>1.000000e+00</td>\n",
       "      <td>1.000000e+00</td>\n",
       "      <td>1.000000e+00</td>\n",
       "      <td>2.000000e+00</td>\n",
       "    </tr>\n",
       "    <tr>\n",
       "      <th>25%</th>\n",
       "      <td>4.371750e+03</td>\n",
       "      <td>2.511000e+03</td>\n",
       "      <td>4.430000e+02</td>\n",
       "      <td>4.175000e+03</td>\n",
       "      <td>2.543500e+03</td>\n",
       "      <td>2.326500e+03</td>\n",
       "    </tr>\n",
       "    <tr>\n",
       "      <th>50%</th>\n",
       "      <td>1.237900e+04</td>\n",
       "      <td>1.343650e+04</td>\n",
       "      <td>2.995000e+03</td>\n",
       "      <td>1.130000e+04</td>\n",
       "      <td>9.399500e+03</td>\n",
       "      <td>1.189550e+04</td>\n",
       "    </tr>\n",
       "    <tr>\n",
       "      <th>75%</th>\n",
       "      <td>2.327800e+04</td>\n",
       "      <td>2.492525e+04</td>\n",
       "      <td>1.110400e+04</td>\n",
       "      <td>2.126500e+04</td>\n",
       "      <td>2.104600e+04</td>\n",
       "      <td>2.166425e+04</td>\n",
       "    </tr>\n",
       "    <tr>\n",
       "      <th>max</th>\n",
       "      <td>7.338800e+04</td>\n",
       "      <td>7.051300e+04</td>\n",
       "      <td>6.418000e+04</td>\n",
       "      <td>6.769200e+04</td>\n",
       "      <td>7.017700e+04</td>\n",
       "      <td>7.651800e+04</td>\n",
       "    </tr>\n",
       "    <tr>\n",
       "      <th rowspan=\"8\" valign=\"top\">ExportValue</th>\n",
       "      <th>count</th>\n",
       "      <td>7.740000e+02</td>\n",
       "      <td>5.780000e+02</td>\n",
       "      <td>1.493000e+03</td>\n",
       "      <td>9.150000e+02</td>\n",
       "      <td>8.040000e+02</td>\n",
       "      <td>3.260000e+02</td>\n",
       "    </tr>\n",
       "    <tr>\n",
       "      <th>mean</th>\n",
       "      <td>6.896981e+03</td>\n",
       "      <td>6.160102e+03</td>\n",
       "      <td>2.086961e+03</td>\n",
       "      <td>5.227737e+03</td>\n",
       "      <td>5.514104e+03</td>\n",
       "      <td>7.056055e+03</td>\n",
       "    </tr>\n",
       "    <tr>\n",
       "      <th>std</th>\n",
       "      <td>9.968758e+03</td>\n",
       "      <td>9.424438e+03</td>\n",
       "      <td>5.515815e+03</td>\n",
       "      <td>8.391992e+03</td>\n",
       "      <td>8.521070e+03</td>\n",
       "      <td>1.019136e+04</td>\n",
       "    </tr>\n",
       "    <tr>\n",
       "      <th>min</th>\n",
       "      <td>1.000000e+00</td>\n",
       "      <td>1.000000e+00</td>\n",
       "      <td>1.000000e+00</td>\n",
       "      <td>1.000000e+00</td>\n",
       "      <td>1.000000e+00</td>\n",
       "      <td>3.000000e+00</td>\n",
       "    </tr>\n",
       "    <tr>\n",
       "      <th>25%</th>\n",
       "      <td>4.472500e+02</td>\n",
       "      <td>1.450000e+02</td>\n",
       "      <td>3.800000e+01</td>\n",
       "      <td>3.760000e+02</td>\n",
       "      <td>4.347500e+02</td>\n",
       "      <td>3.707500e+02</td>\n",
       "    </tr>\n",
       "    <tr>\n",
       "      <th>50%</th>\n",
       "      <td>2.794500e+03</td>\n",
       "      <td>2.030500e+03</td>\n",
       "      <td>2.530000e+02</td>\n",
       "      <td>1.986000e+03</td>\n",
       "      <td>2.157000e+03</td>\n",
       "      <td>2.328500e+03</td>\n",
       "    </tr>\n",
       "    <tr>\n",
       "      <th>75%</th>\n",
       "      <td>8.234000e+03</td>\n",
       "      <td>7.355250e+03</td>\n",
       "      <td>1.335000e+03</td>\n",
       "      <td>5.957000e+03</td>\n",
       "      <td>6.685750e+03</td>\n",
       "      <td>9.788250e+03</td>\n",
       "    </tr>\n",
       "    <tr>\n",
       "      <th>max</th>\n",
       "      <td>4.814900e+04</td>\n",
       "      <td>4.871100e+04</td>\n",
       "      <td>4.643200e+04</td>\n",
       "      <td>4.984300e+04</td>\n",
       "      <td>4.904800e+04</td>\n",
       "      <td>4.849200e+04</td>\n",
       "    </tr>\n",
       "    <tr>\n",
       "      <th rowspan=\"8\" valign=\"top\">ImportQuantity</th>\n",
       "      <th>count</th>\n",
       "      <td>7.740000e+02</td>\n",
       "      <td>5.780000e+02</td>\n",
       "      <td>1.493000e+03</td>\n",
       "      <td>9.150000e+02</td>\n",
       "      <td>8.040000e+02</td>\n",
       "      <td>3.260000e+02</td>\n",
       "    </tr>\n",
       "    <tr>\n",
       "      <th>mean</th>\n",
       "      <td>1.368980e+05</td>\n",
       "      <td>2.531233e+05</td>\n",
       "      <td>3.561223e+04</td>\n",
       "      <td>1.076748e+05</td>\n",
       "      <td>1.252425e+05</td>\n",
       "      <td>2.389877e+05</td>\n",
       "    </tr>\n",
       "    <tr>\n",
       "      <th>std</th>\n",
       "      <td>5.557533e+05</td>\n",
       "      <td>5.405329e+05</td>\n",
       "      <td>1.162163e+05</td>\n",
       "      <td>3.750614e+05</td>\n",
       "      <td>7.251472e+05</td>\n",
       "      <td>5.909207e+05</td>\n",
       "    </tr>\n",
       "    <tr>\n",
       "      <th>min</th>\n",
       "      <td>1.000000e+00</td>\n",
       "      <td>1.000000e+00</td>\n",
       "      <td>1.000000e+00</td>\n",
       "      <td>1.000000e+00</td>\n",
       "      <td>1.000000e+00</td>\n",
       "      <td>2.000000e+00</td>\n",
       "    </tr>\n",
       "    <tr>\n",
       "      <th>25%</th>\n",
       "      <td>3.619500e+03</td>\n",
       "      <td>5.637500e+03</td>\n",
       "      <td>3.220000e+02</td>\n",
       "      <td>2.345500e+03</td>\n",
       "      <td>3.503750e+03</td>\n",
       "      <td>6.931000e+03</td>\n",
       "    </tr>\n",
       "    <tr>\n",
       "      <th>50%</th>\n",
       "      <td>2.633250e+04</td>\n",
       "      <td>3.798950e+04</td>\n",
       "      <td>2.800000e+03</td>\n",
       "      <td>1.631600e+04</td>\n",
       "      <td>1.306300e+04</td>\n",
       "      <td>4.825600e+04</td>\n",
       "    </tr>\n",
       "    <tr>\n",
       "      <th>75%</th>\n",
       "      <td>7.931800e+04</td>\n",
       "      <td>1.954870e+05</td>\n",
       "      <td>1.475100e+04</td>\n",
       "      <td>4.495600e+04</td>\n",
       "      <td>4.635025e+04</td>\n",
       "      <td>1.787110e+05</td>\n",
       "    </tr>\n",
       "    <tr>\n",
       "      <th>max</th>\n",
       "      <td>8.272318e+06</td>\n",
       "      <td>4.594632e+06</td>\n",
       "      <td>1.601643e+06</td>\n",
       "      <td>5.755385e+06</td>\n",
       "      <td>9.507674e+06</td>\n",
       "      <td>4.676918e+06</td>\n",
       "    </tr>\n",
       "    <tr>\n",
       "      <th rowspan=\"8\" valign=\"top\">ExportQuantity</th>\n",
       "      <th>count</th>\n",
       "      <td>7.740000e+02</td>\n",
       "      <td>5.780000e+02</td>\n",
       "      <td>1.493000e+03</td>\n",
       "      <td>9.150000e+02</td>\n",
       "      <td>8.040000e+02</td>\n",
       "      <td>3.260000e+02</td>\n",
       "    </tr>\n",
       "    <tr>\n",
       "      <th>mean</th>\n",
       "      <td>1.540134e+05</td>\n",
       "      <td>2.055233e+05</td>\n",
       "      <td>2.463539e+04</td>\n",
       "      <td>7.928059e+04</td>\n",
       "      <td>1.378063e+05</td>\n",
       "      <td>1.189740e+05</td>\n",
       "    </tr>\n",
       "    <tr>\n",
       "      <th>std</th>\n",
       "      <td>7.051398e+05</td>\n",
       "      <td>5.929430e+05</td>\n",
       "      <td>8.147368e+04</td>\n",
       "      <td>4.218363e+05</td>\n",
       "      <td>3.115617e+05</td>\n",
       "      <td>3.164730e+05</td>\n",
       "    </tr>\n",
       "    <tr>\n",
       "      <th>min</th>\n",
       "      <td>1.000000e+00</td>\n",
       "      <td>1.000000e+00</td>\n",
       "      <td>1.000000e+00</td>\n",
       "      <td>1.000000e+00</td>\n",
       "      <td>1.000000e+00</td>\n",
       "      <td>1.000000e+00</td>\n",
       "    </tr>\n",
       "    <tr>\n",
       "      <th>25%</th>\n",
       "      <td>7.955000e+02</td>\n",
       "      <td>7.177500e+02</td>\n",
       "      <td>4.600000e+01</td>\n",
       "      <td>4.310000e+02</td>\n",
       "      <td>2.655250e+03</td>\n",
       "      <td>2.750250e+03</td>\n",
       "    </tr>\n",
       "    <tr>\n",
       "      <th>50%</th>\n",
       "      <td>5.725500e+03</td>\n",
       "      <td>1.078100e+04</td>\n",
       "      <td>5.460000e+02</td>\n",
       "      <td>4.311000e+03</td>\n",
       "      <td>1.846500e+04</td>\n",
       "      <td>2.188800e+04</td>\n",
       "    </tr>\n",
       "    <tr>\n",
       "      <th>75%</th>\n",
       "      <td>4.016225e+04</td>\n",
       "      <td>1.429428e+05</td>\n",
       "      <td>9.398000e+03</td>\n",
       "      <td>4.552500e+04</td>\n",
       "      <td>1.165510e+05</td>\n",
       "      <td>1.384025e+05</td>\n",
       "    </tr>\n",
       "    <tr>\n",
       "      <th>max</th>\n",
       "      <td>7.534687e+06</td>\n",
       "      <td>5.228857e+06</td>\n",
       "      <td>1.476820e+06</td>\n",
       "      <td>7.300506e+06</td>\n",
       "      <td>2.413333e+06</td>\n",
       "      <td>2.962304e+06</td>\n",
       "    </tr>\n",
       "    <tr>\n",
       "      <th rowspan=\"8\" valign=\"top\">NetExportValue</th>\n",
       "      <th>count</th>\n",
       "      <td>7.740000e+02</td>\n",
       "      <td>5.780000e+02</td>\n",
       "      <td>1.493000e+03</td>\n",
       "      <td>9.150000e+02</td>\n",
       "      <td>8.040000e+02</td>\n",
       "      <td>3.260000e+02</td>\n",
       "    </tr>\n",
       "    <tr>\n",
       "      <th>mean</th>\n",
       "      <td>-8.733323e+03</td>\n",
       "      <td>-9.235003e+03</td>\n",
       "      <td>-5.552815e+03</td>\n",
       "      <td>-8.864858e+03</td>\n",
       "      <td>-7.648402e+03</td>\n",
       "      <td>-7.361132e+03</td>\n",
       "    </tr>\n",
       "    <tr>\n",
       "      <th>std</th>\n",
       "      <td>8.569197e+03</td>\n",
       "      <td>8.990910e+03</td>\n",
       "      <td>7.410982e+03</td>\n",
       "      <td>8.617724e+03</td>\n",
       "      <td>8.686690e+03</td>\n",
       "      <td>8.092172e+03</td>\n",
       "    </tr>\n",
       "    <tr>\n",
       "      <th>min</th>\n",
       "      <td>-2.803200e+04</td>\n",
       "      <td>-2.765000e+04</td>\n",
       "      <td>-2.781700e+04</td>\n",
       "      <td>-2.800000e+04</td>\n",
       "      <td>-2.810900e+04</td>\n",
       "      <td>-2.802600e+04</td>\n",
       "    </tr>\n",
       "    <tr>\n",
       "      <th>25%</th>\n",
       "      <td>-1.472650e+04</td>\n",
       "      <td>-1.683300e+04</td>\n",
       "      <td>-9.256000e+03</td>\n",
       "      <td>-1.577850e+04</td>\n",
       "      <td>-1.330375e+04</td>\n",
       "      <td>-1.305250e+04</td>\n",
       "    </tr>\n",
       "    <tr>\n",
       "      <th>50%</th>\n",
       "      <td>-7.226000e+03</td>\n",
       "      <td>-6.961500e+03</td>\n",
       "      <td>-2.129000e+03</td>\n",
       "      <td>-6.386000e+03</td>\n",
       "      <td>-4.801500e+03</td>\n",
       "      <td>-4.490000e+03</td>\n",
       "    </tr>\n",
       "    <tr>\n",
       "      <th>75%</th>\n",
       "      <td>-9.422500e+02</td>\n",
       "      <td>-9.072500e+02</td>\n",
       "      <td>-1.900000e+01</td>\n",
       "      <td>-1.486000e+03</td>\n",
       "      <td>-3.877500e+02</td>\n",
       "      <td>-6.347500e+02</td>\n",
       "    </tr>\n",
       "    <tr>\n",
       "      <th>max</th>\n",
       "      <td>2.285000e+03</td>\n",
       "      <td>2.288000e+03</td>\n",
       "      <td>2.278000e+03</td>\n",
       "      <td>2.277000e+03</td>\n",
       "      <td>2.288000e+03</td>\n",
       "      <td>2.227000e+03</td>\n",
       "    </tr>\n",
       "  </tbody>\n",
       "</table>\n",
       "</div>"
      ],
      "text/plain": [
       "Area                        France       Germany       Ireland         Italy  \\\n",
       "Year           count  7.740000e+02  5.780000e+02  1.493000e+03  9.150000e+02   \n",
       "               mean   2.014784e+03  2.014993e+03  2.015012e+03  2.015145e+03   \n",
       "               std    3.122130e+00  3.089080e+00  3.121939e+00  3.138953e+00   \n",
       "               min    2.010000e+03  2.010000e+03  2.010000e+03  2.010000e+03   \n",
       "               25%    2.012000e+03  2.012000e+03  2.012000e+03  2.012000e+03   \n",
       "               50%    2.015000e+03  2.015000e+03  2.015000e+03  2.015000e+03   \n",
       "               75%    2.017000e+03  2.018000e+03  2.018000e+03  2.018000e+03   \n",
       "               max    2.020000e+03  2.020000e+03  2.020000e+03  2.020000e+03   \n",
       "ImportValue    count  7.740000e+02  5.780000e+02  1.493000e+03  9.150000e+02   \n",
       "               mean   1.563030e+04  1.539511e+04  7.639776e+03  1.409259e+04   \n",
       "               std    1.415861e+04  1.380192e+04  1.031301e+04  1.237284e+04   \n",
       "               min    1.000000e+00  2.000000e+00  1.000000e+00  1.000000e+00   \n",
       "               25%    4.371750e+03  2.511000e+03  4.430000e+02  4.175000e+03   \n",
       "               50%    1.237900e+04  1.343650e+04  2.995000e+03  1.130000e+04   \n",
       "               75%    2.327800e+04  2.492525e+04  1.110400e+04  2.126500e+04   \n",
       "               max    7.338800e+04  7.051300e+04  6.418000e+04  6.769200e+04   \n",
       "ExportValue    count  7.740000e+02  5.780000e+02  1.493000e+03  9.150000e+02   \n",
       "               mean   6.896981e+03  6.160102e+03  2.086961e+03  5.227737e+03   \n",
       "               std    9.968758e+03  9.424438e+03  5.515815e+03  8.391992e+03   \n",
       "               min    1.000000e+00  1.000000e+00  1.000000e+00  1.000000e+00   \n",
       "               25%    4.472500e+02  1.450000e+02  3.800000e+01  3.760000e+02   \n",
       "               50%    2.794500e+03  2.030500e+03  2.530000e+02  1.986000e+03   \n",
       "               75%    8.234000e+03  7.355250e+03  1.335000e+03  5.957000e+03   \n",
       "               max    4.814900e+04  4.871100e+04  4.643200e+04  4.984300e+04   \n",
       "ImportQuantity count  7.740000e+02  5.780000e+02  1.493000e+03  9.150000e+02   \n",
       "               mean   1.368980e+05  2.531233e+05  3.561223e+04  1.076748e+05   \n",
       "               std    5.557533e+05  5.405329e+05  1.162163e+05  3.750614e+05   \n",
       "               min    1.000000e+00  1.000000e+00  1.000000e+00  1.000000e+00   \n",
       "               25%    3.619500e+03  5.637500e+03  3.220000e+02  2.345500e+03   \n",
       "               50%    2.633250e+04  3.798950e+04  2.800000e+03  1.631600e+04   \n",
       "               75%    7.931800e+04  1.954870e+05  1.475100e+04  4.495600e+04   \n",
       "               max    8.272318e+06  4.594632e+06  1.601643e+06  5.755385e+06   \n",
       "ExportQuantity count  7.740000e+02  5.780000e+02  1.493000e+03  9.150000e+02   \n",
       "               mean   1.540134e+05  2.055233e+05  2.463539e+04  7.928059e+04   \n",
       "               std    7.051398e+05  5.929430e+05  8.147368e+04  4.218363e+05   \n",
       "               min    1.000000e+00  1.000000e+00  1.000000e+00  1.000000e+00   \n",
       "               25%    7.955000e+02  7.177500e+02  4.600000e+01  4.310000e+02   \n",
       "               50%    5.725500e+03  1.078100e+04  5.460000e+02  4.311000e+03   \n",
       "               75%    4.016225e+04  1.429428e+05  9.398000e+03  4.552500e+04   \n",
       "               max    7.534687e+06  5.228857e+06  1.476820e+06  7.300506e+06   \n",
       "NetExportValue count  7.740000e+02  5.780000e+02  1.493000e+03  9.150000e+02   \n",
       "               mean  -8.733323e+03 -9.235003e+03 -5.552815e+03 -8.864858e+03   \n",
       "               std    8.569197e+03  8.990910e+03  7.410982e+03  8.617724e+03   \n",
       "               min   -2.803200e+04 -2.765000e+04 -2.781700e+04 -2.800000e+04   \n",
       "               25%   -1.472650e+04 -1.683300e+04 -9.256000e+03 -1.577850e+04   \n",
       "               50%   -7.226000e+03 -6.961500e+03 -2.129000e+03 -6.386000e+03   \n",
       "               75%   -9.422500e+02 -9.072500e+02 -1.900000e+01 -1.486000e+03   \n",
       "               max    2.285000e+03  2.288000e+03  2.278000e+03  2.277000e+03   \n",
       "\n",
       "Area                         Spain  United States of America  \n",
       "Year           count  8.040000e+02              3.260000e+02  \n",
       "               mean   2.014874e+03              2.015025e+03  \n",
       "               std    3.179227e+00              3.086349e+00  \n",
       "               min    2.010000e+03              2.010000e+03  \n",
       "               25%    2.012000e+03              2.012000e+03  \n",
       "               50%    2.015000e+03              2.015000e+03  \n",
       "               75%    2.018000e+03              2.018000e+03  \n",
       "               max    2.020000e+03              2.020000e+03  \n",
       "ImportValue    count  8.040000e+02              3.260000e+02  \n",
       "               mean   1.316251e+04              1.441719e+04  \n",
       "               std    1.251858e+04              1.391311e+04  \n",
       "               min    1.000000e+00              2.000000e+00  \n",
       "               25%    2.543500e+03              2.326500e+03  \n",
       "               50%    9.399500e+03              1.189550e+04  \n",
       "               75%    2.104600e+04              2.166425e+04  \n",
       "               max    7.017700e+04              7.651800e+04  \n",
       "ExportValue    count  8.040000e+02              3.260000e+02  \n",
       "               mean   5.514104e+03              7.056055e+03  \n",
       "               std    8.521070e+03              1.019136e+04  \n",
       "               min    1.000000e+00              3.000000e+00  \n",
       "               25%    4.347500e+02              3.707500e+02  \n",
       "               50%    2.157000e+03              2.328500e+03  \n",
       "               75%    6.685750e+03              9.788250e+03  \n",
       "               max    4.904800e+04              4.849200e+04  \n",
       "ImportQuantity count  8.040000e+02              3.260000e+02  \n",
       "               mean   1.252425e+05              2.389877e+05  \n",
       "               std    7.251472e+05              5.909207e+05  \n",
       "               min    1.000000e+00              2.000000e+00  \n",
       "               25%    3.503750e+03              6.931000e+03  \n",
       "               50%    1.306300e+04              4.825600e+04  \n",
       "               75%    4.635025e+04              1.787110e+05  \n",
       "               max    9.507674e+06              4.676918e+06  \n",
       "ExportQuantity count  8.040000e+02              3.260000e+02  \n",
       "               mean   1.378063e+05              1.189740e+05  \n",
       "               std    3.115617e+05              3.164730e+05  \n",
       "               min    1.000000e+00              1.000000e+00  \n",
       "               25%    2.655250e+03              2.750250e+03  \n",
       "               50%    1.846500e+04              2.188800e+04  \n",
       "               75%    1.165510e+05              1.384025e+05  \n",
       "               max    2.413333e+06              2.962304e+06  \n",
       "NetExportValue count  8.040000e+02              3.260000e+02  \n",
       "               mean  -7.648402e+03             -7.361132e+03  \n",
       "               std    8.686690e+03              8.092172e+03  \n",
       "               min   -2.810900e+04             -2.802600e+04  \n",
       "               25%   -1.330375e+04             -1.305250e+04  \n",
       "               50%   -4.801500e+03             -4.490000e+03  \n",
       "               75%   -3.877500e+02             -6.347500e+02  \n",
       "               max    2.288000e+03              2.227000e+03  "
      ]
     },
     "execution_count": 71,
     "metadata": {},
     "output_type": "execute_result"
    }
   ],
   "source": [
    "d.groupby('Area').describe().T"
   ]
  },
  {
   "cell_type": "markdown",
   "id": "e58a1912",
   "metadata": {},
   "source": [
    "# Visualising Net Export Value by Area Using Boxplot"
   ]
  },
  {
   "cell_type": "code",
   "execution_count": 72,
   "id": "acfeddce",
   "metadata": {},
   "outputs": [
    {
     "data": {
      "text/plain": [
       "<AxesSubplot:xlabel='NetExportValue', ylabel='Area'>"
      ]
     },
     "execution_count": 72,
     "metadata": {},
     "output_type": "execute_result"
    },
    {
     "data": {
      "image/png": "[encoded data removed]",
      "text/plain": [
       "<Figure size 432x288 with 1 Axes>"
      ]
     },
     "metadata": {},
     "output_type": "display_data"
    }
   ],
   "source": [
    "import seaborn as sb\n",
    "sb.boxplot(x='NetExportValue', y='Area', data=d)"
   ]
  },
  {
   "cell_type": "code",
   "execution_count": null,
   "id": "ba994469",
   "metadata": {},
   "outputs": [],
   "source": [
    "# Almost symetry but the start area on the lower half of the mediam seems to be greater than the area of on the upper  half of the media\n",
    "# with this we have the variation of how netexportvalue varies among the countries."
   ]
  },
  {
   "cell_type": "markdown",
   "id": "cb47638d",
   "metadata": {},
   "source": [
    "# ONE-WAY ANOVA"
   ]
  },
  {
   "cell_type": "markdown",
   "id": "32868c8f",
   "metadata": {},
   "source": [
    "\n",
    "### step 1: The null hypothesis states that the mean Net Export Value is equal among all countries.\n",
    "\n",
    "### H0:μ1=μ2=μ3=μ4=μ5=μ6\n",
    "\n",
    "### Alternative hypothesis\n",
    "### H1:Not all the means are equal\n",
    "\n",
    "### Step 2: Decide on the significance level, α\n",
    "\n",
    "### α=0.05"
   ]
  },
  {
   "cell_type": "code",
   "execution_count": 74,
   "id": "7712677f",
   "metadata": {},
   "outputs": [],
   "source": [
    "from statsmodels.formula.api import ols\n",
    "import statsmodels.api as sm"
   ]
  },
  {
   "cell_type": "code",
   "execution_count": 79,
   "id": "9ace589b",
   "metadata": {},
   "outputs": [
    {
     "name": "stdout",
     "output_type": "stream",
     "text": [
      "              df        sum_sq       mean_sq          F        PR(>F)\n",
      "Area         5.0  1.027800e+10  2.055600e+09  29.959588  4.345647e-30\n",
      "Residual  4884.0  3.351032e+11  6.861244e+07        NaN           NaN\n"
     ]
    }
   ],
   "source": [
    "#performing ANOVA\n",
    "model = ols('NetExportValue~Area', data = d).fit()\n",
    "aov_model = sm.stats.anova_lm(model, type = 2)\n",
    "print(aov_model)"
   ]
  },
  {
   "cell_type": "markdown",
   "id": "fb5e1fea",
   "metadata": {},
   "source": [
    "# Multiple Comparison Test"
   ]
  },
  {
   "cell_type": "code",
   "execution_count": null,
   "id": "1f78ff31",
   "metadata": {},
   "outputs": [],
   "source": [
    "from statsmodels.stats.multicomp import pairwise_tukeyhsd\n",
    "from statsmodels.stats.multicomp import MultiComparison"
   ]
  },
  {
   "cell_type": "code",
   "execution_count": 87,
   "id": "45b682b2",
   "metadata": {},
   "outputs": [
    {
     "data": {
      "text/html": [
       "<table class=\"simpletable\">\n",
       "<caption>Multiple Comparison of Means - Tukey HSD, FWER=0.05</caption>\n",
       "<tr>\n",
       "  <th>group1</th>           <th>group2</th>           <th>meandiff</th>   <th>p-adj</th>    <th>lower</th>      <th>upper</th>   <th>reject</th>\n",
       "</tr>\n",
       "<tr>\n",
       "  <td>France</td>           <td>Germany</td>          <td>-501.6805</td> <td>0.8726</td> <td>-1799.8245</td>  <td>796.4635</td>   <td>False</td>\n",
       "</tr>\n",
       "<tr>\n",
       "  <td>France</td>           <td>Ireland</td>          <td>3180.5079</td>  <td>0.001</td>  <td>2134.5979</td>  <td>4226.4178</td>  <td>True</td> \n",
       "</tr>\n",
       "<tr>\n",
       "  <td>France</td>            <td>Italy</td>           <td>-131.5349</td>   <td>0.9</td>  <td>-1284.7298</td>   <td>1021.66</td>   <td>False</td>\n",
       "</tr>\n",
       "<tr>\n",
       "  <td>France</td>            <td>Spain</td>           <td>1084.9213</td>  <td>0.097</td>  <td>-104.1939</td>  <td>2274.0364</td>  <td>False</td>\n",
       "</tr>\n",
       "<tr>\n",
       "  <td>France</td>  <td>United States of America</td>  <td>1372.1911</td> <td>0.1218</td>  <td>-186.952</td>   <td>2931.3342</td>  <td>False</td>\n",
       "</tr>\n",
       "<tr>\n",
       "  <td>Germany</td>          <td>Ireland</td>          <td>3682.1883</td>  <td>0.001</td>   <td>2525.37</td>   <td>4839.0066</td>  <td>True</td> \n",
       "</tr>\n",
       "<tr>\n",
       "  <td>Germany</td>           <td>Italy</td>           <td>370.1455</td>    <td>0.9</td>   <td>-884.5096</td>  <td>1624.8006</td>  <td>False</td>\n",
       "</tr>\n",
       "<tr>\n",
       "  <td>Germany</td>           <td>Spain</td>           <td>1586.6017</td>  <td>0.006</td>  <td>298.8534</td>   <td>2874.3501</td>  <td>True</td> \n",
       "</tr>\n",
       "<tr>\n",
       "  <td>Germany</td> <td>United States of America</td>  <td>1873.8716</td>  <td>0.014</td>  <td>238.2591</td>   <td>3509.484</td>   <td>True</td> \n",
       "</tr>\n",
       "<tr>\n",
       "  <td>Ireland</td>           <td>Italy</td>          <td>-3312.0428</td>  <td>0.001</td> <td>-4303.4606</td>  <td>-2320.625</td>  <td>True</td> \n",
       "</tr>\n",
       "<tr>\n",
       "  <td>Ireland</td>           <td>Spain</td>          <td>-2095.5866</td>  <td>0.001</td> <td>-3128.5656</td> <td>-1062.6076</td>  <td>True</td> \n",
       "</tr>\n",
       "<tr>\n",
       "  <td>Ireland</td> <td>United States of America</td> <td>-1808.3168</td> <td>0.0048</td> <td>-3251.9158</td>  <td>-364.7178</td>  <td>True</td> \n",
       "</tr>\n",
       "<tr>\n",
       "   <td>Italy</td>            <td>Spain</td>           <td>1216.4562</td> <td>0.0289</td>   <td>74.9762</td>   <td>2357.9361</td>  <td>True</td> \n",
       "</tr>\n",
       "<tr>\n",
       "   <td>Italy</td>  <td>United States of America</td>  <td>1503.726</td>  <td>0.0554</td>  <td>-19.3987</td>   <td>3026.8507</td>  <td>False</td>\n",
       "</tr>\n",
       "<tr>\n",
       "   <td>Spain</td>  <td>United States of America</td>  <td>287.2698</td>    <td>0.9</td>  <td>-1263.2286</td>  <td>1837.7682</td>  <td>False</td>\n",
       "</tr>\n",
       "</table>"
      ],
      "text/plain": [
       "<class 'statsmodels.iolib.table.SimpleTable'>"
      ]
     },
     "execution_count": 87,
     "metadata": {},
     "output_type": "execute_result"
    }
   ],
   "source": [
    "mc = mc.MultiComparison(d['NetExportValue'], d['Area'])\n",
    "mcresult = mc.tukeyhsd(0.05)\n",
    "mcresult.summary()"
   ]
  },
  {
   "cell_type": "code",
   "execution_count": null,
   "id": "79b2f94f",
   "metadata": {},
   "outputs": [],
   "source": [
    "# rejected = False means it is accepted, meaning there is no significant difference in the "
   ]
  },
  {
   "cell_type": "markdown",
   "id": "e21af488",
   "metadata": {},
   "source": [
    "# TWO-WAY ANOVA\n",
    "## H0 = means are equal\n",
    "## H1 = means are not equal"
   ]
  },
  {
   "cell_type": "code",
   "execution_count": 80,
   "id": "c5fae415",
   "metadata": {},
   "outputs": [
    {
     "name": "stdout",
     "output_type": "stream",
     "text": [
      "              df        sum_sq       mean_sq          F        PR(>F)\n",
      "Area         5.0  1.027800e+10  2.055600e+09  52.166541  8.671192e-53\n",
      "Item       318.0  1.551819e+11  4.879933e+08  12.384178  0.000000e+00\n",
      "Residual  4566.0  1.799213e+11  3.940458e+07        NaN           NaN\n"
     ]
    }
   ],
   "source": [
    "#ANOVA TWO WAYS\n",
    "model2 = ols('NetExportValue~Area+Item', data = d).fit()\n",
    "aov2_model = sm.stats.anova_lm(model2, type=2)\n",
    "print(aov2_model)"
   ]
  },
  {
   "cell_type": "code",
   "execution_count": null,
   "id": "10a3c91f",
   "metadata": {},
   "outputs": [],
   "source": [
    "# Assuming Normality Fail"
   ]
  },
  {
   "cell_type": "code",
   "execution_count": null,
   "id": "82af3d67",
   "metadata": {},
   "outputs": [],
   "source": [
    "# NonParametric Test: Kruskal-Wallis Test"
   ]
  },
  {
   "cell_type": "code",
   "execution_count": null,
   "id": "9e925f85",
   "metadata": {},
   "outputs": [],
   "source": [
    "### We Assume no normal distribution\n",
    "### we do not assume varaince is equal\n",
    "\n",
    "### The null hypothesis (H0): The median is equal across all groups.\n",
    "\n",
    "#### The alternative hypothesis: (Ha): The median  Net Export Value Differ for at least one country."
   ]
  },
  {
   "cell_type": "code",
   "execution_count": null,
   "id": "fe959f89",
   "metadata": {},
   "outputs": [],
   "source": [
    "#Kruskal-Wallis Test\n",
    "ss.Kruskal(Ireland, Germany, Spain, France, Italy, United States of America)"
   ]
  },
  {
   "cell_type": "code",
   "execution_count": null,
   "id": "41dad28a",
   "metadata": {},
   "outputs": [],
   "source": [
    "# Multiple Comparison Test"
   ]
  },
  {
   "cell_type": "code",
   "execution_count": null,
   "id": "c4cb90bc",
   "metadata": {},
   "outputs": [],
   "source": [
    "# install required library for Posthoc Test\n",
    "# pip install scikit-posthocs"
   ]
  },
  {
   "cell_type": "code",
   "execution_count": null,
   "id": "d6dd36bd",
   "metadata": {},
   "outputs": [],
   "source": [
    "import posthocs as  sp #load the library"
   ]
  },
  {
   "cell_type": "code",
   "execution_count": null,
   "id": "b06d86fc",
   "metadata": {},
   "outputs": [],
   "source": [
    "# create a Dataframe\n",
    "da = [Ireland, Germany, Spain, France, Italy, United States of America]\n",
    "\n",
    "sp.posthoc_dunn(da, p_adjust = 'bonferroni') #run posthoc test"
   ]
  },
  {
   "cell_type": "code",
   "execution_count": null,
   "id": "8ca01db3",
   "metadata": {},
   "outputs": [],
   "source": [
    "#!pip install pingouin\n",
    "#from pingouin import Kruskal"
   ]
  },
  {
   "cell_type": "code",
   "execution_count": null,
   "id": "ae4bfb38",
   "metadata": {},
   "outputs": [],
   "source": [
    "#perform Kruskal-Wallis Test \n",
    "#stats.kruskal(NetExportValue, Area, Item)"
   ]
  },
  {
   "cell_type": "code",
   "execution_count": null,
   "id": "0ffe666d",
   "metadata": {},
   "outputs": [],
   "source": []
  },
  {
   "cell_type": "code",
   "execution_count": null,
   "id": "c8b6a4c7",
   "metadata": {},
   "outputs": [],
   "source": [
    "# Relationship Analysis"
   ]
  },
  {
   "cell_type": "code",
   "execution_count": null,
   "id": "17855bea",
   "metadata": {},
   "outputs": [],
   "source": [
    "#checking corelation matrix\n",
    "corelation = d.corr()"
   ]
  },
  {
   "cell_type": "code",
   "execution_count": null,
   "id": "0db39d44",
   "metadata": {},
   "outputs": [],
   "source": [
    "sns.heatmap (corelation, xticklabels = corelation.columns, yticklabels = corelation.columns\n",
    "             ,annot=True)"
   ]
  },
  {
   "cell_type": "code",
   "execution_count": null,
   "id": "5b2c1189",
   "metadata": {},
   "outputs": [],
   "source": [
    "sns.pairplot(d)"
   ]
  },
  {
   "cell_type": "code",
   "execution_count": null,
   "id": "54d2e45b",
   "metadata": {},
   "outputs": [],
   "source": [
    "# What is the relationship between the Export Quantity of Agriculture Crops and its Export Value. How does this relationship vary by the Area?"
   ]
  },
  {
   "cell_type": "code",
   "execution_count": null,
   "id": "29a531b8",
   "metadata": {},
   "outputs": [],
   "source": [
    "sns.relplot(x='Year', y='ExportValue', data=d, kind='line', ci=None);"
   ]
  },
  {
   "cell_type": "code",
   "execution_count": null,
   "id": "4345bf5c",
   "metadata": {},
   "outputs": [],
   "source": [
    "sns.relplot(x='Year', y='ImportValue', data=d, kind='line', ci=None);"
   ]
  },
  {
   "cell_type": "code",
   "execution_count": null,
   "id": "fab00d7e",
   "metadata": {},
   "outputs": [],
   "source": [
    "sns.relplot(x=\"Year\", y=\"NetExportValue\", \n",
    "            data=data, kind=\"line\", ci=None, style=\"Area\", hue=\"Area\",\n",
    "            markers=True, dashes=False);"
   ]
  },
  {
   "cell_type": "code",
   "execution_count": null,
   "id": "ad3b6a1b",
   "metadata": {},
   "outputs": [],
   "source": [
    "sns.relplot(x=\"Year\", y=\"ExportQuantity\", \n",
    "            data=d, kind=\"line\", ci=None, style=\"Area\", hue=\"Area\",\n",
    "            markers=True, dashes=False);"
   ]
  },
  {
   "cell_type": "code",
   "execution_count": null,
   "id": "e11f482d",
   "metadata": {},
   "outputs": [],
   "source": [
    "#plot based on Area\n",
    "sns.relplot(x ='ExportQuantity', y ='ExportValue', hue = 'Area', data = d)"
   ]
  },
  {
   "cell_type": "code",
   "execution_count": null,
   "id": "c9598e3b",
   "metadata": {},
   "outputs": [],
   "source": [
    "# Change to make subplots based on Area\n",
    "sns.relplot(x=\"ExportQuantity\", y=\"ExportValue\", \n",
    "            data=d,\n",
    "            kind=\"scatter\",\n",
    "            col=\"Area\")\n",
    "\n",
    "# Show plot\n",
    "plt.show()"
   ]
  },
  {
   "cell_type": "code",
   "execution_count": null,
   "id": "f7e35a59",
   "metadata": {},
   "outputs": [],
   "source": [
    "sns.distplot(d['Export Value'], bins=20)"
   ]
  },
  {
   "cell_type": "code",
   "execution_count": null,
   "id": "8549f94a",
   "metadata": {},
   "outputs": [],
   "source": [
    "sns.distplot(d['Import Value'])"
   ]
  },
  {
   "cell_type": "code",
   "execution_count": null,
   "id": "40b4d099",
   "metadata": {},
   "outputs": [],
   "source": [
    "sns.distplot(d['NetExportValue']);"
   ]
  },
  {
   "cell_type": "code",
   "execution_count": null,
   "id": "6a835708",
   "metadata": {},
   "outputs": [],
   "source": [
    "# Labelling"
   ]
  },
  {
   "cell_type": "code",
   "execution_count": null,
   "id": "7edb1fb2",
   "metadata": {},
   "outputs": [],
   "source": [
    "from sklearn.preprocessing import *\n",
    "# labelling\n",
    "cols = ['Item', 'Year', 'Area']\n",
    "le = LabelEncoder()\n",
    "for col in cols:\n",
    "    d[col] = le.fit_transform(d[col])"
   ]
  },
  {
   "cell_type": "code",
   "execution_count": null,
   "id": "be9a5e71",
   "metadata": {},
   "outputs": [],
   "source": [
    "d.head()"
   ]
  },
  {
   "cell_type": "code",
   "execution_count": null,
   "id": "5a4bbbf1",
   "metadata": {},
   "outputs": [],
   "source": [
    "# Spliting the data into train and test data"
   ]
  },
  {
   "cell_type": "code",
   "execution_count": null,
   "id": "494efe0f",
   "metadata": {},
   "outputs": [],
   "source": [
    "cols = ['ImportValue', 'ExportValue', 'ImportQuantity', 'ExportQuantity', 'Area','Item','Year']\n",
    "X = d[cols]\n",
    "y = d['NetExportValue']"
   ]
  },
  {
   "cell_type": "code",
   "execution_count": null,
   "id": "25fe0ff9",
   "metadata": {},
   "outputs": [],
   "source": [
    "X.isna().sum()"
   ]
  },
  {
   "cell_type": "code",
   "execution_count": null,
   "id": "7de1a1e6",
   "metadata": {},
   "outputs": [],
   "source": [
    "# Normalization"
   ]
  },
  {
   "cell_type": "code",
   "execution_count": null,
   "id": "e049aec2",
   "metadata": {},
   "outputs": [],
   "source": [
    "X_sc = StandardScaler().fit_transform(X)\n",
    "X_sc"
   ]
  },
  {
   "cell_type": "code",
   "execution_count": null,
   "id": "1badfdea",
   "metadata": {},
   "outputs": [],
   "source": [
    "from sklearn.model_selection import train_test_split\n",
    "X_train, X_test, y_train, y_test = train_test_split(X_sc, y, test_size=0.33, random_state=42)"
   ]
  },
  {
   "cell_type": "code",
   "execution_count": null,
   "id": "db189850",
   "metadata": {},
   "outputs": [],
   "source": [
    "# Modelling"
   ]
  },
  {
   "cell_type": "code",
   "execution_count": null,
   "id": "aa990953",
   "metadata": {},
   "outputs": [],
   "source": [
    "## Model 1 - Linear Regression"
   ]
  },
  {
   "cell_type": "code",
   "execution_count": null,
   "id": "a184b8eb",
   "metadata": {},
   "outputs": [],
   "source": [
    "# Model 1 -  Linear Regression\n",
    "from sklearn.linear_model import *\n",
    "from sklearn.metrics import *\n",
    "lr_model = LinearRegression()\n",
    "lr_model.fit(X_train, y_train)\n",
    "lr_train_score = lr_model.score(X_train, y_train)\n",
    "lr_test_score = lr_model.score(X_test, y_test)\n",
    "print(f'Train Accuracy: {lr_train_score}')\n",
    "print(f'Test Accuracy: {lr_test_score}')\n",
    "# prediction\n",
    "lr_pred = lr_model.predict(X_test)\n",
    "# Check for Root mean square error\n",
    "lr_mse = mean_squared_error(y_test, lr_pred)\n",
    "lr_rmse = np.sqrt(lr_mse)\n",
    "print(f'MSE:  {lr_mse}')\n",
    "print(f'RMSE: {lr_rmse}')"
   ]
  },
  {
   "cell_type": "code",
   "execution_count": null,
   "id": "84b2030a",
   "metadata": {},
   "outputs": [],
   "source": [
    "## Model 2 - Random Forest Regressor"
   ]
  },
  {
   "cell_type": "code",
   "execution_count": null,
   "id": "b824208d",
   "metadata": {},
   "outputs": [],
   "source": [
    "# Model 2 -  Random Forest regressor\n",
    "from sklearn.ensemble import *\n",
    "from sklearn.metrics import *\n",
    "rfr_model = RandomForestRegressor()\n",
    "rfr_model.fit(X_train, y_train)\n",
    "rfr_train_score = rfr_model.score(X_train, y_train)\n",
    "rfr_test_score = rfr_model.score(X_test, y_test)\n",
    "print(f'Train Accuracy: {rfr_train_score}')\n",
    "print(f'Test Accuracy: {rfr_test_score}')\n",
    "# prediction\n",
    "rfr_pred = rfr_model.predict(X_test)\n",
    "# Check for Root mean square error\n",
    "rfr_mse = mean_squared_error(y_test, rfr_pred)\n",
    "rfr_rmse = np.sqrt(rfr_mse)\n",
    "print(f'MSE:  {rfr_mse}')\n",
    "print(f'RMSE: {rfr_rmse}')"
   ]
  },
  {
   "cell_type": "code",
   "execution_count": null,
   "id": "8cab6f84",
   "metadata": {},
   "outputs": [],
   "source": [
    "## Model 3 - Gradient Boosting REgressor"
   ]
  },
  {
   "cell_type": "code",
   "execution_count": null,
   "id": "8abbf2a6",
   "metadata": {},
   "outputs": [],
   "source": [
    "# Model 3 - Gradient Boosting Regressor \n",
    "from sklearn.metrics import *\n",
    "gbr_model = GradientBoostingRegressor()\n",
    "gbr_model.fit(X_train, y_train)\n",
    "gbr_train_score = gbr_model.score(X_train, y_train)\n",
    "gbr_test_score = gbr_model.score(X_test, y_test)\n",
    "print(f'Train Accuracy: {gbr_train_score}')\n",
    "print(f'Test Accuracy: {gbr_test_score}')\n",
    "# prediction\n",
    "gbr_pred = gbr_model.predict(X_test)\n",
    "# Check for Root mean square error\n",
    "gbr_mse = mean_squared_error(y_test, gbr_pred)\n",
    "gbr_rmse = np.sqrt(gbr_mse)\n",
    "print(f'MSE:  {gbr_mse}')\n",
    "print(f'RMSE: {gbr_rmse}')"
   ]
  },
  {
   "cell_type": "code",
   "execution_count": null,
   "id": "58eab5c4",
   "metadata": {},
   "outputs": [],
   "source": [
    "## Model 4 - Gradient Boosting REgressor"
   ]
  },
  {
   "cell_type": "code",
   "execution_count": null,
   "id": "24c23ba5",
   "metadata": {},
   "outputs": [],
   "source": [
    "# Model 4 - Lasso Regressor \n",
    "from sklearn.metrics import *\n",
    "ls_model = Lasso()\n",
    "ls_model.fit(X_train, y_train)\n",
    "ls_train_score = ls_model.score(X_train, y_train)\n",
    "ls_test_score = ls_model.score(X_test, y_test)\n",
    "print(f'Train Accuracy: {ls_train_score}')\n",
    "print(f'Test Accuracy: {ls_test_score}')\n",
    "# prediction\n",
    "ls_pred = ls_model.predict(X_test)\n",
    "# Check for Root mean square error\n",
    "ls_mse = mean_squared_error(y_test, ls_pred)\n",
    "ls_rmse = np.sqrt(ls_mse)\n",
    "print(f'MSE:  {ls_mse}')\n",
    "print(f'RMSE: {ls_rmse}')"
   ]
  },
  {
   "cell_type": "code",
   "execution_count": null,
   "id": "fa64e843",
   "metadata": {},
   "outputs": [],
   "source": [
    "## Model 5 - Gradient Boosting REgressor"
   ]
  },
  {
   "cell_type": "code",
   "execution_count": null,
   "id": "6d84563e",
   "metadata": {},
   "outputs": [],
   "source": [
    "import sys\n",
    "!{sys.executable} -m pip install xgboost"
   ]
  },
  {
   "cell_type": "code",
   "execution_count": null,
   "id": "099806f6",
   "metadata": {},
   "outputs": [],
   "source": [
    "# Model 5 - Xgboost Regressor \n",
    "from xgboost import XGBRegressor\n",
    "xgb_model = XGBRegressor()\n",
    "xgb_model.fit(X_train, y_train)\n",
    "xgb_train_score = xgb_model.score(X_train, y_train)\n",
    "xgb_test_score = xgb_model.score(X_test, y_test)\n",
    "print(f'Train Accuracy: {ls_train_score}')\n",
    "print(f'Test Accuracy: {ls_test_score}')\n",
    "# prediction\n",
    "xgb_pred = xgb_model.predict(X_test)\n",
    "# Check for Root mean square error\n",
    "xgb_mse = mean_squared_error(y_test, xgb_pred)\n",
    "xgb_rmse = np.sqrt(xgb_mse)\n",
    "print(f'MSE:  {xgb_mse}')\n",
    "print(f'RMSE: {xgb_rmse}')"
   ]
  },
  {
   "cell_type": "code",
   "execution_count": null,
   "id": "9ec1044c",
   "metadata": {},
   "outputs": [],
   "source": [
    "## Model 6 - Gradient Boosting REgressor"
   ]
  },
  {
   "cell_type": "code",
   "execution_count": null,
   "id": "4c326107",
   "metadata": {},
   "outputs": [],
   "source": [
    "# Model 6 - Decision Tree REgressor\n",
    "from sklearn.metrics import *\n",
    "from sklearn.tree import DecisionTreeRegressor\n",
    "svr_model = DecisionTreeRegressor()\n",
    "svr_model.fit(X_train, y_train)\n",
    "svr_train_score = svr_model.score(X_train, y_train)\n",
    "svr_test_score = svr_model.score(X_test, y_test)\n",
    "print(f'Train Accuracy: {svr_train_score}')\n",
    "print(f'Test Accuracy: {svr_test_score}')\n",
    "# prediction\n",
    "svr_pred = svr_model.predict(X_test)\n",
    "# Check for Root mean square error\n",
    "svr_mse = mean_squared_error(y_test, svr_pred)\n",
    "svr_rmse = np.sqrt(svr_mse)\n",
    "print(f'MSE:  {svr_mse}')\n",
    "print(f'RMSE: {svr_rmse}')"
   ]
  },
  {
   "cell_type": "code",
   "execution_count": null,
   "id": "0e27d15e",
   "metadata": {},
   "outputs": [],
   "source": [
    "# Model Analysis"
   ]
  },
  {
   "cell_type": "code",
   "execution_count": null,
   "id": "ac3f7636",
   "metadata": {},
   "outputs": [],
   "source": [
    "models = pd.DataFrame()"
   ]
  },
  {
   "cell_type": "code",
   "execution_count": null,
   "id": "483c9b71",
   "metadata": {},
   "outputs": [],
   "source": [
    "label = ['Linear Regression', 'Random Forest regressor','Gradient Boosting Regressor','Lasso Regressor','Xtreme boost Regressor','Decision Tree REgressor']\n",
    "train_acc = [lr_train_score, rfr_train_score, gbr_train_score, lr_train_score, xgb_train_score, svr_train_score]\n",
    "test_acc = [lr_test_score, rfr_test_score, gbr_test_score, lr_test_score, xgb_test_score, svr_test_score]\n",
    "mse = [lr_mse, rfr_mse, gbr_mse, lr_mse, xgb_mse, svr_mse]\n",
    "rmse = [lr_rmse, rfr_rmse, gbr_rmse, lr_rmse, xgb_rmse, svr_rmse]"
   ]
  },
  {
   "cell_type": "code",
   "execution_count": null,
   "id": "0135f76f",
   "metadata": {},
   "outputs": [],
   "source": [
    "models['label'] = label\n",
    "models['Training Accuracy'] = train_acc\n",
    "models['Test Accuracy'] = test_acc\n",
    "models['Mean Squrad Error'] = mse\n",
    "models['Root Mean Squrad Error'] = rmse\n",
    "models"
   ]
  },
  {
   "cell_type": "code",
   "execution_count": null,
   "id": "89c8cb0f",
   "metadata": {},
   "outputs": [],
   "source": []
  },
  {
   "cell_type": "code",
   "execution_count": null,
   "id": "fd76205f",
   "metadata": {},
   "outputs": [],
   "source": []
  }
 ],
 "metadata": {
  "kernelspec": {
   "display_name": "Python 3",
   "language": "python",
   "name": "python3"
  },
  "language_info": {
   "codemirror_mode": {
    "name": "ipython",
    "version": 3
   },
   "file_extension": ".py",
   "mimetype": "text/x-python",
   "name": "python",
   "nbconvert_exporter": "python",
   "pygments_lexer": "ipython3",
   "version": "3.8.2rc2"
  },
  "vscode": {
   "interpreter": {
    "hash": "b337b16e1f284c9fe7de692799556d56c1809887abe3f5a49ffeb9e7df151cfb"
   }
  }
 },
 "nbformat": 4,
 "nbformat_minor": 5
}
